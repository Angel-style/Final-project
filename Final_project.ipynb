{
  "nbformat": 4,
  "nbformat_minor": 0,
  "metadata": {
    "colab": {
      "provenance": [],
      "authorship_tag": "ABX9TyPP6T3n0xc2hUzCQQ0oOo7C",
      "include_colab_link": true
    },
    "kernelspec": {
      "name": "python3",
      "display_name": "Python 3"
    },
    "language_info": {
      "name": "python"
    }
  },
  "cells": [
    {
      "cell_type": "markdown",
      "metadata": {
        "id": "view-in-github",
        "colab_type": "text"
      },
      "source": [
        "<a href=\"https://colab.research.google.com/github/Angel-style/Final-project/blob/main/Final_project.ipynb\" target=\"_parent\"><img src=\"https://colab.research.google.com/assets/colab-badge.svg\" alt=\"Open In Colab\"/></a>"
      ]
    },
    {
      "cell_type": "code",
      "execution_count": null,
      "metadata": {
        "id": "d537cwMtpayF"
      },
      "outputs": [],
      "source": [
        "# import bibliotek\n",
        "import requests\n",
        "from bs4 import BeautifulSoup\n",
        "import time\n",
        "import pandas as pd\n",
        "import numpy as np\n",
        "import matplotlib\n",
        "import matplotlib.pyplot as plt\n",
        "import plotly.express as px\n",
        "import seaborn as sns\n",
        "from sklearn import tree\n",
        "from sklearn import metrics\n",
        "from sklearn import preprocessing\n",
        "from sklearn import linear_model\n",
        "from sklearn import model_selection\n",
        "import datetime\n",
        "from pprint import pprint\n",
        "from sklearn import ensemble\n",
        "from sklearn import model_selection\n",
        "from sklearn import pipeline"
      ]
    },
    {
      "cell_type": "code",
      "source": [
        "#strony 55\n",
        "\n",
        "wynik = [ [\n",
        "             \"strona_oferty\",\n",
        "             \"id_oferty\",\n",
        "             \"tytul\",\n",
        "             \"link\",\n",
        "             \"cena\",\n",
        "             \"rocznik\",\n",
        "           \"pojemnosc_silnika\",\n",
        "             \"przebieg\",\n",
        "             \"paliwo\",\n",
        "             \"miniaturka_url\"] ]\n",
        "\n",
        "for n in range(1, 56):\n",
        "    URL_strony = \"https://www.otomoto.pl/osobowe/dacia/od-2015\" + \"?page=\" + str(n)\n",
        "    print(URL_strony)\n",
        "    strona = requests.get(URL_strony) \n",
        "    html_strony = strona.content\n",
        "    strona_oferty = n\n",
        "    # tworzenie obiektu BeautifulSoup\n",
        "    dane_wstepne = BeautifulSoup(html_strony, \"lxml\")\n",
        "    dacia = dane_wstepne.find_all(\"article\", {\"data-testid\":\"listing-ad\"})\n",
        "\n",
        "    for dane in dacia:\n",
        "      id_oferty = dane.get(\"id\", None)\n",
        "      if id_oferty == None:\n",
        "        continue\n",
        "      else:\n",
        "        tytul = dane.find(\"a\", {\"target\":\"_self\"}).text.strip()\n",
        "        link = dane.find(\"a\").get(\"href\").strip()\n",
        "        if \"carsmile.pl\" in link:\n",
        "          continue\n",
        "        cena = dane.find(\"span\", {\"class\": \"ooa-1bmnxg7 e1p19lg711\"}).text.strip().split(\" PLN\")\n",
        "        cena = cena[0]\n",
        "        lista = []\n",
        "        dane_rocznik_przebieg_paliwo = dane.find_all(\"li\", {\"class\":\"ooa-1k7nwcr e19ivbs0\"})\n",
        "  \n",
        "        for a in dane_rocznik_przebieg_paliwo[:4]:\n",
        "          a = str(a)\n",
        "          a = a[33:-5]\n",
        "          lista.append(a)\n",
        "    \n",
        "        if len(lista) > 0:\n",
        "          rocznik = lista[0]\n",
        "          przebieg = lista[2]\n",
        "          pojemnosc_silnika = lista[1]\n",
        "          paliwo = lista[3]\n",
        "        else:\n",
        "          rocznik = np.NaN\n",
        "          przebieg = np.NaN\n",
        "          pojemnosc_silnika = np.NaN\n",
        "          paliwo = np.NaN\n",
        "\n",
        "        miniaturka_url = np.NaN if dane.find(\"img\", {\"loading\": \"lazy\"})==None else dane.find(\"img\", {\"loading\": \"lazy\"}).get(\"src\")\n",
        "\n",
        "        wynik.append([strona_oferty,\n",
        "             id_oferty,\n",
        "             tytul,\n",
        "             link,\n",
        "             cena,\n",
        "             rocznik,\n",
        "             przebieg,\n",
        "             pojemnosc_silnika,\n",
        "             paliwo,\n",
        "             miniaturka_url])\n",
        "dane_finalne = pd.DataFrame(wynik[1:], columns=wynik[0])"
      ],
      "metadata": {
        "colab": {
          "base_uri": "https://localhost:8080/"
        },
        "id": "em4kMoCdppfy",
        "outputId": "f4e5fa16-0915-48a8-83bc-d21e95478468"
      },
      "execution_count": null,
      "outputs": [
        {
          "output_type": "stream",
          "name": "stdout",
          "text": [
            "https://www.otomoto.pl/osobowe/dacia/od-2015?page=1\n",
            "https://www.otomoto.pl/osobowe/dacia/od-2015?page=2\n",
            "https://www.otomoto.pl/osobowe/dacia/od-2015?page=3\n",
            "https://www.otomoto.pl/osobowe/dacia/od-2015?page=4\n",
            "https://www.otomoto.pl/osobowe/dacia/od-2015?page=5\n",
            "https://www.otomoto.pl/osobowe/dacia/od-2015?page=6\n",
            "https://www.otomoto.pl/osobowe/dacia/od-2015?page=7\n",
            "https://www.otomoto.pl/osobowe/dacia/od-2015?page=8\n",
            "https://www.otomoto.pl/osobowe/dacia/od-2015?page=9\n",
            "https://www.otomoto.pl/osobowe/dacia/od-2015?page=10\n",
            "https://www.otomoto.pl/osobowe/dacia/od-2015?page=11\n",
            "https://www.otomoto.pl/osobowe/dacia/od-2015?page=12\n",
            "https://www.otomoto.pl/osobowe/dacia/od-2015?page=13\n",
            "https://www.otomoto.pl/osobowe/dacia/od-2015?page=14\n",
            "https://www.otomoto.pl/osobowe/dacia/od-2015?page=15\n",
            "https://www.otomoto.pl/osobowe/dacia/od-2015?page=16\n",
            "https://www.otomoto.pl/osobowe/dacia/od-2015?page=17\n",
            "https://www.otomoto.pl/osobowe/dacia/od-2015?page=18\n",
            "https://www.otomoto.pl/osobowe/dacia/od-2015?page=19\n",
            "https://www.otomoto.pl/osobowe/dacia/od-2015?page=20\n",
            "https://www.otomoto.pl/osobowe/dacia/od-2015?page=21\n",
            "https://www.otomoto.pl/osobowe/dacia/od-2015?page=22\n",
            "https://www.otomoto.pl/osobowe/dacia/od-2015?page=23\n",
            "https://www.otomoto.pl/osobowe/dacia/od-2015?page=24\n",
            "https://www.otomoto.pl/osobowe/dacia/od-2015?page=25\n",
            "https://www.otomoto.pl/osobowe/dacia/od-2015?page=26\n",
            "https://www.otomoto.pl/osobowe/dacia/od-2015?page=27\n",
            "https://www.otomoto.pl/osobowe/dacia/od-2015?page=28\n",
            "https://www.otomoto.pl/osobowe/dacia/od-2015?page=29\n",
            "https://www.otomoto.pl/osobowe/dacia/od-2015?page=30\n",
            "https://www.otomoto.pl/osobowe/dacia/od-2015?page=31\n",
            "https://www.otomoto.pl/osobowe/dacia/od-2015?page=32\n",
            "https://www.otomoto.pl/osobowe/dacia/od-2015?page=33\n",
            "https://www.otomoto.pl/osobowe/dacia/od-2015?page=34\n",
            "https://www.otomoto.pl/osobowe/dacia/od-2015?page=35\n",
            "https://www.otomoto.pl/osobowe/dacia/od-2015?page=36\n",
            "https://www.otomoto.pl/osobowe/dacia/od-2015?page=37\n",
            "https://www.otomoto.pl/osobowe/dacia/od-2015?page=38\n",
            "https://www.otomoto.pl/osobowe/dacia/od-2015?page=39\n",
            "https://www.otomoto.pl/osobowe/dacia/od-2015?page=40\n",
            "https://www.otomoto.pl/osobowe/dacia/od-2015?page=41\n",
            "https://www.otomoto.pl/osobowe/dacia/od-2015?page=42\n",
            "https://www.otomoto.pl/osobowe/dacia/od-2015?page=43\n",
            "https://www.otomoto.pl/osobowe/dacia/od-2015?page=44\n",
            "https://www.otomoto.pl/osobowe/dacia/od-2015?page=45\n",
            "https://www.otomoto.pl/osobowe/dacia/od-2015?page=46\n",
            "https://www.otomoto.pl/osobowe/dacia/od-2015?page=47\n",
            "https://www.otomoto.pl/osobowe/dacia/od-2015?page=48\n",
            "https://www.otomoto.pl/osobowe/dacia/od-2015?page=49\n",
            "https://www.otomoto.pl/osobowe/dacia/od-2015?page=50\n",
            "https://www.otomoto.pl/osobowe/dacia/od-2015?page=51\n",
            "https://www.otomoto.pl/osobowe/dacia/od-2015?page=52\n",
            "https://www.otomoto.pl/osobowe/dacia/od-2015?page=53\n",
            "https://www.otomoto.pl/osobowe/dacia/od-2015?page=54\n",
            "https://www.otomoto.pl/osobowe/dacia/od-2015?page=55\n"
          ]
        }
      ]
    },
    {
      "cell_type": "code",
      "source": [
        "dane_finalne.to_csv(\"dacia.csv\", index=False)"
      ],
      "metadata": {
        "id": "vpp1-vTwVWxp"
      },
      "execution_count": null,
      "outputs": []
    },
    {
      "cell_type": "code",
      "source": [
        "dane = pd.read_csv(\"dacia.csv\")"
      ],
      "metadata": {
        "id": "KOCF-SEOu_Rp"
      },
      "execution_count": null,
      "outputs": []
    },
    {
      "cell_type": "code",
      "source": [
        "#usuniecie wierszy z EUR\n",
        "dane = dane.drop(dane[(dane.id_oferty == 6106489146)].index)\n",
        "dane = dane.drop(dane[(dane.id_oferty == 6106046592)].index)"
      ],
      "metadata": {
        "id": "TzVlc8HRW2_e"
      },
      "execution_count": null,
      "outputs": []
    },
    {
      "cell_type": "code",
      "source": [
        "dane[\"cena\"] = dane[\"cena\"].str.replace(\" \", \"\")\n",
        "dane[\"cena\"] = dane[\"cena\"].astype(int)"
      ],
      "metadata": {
        "id": "yGF_O8ZSerxA"
      },
      "execution_count": null,
      "outputs": []
    },
    {
      "cell_type": "code",
      "source": [
        "dane[\"rocznik\"].value_counts(dropna=False)"
      ],
      "metadata": {
        "colab": {
          "base_uri": "https://localhost:8080/"
        },
        "id": "Ycz-EYRye-Yy",
        "outputId": "b26cc24c-b4d9-413d-92e6-3014842c1c29"
      },
      "execution_count": null,
      "outputs": [
        {
          "output_type": "execute_result",
          "data": {
            "text/plain": [
              "2022              376\n",
              "2018              232\n",
              "2019              227\n",
              "2021              159\n",
              "2017              158\n",
              "2016              142\n",
              "2015              115\n",
              "2020              107\n",
              "2023               93\n",
              "Niski przebieg      9\n",
              "Name: rocznik, dtype: int64"
            ]
          },
          "metadata": {},
          "execution_count": 195
        }
      ]
    },
    {
      "cell_type": "code",
      "source": [
        "dane = dane.drop(dane[(dane.rocznik == \"Niski przebieg\")].index)"
      ],
      "metadata": {
        "id": "yL8r97R6W8RJ"
      },
      "execution_count": null,
      "outputs": []
    },
    {
      "cell_type": "code",
      "source": [
        "dane.info()"
      ],
      "metadata": {
        "colab": {
          "base_uri": "https://localhost:8080/"
        },
        "id": "B-RSeWpggDaw",
        "outputId": "45cb1c11-be61-4d2e-f22d-e4617b1040e5"
      },
      "execution_count": null,
      "outputs": [
        {
          "output_type": "stream",
          "name": "stdout",
          "text": [
            "<class 'pandas.core.frame.DataFrame'>\n",
            "Int64Index: 1609 entries, 0 to 1619\n",
            "Data columns (total 10 columns):\n",
            " #   Column             Non-Null Count  Dtype \n",
            "---  ------             --------------  ----- \n",
            " 0   strona_oferty      1609 non-null   int64 \n",
            " 1   id_oferty          1609 non-null   int64 \n",
            " 2   tytul              1609 non-null   object\n",
            " 3   link               1609 non-null   object\n",
            " 4   cena               1609 non-null   int64 \n",
            " 5   rocznik            1609 non-null   int64 \n",
            " 6   przebieg           1572 non-null   object\n",
            " 7   pojemnosc_silnika  1609 non-null   object\n",
            " 8   paliwo             1609 non-null   object\n",
            " 9   miniaturka_url     935 non-null    object\n",
            "dtypes: int64(4), object(6)\n",
            "memory usage: 138.3+ KB\n"
          ]
        }
      ]
    },
    {
      "cell_type": "code",
      "source": [
        "dane[\"rocznik\"] = dane[\"rocznik\"].astype(int)"
      ],
      "metadata": {
        "id": "bD-SQugkgKmO"
      },
      "execution_count": null,
      "outputs": []
    },
    {
      "cell_type": "code",
      "source": [
        "dane[\"przebieg_jednostka\"] = dane[\"przebieg\"].str[-3:]\n",
        "dane[\"przebieg_jednostka\"] = dane[\"przebieg_jednostka\"].str.replace(\" \", \"\")"
      ],
      "metadata": {
        "id": "XkX1Pd54gtVK"
      },
      "execution_count": null,
      "outputs": []
    },
    {
      "cell_type": "code",
      "source": [
        "dane[\"przebieg\"].value_counts()"
      ],
      "metadata": {
        "colab": {
          "base_uri": "https://localhost:8080/"
        },
        "id": "eFmIbM1Bim01",
        "outputId": "77d1375c-f155-42c6-eb14-39ef753b5f9b"
      },
      "execution_count": null,
      "outputs": [
        {
          "output_type": "execute_result",
          "data": {
            "text/plain": [
              "5 km          145\n",
              "1 km          133\n",
              "10 km          97\n",
              "4 km           12\n",
              "60 000 km      10\n",
              "             ... \n",
              "47 029 km       1\n",
              "106 550 km      1\n",
              "81 080 km       1\n",
              "42 991 km       1\n",
              "114 532 km      1\n",
              "Name: przebieg, Length: 884, dtype: int64"
            ]
          },
          "metadata": {},
          "execution_count": 199
        }
      ]
    },
    {
      "cell_type": "code",
      "source": [
        "dane = dane.drop(dane[(dane.przebieg_jednostka == \"cm3\")].index)"
      ],
      "metadata": {
        "id": "X4Sm60GqjCPq"
      },
      "execution_count": null,
      "outputs": []
    },
    {
      "cell_type": "code",
      "source": [
        "dane[\"przebieg\"] = dane[\"przebieg\"].str.rstrip(\" km\")"
      ],
      "metadata": {
        "id": "icprEJ-nhAzh"
      },
      "execution_count": null,
      "outputs": []
    },
    {
      "cell_type": "code",
      "source": [
        "dane[\"przebieg\"] = dane[\"przebieg\"].str.replace(\" \", \"\")\n"
      ],
      "metadata": {
        "id": "bzq9j07eho-s"
      },
      "execution_count": null,
      "outputs": []
    },
    {
      "cell_type": "code",
      "source": [
        "dane[\"przebieg\"] = dane[\"przebieg\"].astype(int)"
      ],
      "metadata": {
        "id": "57KAwl-eBhD4"
      },
      "execution_count": null,
      "outputs": []
    },
    {
      "cell_type": "code",
      "source": [
        "dane[\"pojemnosc_silnika_jednostka\"] = dane[\"pojemnosc_silnika\"].str[-3:]"
      ],
      "metadata": {
        "id": "vLqY1koVh0CR"
      },
      "execution_count": null,
      "outputs": []
    },
    {
      "cell_type": "code",
      "source": [
        "dane[\"pojemnosc_silnika_jednostka\"].value_counts()"
      ],
      "metadata": {
        "colab": {
          "base_uri": "https://localhost:8080/"
        },
        "id": "ipLrgAyljQbD",
        "outputId": "a27a95c2-80ea-4113-9694-237e2db04938"
      },
      "execution_count": null,
      "outputs": [
        {
          "output_type": "execute_result",
          "data": {
            "text/plain": [
              "cm3    1572\n",
              "Name: pojemnosc_silnika_jednostka, dtype: int64"
            ]
          },
          "metadata": {},
          "execution_count": 206
        }
      ]
    },
    {
      "cell_type": "code",
      "source": [
        "dane[\"pojemnosc_silnika\"].value_counts(dropna=False)"
      ],
      "metadata": {
        "colab": {
          "base_uri": "https://localhost:8080/"
        },
        "id": "KqX4w7atqeaD",
        "outputId": "93e4dd03-90d0-4edd-8077-f7db3ca2c1ac"
      },
      "execution_count": null,
      "outputs": [
        {
          "output_type": "execute_result",
          "data": {
            "text/plain": [
              "999 cm3      600\n",
              "1 598 cm3    286\n",
              "1 461 cm3    245\n",
              "898 cm3      125\n",
              "1 332 cm3    105\n",
              "1 197 cm3     58\n",
              "1 333 cm3     48\n",
              "1 149 cm3     40\n",
              "NaN           34\n",
              "998 cm3       34\n",
              "1 000 cm3      8\n",
              "1 198 cm3      6\n",
              "1 500 cm3      5\n",
              "1 300 cm3      5\n",
              "1 199 cm3      4\n",
              "1 600 cm3      2\n",
              "900 cm3        1\n",
              "Name: pojemnosc_silnika, dtype: int64"
            ]
          },
          "metadata": {},
          "execution_count": 207
        }
      ]
    },
    {
      "cell_type": "code",
      "source": [
        "#Wykorzystanie mody przy pojemności silnika =1\n",
        "print(\"Moda: \", dane[\"pojemnosc_silnika\"].mode())\n",
        "moda = float(dane[\"pojemnosc_silnika\"].mode().values)\n",
        "dane[\"pojemnosc_silnika\"] = dane[\"pojemnosc_silnika\"].replace(1, moda)"
      ],
      "metadata": {
        "colab": {
          "base_uri": "https://localhost:8080/"
        },
        "id": "vthIV8weq_ag",
        "outputId": "cf18a601-2513-489d-b2e3-bc378de1289c"
      },
      "execution_count": null,
      "outputs": [
        {
          "output_type": "stream",
          "name": "stdout",
          "text": [
            "Moda:  0    999.0\n",
            "dtype: float64\n"
          ]
        }
      ]
    },
    {
      "cell_type": "code",
      "source": [
        "print(\"Moda: \", dane[\"pojemnosc_silnika\"].mode())\n",
        "moda = float(dane[\"pojemnosc_silnika\"].mode().values)\n",
        "# podmiana NaN na modę\n",
        "dane[\"pojemnosc_silnika\"] = dane[\"pojemnosc_silnika\"].fillna(moda)\n",
        "dane[\"pojemnosc_silnika\"].value_counts(dropna=False)"
      ],
      "metadata": {
        "colab": {
          "base_uri": "https://localhost:8080/"
        },
        "id": "cvuI4aDHCwBB",
        "outputId": "4a61963f-8fec-45ce-eba0-f84a39d2b418"
      },
      "execution_count": null,
      "outputs": [
        {
          "output_type": "stream",
          "name": "stdout",
          "text": [
            "Moda:  0    999.0\n",
            "dtype: float64\n"
          ]
        },
        {
          "output_type": "execute_result",
          "data": {
            "text/plain": [
              "999.0     634\n",
              "1598.0    286\n",
              "1461.0    245\n",
              "898.0     125\n",
              "1332.0    105\n",
              "1197.0     58\n",
              "1.0        48\n",
              "1149.0     40\n",
              "998.0      34\n",
              "1000.0      8\n",
              "1198.0      6\n",
              "1500.0      5\n",
              "1300.0      5\n",
              "1199.0      4\n",
              "1600.0      2\n",
              "900.0       1\n",
              "Name: pojemnosc_silnika, dtype: int64"
            ]
          },
          "metadata": {},
          "execution_count": 217
        }
      ]
    },
    {
      "cell_type": "code",
      "source": [
        "dane[\"pojemnosc_silnika\"].value_counts(dropna=False)"
      ],
      "metadata": {
        "colab": {
          "base_uri": "https://localhost:8080/"
        },
        "id": "pqSJ5Ub-DVFd",
        "outputId": "f1909406-22ed-4a6b-ff50-6de5005d539b"
      },
      "execution_count": null,
      "outputs": [
        {
          "output_type": "execute_result",
          "data": {
            "text/plain": [
              "999.0     682\n",
              "1598.0    286\n",
              "1461.0    245\n",
              "898.0     125\n",
              "1332.0    105\n",
              "1197.0     58\n",
              "1149.0     40\n",
              "998.0      34\n",
              "1000.0      8\n",
              "1198.0      6\n",
              "1500.0      5\n",
              "1300.0      5\n",
              "1199.0      4\n",
              "1600.0      2\n",
              "900.0       1\n",
              "Name: pojemnosc_silnika, dtype: int64"
            ]
          },
          "metadata": {},
          "execution_count": 220
        }
      ]
    },
    {
      "cell_type": "code",
      "source": [
        "dane[\"pojemnosc_silnika\"] = dane[\"pojemnosc_silnika\"].str.rstrip(\" cm3\")\n",
        "dane[\"pojemnosc_silnika\"] = dane[\"pojemnosc_silnika\"].str.replace(\" \", \"\")\n"
      ],
      "metadata": {
        "id": "YqtrtpQ6h6w-"
      },
      "execution_count": null,
      "outputs": []
    },
    {
      "cell_type": "code",
      "source": [
        "dane[\"pojemnosc_silnika\"] = dane[\"pojemnosc_silnika\"].astype(float)"
      ],
      "metadata": {
        "id": "P4kjdsV6r6ad"
      },
      "execution_count": null,
      "outputs": []
    },
    {
      "cell_type": "code",
      "source": [
        "#zapisanie obrobionych danych\n",
        "dane.to_csv(\"daciaostateczna.csv\", index=False)"
      ],
      "metadata": {
        "id": "1G00Ek_fsE0o"
      },
      "execution_count": null,
      "outputs": []
    },
    {
      "cell_type": "code",
      "source": [
        "dane = print(\"Moda: \", dane[\"pojemnosc_silnika\"].mode())\n",
        "moda = float(dane[\"pojemnosc_silnika\"].mode().values)\n",
        "dane[\"pojemnosc_silnika\"] = dane[\"pojemnosc_silnika\"].replace(1, moda)\n",
        "# podmiana NaN na modę\n",
        "dane[\"pojemnosc_silnika\"] = dane[\"pojemnosc_silnika\"].fillna(moda)\n",
        "dane[\"przebieg\"].value_counts(dropna=False)"
      ],
      "metadata": {
        "id": "08iQ4AO7sSS1"
      },
      "execution_count": null,
      "outputs": []
    },
    {
      "cell_type": "code",
      "source": [
        "dane[\"przebieg\"].value_counts(dropna=False)"
      ],
      "metadata": {
        "colab": {
          "base_uri": "https://localhost:8080/"
        },
        "id": "oiEBT3SosSVL",
        "outputId": "b8989222-c735-4273-e555-2cb597bee376"
      },
      "execution_count": null,
      "outputs": [
        {
          "output_type": "execute_result",
          "data": {
            "text/plain": [
              "5         145\n",
              "1         133\n",
              "10         97\n",
              "4          12\n",
              "60000      10\n",
              "         ... \n",
              "47029       1\n",
              "106550      1\n",
              "81080       1\n",
              "42991       1\n",
              "114532      1\n",
              "Name: przebieg, Length: 883, dtype: int64"
            ]
          },
          "metadata": {},
          "execution_count": 221
        }
      ]
    },
    {
      "cell_type": "code",
      "source": [
        "moda_przebieg = float(dane[\"przebieg\"].mode().values)\n",
        "moda_przebieg"
      ],
      "metadata": {
        "colab": {
          "base_uri": "https://localhost:8080/"
        },
        "id": "jy4qS0Yl3WwG",
        "outputId": "877a272a-c47c-4b1f-b914-f1b5a0efe235"
      },
      "execution_count": null,
      "outputs": [
        {
          "output_type": "execute_result",
          "data": {
            "text/plain": [
              "5.0"
            ]
          },
          "metadata": {},
          "execution_count": 145
        }
      ]
    },
    {
      "cell_type": "code",
      "source": [
        "dane = pd.read_csv(\"daciaostateczna.csv\")\n",
        "dane"
      ],
      "metadata": {
        "colab": {
          "base_uri": "https://localhost:8080/",
          "height": 869
        },
        "id": "b1cl8VbNsSXT",
        "outputId": "9e050a17-ab8f-422d-e4d6-10cb0a48cb92"
      },
      "execution_count": null,
      "outputs": [
        {
          "output_type": "execute_result",
          "data": {
            "text/plain": [
              "      strona_oferty   id_oferty                          tytul  \\\n",
              "0                 1  6106844822          Dacia Sandero Stepway   \n",
              "1                 1  6105589671  Dacia Duster 1.5 dCi Open EU6   \n",
              "2                 1  6106843546  Dacia Duster 1.5 dCi Prestige   \n",
              "3                 1  6103687192  Dacia Duster 1.5 dCi Ambiance   \n",
              "4                 1  6106506598    Dacia Duster 1.0 TCe Access   \n",
              "...             ...         ...                            ...   \n",
              "1601             55  6103196188                   Dacia Duster   \n",
              "1602             55  6100396634                    Dacia Logan   \n",
              "1603             55  6100469517               Dacia Dokker Van   \n",
              "1604             55  6101140550                   Dacia Duster   \n",
              "1605             55  6101753214          Dacia Sandero Stepway   \n",
              "\n",
              "                                                   link   cena  rocznik  \\\n",
              "0     https://www.otomoto.pl/oferta/dacia-sandero-st...  67700     2021   \n",
              "1     https://www.otomoto.pl/oferta/dacia-duster-sal...  28500     2017   \n",
              "2     https://www.otomoto.pl/oferta/dacia-duster-1-s...  59999     2018   \n",
              "3     https://www.otomoto.pl/oferta/dacia-duster-sal...  40999     2016   \n",
              "4     https://www.otomoto.pl/oferta/dacia-duster-kra...  54900     2021   \n",
              "...                                                 ...    ...      ...   \n",
              "1601  https://www.otomoto.pl/oferta/dacia-duster-1-6...  45000     2015   \n",
              "1602  https://www.otomoto.pl/oferta/dacia-logan-daci...  23900     2016   \n",
              "1603  https://www.otomoto.pl/oferta/dacia-dokker-van...  38500     2018   \n",
              "1604  https://www.otomoto.pl/oferta/dacia-duster-ope...  43900     2016   \n",
              "1605  https://www.otomoto.pl/oferta/dacia-sandero-st...  34000     2016   \n",
              "\n",
              "      pojemnosc_silnika  przebieg       paliwo  \\\n",
              "0                 999.0     18500  Benzyna+LPG   \n",
              "1                1461.0    299000       Diesel   \n",
              "2                1461.0    130000       Diesel   \n",
              "3                1461.0    128600       Diesel   \n",
              "4                 999.0     92800  Benzyna+LPG   \n",
              "...                 ...       ...          ...   \n",
              "1601             1598.0     77710  Benzyna+LPG   \n",
              "1602             1149.0    299500  Benzyna+LPG   \n",
              "1603             1598.0     29900      Benzyna   \n",
              "1604             1598.0    114532  Benzyna+LPG   \n",
              "1605             1461.0     51000       Diesel   \n",
              "\n",
              "                                         miniaturka_url przebieg_jednostka  \\\n",
              "0     https://ireland.apollo.olxcdn.com/v1/files/eyJ...                 km   \n",
              "1     https://ireland.apollo.olxcdn.com/v1/files/eyJ...                 km   \n",
              "2     https://ireland.apollo.olxcdn.com/v1/files/eyJ...                 km   \n",
              "3     https://ireland.apollo.olxcdn.com/v1/files/eyJ...                 km   \n",
              "4                                                   NaN                 km   \n",
              "...                                                 ...                ...   \n",
              "1601                                                NaN                 km   \n",
              "1602                                                NaN                 km   \n",
              "1603                                                NaN                 km   \n",
              "1604  https://ireland.apollo.olxcdn.com/v1/files/eyJ...                 km   \n",
              "1605                                                NaN                 km   \n",
              "\n",
              "     pojemnosc_silnika_jednostka  \n",
              "0                            cm3  \n",
              "1                            cm3  \n",
              "2                            cm3  \n",
              "3                            cm3  \n",
              "4                            cm3  \n",
              "...                          ...  \n",
              "1601                         cm3  \n",
              "1602                         cm3  \n",
              "1603                         cm3  \n",
              "1604                         cm3  \n",
              "1605                         cm3  \n",
              "\n",
              "[1606 rows x 12 columns]"
            ],
            "text/html": [
              "\n",
              "  <div id=\"df-f96a4f3e-3642-4610-88aa-735125511c79\">\n",
              "    <div class=\"colab-df-container\">\n",
              "      <div>\n",
              "<style scoped>\n",
              "    .dataframe tbody tr th:only-of-type {\n",
              "        vertical-align: middle;\n",
              "    }\n",
              "\n",
              "    .dataframe tbody tr th {\n",
              "        vertical-align: top;\n",
              "    }\n",
              "\n",
              "    .dataframe thead th {\n",
              "        text-align: right;\n",
              "    }\n",
              "</style>\n",
              "<table border=\"1\" class=\"dataframe\">\n",
              "  <thead>\n",
              "    <tr style=\"text-align: right;\">\n",
              "      <th></th>\n",
              "      <th>strona_oferty</th>\n",
              "      <th>id_oferty</th>\n",
              "      <th>tytul</th>\n",
              "      <th>link</th>\n",
              "      <th>cena</th>\n",
              "      <th>rocznik</th>\n",
              "      <th>pojemnosc_silnika</th>\n",
              "      <th>przebieg</th>\n",
              "      <th>paliwo</th>\n",
              "      <th>miniaturka_url</th>\n",
              "      <th>przebieg_jednostka</th>\n",
              "      <th>pojemnosc_silnika_jednostka</th>\n",
              "    </tr>\n",
              "  </thead>\n",
              "  <tbody>\n",
              "    <tr>\n",
              "      <th>0</th>\n",
              "      <td>1</td>\n",
              "      <td>6106844822</td>\n",
              "      <td>Dacia Sandero Stepway</td>\n",
              "      <td>https://www.otomoto.pl/oferta/dacia-sandero-st...</td>\n",
              "      <td>67700</td>\n",
              "      <td>2021</td>\n",
              "      <td>999.0</td>\n",
              "      <td>18500</td>\n",
              "      <td>Benzyna+LPG</td>\n",
              "      <td>https://ireland.apollo.olxcdn.com/v1/files/eyJ...</td>\n",
              "      <td>km</td>\n",
              "      <td>cm3</td>\n",
              "    </tr>\n",
              "    <tr>\n",
              "      <th>1</th>\n",
              "      <td>1</td>\n",
              "      <td>6105589671</td>\n",
              "      <td>Dacia Duster 1.5 dCi Open EU6</td>\n",
              "      <td>https://www.otomoto.pl/oferta/dacia-duster-sal...</td>\n",
              "      <td>28500</td>\n",
              "      <td>2017</td>\n",
              "      <td>1461.0</td>\n",
              "      <td>299000</td>\n",
              "      <td>Diesel</td>\n",
              "      <td>https://ireland.apollo.olxcdn.com/v1/files/eyJ...</td>\n",
              "      <td>km</td>\n",
              "      <td>cm3</td>\n",
              "    </tr>\n",
              "    <tr>\n",
              "      <th>2</th>\n",
              "      <td>1</td>\n",
              "      <td>6106843546</td>\n",
              "      <td>Dacia Duster 1.5 dCi Prestige</td>\n",
              "      <td>https://www.otomoto.pl/oferta/dacia-duster-1-s...</td>\n",
              "      <td>59999</td>\n",
              "      <td>2018</td>\n",
              "      <td>1461.0</td>\n",
              "      <td>130000</td>\n",
              "      <td>Diesel</td>\n",
              "      <td>https://ireland.apollo.olxcdn.com/v1/files/eyJ...</td>\n",
              "      <td>km</td>\n",
              "      <td>cm3</td>\n",
              "    </tr>\n",
              "    <tr>\n",
              "      <th>3</th>\n",
              "      <td>1</td>\n",
              "      <td>6103687192</td>\n",
              "      <td>Dacia Duster 1.5 dCi Ambiance</td>\n",
              "      <td>https://www.otomoto.pl/oferta/dacia-duster-sal...</td>\n",
              "      <td>40999</td>\n",
              "      <td>2016</td>\n",
              "      <td>1461.0</td>\n",
              "      <td>128600</td>\n",
              "      <td>Diesel</td>\n",
              "      <td>https://ireland.apollo.olxcdn.com/v1/files/eyJ...</td>\n",
              "      <td>km</td>\n",
              "      <td>cm3</td>\n",
              "    </tr>\n",
              "    <tr>\n",
              "      <th>4</th>\n",
              "      <td>1</td>\n",
              "      <td>6106506598</td>\n",
              "      <td>Dacia Duster 1.0 TCe Access</td>\n",
              "      <td>https://www.otomoto.pl/oferta/dacia-duster-kra...</td>\n",
              "      <td>54900</td>\n",
              "      <td>2021</td>\n",
              "      <td>999.0</td>\n",
              "      <td>92800</td>\n",
              "      <td>Benzyna+LPG</td>\n",
              "      <td>NaN</td>\n",
              "      <td>km</td>\n",
              "      <td>cm3</td>\n",
              "    </tr>\n",
              "    <tr>\n",
              "      <th>...</th>\n",
              "      <td>...</td>\n",
              "      <td>...</td>\n",
              "      <td>...</td>\n",
              "      <td>...</td>\n",
              "      <td>...</td>\n",
              "      <td>...</td>\n",
              "      <td>...</td>\n",
              "      <td>...</td>\n",
              "      <td>...</td>\n",
              "      <td>...</td>\n",
              "      <td>...</td>\n",
              "      <td>...</td>\n",
              "    </tr>\n",
              "    <tr>\n",
              "      <th>1601</th>\n",
              "      <td>55</td>\n",
              "      <td>6103196188</td>\n",
              "      <td>Dacia Duster</td>\n",
              "      <td>https://www.otomoto.pl/oferta/dacia-duster-1-6...</td>\n",
              "      <td>45000</td>\n",
              "      <td>2015</td>\n",
              "      <td>1598.0</td>\n",
              "      <td>77710</td>\n",
              "      <td>Benzyna+LPG</td>\n",
              "      <td>NaN</td>\n",
              "      <td>km</td>\n",
              "      <td>cm3</td>\n",
              "    </tr>\n",
              "    <tr>\n",
              "      <th>1602</th>\n",
              "      <td>55</td>\n",
              "      <td>6100396634</td>\n",
              "      <td>Dacia Logan</td>\n",
              "      <td>https://www.otomoto.pl/oferta/dacia-logan-daci...</td>\n",
              "      <td>23900</td>\n",
              "      <td>2016</td>\n",
              "      <td>1149.0</td>\n",
              "      <td>299500</td>\n",
              "      <td>Benzyna+LPG</td>\n",
              "      <td>NaN</td>\n",
              "      <td>km</td>\n",
              "      <td>cm3</td>\n",
              "    </tr>\n",
              "    <tr>\n",
              "      <th>1603</th>\n",
              "      <td>55</td>\n",
              "      <td>6100469517</td>\n",
              "      <td>Dacia Dokker Van</td>\n",
              "      <td>https://www.otomoto.pl/oferta/dacia-dokker-van...</td>\n",
              "      <td>38500</td>\n",
              "      <td>2018</td>\n",
              "      <td>1598.0</td>\n",
              "      <td>29900</td>\n",
              "      <td>Benzyna</td>\n",
              "      <td>NaN</td>\n",
              "      <td>km</td>\n",
              "      <td>cm3</td>\n",
              "    </tr>\n",
              "    <tr>\n",
              "      <th>1604</th>\n",
              "      <td>55</td>\n",
              "      <td>6101140550</td>\n",
              "      <td>Dacia Duster</td>\n",
              "      <td>https://www.otomoto.pl/oferta/dacia-duster-ope...</td>\n",
              "      <td>43900</td>\n",
              "      <td>2016</td>\n",
              "      <td>1598.0</td>\n",
              "      <td>114532</td>\n",
              "      <td>Benzyna+LPG</td>\n",
              "      <td>https://ireland.apollo.olxcdn.com/v1/files/eyJ...</td>\n",
              "      <td>km</td>\n",
              "      <td>cm3</td>\n",
              "    </tr>\n",
              "    <tr>\n",
              "      <th>1605</th>\n",
              "      <td>55</td>\n",
              "      <td>6101753214</td>\n",
              "      <td>Dacia Sandero Stepway</td>\n",
              "      <td>https://www.otomoto.pl/oferta/dacia-sandero-st...</td>\n",
              "      <td>34000</td>\n",
              "      <td>2016</td>\n",
              "      <td>1461.0</td>\n",
              "      <td>51000</td>\n",
              "      <td>Diesel</td>\n",
              "      <td>NaN</td>\n",
              "      <td>km</td>\n",
              "      <td>cm3</td>\n",
              "    </tr>\n",
              "  </tbody>\n",
              "</table>\n",
              "<p>1606 rows × 12 columns</p>\n",
              "</div>\n",
              "      <button class=\"colab-df-convert\" onclick=\"convertToInteractive('df-f96a4f3e-3642-4610-88aa-735125511c79')\"\n",
              "              title=\"Convert this dataframe to an interactive table.\"\n",
              "              style=\"display:none;\">\n",
              "        \n",
              "  <svg xmlns=\"http://www.w3.org/2000/svg\" height=\"24px\"viewBox=\"0 0 24 24\"\n",
              "       width=\"24px\">\n",
              "    <path d=\"M0 0h24v24H0V0z\" fill=\"none\"/>\n",
              "    <path d=\"M18.56 5.44l.94 2.06.94-2.06 2.06-.94-2.06-.94-.94-2.06-.94 2.06-2.06.94zm-11 1L8.5 8.5l.94-2.06 2.06-.94-2.06-.94L8.5 2.5l-.94 2.06-2.06.94zm10 10l.94 2.06.94-2.06 2.06-.94-2.06-.94-.94-2.06-.94 2.06-2.06.94z\"/><path d=\"M17.41 7.96l-1.37-1.37c-.4-.4-.92-.59-1.43-.59-.52 0-1.04.2-1.43.59L10.3 9.45l-7.72 7.72c-.78.78-.78 2.05 0 2.83L4 21.41c.39.39.9.59 1.41.59.51 0 1.02-.2 1.41-.59l7.78-7.78 2.81-2.81c.8-.78.8-2.07 0-2.86zM5.41 20L4 18.59l7.72-7.72 1.47 1.35L5.41 20z\"/>\n",
              "  </svg>\n",
              "      </button>\n",
              "      \n",
              "  <style>\n",
              "    .colab-df-container {\n",
              "      display:flex;\n",
              "      flex-wrap:wrap;\n",
              "      gap: 12px;\n",
              "    }\n",
              "\n",
              "    .colab-df-convert {\n",
              "      background-color: #E8F0FE;\n",
              "      border: none;\n",
              "      border-radius: 50%;\n",
              "      cursor: pointer;\n",
              "      display: none;\n",
              "      fill: #1967D2;\n",
              "      height: 32px;\n",
              "      padding: 0 0 0 0;\n",
              "      width: 32px;\n",
              "    }\n",
              "\n",
              "    .colab-df-convert:hover {\n",
              "      background-color: #E2EBFA;\n",
              "      box-shadow: 0px 1px 2px rgba(60, 64, 67, 0.3), 0px 1px 3px 1px rgba(60, 64, 67, 0.15);\n",
              "      fill: #174EA6;\n",
              "    }\n",
              "\n",
              "    [theme=dark] .colab-df-convert {\n",
              "      background-color: #3B4455;\n",
              "      fill: #D2E3FC;\n",
              "    }\n",
              "\n",
              "    [theme=dark] .colab-df-convert:hover {\n",
              "      background-color: #434B5C;\n",
              "      box-shadow: 0px 1px 3px 1px rgba(0, 0, 0, 0.15);\n",
              "      filter: drop-shadow(0px 1px 2px rgba(0, 0, 0, 0.3));\n",
              "      fill: #FFFFFF;\n",
              "    }\n",
              "  </style>\n",
              "\n",
              "      <script>\n",
              "        const buttonEl =\n",
              "          document.querySelector('#df-f96a4f3e-3642-4610-88aa-735125511c79 button.colab-df-convert');\n",
              "        buttonEl.style.display =\n",
              "          google.colab.kernel.accessAllowed ? 'block' : 'none';\n",
              "\n",
              "        async function convertToInteractive(key) {\n",
              "          const element = document.querySelector('#df-f96a4f3e-3642-4610-88aa-735125511c79');\n",
              "          const dataTable =\n",
              "            await google.colab.kernel.invokeFunction('convertToInteractive',\n",
              "                                                     [key], {});\n",
              "          if (!dataTable) return;\n",
              "\n",
              "          const docLinkHtml = 'Like what you see? Visit the ' +\n",
              "            '<a target=\"_blank\" href=https://colab.research.google.com/notebooks/data_table.ipynb>data table notebook</a>'\n",
              "            + ' to learn more about interactive tables.';\n",
              "          element.innerHTML = '';\n",
              "          dataTable['output_type'] = 'display_data';\n",
              "          await google.colab.output.renderOutput(dataTable, element);\n",
              "          const docLink = document.createElement('div');\n",
              "          docLink.innerHTML = docLinkHtml;\n",
              "          element.appendChild(docLink);\n",
              "        }\n",
              "      </script>\n",
              "    </div>\n",
              "  </div>\n",
              "  "
            ]
          },
          "metadata": {},
          "execution_count": 2
        }
      ]
    },
    {
      "cell_type": "code",
      "source": [
        "dane.info()"
      ],
      "metadata": {
        "colab": {
          "base_uri": "https://localhost:8080/"
        },
        "id": "x6_WeAObsacV",
        "outputId": "60472b94-bcea-4a3b-91a9-2e1253a325e3"
      },
      "execution_count": null,
      "outputs": [
        {
          "output_type": "stream",
          "name": "stdout",
          "text": [
            "<class 'pandas.core.frame.DataFrame'>\n",
            "RangeIndex: 1606 entries, 0 to 1605\n",
            "Data columns (total 12 columns):\n",
            " #   Column                       Non-Null Count  Dtype  \n",
            "---  ------                       --------------  -----  \n",
            " 0   strona_oferty                1606 non-null   int64  \n",
            " 1   id_oferty                    1606 non-null   int64  \n",
            " 2   tytul                        1606 non-null   object \n",
            " 3   link                         1606 non-null   object \n",
            " 4   cena                         1606 non-null   int64  \n",
            " 5   rocznik                      1606 non-null   int64  \n",
            " 6   pojemnosc_silnika            1606 non-null   float64\n",
            " 7   przebieg                     1606 non-null   int64  \n",
            " 8   paliwo                       1606 non-null   object \n",
            " 9   miniaturka_url               932 non-null    object \n",
            " 10  przebieg_jednostka           1606 non-null   object \n",
            " 11  pojemnosc_silnika_jednostka  1572 non-null   object \n",
            "dtypes: float64(1), int64(5), object(6)\n",
            "memory usage: 150.7+ KB\n"
          ]
        }
      ]
    },
    {
      "cell_type": "code",
      "source": [],
      "metadata": {
        "id": "hYint3V41JO_"
      },
      "execution_count": null,
      "outputs": []
    },
    {
      "cell_type": "code",
      "source": [
        "#średnia cena względem rodzaju paliwa\n",
        "dane.groupby(\"paliwo\").agg(dict(cena = \"mean\")).sort_values(by = \"cena\", ascending = False)"
      ],
      "metadata": {
        "colab": {
          "base_uri": "https://localhost:8080/",
          "height": 237
        },
        "id": "6NM-H5LY1JSI",
        "outputId": "9ab2fcb6-6736-4227-9724-c1434fa2eb1a"
      },
      "execution_count": null,
      "outputs": [
        {
          "output_type": "execute_result",
          "data": {
            "text/plain": [
              "                     cena\n",
              "paliwo                   \n",
              "Elektryczny  88608.205882\n",
              "Benzyna+CNG  77100.000000\n",
              "Benzyna+LPG  69064.907801\n",
              "Benzyna      56810.752508\n",
              "Diesel       46234.520000"
            ],
            "text/html": [
              "\n",
              "  <div id=\"df-d22208ff-8949-4b9b-97c5-691cf915ea61\">\n",
              "    <div class=\"colab-df-container\">\n",
              "      <div>\n",
              "<style scoped>\n",
              "    .dataframe tbody tr th:only-of-type {\n",
              "        vertical-align: middle;\n",
              "    }\n",
              "\n",
              "    .dataframe tbody tr th {\n",
              "        vertical-align: top;\n",
              "    }\n",
              "\n",
              "    .dataframe thead th {\n",
              "        text-align: right;\n",
              "    }\n",
              "</style>\n",
              "<table border=\"1\" class=\"dataframe\">\n",
              "  <thead>\n",
              "    <tr style=\"text-align: right;\">\n",
              "      <th></th>\n",
              "      <th>cena</th>\n",
              "    </tr>\n",
              "    <tr>\n",
              "      <th>paliwo</th>\n",
              "      <th></th>\n",
              "    </tr>\n",
              "  </thead>\n",
              "  <tbody>\n",
              "    <tr>\n",
              "      <th>Elektryczny</th>\n",
              "      <td>88608.205882</td>\n",
              "    </tr>\n",
              "    <tr>\n",
              "      <th>Benzyna+CNG</th>\n",
              "      <td>77100.000000</td>\n",
              "    </tr>\n",
              "    <tr>\n",
              "      <th>Benzyna+LPG</th>\n",
              "      <td>69064.907801</td>\n",
              "    </tr>\n",
              "    <tr>\n",
              "      <th>Benzyna</th>\n",
              "      <td>56810.752508</td>\n",
              "    </tr>\n",
              "    <tr>\n",
              "      <th>Diesel</th>\n",
              "      <td>46234.520000</td>\n",
              "    </tr>\n",
              "  </tbody>\n",
              "</table>\n",
              "</div>\n",
              "      <button class=\"colab-df-convert\" onclick=\"convertToInteractive('df-d22208ff-8949-4b9b-97c5-691cf915ea61')\"\n",
              "              title=\"Convert this dataframe to an interactive table.\"\n",
              "              style=\"display:none;\">\n",
              "        \n",
              "  <svg xmlns=\"http://www.w3.org/2000/svg\" height=\"24px\"viewBox=\"0 0 24 24\"\n",
              "       width=\"24px\">\n",
              "    <path d=\"M0 0h24v24H0V0z\" fill=\"none\"/>\n",
              "    <path d=\"M18.56 5.44l.94 2.06.94-2.06 2.06-.94-2.06-.94-.94-2.06-.94 2.06-2.06.94zm-11 1L8.5 8.5l.94-2.06 2.06-.94-2.06-.94L8.5 2.5l-.94 2.06-2.06.94zm10 10l.94 2.06.94-2.06 2.06-.94-2.06-.94-.94-2.06-.94 2.06-2.06.94z\"/><path d=\"M17.41 7.96l-1.37-1.37c-.4-.4-.92-.59-1.43-.59-.52 0-1.04.2-1.43.59L10.3 9.45l-7.72 7.72c-.78.78-.78 2.05 0 2.83L4 21.41c.39.39.9.59 1.41.59.51 0 1.02-.2 1.41-.59l7.78-7.78 2.81-2.81c.8-.78.8-2.07 0-2.86zM5.41 20L4 18.59l7.72-7.72 1.47 1.35L5.41 20z\"/>\n",
              "  </svg>\n",
              "      </button>\n",
              "      \n",
              "  <style>\n",
              "    .colab-df-container {\n",
              "      display:flex;\n",
              "      flex-wrap:wrap;\n",
              "      gap: 12px;\n",
              "    }\n",
              "\n",
              "    .colab-df-convert {\n",
              "      background-color: #E8F0FE;\n",
              "      border: none;\n",
              "      border-radius: 50%;\n",
              "      cursor: pointer;\n",
              "      display: none;\n",
              "      fill: #1967D2;\n",
              "      height: 32px;\n",
              "      padding: 0 0 0 0;\n",
              "      width: 32px;\n",
              "    }\n",
              "\n",
              "    .colab-df-convert:hover {\n",
              "      background-color: #E2EBFA;\n",
              "      box-shadow: 0px 1px 2px rgba(60, 64, 67, 0.3), 0px 1px 3px 1px rgba(60, 64, 67, 0.15);\n",
              "      fill: #174EA6;\n",
              "    }\n",
              "\n",
              "    [theme=dark] .colab-df-convert {\n",
              "      background-color: #3B4455;\n",
              "      fill: #D2E3FC;\n",
              "    }\n",
              "\n",
              "    [theme=dark] .colab-df-convert:hover {\n",
              "      background-color: #434B5C;\n",
              "      box-shadow: 0px 1px 3px 1px rgba(0, 0, 0, 0.15);\n",
              "      filter: drop-shadow(0px 1px 2px rgba(0, 0, 0, 0.3));\n",
              "      fill: #FFFFFF;\n",
              "    }\n",
              "  </style>\n",
              "\n",
              "      <script>\n",
              "        const buttonEl =\n",
              "          document.querySelector('#df-d22208ff-8949-4b9b-97c5-691cf915ea61 button.colab-df-convert');\n",
              "        buttonEl.style.display =\n",
              "          google.colab.kernel.accessAllowed ? 'block' : 'none';\n",
              "\n",
              "        async function convertToInteractive(key) {\n",
              "          const element = document.querySelector('#df-d22208ff-8949-4b9b-97c5-691cf915ea61');\n",
              "          const dataTable =\n",
              "            await google.colab.kernel.invokeFunction('convertToInteractive',\n",
              "                                                     [key], {});\n",
              "          if (!dataTable) return;\n",
              "\n",
              "          const docLinkHtml = 'Like what you see? Visit the ' +\n",
              "            '<a target=\"_blank\" href=https://colab.research.google.com/notebooks/data_table.ipynb>data table notebook</a>'\n",
              "            + ' to learn more about interactive tables.';\n",
              "          element.innerHTML = '';\n",
              "          dataTable['output_type'] = 'display_data';\n",
              "          await google.colab.output.renderOutput(dataTable, element);\n",
              "          const docLink = document.createElement('div');\n",
              "          docLink.innerHTML = docLinkHtml;\n",
              "          element.appendChild(docLink);\n",
              "        }\n",
              "      </script>\n",
              "    </div>\n",
              "  </div>\n",
              "  "
            ]
          },
          "metadata": {},
          "execution_count": 225
        }
      ]
    },
    {
      "cell_type": "code",
      "source": [
        "\n",
        "px.box(dane, \n",
        "       x = \"paliwo\", \n",
        "       y = \"cena\", \n",
        "       notched = True, \n",
        "       facet_col = \"rocznik\",\n",
        "       title = \"Cena samochodu pod względem rodzaju paliwa i rocznika\") "
      ],
      "metadata": {
        "colab": {
          "base_uri": "https://localhost:8080/",
          "height": 542
        },
        "id": "X3jRXJTV1Stf",
        "outputId": "e7e8a266-9170-4cc7-fed2-8bd203a6df61"
      },
      "execution_count": null,
      "outputs": [
        {
          "output_type": "display_data",
          "data": {
            "text/html": [
              "<html>\n",
              "<head><meta charset=\"utf-8\" /></head>\n",
              "<body>\n",
              "    <div>            <script src=\"https://cdnjs.cloudflare.com/ajax/libs/mathjax/2.7.5/MathJax.js?config=TeX-AMS-MML_SVG\"></script><script type=\"text/javascript\">if (window.MathJax) {MathJax.Hub.Config({SVG: {font: \"STIX-Web\"}});}</script>                <script type=\"text/javascript\">window.PlotlyConfig = {MathJaxConfig: 'local'};</script>\n",
              "        <script src=\"https://cdn.plot.ly/plotly-2.8.3.min.js\"></script>                <div id=\"2fc1ed5e-7840-4f7c-8e59-229e414e89c7\" class=\"plotly-graph-div\" style=\"height:525px; width:100%;\"></div>            <script type=\"text/javascript\">                                    window.PLOTLYENV=window.PLOTLYENV || {};                                    if (document.getElementById(\"2fc1ed5e-7840-4f7c-8e59-229e414e89c7\")) {                    Plotly.newPlot(                        \"2fc1ed5e-7840-4f7c-8e59-229e414e89c7\",                        [{\"alignmentgroup\":\"True\",\"hovertemplate\":\"rocznik=2021<br>paliwo=%{x}<br>cena=%{y}<extra></extra>\",\"legendgroup\":\"\",\"marker\":{\"color\":\"#636efa\"},\"name\":\"\",\"notched\":true,\"offsetgroup\":\"\",\"orientation\":\"v\",\"showlegend\":false,\"x\":[\"Benzyna+LPG\",\"Benzyna+LPG\",\"Benzyna\",\"Benzyna\",\"Benzyna\",\"Benzyna+LPG\",\"Benzyna+LPG\",\"Elektryczny\",\"Benzyna\",\"Benzyna+LPG\",\"Benzyna+LPG\",\"Benzyna\",\"Benzyna\",\"Benzyna\",\"Benzyna\",\"Diesel\",\"Diesel\",\"Benzyna\",\"Benzyna+LPG\",\"Benzyna+LPG\",\"Elektryczny\",\"Benzyna+LPG\",\"Benzyna+LPG\",\"Benzyna\",\"Diesel\",\"Elektryczny\",\"Benzyna\",\"Benzyna\",\"Benzyna\",\"Benzyna\",\"Benzyna+LPG\",\"Benzyna+LPG\",\"Benzyna\",\"Benzyna\",\"Benzyna+LPG\",\"Benzyna+LPG\",\"Diesel\",\"Benzyna+LPG\",\"Benzyna+LPG\",\"Benzyna\",\"Benzyna+LPG\",\"Benzyna\",\"Benzyna\",\"Benzyna+LPG\",\"Benzyna\",\"Benzyna+LPG\",\"Benzyna\",\"Benzyna\",\"Benzyna\",\"Benzyna\",\"Benzyna\",\"Benzyna\",\"Benzyna+LPG\",\"Benzyna\",\"Benzyna\",\"Benzyna+LPG\",\"Elektryczny\",\"Benzyna\",\"Benzyna+LPG\",\"Benzyna+LPG\",\"Benzyna+LPG\",\"Benzyna+LPG\",\"Benzyna\",\"Benzyna\",\"Benzyna\",\"Benzyna\",\"Benzyna\",\"Benzyna\",\"Elektryczny\",\"Benzyna+LPG\",\"Benzyna\",\"Benzyna\",\"Benzyna\",\"Benzyna+LPG\",\"Diesel\",\"Benzyna+LPG\",\"Benzyna+LPG\",\"Benzyna\",\"Benzyna\",\"Benzyna\",\"Benzyna\",\"Benzyna+LPG\",\"Benzyna+LPG\",\"Benzyna+LPG\",\"Benzyna\",\"Benzyna+LPG\",\"Benzyna\",\"Benzyna\",\"Benzyna\",\"Benzyna+LPG\",\"Benzyna+LPG\",\"Benzyna+LPG\",\"Benzyna\",\"Benzyna\",\"Benzyna\",\"Benzyna\",\"Benzyna\",\"Elektryczny\",\"Benzyna+LPG\",\"Elektryczny\",\"Benzyna\",\"Benzyna+LPG\",\"Benzyna\",\"Benzyna\",\"Benzyna\",\"Benzyna+LPG\",\"Benzyna\",\"Benzyna+LPG\",\"Benzyna\",\"Diesel\",\"Benzyna+LPG\",\"Diesel\",\"Benzyna\",\"Benzyna+LPG\",\"Benzyna+LPG\",\"Benzyna\",\"Benzyna\",\"Benzyna+LPG\",\"Benzyna+LPG\",\"Benzyna\",\"Benzyna+LPG\",\"Benzyna+LPG\",\"Benzyna+LPG\",\"Benzyna+LPG\",\"Benzyna+LPG\",\"Benzyna+LPG\",\"Benzyna\",\"Benzyna\",\"Benzyna+LPG\",\"Benzyna+LPG\",\"Benzyna+LPG\",\"Benzyna+LPG\",\"Benzyna+LPG\",\"Benzyna+LPG\",\"Benzyna+LPG\",\"Benzyna\",\"Benzyna\",\"Elektryczny\",\"Benzyna\",\"Diesel\",\"Benzyna\",\"Benzyna+LPG\",\"Benzyna\",\"Benzyna\",\"Benzyna+LPG\",\"Benzyna+LPG\",\"Benzyna+LPG\",\"Benzyna\",\"Benzyna+LPG\",\"Benzyna\",\"Benzyna+LPG\",\"Benzyna+LPG\",\"Diesel\",\"Benzyna\",\"Diesel\",\"Diesel\",\"Benzyna+LPG\",\"Benzyna\",\"Benzyna\"],\"x0\":\" \",\"xaxis\":\"x\",\"y\":[67700,54900,64900,64900,53900,79900,79900,35000,68900,79900,77900,65900,66850,62999,66900,88900,85900,64900,59999,82500,77400,19900,79999,69900,22900,72000,52900,73999,67900,61999,71000,59900,66700,64700,59900,80900,83900,63900,63900,46500,56900,64900,68000,82900,74600,74900,69900,61900,61900,48900,41600,60900,66900,75900,64900,80900,66900,64900,25500,58900,56900,79900,65900,67900,29900,64900,69900,47700,51000,54900,38900,43900,44000,61900,82900,64900,81900,64900,64500,72900,64900,81990,81900,74900,69900,29900,64900,64900,64500,78800,73700,74900,64900,54800,72900,39900,79900,73900,25000,74900,86900,77900,76900,62900,94000,87500,64900,74900,64900,97000,71900,23600,66900,77900,69400,64500,41500,84900,64900,69900,82500,59999,74900,74900,84900,74900,67900,67900,74900,74800,74900,77900,81900,72900,74900,64900,65300,41500,64900,29900,19800,9900,73800,69500,69800,37000,69099,22900,59900,66000,73800,69999,85000,40999,43500,69900,59500,19500,63900],\"y0\":\" \",\"yaxis\":\"y\",\"type\":\"box\"},{\"alignmentgroup\":\"True\",\"hovertemplate\":\"rocznik=2017<br>paliwo=%{x}<br>cena=%{y}<extra></extra>\",\"legendgroup\":\"\",\"marker\":{\"color\":\"#636efa\"},\"name\":\"\",\"notched\":true,\"offsetgroup\":\"\",\"orientation\":\"v\",\"showlegend\":false,\"x\":[\"Diesel\",\"Diesel\",\"Benzyna\",\"Benzyna\",\"Benzyna\",\"Diesel\",\"Benzyna\",\"Benzyna\",\"Diesel\",\"Diesel\",\"Benzyna+LPG\",\"Diesel\",\"Benzyna\",\"Benzyna\",\"Benzyna\",\"Diesel\",\"Benzyna\",\"Benzyna\",\"Benzyna\",\"Benzyna\",\"Benzyna+LPG\",\"Diesel\",\"Benzyna\",\"Benzyna\",\"Benzyna\",\"Benzyna+LPG\",\"Benzyna\",\"Diesel\",\"Diesel\",\"Diesel\",\"Benzyna+LPG\",\"Benzyna\",\"Benzyna\",\"Benzyna+LPG\",\"Benzyna\",\"Benzyna\",\"Benzyna\",\"Diesel\",\"Benzyna+LPG\",\"Benzyna\",\"Benzyna\",\"Benzyna\",\"Benzyna+LPG\",\"Benzyna\",\"Diesel\",\"Benzyna+LPG\",\"Benzyna\",\"Benzyna\",\"Benzyna\",\"Diesel\",\"Benzyna\",\"Benzyna\",\"Benzyna\",\"Benzyna\",\"Benzyna+LPG\",\"Diesel\",\"Benzyna\",\"Diesel\",\"Benzyna\",\"Diesel\",\"Benzyna\",\"Benzyna\",\"Benzyna\",\"Benzyna+LPG\",\"Diesel\",\"Benzyna+LPG\",\"Benzyna\",\"Benzyna\",\"Benzyna\",\"Benzyna\",\"Diesel\",\"Benzyna\",\"Diesel\",\"Benzyna\",\"Benzyna\",\"Benzyna\",\"Diesel\",\"Diesel\",\"Benzyna\",\"Benzyna\",\"Benzyna\",\"Benzyna\",\"Benzyna\",\"Benzyna\",\"Benzyna\",\"Benzyna\",\"Diesel\",\"Diesel\",\"Benzyna+LPG\",\"Diesel\",\"Diesel\",\"Diesel\",\"Benzyna+LPG\",\"Benzyna\",\"Diesel\",\"Benzyna\",\"Diesel\",\"Benzyna\",\"Diesel\",\"Diesel\",\"Benzyna+LPG\",\"Benzyna\",\"Benzyna\",\"Benzyna+LPG\",\"Benzyna\",\"Benzyna+LPG\",\"Benzyna\",\"Benzyna\",\"Benzyna\",\"Diesel\",\"Benzyna\",\"Benzyna\",\"Benzyna\",\"Diesel\",\"Diesel\",\"Diesel\",\"Benzyna+LPG\",\"Benzyna\",\"Diesel\",\"Benzyna\",\"Benzyna\",\"Benzyna\",\"Benzyna\",\"Benzyna+LPG\",\"Benzyna\",\"Benzyna+LPG\",\"Benzyna\",\"Diesel\",\"Benzyna\",\"Benzyna\",\"Diesel\",\"Benzyna\",\"Benzyna\",\"Benzyna\",\"Benzyna\",\"Diesel\",\"Diesel\",\"Benzyna\",\"Benzyna\",\"Benzyna\",\"Benzyna\",\"Benzyna\",\"Diesel\",\"Benzyna\",\"Benzyna+LPG\",\"Benzyna\",\"Benzyna\",\"Benzyna\",\"Benzyna+LPG\",\"Benzyna\",\"Benzyna+LPG\",\"Benzyna+LPG\",\"Benzyna\",\"Diesel\",\"Diesel\",\"Benzyna+LPG\",\"Benzyna\",\"Diesel\"],\"x0\":\" \",\"xaxis\":\"x2\",\"y\":[28500,48900,35000,39999,14900,38900,29000,27900,39700,46900,31499,41900,28000,49900,49999,34900,51299,51900,51999,39888,14900,23900,44900,46900,36900,50900,48700,49900,39999,37499,39888,41999,38900,45499,34500,49900,14600,46900,49999,44900,53999,34900,40500,14760,39999,39900,43499,54900,46000,43900,47900,46899,41800,47500,42900,55000,46499,52000,37600,32400,31900,43900,36700,42500,32595,43900,48900,34900,23500,44900,9199,48800,45900,32900,27900,42900,53800,38900,50900,42400,28900,42900,33900,47600,50600,48700,48600,39999,54500,29898,50800,44900,45900,18200,32900,46464,49900,49800,55555,29800,44900,36500,45500,46999,42900,47000,39900,44280,24900,46900,44900,52000,37900,49500,56555,41900,19680,28900,33900,35999,44999,44000,54900,53850,16000,22900,40850,39500,49900,44999,45756,34900,47800,35500,25900,39500,48769,39900,36900,34500,39900,30999,29999,20199,22999,45900,32900,34500,46500,51900,46900,45000,44700,34900,39900,22900,25500,17835],\"y0\":\" \",\"yaxis\":\"y2\",\"type\":\"box\"},{\"alignmentgroup\":\"True\",\"hovertemplate\":\"rocznik=2018<br>paliwo=%{x}<br>cena=%{y}<extra></extra>\",\"legendgroup\":\"\",\"marker\":{\"color\":\"#636efa\"},\"name\":\"\",\"notched\":true,\"offsetgroup\":\"\",\"orientation\":\"v\",\"showlegend\":false,\"x\":[\"Diesel\",\"Diesel\",\"Benzyna\",\"Benzyna\",\"Benzyna\",\"Benzyna\",\"Benzyna\",\"Diesel\",\"Benzyna+LPG\",\"Benzyna\",\"Benzyna\",\"Benzyna\",\"Benzyna\",\"Benzyna+LPG\",\"Benzyna\",\"Benzyna\",\"Benzyna\",\"Benzyna\",\"Benzyna+LPG\",\"Diesel\",\"Diesel\",\"Benzyna\",\"Benzyna\",\"Benzyna+LPG\",\"Benzyna\",\"Benzyna\",\"Benzyna\",\"Benzyna\",\"Benzyna\",\"Benzyna\",\"Diesel\",\"Benzyna+LPG\",\"Benzyna\",\"Diesel\",\"Benzyna+LPG\",\"Benzyna\",\"Benzyna\",\"Benzyna\",\"Diesel\",\"Benzyna\",\"Benzyna\",\"Benzyna\",\"Diesel\",\"Benzyna\",\"Benzyna\",\"Benzyna\",\"Benzyna\",\"Benzyna+LPG\",\"Benzyna\",\"Diesel\",\"Diesel\",\"Benzyna\",\"Diesel\",\"Benzyna\",\"Benzyna\",\"Benzyna\",\"Benzyna\",\"Benzyna\",\"Benzyna\",\"Benzyna\",\"Benzyna\",\"Benzyna\",\"Diesel\",\"Benzyna\",\"Benzyna\",\"Diesel\",\"Benzyna\",\"Benzyna\",\"Benzyna\",\"Diesel\",\"Benzyna\",\"Benzyna\",\"Benzyna\",\"Benzyna\",\"Benzyna\",\"Diesel\",\"Benzyna\",\"Benzyna\",\"Diesel\",\"Diesel\",\"Benzyna\",\"Diesel\",\"Benzyna+LPG\",\"Benzyna\",\"Benzyna\",\"Benzyna\",\"Benzyna\",\"Benzyna\",\"Benzyna\",\"Benzyna\",\"Diesel\",\"Diesel\",\"Diesel\",\"Diesel\",\"Diesel\",\"Benzyna\",\"Benzyna\",\"Benzyna\",\"Benzyna\",\"Diesel\",\"Benzyna\",\"Benzyna\",\"Benzyna\",\"Benzyna\",\"Benzyna\",\"Benzyna\",\"Diesel\",\"Benzyna\",\"Benzyna+LPG\",\"Benzyna\",\"Benzyna\",\"Diesel\",\"Benzyna\",\"Benzyna\",\"Diesel\",\"Diesel\",\"Benzyna\",\"Benzyna\",\"Benzyna\",\"Benzyna+LPG\",\"Benzyna\",\"Benzyna\",\"Benzyna\",\"Diesel\",\"Benzyna\",\"Benzyna\",\"Benzyna\",\"Benzyna\",\"Benzyna\",\"Diesel\",\"Diesel\",\"Diesel\",\"Benzyna\",\"Benzyna+LPG\",\"Benzyna\",\"Benzyna\",\"Benzyna\",\"Benzyna\",\"Benzyna\",\"Benzyna\",\"Benzyna\",\"Benzyna\",\"Benzyna\",\"Benzyna\",\"Benzyna\",\"Benzyna\",\"Benzyna\",\"Benzyna\",\"Benzyna\",\"Benzyna+LPG\",\"Benzyna\",\"Benzyna\",\"Benzyna\",\"Benzyna\",\"Diesel\",\"Diesel\",\"Benzyna\",\"Benzyna\",\"Diesel\",\"Diesel\",\"Benzyna\",\"Benzyna\",\"Benzyna\",\"Benzyna\",\"Benzyna\",\"Diesel\",\"Benzyna+LPG\",\"Benzyna\",\"Benzyna\",\"Benzyna\",\"Diesel\",\"Benzyna\",\"Diesel\",\"Benzyna\",\"Diesel\",\"Benzyna\",\"Benzyna+LPG\",\"Benzyna\",\"Diesel\",\"Diesel\",\"Benzyna+LPG\",\"Benzyna\",\"Benzyna\",\"Diesel\",\"Benzyna+LPG\",\"Benzyna\",\"Diesel\",\"Diesel\",\"Benzyna\",\"Benzyna\",\"Diesel\",\"Benzyna\",\"Benzyna\",\"Benzyna\",\"Benzyna\",\"Benzyna\",\"Benzyna\",\"Benzyna\",\"Benzyna\",\"Benzyna\",\"Benzyna\",\"Diesel\",\"Diesel\",\"Benzyna\",\"Benzyna+LPG\",\"Benzyna\",\"Benzyna\",\"Benzyna\",\"Benzyna\",\"Benzyna\",\"Diesel\",\"Benzyna\",\"Benzyna\",\"Benzyna\",\"Benzyna\",\"Benzyna+LPG\",\"Benzyna\",\"Benzyna\",\"Benzyna\",\"Benzyna+LPG\",\"Benzyna\",\"Benzyna\",\"Benzyna\",\"Diesel\",\"Benzyna\",\"Benzyna+LPG\",\"Benzyna\",\"Diesel\",\"Benzyna\",\"Benzyna\",\"Benzyna\",\"Benzyna\"],\"x0\":\" \",\"xaxis\":\"x3\",\"y\":[59999,59900,53900,39999,61500,27000,65000,49900,26000,27000,35000,56999,32900,33999,19900,39999,39900,55900,46740,46900,59900,39499,62999,47999,57900,38900,58883,28900,43700,35900,58900,27499,39600,23500,45500,62999,33900,28900,32000,36000,61900,46900,23900,61999,62999,48999,17900,57000,49899,23500,48900,61900,65190,55499,56999,34500,32000,33900,55900,43900,37999,7700,43999,65499,59500,34999,27900,18900,31980,59900,46500,36900,64900,34900,46900,46900,45900,57999,36900,63900,65999,44900,57450,37900,62500,69800,45900,54900,55950,54900,39900,48000,46900,41697,45510,64900,34900,35200,59999,59850,34900,45600,25900,59990,35500,59900,52300,24900,54900,59500,55900,63600,59800,35900,62900,46999,59500,36000,66000,48000,43000,61999,24900,41820,48900,52900,53500,36900,60900,47900,41800,45500,48500,59990,59900,54900,40900,59900,52767,61999,57000,36900,43050,62900,34900,25900,29900,28500,54900,42999,62500,27300,32900,55800,42900,27900,59900,65900,52767,42804,28900,54900,53999,67800,34500,19600,54900,9300,57990,43200,59900,52800,34900,24999,34900,57800,19311,34317,64900,57999,47900,34000,54900,46900,44900,42500,37800,49900,59900,36900,59999,42900,57000,54999,32900,32900,41900,39900,59800,40990,39900,47900,58900,53500,49900,25900,33900,30000,49900,42000,55000,39000,19900,58900,25000,41987,57900,53400,42999,42900,36900,22900,22500,61500,33000,34500,57000,59900,32900,39900,63000,38500],\"y0\":\" \",\"yaxis\":\"y3\",\"type\":\"box\"},{\"alignmentgroup\":\"True\",\"hovertemplate\":\"rocznik=2016<br>paliwo=%{x}<br>cena=%{y}<extra></extra>\",\"legendgroup\":\"\",\"marker\":{\"color\":\"#636efa\"},\"name\":\"\",\"notched\":true,\"offsetgroup\":\"\",\"orientation\":\"v\",\"showlegend\":false,\"x\":[\"Diesel\",\"Benzyna+LPG\",\"Benzyna\",\"Diesel\",\"Benzyna\",\"Diesel\",\"Benzyna\",\"Benzyna\",\"Benzyna\",\"Diesel\",\"Benzyna\",\"Benzyna\",\"Diesel\",\"Benzyna\",\"Benzyna\",\"Benzyna\",\"Benzyna\",\"Benzyna\",\"Benzyna+LPG\",\"Diesel\",\"Benzyna\",\"Diesel\",\"Benzyna\",\"Benzyna+LPG\",\"Benzyna+LPG\",\"Benzyna+LPG\",\"Benzyna\",\"Benzyna\",\"Benzyna\",\"Diesel\",\"Benzyna\",\"Benzyna\",\"Benzyna\",\"Benzyna\",\"Diesel\",\"Benzyna\",\"Benzyna\",\"Benzyna\",\"Benzyna\",\"Benzyna\",\"Benzyna\",\"Benzyna\",\"Benzyna+LPG\",\"Benzyna\",\"Diesel\",\"Benzyna\",\"Benzyna\",\"Benzyna\",\"Benzyna\",\"Benzyna+LPG\",\"Benzyna\",\"Diesel\",\"Benzyna\",\"Benzyna\",\"Benzyna\",\"Benzyna\",\"Benzyna\",\"Benzyna\",\"Benzyna\",\"Benzyna\",\"Diesel\",\"Benzyna\",\"Benzyna+LPG\",\"Benzyna\",\"Benzyna\",\"Benzyna+LPG\",\"Benzyna\",\"Benzyna\",\"Benzyna\",\"Diesel\",\"Diesel\",\"Diesel\",\"Benzyna\",\"Benzyna\",\"Benzyna+LPG\",\"Benzyna\",\"Diesel\",\"Benzyna\",\"Benzyna\",\"Benzyna\",\"Diesel\",\"Diesel\",\"Benzyna+LPG\",\"Benzyna\",\"Benzyna+LPG\",\"Benzyna+LPG\",\"Benzyna\",\"Diesel\",\"Benzyna\",\"Diesel\",\"Diesel\",\"Benzyna\",\"Benzyna\",\"Diesel\",\"Diesel\",\"Benzyna\",\"Diesel\",\"Benzyna\",\"Diesel\",\"Diesel\",\"Benzyna\",\"Diesel\",\"Benzyna\",\"Diesel\",\"Benzyna\",\"Benzyna\",\"Benzyna\",\"Diesel\",\"Benzyna\",\"Benzyna\",\"Benzyna\",\"Benzyna\",\"Benzyna+LPG\",\"Benzyna\",\"Benzyna+LPG\",\"Benzyna\",\"Benzyna\",\"Benzyna\",\"Benzyna\",\"Benzyna\",\"Diesel\",\"Diesel\",\"Diesel\",\"Benzyna\",\"Diesel\",\"Benzyna\",\"Benzyna+LPG\",\"Diesel\",\"Benzyna\",\"Diesel\",\"Benzyna\",\"Diesel\",\"Benzyna\",\"Benzyna\",\"Diesel\",\"Benzyna\",\"Benzyna\",\"Benzyna\",\"Benzyna\",\"Benzyna+LPG\",\"Benzyna+LPG\",\"Diesel\"],\"x0\":\" \",\"xaxis\":\"x4\",\"y\":[40999,18900,28900,34990,35900,44800,40500,17800,42500,19900,42499,45999,38900,31900,25700,51900,34900,22500,46999,42000,44999,39800,53999,35999,39999,28888,41900,28900,44900,49500,31499,31900,32900,31000,33900,16900,25300,45500,35000,30000,36900,48000,32000,48500,22900,49900,46900,27400,43999,26900,44500,37900,24900,40900,28900,29900,34900,49900,47900,37761,14900,33800,28500,33700,44900,21900,48500,17300,26900,38880,41900,49900,49900,44900,28900,33500,21900,33900,44500,27900,50500,36900,36000,50800,35900,42800,39900,6000,31900,42900,34900,38900,49900,39990,42900,49900,26500,42900,34900,35900,22900,38999,22900,39500,36997,49500,29900,44000,35900,25500,32500,44901,44900,34999,46999,43900,24999,45900,46900,38800,23900,39900,31900,25900,41700,42900,48000,30627,33800,30900,35900,30990,17900,23900,14900,32900,22900,43900,44700,23900,43900,34000],\"y0\":\" \",\"yaxis\":\"y4\",\"type\":\"box\"},{\"alignmentgroup\":\"True\",\"hovertemplate\":\"rocznik=2022<br>paliwo=%{x}<br>cena=%{y}<extra></extra>\",\"legendgroup\":\"\",\"marker\":{\"color\":\"#636efa\"},\"name\":\"\",\"notched\":true,\"offsetgroup\":\"\",\"orientation\":\"v\",\"showlegend\":false,\"x\":[\"Benzyna+LPG\",\"Benzyna\",\"Benzyna\",\"Benzyna\",\"Benzyna\",\"Benzyna+LPG\",\"Benzyna\",\"Benzyna\",\"Benzyna+LPG\",\"Benzyna+LPG\",\"Benzyna+LPG\",\"Benzyna\",\"Benzyna\",\"Benzyna\",\"Benzyna\",\"Benzyna+LPG\",\"Benzyna+LPG\",\"Benzyna\",\"Benzyna\",\"Benzyna\",\"Benzyna\",\"Benzyna+LPG\",\"Benzyna\",\"Benzyna+LPG\",\"Benzyna+LPG\",\"Benzyna\",\"Benzyna\",\"Benzyna\",\"Elektryczny\",\"Benzyna\",\"Benzyna\",\"Benzyna\",\"Benzyna\",\"Benzyna+LPG\",\"Benzyna+LPG\",\"Benzyna+LPG\",\"Benzyna\",\"Benzyna+LPG\",\"Benzyna+LPG\",\"Benzyna\",\"Benzyna+LPG\",\"Benzyna+LPG\",\"Benzyna\",\"Benzyna\",\"Benzyna\",\"Benzyna\",\"Benzyna\",\"Benzyna\",\"Benzyna\",\"Benzyna+LPG\",\"Benzyna\",\"Benzyna\",\"Benzyna\",\"Elektryczny\",\"Elektryczny\",\"Elektryczny\",\"Elektryczny\",\"Benzyna+LPG\",\"Benzyna\",\"Benzyna\",\"Benzyna\",\"Benzyna+LPG\",\"Benzyna\",\"Benzyna\",\"Benzyna\",\"Benzyna\",\"Benzyna\",\"Benzyna\",\"Benzyna+LPG\",\"Benzyna\",\"Benzyna+LPG\",\"Benzyna\",\"Benzyna\",\"Benzyna\",\"Benzyna\",\"Benzyna\",\"Elektryczny\",\"Benzyna+LPG\",\"Benzyna\",\"Benzyna\",\"Benzyna\",\"Benzyna\",\"Elektryczny\",\"Benzyna\",\"Benzyna\",\"Benzyna+LPG\",\"Benzyna+LPG\",\"Benzyna\",\"Benzyna+LPG\",\"Benzyna+LPG\",\"Benzyna\",\"Benzyna+LPG\",\"Benzyna\",\"Benzyna+LPG\",\"Benzyna+LPG\",\"Benzyna+LPG\",\"Benzyna\",\"Benzyna+LPG\",\"Benzyna\",\"Benzyna\",\"Benzyna\",\"Benzyna\",\"Benzyna\",\"Benzyna+LPG\",\"Benzyna+LPG\",\"Benzyna+LPG\",\"Benzyna\",\"Benzyna\",\"Benzyna\",\"Benzyna+LPG\",\"Diesel\",\"Benzyna\",\"Benzyna+LPG\",\"Benzyna\",\"Benzyna+LPG\",\"Benzyna\",\"Benzyna\",\"Benzyna\",\"Benzyna+LPG\",\"Benzyna+LPG\",\"Benzyna+LPG\",\"Benzyna+LPG\",\"Benzyna\",\"Benzyna+LPG\",\"Elektryczny\",\"Benzyna+LPG\",\"Elektryczny\",\"Benzyna\",\"Benzyna+LPG\",\"Benzyna\",\"Benzyna\",\"Diesel\",\"Benzyna+LPG\",\"Benzyna+LPG\",\"Benzyna+LPG\",\"Benzyna\",\"Benzyna\",\"Benzyna\",\"Elektryczny\",\"Benzyna\",\"Benzyna\",\"Benzyna\",\"Benzyna+LPG\",\"Benzyna\",\"Benzyna\",\"Benzyna\",\"Benzyna\",\"Benzyna+LPG\",\"Benzyna\",\"Benzyna+LPG\",\"Benzyna\",\"Benzyna\",\"Benzyna+LPG\",\"Benzyna+LPG\",\"Benzyna\",\"Benzyna\",\"Benzyna\",\"Benzyna\",\"Benzyna\",\"Benzyna+LPG\",\"Benzyna+LPG\",\"Benzyna+LPG\",\"Benzyna\",\"Benzyna\",\"Elektryczny\",\"Benzyna\",\"Benzyna\",\"Benzyna\",\"Benzyna\",\"Elektryczny\",\"Benzyna\",\"Benzyna+LPG\",\"Benzyna\",\"Benzyna\",\"Benzyna\",\"Benzyna+LPG\",\"Benzyna+LPG\",\"Benzyna\",\"Benzyna+LPG\",\"Benzyna+LPG\",\"Benzyna\",\"Benzyna\",\"Benzyna\",\"Benzyna\",\"Benzyna+LPG\",\"Benzyna+LPG\",\"Benzyna\",\"Benzyna\",\"Benzyna+LPG\",\"Benzyna\",\"Benzyna+LPG\",\"Benzyna\",\"Benzyna+LPG\",\"Benzyna\",\"Benzyna\",\"Benzyna+LPG\",\"Benzyna+LPG\",\"Benzyna\",\"Benzyna+LPG\",\"Benzyna+LPG\",\"Benzyna+LPG\",\"Benzyna\",\"Benzyna\",\"Benzyna\",\"Benzyna+LPG\",\"Benzyna\",\"Diesel\",\"Benzyna+LPG\",\"Benzyna+LPG\",\"Benzyna+LPG\",\"Benzyna+LPG\",\"Benzyna+LPG\",\"Benzyna+LPG\",\"Benzyna\",\"Benzyna\",\"Benzyna+LPG\",\"Benzyna\",\"Benzyna+LPG\",\"Benzyna+LPG\",\"Benzyna\",\"Benzyna\",\"Benzyna\",\"Benzyna+LPG\",\"Benzyna\",\"Benzyna+LPG\",\"Benzyna\",\"Benzyna+LPG\",\"Benzyna\",\"Benzyna\",\"Benzyna\",\"Benzyna\",\"Benzyna\",\"Benzyna\",\"Benzyna+LPG\",\"Benzyna\",\"Benzyna\",\"Benzyna+LPG\",\"Benzyna\",\"Benzyna+LPG\",\"Benzyna+LPG\",\"Benzyna\",\"Benzyna\",\"Benzyna+LPG\",\"Benzyna+LPG\",\"Benzyna+LPG\",\"Diesel\",\"Benzyna+LPG\",\"Benzyna\",\"Benzyna+LPG\",\"Elektryczny\",\"Benzyna+LPG\",\"Benzyna+LPG\",\"Elektryczny\",\"Benzyna+LPG\",\"Benzyna+LPG\",\"Elektryczny\",\"Benzyna\",\"Benzyna\",\"Benzyna\",\"Diesel\",\"Benzyna\",\"Benzyna+LPG\",\"Benzyna+LPG\",\"Benzyna\",\"Benzyna+LPG\",\"Benzyna\",\"Benzyna\",\"Benzyna\",\"Benzyna\",\"Benzyna\",\"Benzyna+LPG\",\"Benzyna\",\"Benzyna+LPG\",\"Benzyna+LPG\",\"Benzyna+LPG\",\"Benzyna+LPG\",\"Benzyna+LPG\",\"Benzyna\",\"Benzyna+LPG\",\"Benzyna\",\"Benzyna\",\"Benzyna+LPG\",\"Benzyna\",\"Benzyna\",\"Benzyna+LPG\",\"Benzyna\",\"Elektryczny\",\"Benzyna\",\"Benzyna+LPG\",\"Benzyna\",\"Diesel\",\"Benzyna\",\"Benzyna\",\"Elektryczny\",\"Benzyna\",\"Benzyna\",\"Benzyna\",\"Benzyna\",\"Benzyna+LPG\",\"Benzyna\",\"Benzyna\",\"Benzyna+LPG\",\"Benzyna\",\"Benzyna\",\"Benzyna\",\"Benzyna\",\"Benzyna\",\"Benzyna+LPG\",\"Benzyna+LPG\",\"Benzyna\",\"Benzyna+LPG\",\"Benzyna\",\"Benzyna\",\"Benzyna+LPG\",\"Elektryczny\",\"Benzyna\",\"Benzyna\",\"Benzyna\",\"Diesel\",\"Benzyna\",\"Benzyna\",\"Benzyna\",\"Benzyna+LPG\",\"Benzyna\",\"Benzyna+LPG\",\"Benzyna\",\"Benzyna\",\"Benzyna+LPG\",\"Benzyna+LPG\",\"Benzyna\",\"Benzyna+LPG\",\"Benzyna+CNG\",\"Benzyna+LPG\",\"Benzyna\",\"Elektryczny\",\"Benzyna+LPG\",\"Benzyna\",\"Benzyna\",\"Benzyna+LPG\",\"Benzyna+LPG\",\"Benzyna\",\"Benzyna+LPG\",\"Benzyna\",\"Benzyna\",\"Benzyna+LPG\",\"Benzyna\",\"Benzyna\",\"Benzyna\",\"Benzyna+LPG\",\"Benzyna\",\"Benzyna\",\"Benzyna\",\"Benzyna+LPG\",\"Benzyna+LPG\",\"Benzyna+LPG\",\"Elektryczny\",\"Elektryczny\",\"Benzyna+LPG\",\"Benzyna\",\"Benzyna+LPG\",\"Elektryczny\",\"Benzyna+LPG\",\"Benzyna\",\"Benzyna+LPG\",\"Benzyna\",\"Benzyna\",\"Benzyna\",\"Benzyna\",\"Benzyna+LPG\",\"Elektryczny\",\"Benzyna\",\"Benzyna\",\"Benzyna\"],\"x0\":\" \",\"xaxis\":\"x5\",\"y\":[83700,108700,72979,106000,57900,89850,83700,96700,99800,81750,84999,99490,109500,107700,111500,102800,98000,97300,86800,69990,99490,92900,97400,86050,81650,49900,96700,108000,107250,73410,76900,108400,95800,102600,92900,101900,91700,92900,76700,79900,101700,84150,72700,76200,87000,75800,83900,95000,94900,84900,65900,33990,77999,103000,107250,107040,107250,84150,81900,97300,108400,81650,84900,95600,75600,108700,92300,87300,101200,92300,96500,96900,101000,82900,107900,107900,109900,97600,83900,73900,63900,98500,111250,87500,94999,101000,98300,83700,101200,101000,109400,101200,74200,90500,83350,101200,71300,93500,89900,95700,73900,86000,94700,83350,80750,83450,72000,92850,83900,79250,107900,97600,101000,96900,75300,54900,83000,107700,86600,82650,90600,100100,109650,97600,100400,80750,54900,71616,85000,84900,87300,111900,92000,88000,99800,59000,76300,85900,107850,76900,79900,92200,101200,97500,85900,73200,69900,90900,107700,79900,75600,83700,85200,90550,72500,96700,71400,71900,80600,101200,83350,91150,72400,96300,37599,100200,97500,92900,107700,107250,79950,79750,71500,67800,87100,83350,81750,67850,86900,101200,71600,71800,77100,72100,86650,101200,78300,71600,87400,74569,96500,86000,74150,108200,107700,81950,83550,76700,79900,87000,83450,70700,72900,103500,83350,70900,110900,88250,83800,84500,101000,89950,88100,71700,99000,88250,72700,92500,83900,88820,71910,73700,80100,72750,83350,95800,89250,88200,35900,80400,88450,96900,96700,90150,99999,71999,98999,75999,98999,88100,96700,94000,81450,83350,83550,96555,72900,84000,80850,99900,94900,100300,107950,67900,91900,107250,83700,107500,81200,99990,75600,80500,85499,87900,75150,65900,84600,34770,75500,98200,78850,67900,99200,72950,78650,80850,81750,72500,97950,78600,75500,80750,88550,67000,101200,82900,55900,82900,81900,95700,105000,94700,93900,102900,105000,71000,78600,71900,88250,79999,97400,83450,91300,87200,96700,83900,96900,97950,92900,74000,83700,87300,67700,77990,107250,111700,67300,70200,105200,72499,71900,83700,94900,95300,76150,93700,71500,88450,101200,94700,101000,94300,84950,98500,100400,93650,66300,75000,102600,80500,73700,95800,94700,65300,90450,83900,82999,109500,101200,97400,107400,72000,89000,81750,27900,61900,110000,88800,73700,79250,64500,84900,35916,69900,107700,96700,94900,87300,83300,111650,91300,75800,75800],\"y0\":\" \",\"yaxis\":\"y5\",\"type\":\"box\"},{\"alignmentgroup\":\"True\",\"hovertemplate\":\"rocznik=2023<br>paliwo=%{x}<br>cena=%{y}<extra></extra>\",\"legendgroup\":\"\",\"marker\":{\"color\":\"#636efa\"},\"name\":\"\",\"notched\":true,\"offsetgroup\":\"\",\"orientation\":\"v\",\"showlegend\":false,\"x\":[\"Benzyna+LPG\",\"Benzyna+LPG\",\"Benzyna+LPG\",\"Benzyna+LPG\",\"Benzyna+LPG\",\"Benzyna+LPG\",\"Benzyna\",\"Benzyna+LPG\",\"Benzyna+LPG\",\"Benzyna+LPG\",\"Benzyna+LPG\",\"Elektryczny\",\"Benzyna\",\"Benzyna\",\"Benzyna\",\"Benzyna+LPG\",\"Benzyna\",\"Benzyna+LPG\",\"Benzyna+LPG\",\"Benzyna\",\"Benzyna\",\"Benzyna\",\"Benzyna\",\"Benzyna+LPG\",\"Benzyna\",\"Benzyna\",\"Benzyna\",\"Elektryczny\",\"Elektryczny\",\"Benzyna+LPG\",\"Benzyna+LPG\",\"Benzyna+LPG\",\"Benzyna\",\"Benzyna\",\"Benzyna\",\"Benzyna\",\"Benzyna\",\"Benzyna+LPG\",\"Benzyna+LPG\",\"Benzyna+LPG\",\"Benzyna+LPG\",\"Benzyna+LPG\",\"Benzyna+LPG\",\"Benzyna\",\"Benzyna+LPG\",\"Benzyna+LPG\",\"Benzyna+LPG\",\"Benzyna+LPG\",\"Benzyna\",\"Benzyna+LPG\",\"Benzyna+LPG\",\"Benzyna+LPG\",\"Benzyna\",\"Benzyna+LPG\",\"Benzyna+LPG\",\"Benzyna\",\"Benzyna\",\"Benzyna+LPG\",\"Benzyna+LPG\",\"Benzyna+LPG\",\"Benzyna+LPG\",\"Benzyna+LPG\",\"Benzyna+LPG\",\"Benzyna+LPG\",\"Benzyna\",\"Benzyna+LPG\",\"Benzyna+LPG\",\"Benzyna\",\"Benzyna\",\"Benzyna\",\"Benzyna+LPG\",\"Benzyna+LPG\",\"Benzyna+LPG\",\"Benzyna+LPG\",\"Benzyna+LPG\",\"Benzyna\",\"Benzyna+LPG\",\"Benzyna+LPG\",\"Benzyna\",\"Benzyna\",\"Benzyna+LPG\",\"Benzyna\",\"Benzyna+LPG\",\"Benzyna+LPG\",\"Benzyna+LPG\",\"Benzyna+LPG\",\"Benzyna+LPG\",\"Benzyna\",\"Benzyna+LPG\",\"Benzyna\",\"Benzyna+LPG\",\"Benzyna\",\"Benzyna\"],\"x0\":\" \",\"xaxis\":\"x6\",\"y\":[88100,101000,89850,96850,87900,83400,112500,89850,89050,85850,76750,107040,80400,81600,69900,76150,70800,81250,75850,63100,79600,67600,63900,84550,78850,64600,67700,111250,111250,83700,79650,88950,80300,70200,68900,110500,107700,101200,89850,94900,94900,87900,87900,75800,78850,79200,89950,92050,109900,95100,85550,91050,89000,90550,101200,86700,85400,83700,89350,80500,99500,89950,88500,88500,73000,66700,93450,97300,107000,78800,101200,98700,101200,89850,89850,95600,83700,66750,67600,97900,73950,105700,85450,88450,88250,89850,89850,97300,86000,97300,87950,112500,109700],\"y0\":\" \",\"yaxis\":\"y6\",\"type\":\"box\"},{\"alignmentgroup\":\"True\",\"hovertemplate\":\"rocznik=2019<br>paliwo=%{x}<br>cena=%{y}<extra></extra>\",\"legendgroup\":\"\",\"marker\":{\"color\":\"#636efa\"},\"name\":\"\",\"notched\":true,\"offsetgroup\":\"\",\"orientation\":\"v\",\"showlegend\":false,\"x\":[\"Benzyna\",\"Benzyna\",\"Benzyna\",\"Benzyna\",\"Benzyna\",\"Benzyna\",\"Benzyna\",\"Benzyna\",\"Benzyna\",\"Diesel\",\"Benzyna\",\"Benzyna+LPG\",\"Diesel\",\"Benzyna\",\"Benzyna\",\"Benzyna\",\"Benzyna+LPG\",\"Benzyna\",\"Benzyna\",\"Benzyna\",\"Benzyna+LPG\",\"Benzyna+LPG\",\"Benzyna\",\"Benzyna\",\"Benzyna\",\"Benzyna+LPG\",\"Diesel\",\"Benzyna\",\"Benzyna+LPG\",\"Diesel\",\"Benzyna\",\"Benzyna\",\"Benzyna\",\"Benzyna\",\"Diesel\",\"Benzyna\",\"Benzyna\",\"Benzyna\",\"Benzyna\",\"Benzyna\",\"Benzyna+LPG\",\"Benzyna\",\"Benzyna\",\"Benzyna\",\"Benzyna\",\"Benzyna\",\"Benzyna\",\"Benzyna\",\"Benzyna\",\"Benzyna\",\"Benzyna\",\"Diesel\",\"Diesel\",\"Diesel\",\"Benzyna\",\"Benzyna\",\"Benzyna\",\"Benzyna\",\"Benzyna\",\"Benzyna+LPG\",\"Benzyna\",\"Benzyna\",\"Diesel\",\"Benzyna\",\"Benzyna\",\"Benzyna\",\"Benzyna\",\"Benzyna+LPG\",\"Benzyna\",\"Benzyna\",\"Benzyna\",\"Benzyna\",\"Benzyna\",\"Benzyna+LPG\",\"Benzyna\",\"Benzyna\",\"Benzyna\",\"Benzyna\",\"Benzyna\",\"Benzyna\",\"Benzyna\",\"Benzyna\",\"Benzyna\",\"Diesel\",\"Benzyna\",\"Benzyna\",\"Diesel\",\"Diesel\",\"Benzyna+LPG\",\"Benzyna\",\"Benzyna+LPG\",\"Benzyna\",\"Benzyna\",\"Benzyna\",\"Benzyna\",\"Benzyna\",\"Benzyna\",\"Diesel\",\"Benzyna+LPG\",\"Benzyna\",\"Benzyna\",\"Diesel\",\"Benzyna\",\"Benzyna\",\"Benzyna\",\"Diesel\",\"Benzyna+LPG\",\"Benzyna\",\"Benzyna\",\"Benzyna+LPG\",\"Benzyna\",\"Diesel\",\"Diesel\",\"Benzyna\",\"Benzyna+LPG\",\"Benzyna\",\"Diesel\",\"Benzyna\",\"Diesel\",\"Benzyna\",\"Benzyna\",\"Benzyna\",\"Diesel\",\"Benzyna\",\"Diesel\",\"Diesel\",\"Benzyna\",\"Benzyna\",\"Benzyna\",\"Benzyna+LPG\",\"Benzyna\",\"Benzyna\",\"Benzyna+LPG\",\"Benzyna+LPG\",\"Benzyna+LPG\",\"Benzyna\",\"Diesel\",\"Benzyna\",\"Benzyna\",\"Benzyna\",\"Benzyna\",\"Benzyna\",\"Diesel\",\"Diesel\",\"Benzyna\",\"Benzyna\",\"Benzyna\",\"Benzyna+LPG\",\"Benzyna+LPG\",\"Benzyna\",\"Benzyna\",\"Benzyna\",\"Benzyna\",\"Benzyna\",\"Diesel\",\"Diesel\",\"Diesel\",\"Benzyna\",\"Benzyna\",\"Benzyna\",\"Benzyna\",\"Benzyna\",\"Benzyna\",\"Benzyna\",\"Benzyna\",\"Benzyna+LPG\",\"Benzyna\",\"Benzyna\",\"Benzyna\",\"Benzyna\",\"Benzyna+LPG\",\"Benzyna+LPG\",\"Benzyna\",\"Benzyna\",\"Diesel\",\"Benzyna\",\"Benzyna\",\"Benzyna\",\"Benzyna\",\"Benzyna\",\"Diesel\",\"Diesel\",\"Diesel\",\"Benzyna\",\"Benzyna+LPG\",\"Benzyna+LPG\",\"Benzyna\",\"Benzyna\",\"Benzyna\",\"Benzyna+LPG\",\"Benzyna\",\"Benzyna\",\"Benzyna+LPG\",\"Diesel\",\"Benzyna\",\"Benzyna\",\"Benzyna\",\"Benzyna+LPG\",\"Benzyna\",\"Diesel\",\"Benzyna\",\"Benzyna\",\"Benzyna\",\"Benzyna\",\"Benzyna\",\"Benzyna\",\"Diesel\",\"Benzyna\",\"Benzyna\",\"Benzyna\",\"Benzyna\",\"Benzyna\",\"Benzyna\",\"Benzyna\",\"Diesel\",\"Benzyna\",\"Benzyna\",\"Benzyna\",\"Diesel\",\"Benzyna\",\"Benzyna\",\"Benzyna\",\"Diesel\",\"Benzyna\",\"Benzyna\",\"Benzyna+LPG\",\"Benzyna\"],\"x0\":\" \",\"xaxis\":\"x7\",\"y\":[40000,61000,27000,64900,62500,53000,19900,54000,50999,66850,67900,53900,59900,66999,60999,66900,65000,66999,44900,58500,47501,27900,51999,60999,79000,50900,54900,66800,26500,67900,67900,67999,69999,24999,66420,69900,69500,72000,71900,49000,54900,61000,54999,45900,41500,62000,58900,44900,64888,58900,66999,53899,52900,60600,33900,59990,62900,42900,52100,44999,71000,49000,49900,46900,61900,40500,39900,51900,49900,72900,55900,64500,39900,56900,54000,37900,74900,59900,66900,72900,12500,74900,37900,64900,62900,39900,52300,72900,54899,55850,48500,43900,33900,70000,45400,63500,63900,57900,64600,36900,64499,55900,69000,69900,58900,63999,60000,62900,30999,54999,42000,35900,39999,64999,44800,19500,64900,43900,62900,54900,17500,36900,68900,61900,65000,61700,57850,45500,18800,58900,46000,44000,48800,43000,62900,62730,77900,69900,65900,53900,54900,69900,60900,49900,61500,51900,69900,61300,47950,67900,18900,59777,65800,58900,79999,62900,52900,66300,69900,43000,62300,72999,62499,26900,39000,58800,65999,36500,67900,79900,60000,29900,69900,56900,72900,59900,53900,57900,17000,59900,68800,66900,18900,69900,60900,72000,63900,40900,41500,47900,66900,41900,58800,67500,69400,25999,99999,59899,19557,49499,58900,16100,46000,36800,56900,43900,31500,62000,29800,63900,42900,36900,60000,53900,61900,26800,42500,6700,47800,61900,25500,27900,53800,49900,69000,59900,37900],\"y0\":\" \",\"yaxis\":\"y7\",\"type\":\"box\"},{\"alignmentgroup\":\"True\",\"hovertemplate\":\"rocznik=2020<br>paliwo=%{x}<br>cena=%{y}<extra></extra>\",\"legendgroup\":\"\",\"marker\":{\"color\":\"#636efa\"},\"name\":\"\",\"notched\":true,\"offsetgroup\":\"\",\"orientation\":\"v\",\"showlegend\":false,\"x\":[\"Benzyna+LPG\",\"Benzyna\",\"Diesel\",\"Benzyna+LPG\",\"Benzyna+LPG\",\"Benzyna+LPG\",\"Benzyna+LPG\",\"Benzyna+LPG\",\"Benzyna+LPG\",\"Benzyna\",\"Benzyna+LPG\",\"Benzyna\",\"Benzyna+LPG\",\"Benzyna+LPG\",\"Benzyna+LPG\",\"Benzyna+LPG\",\"Benzyna\",\"Benzyna+LPG\",\"Benzyna\",\"Benzyna\",\"Diesel\",\"Benzyna\",\"Benzyna+LPG\",\"Benzyna\",\"Benzyna+LPG\",\"Benzyna+LPG\",\"Benzyna\",\"Benzyna+CNG\",\"Diesel\",\"Benzyna\",\"Benzyna\",\"Benzyna+LPG\",\"Benzyna\",\"Benzyna\",\"Benzyna\",\"Diesel\",\"Benzyna+LPG\",\"Benzyna+LPG\",\"Benzyna+LPG\",\"Benzyna+LPG\",\"Benzyna+LPG\",\"Benzyna\",\"Benzyna+LPG\",\"Benzyna\",\"Benzyna\",\"Benzyna\",\"Benzyna+LPG\",\"Benzyna\",\"Benzyna\",\"Diesel\",\"Diesel\",\"Benzyna+LPG\",\"Benzyna+LPG\",\"Benzyna+LPG\",\"Benzyna+LPG\",\"Benzyna\",\"Benzyna+LPG\",\"Benzyna+LPG\",\"Benzyna+LPG\",\"Benzyna+LPG\",\"Benzyna+LPG\",\"Benzyna\",\"Benzyna\",\"Diesel\",\"Benzyna\",\"Benzyna+LPG\",\"Diesel\",\"Diesel\",\"Benzyna+LPG\",\"Diesel\",\"Benzyna+LPG\",\"Diesel\",\"Benzyna+LPG\",\"Benzyna\",\"Benzyna\",\"Benzyna+LPG\",\"Benzyna+LPG\",\"Benzyna\",\"Diesel\",\"Benzyna\",\"Benzyna+LPG\",\"Diesel\",\"Benzyna\",\"Diesel\",\"Benzyna+LPG\",\"Diesel\",\"Benzyna\",\"Diesel\",\"Benzyna+LPG\",\"Benzyna+LPG\",\"Diesel\",\"Benzyna\",\"Benzyna+LPG\",\"Benzyna\",\"Benzyna\",\"Diesel\",\"Benzyna+LPG\",\"Benzyna+LPG\",\"Benzyna+LPG\",\"Benzyna+LPG\",\"Benzyna+LPG\",\"Benzyna\",\"Diesel\",\"Benzyna+LPG\",\"Benzyna+LPG\",\"Benzyna+LPG\",\"Diesel\"],\"x0\":\" \",\"xaxis\":\"x8\",\"y\":[58899,28500,17900,44900,59999,73900,75900,49999,68900,48900,68500,37900,62500,38000,49999,54999,68500,47999,35900,71900,67950,47501,59999,56900,41900,64900,72888,59900,18400,75999,74999,45000,37900,78900,57900,46900,59900,61900,68500,57900,57999,21900,59999,47700,44600,48900,72900,25900,63000,25707,79999,58500,58900,73900,71600,70800,63500,63999,66999,42900,67900,69000,28900,79900,49900,57900,41900,26600,69900,29900,46000,57900,67500,70999,59850,68900,55500,65900,69700,67800,56900,47000,36900,79999,39900,79500,32900,24900,68900,39900,23900,60900,55891,37399,49900,59937,65900,26500,55700,54900,33900,39999,45900,59500,67500,59900,42700],\"y0\":\" \",\"yaxis\":\"y8\",\"type\":\"box\"},{\"alignmentgroup\":\"True\",\"hovertemplate\":\"rocznik=2015<br>paliwo=%{x}<br>cena=%{y}<extra></extra>\",\"legendgroup\":\"\",\"marker\":{\"color\":\"#636efa\"},\"name\":\"\",\"notched\":true,\"offsetgroup\":\"\",\"orientation\":\"v\",\"showlegend\":false,\"x\":[\"Benzyna\",\"Benzyna+LPG\",\"Benzyna+LPG\",\"Benzyna\",\"Benzyna\",\"Diesel\",\"Benzyna\",\"Benzyna\",\"Diesel\",\"Benzyna+LPG\",\"Diesel\",\"Diesel\",\"Benzyna\",\"Benzyna\",\"Benzyna+LPG\",\"Diesel\",\"Diesel\",\"Benzyna\",\"Benzyna\",\"Diesel\",\"Diesel\",\"Benzyna\",\"Benzyna\",\"Diesel\",\"Diesel\",\"Benzyna\",\"Diesel\",\"Benzyna\",\"Benzyna\",\"Benzyna+LPG\",\"Diesel\",\"Benzyna\",\"Diesel\",\"Diesel\",\"Benzyna\",\"Benzyna\",\"Diesel\",\"Diesel\",\"Diesel\",\"Benzyna\",\"Diesel\",\"Benzyna\",\"Diesel\",\"Benzyna\",\"Diesel\",\"Benzyna+LPG\",\"Benzyna\",\"Diesel\",\"Diesel\",\"Benzyna\",\"Diesel\",\"Benzyna\",\"Diesel\",\"Diesel\",\"Benzyna+LPG\",\"Benzyna\",\"Benzyna\",\"Diesel\",\"Benzyna+LPG\",\"Benzyna\",\"Diesel\",\"Benzyna\",\"Benzyna\",\"Benzyna+LPG\",\"Diesel\",\"Benzyna\",\"Benzyna+LPG\",\"Benzyna+LPG\",\"Diesel\",\"Benzyna+LPG\",\"Benzyna\",\"Benzyna\",\"Diesel\",\"Benzyna\",\"Benzyna\",\"Benzyna\",\"Benzyna+LPG\",\"Diesel\",\"Benzyna+LPG\",\"Benzyna\",\"Benzyna+LPG\",\"Benzyna\",\"Benzyna\",\"Benzyna\",\"Benzyna\",\"Diesel\",\"Diesel\",\"Diesel\",\"Benzyna\",\"Benzyna\",\"Benzyna\",\"Benzyna\",\"Benzyna\",\"Benzyna\",\"Benzyna\",\"Diesel\",\"Diesel\",\"Diesel\",\"Benzyna\",\"Benzyna+LPG\",\"Benzyna\",\"Benzyna\",\"Benzyna\",\"Benzyna\",\"Diesel\",\"Diesel\",\"Diesel\",\"Benzyna\",\"Benzyna\",\"Benzyna\",\"Benzyna+LPG\",\"Benzyna+LPG\",\"Benzyna+LPG\",\"Benzyna\",\"Benzyna+LPG\"],\"x0\":\" \",\"xaxis\":\"x9\",\"y\":[34500,44999,22000,29900,32900,43999,38900,25900,20500,30999,27000,43499,45499,32900,16900,19000,19000,25900,40999,32500,28900,39900,39500,24900,42500,42700,42999,29900,26900,17490,39000,42499,27900,39300,31900,27500,29000,42800,37800,38900,31900,49999,46900,42900,40900,34900,38900,28900,43999,41600,39900,36900,26900,34900,34900,41900,45000,32900,25000,23990,41000,25900,25900,39900,29900,31500,23900,41000,45900,42999,28500,44900,29900,21900,31999,14500,45000,34999,29800,33900,39900,31500,39999,32000,37900,26322,39999,29999,27500,30000,21900,29800,14444,17900,43900,20900,15000,32999,29800,32700,27900,34900,43900,44900,34500,28950,18900,42999,15900,42900,32900,16700,41800,34900,45000],\"y0\":\" \",\"yaxis\":\"y9\",\"type\":\"box\"}],                        {\"template\":{\"data\":{\"bar\":[{\"error_x\":{\"color\":\"#2a3f5f\"},\"error_y\":{\"color\":\"#2a3f5f\"},\"marker\":{\"line\":{\"color\":\"#E5ECF6\",\"width\":0.5},\"pattern\":{\"fillmode\":\"overlay\",\"size\":10,\"solidity\":0.2}},\"type\":\"bar\"}],\"barpolar\":[{\"marker\":{\"line\":{\"color\":\"#E5ECF6\",\"width\":0.5},\"pattern\":{\"fillmode\":\"overlay\",\"size\":10,\"solidity\":0.2}},\"type\":\"barpolar\"}],\"carpet\":[{\"aaxis\":{\"endlinecolor\":\"#2a3f5f\",\"gridcolor\":\"white\",\"linecolor\":\"white\",\"minorgridcolor\":\"white\",\"startlinecolor\":\"#2a3f5f\"},\"baxis\":{\"endlinecolor\":\"#2a3f5f\",\"gridcolor\":\"white\",\"linecolor\":\"white\",\"minorgridcolor\":\"white\",\"startlinecolor\":\"#2a3f5f\"},\"type\":\"carpet\"}],\"choropleth\":[{\"colorbar\":{\"outlinewidth\":0,\"ticks\":\"\"},\"type\":\"choropleth\"}],\"contour\":[{\"colorbar\":{\"outlinewidth\":0,\"ticks\":\"\"},\"colorscale\":[[0.0,\"#0d0887\"],[0.1111111111111111,\"#46039f\"],[0.2222222222222222,\"#7201a8\"],[0.3333333333333333,\"#9c179e\"],[0.4444444444444444,\"#bd3786\"],[0.5555555555555556,\"#d8576b\"],[0.6666666666666666,\"#ed7953\"],[0.7777777777777778,\"#fb9f3a\"],[0.8888888888888888,\"#fdca26\"],[1.0,\"#f0f921\"]],\"type\":\"contour\"}],\"contourcarpet\":[{\"colorbar\":{\"outlinewidth\":0,\"ticks\":\"\"},\"type\":\"contourcarpet\"}],\"heatmap\":[{\"colorbar\":{\"outlinewidth\":0,\"ticks\":\"\"},\"colorscale\":[[0.0,\"#0d0887\"],[0.1111111111111111,\"#46039f\"],[0.2222222222222222,\"#7201a8\"],[0.3333333333333333,\"#9c179e\"],[0.4444444444444444,\"#bd3786\"],[0.5555555555555556,\"#d8576b\"],[0.6666666666666666,\"#ed7953\"],[0.7777777777777778,\"#fb9f3a\"],[0.8888888888888888,\"#fdca26\"],[1.0,\"#f0f921\"]],\"type\":\"heatmap\"}],\"heatmapgl\":[{\"colorbar\":{\"outlinewidth\":0,\"ticks\":\"\"},\"colorscale\":[[0.0,\"#0d0887\"],[0.1111111111111111,\"#46039f\"],[0.2222222222222222,\"#7201a8\"],[0.3333333333333333,\"#9c179e\"],[0.4444444444444444,\"#bd3786\"],[0.5555555555555556,\"#d8576b\"],[0.6666666666666666,\"#ed7953\"],[0.7777777777777778,\"#fb9f3a\"],[0.8888888888888888,\"#fdca26\"],[1.0,\"#f0f921\"]],\"type\":\"heatmapgl\"}],\"histogram\":[{\"marker\":{\"pattern\":{\"fillmode\":\"overlay\",\"size\":10,\"solidity\":0.2}},\"type\":\"histogram\"}],\"histogram2d\":[{\"colorbar\":{\"outlinewidth\":0,\"ticks\":\"\"},\"colorscale\":[[0.0,\"#0d0887\"],[0.1111111111111111,\"#46039f\"],[0.2222222222222222,\"#7201a8\"],[0.3333333333333333,\"#9c179e\"],[0.4444444444444444,\"#bd3786\"],[0.5555555555555556,\"#d8576b\"],[0.6666666666666666,\"#ed7953\"],[0.7777777777777778,\"#fb9f3a\"],[0.8888888888888888,\"#fdca26\"],[1.0,\"#f0f921\"]],\"type\":\"histogram2d\"}],\"histogram2dcontour\":[{\"colorbar\":{\"outlinewidth\":0,\"ticks\":\"\"},\"colorscale\":[[0.0,\"#0d0887\"],[0.1111111111111111,\"#46039f\"],[0.2222222222222222,\"#7201a8\"],[0.3333333333333333,\"#9c179e\"],[0.4444444444444444,\"#bd3786\"],[0.5555555555555556,\"#d8576b\"],[0.6666666666666666,\"#ed7953\"],[0.7777777777777778,\"#fb9f3a\"],[0.8888888888888888,\"#fdca26\"],[1.0,\"#f0f921\"]],\"type\":\"histogram2dcontour\"}],\"mesh3d\":[{\"colorbar\":{\"outlinewidth\":0,\"ticks\":\"\"},\"type\":\"mesh3d\"}],\"parcoords\":[{\"line\":{\"colorbar\":{\"outlinewidth\":0,\"ticks\":\"\"}},\"type\":\"parcoords\"}],\"pie\":[{\"automargin\":true,\"type\":\"pie\"}],\"scatter\":[{\"marker\":{\"colorbar\":{\"outlinewidth\":0,\"ticks\":\"\"}},\"type\":\"scatter\"}],\"scatter3d\":[{\"line\":{\"colorbar\":{\"outlinewidth\":0,\"ticks\":\"\"}},\"marker\":{\"colorbar\":{\"outlinewidth\":0,\"ticks\":\"\"}},\"type\":\"scatter3d\"}],\"scattercarpet\":[{\"marker\":{\"colorbar\":{\"outlinewidth\":0,\"ticks\":\"\"}},\"type\":\"scattercarpet\"}],\"scattergeo\":[{\"marker\":{\"colorbar\":{\"outlinewidth\":0,\"ticks\":\"\"}},\"type\":\"scattergeo\"}],\"scattergl\":[{\"marker\":{\"colorbar\":{\"outlinewidth\":0,\"ticks\":\"\"}},\"type\":\"scattergl\"}],\"scattermapbox\":[{\"marker\":{\"colorbar\":{\"outlinewidth\":0,\"ticks\":\"\"}},\"type\":\"scattermapbox\"}],\"scatterpolar\":[{\"marker\":{\"colorbar\":{\"outlinewidth\":0,\"ticks\":\"\"}},\"type\":\"scatterpolar\"}],\"scatterpolargl\":[{\"marker\":{\"colorbar\":{\"outlinewidth\":0,\"ticks\":\"\"}},\"type\":\"scatterpolargl\"}],\"scatterternary\":[{\"marker\":{\"colorbar\":{\"outlinewidth\":0,\"ticks\":\"\"}},\"type\":\"scatterternary\"}],\"surface\":[{\"colorbar\":{\"outlinewidth\":0,\"ticks\":\"\"},\"colorscale\":[[0.0,\"#0d0887\"],[0.1111111111111111,\"#46039f\"],[0.2222222222222222,\"#7201a8\"],[0.3333333333333333,\"#9c179e\"],[0.4444444444444444,\"#bd3786\"],[0.5555555555555556,\"#d8576b\"],[0.6666666666666666,\"#ed7953\"],[0.7777777777777778,\"#fb9f3a\"],[0.8888888888888888,\"#fdca26\"],[1.0,\"#f0f921\"]],\"type\":\"surface\"}],\"table\":[{\"cells\":{\"fill\":{\"color\":\"#EBF0F8\"},\"line\":{\"color\":\"white\"}},\"header\":{\"fill\":{\"color\":\"#C8D4E3\"},\"line\":{\"color\":\"white\"}},\"type\":\"table\"}]},\"layout\":{\"annotationdefaults\":{\"arrowcolor\":\"#2a3f5f\",\"arrowhead\":0,\"arrowwidth\":1},\"autotypenumbers\":\"strict\",\"coloraxis\":{\"colorbar\":{\"outlinewidth\":0,\"ticks\":\"\"}},\"colorscale\":{\"diverging\":[[0,\"#8e0152\"],[0.1,\"#c51b7d\"],[0.2,\"#de77ae\"],[0.3,\"#f1b6da\"],[0.4,\"#fde0ef\"],[0.5,\"#f7f7f7\"],[0.6,\"#e6f5d0\"],[0.7,\"#b8e186\"],[0.8,\"#7fbc41\"],[0.9,\"#4d9221\"],[1,\"#276419\"]],\"sequential\":[[0.0,\"#0d0887\"],[0.1111111111111111,\"#46039f\"],[0.2222222222222222,\"#7201a8\"],[0.3333333333333333,\"#9c179e\"],[0.4444444444444444,\"#bd3786\"],[0.5555555555555556,\"#d8576b\"],[0.6666666666666666,\"#ed7953\"],[0.7777777777777778,\"#fb9f3a\"],[0.8888888888888888,\"#fdca26\"],[1.0,\"#f0f921\"]],\"sequentialminus\":[[0.0,\"#0d0887\"],[0.1111111111111111,\"#46039f\"],[0.2222222222222222,\"#7201a8\"],[0.3333333333333333,\"#9c179e\"],[0.4444444444444444,\"#bd3786\"],[0.5555555555555556,\"#d8576b\"],[0.6666666666666666,\"#ed7953\"],[0.7777777777777778,\"#fb9f3a\"],[0.8888888888888888,\"#fdca26\"],[1.0,\"#f0f921\"]]},\"colorway\":[\"#636efa\",\"#EF553B\",\"#00cc96\",\"#ab63fa\",\"#FFA15A\",\"#19d3f3\",\"#FF6692\",\"#B6E880\",\"#FF97FF\",\"#FECB52\"],\"font\":{\"color\":\"#2a3f5f\"},\"geo\":{\"bgcolor\":\"white\",\"lakecolor\":\"white\",\"landcolor\":\"#E5ECF6\",\"showlakes\":true,\"showland\":true,\"subunitcolor\":\"white\"},\"hoverlabel\":{\"align\":\"left\"},\"hovermode\":\"closest\",\"mapbox\":{\"style\":\"light\"},\"paper_bgcolor\":\"white\",\"plot_bgcolor\":\"#E5ECF6\",\"polar\":{\"angularaxis\":{\"gridcolor\":\"white\",\"linecolor\":\"white\",\"ticks\":\"\"},\"bgcolor\":\"#E5ECF6\",\"radialaxis\":{\"gridcolor\":\"white\",\"linecolor\":\"white\",\"ticks\":\"\"}},\"scene\":{\"xaxis\":{\"backgroundcolor\":\"#E5ECF6\",\"gridcolor\":\"white\",\"gridwidth\":2,\"linecolor\":\"white\",\"showbackground\":true,\"ticks\":\"\",\"zerolinecolor\":\"white\"},\"yaxis\":{\"backgroundcolor\":\"#E5ECF6\",\"gridcolor\":\"white\",\"gridwidth\":2,\"linecolor\":\"white\",\"showbackground\":true,\"ticks\":\"\",\"zerolinecolor\":\"white\"},\"zaxis\":{\"backgroundcolor\":\"#E5ECF6\",\"gridcolor\":\"white\",\"gridwidth\":2,\"linecolor\":\"white\",\"showbackground\":true,\"ticks\":\"\",\"zerolinecolor\":\"white\"}},\"shapedefaults\":{\"line\":{\"color\":\"#2a3f5f\"}},\"ternary\":{\"aaxis\":{\"gridcolor\":\"white\",\"linecolor\":\"white\",\"ticks\":\"\"},\"baxis\":{\"gridcolor\":\"white\",\"linecolor\":\"white\",\"ticks\":\"\"},\"bgcolor\":\"#E5ECF6\",\"caxis\":{\"gridcolor\":\"white\",\"linecolor\":\"white\",\"ticks\":\"\"}},\"title\":{\"x\":0.05},\"xaxis\":{\"automargin\":true,\"gridcolor\":\"white\",\"linecolor\":\"white\",\"ticks\":\"\",\"title\":{\"standoff\":15},\"zerolinecolor\":\"white\",\"zerolinewidth\":2},\"yaxis\":{\"automargin\":true,\"gridcolor\":\"white\",\"linecolor\":\"white\",\"ticks\":\"\",\"title\":{\"standoff\":15},\"zerolinecolor\":\"white\",\"zerolinewidth\":2}}},\"xaxis\":{\"anchor\":\"y\",\"domain\":[0.0,0.09333333333333332],\"title\":{\"text\":\"paliwo\"}},\"yaxis\":{\"anchor\":\"x\",\"domain\":[0.0,1.0],\"title\":{\"text\":\"cena\"}},\"xaxis2\":{\"anchor\":\"y2\",\"domain\":[0.11333333333333333,0.20666666666666667],\"matches\":\"x\",\"title\":{\"text\":\"paliwo\"}},\"yaxis2\":{\"anchor\":\"x2\",\"domain\":[0.0,1.0],\"matches\":\"y\",\"showticklabels\":false},\"xaxis3\":{\"anchor\":\"y3\",\"domain\":[0.22666666666666666,0.31999999999999995],\"matches\":\"x\",\"title\":{\"text\":\"paliwo\"}},\"yaxis3\":{\"anchor\":\"x3\",\"domain\":[0.0,1.0],\"matches\":\"y\",\"showticklabels\":false},\"xaxis4\":{\"anchor\":\"y4\",\"domain\":[0.33999999999999997,0.4333333333333333],\"matches\":\"x\",\"title\":{\"text\":\"paliwo\"}},\"yaxis4\":{\"anchor\":\"x4\",\"domain\":[0.0,1.0],\"matches\":\"y\",\"showticklabels\":false},\"xaxis5\":{\"anchor\":\"y5\",\"domain\":[0.4533333333333333,0.5466666666666666],\"matches\":\"x\",\"title\":{\"text\":\"paliwo\"}},\"yaxis5\":{\"anchor\":\"x5\",\"domain\":[0.0,1.0],\"matches\":\"y\",\"showticklabels\":false},\"xaxis6\":{\"anchor\":\"y6\",\"domain\":[0.5666666666666667,0.6599999999999999],\"matches\":\"x\",\"title\":{\"text\":\"paliwo\"}},\"yaxis6\":{\"anchor\":\"x6\",\"domain\":[0.0,1.0],\"matches\":\"y\",\"showticklabels\":false},\"xaxis7\":{\"anchor\":\"y7\",\"domain\":[0.6799999999999999,0.7733333333333332],\"matches\":\"x\",\"title\":{\"text\":\"paliwo\"}},\"yaxis7\":{\"anchor\":\"x7\",\"domain\":[0.0,1.0],\"matches\":\"y\",\"showticklabels\":false},\"xaxis8\":{\"anchor\":\"y8\",\"domain\":[0.7933333333333333,0.8866666666666667],\"matches\":\"x\",\"title\":{\"text\":\"paliwo\"}},\"yaxis8\":{\"anchor\":\"x8\",\"domain\":[0.0,1.0],\"matches\":\"y\",\"showticklabels\":false},\"xaxis9\":{\"anchor\":\"y9\",\"domain\":[0.9066666666666666,1.0],\"matches\":\"x\",\"title\":{\"text\":\"paliwo\"}},\"yaxis9\":{\"anchor\":\"x9\",\"domain\":[0.0,1.0],\"matches\":\"y\",\"showticklabels\":false},\"annotations\":[{\"font\":{},\"showarrow\":false,\"text\":\"rocznik=2021\",\"x\":0.04666666666666666,\"xanchor\":\"center\",\"xref\":\"paper\",\"y\":1.0,\"yanchor\":\"bottom\",\"yref\":\"paper\"},{\"font\":{},\"showarrow\":false,\"text\":\"rocznik=2017\",\"x\":0.16,\"xanchor\":\"center\",\"xref\":\"paper\",\"y\":1.0,\"yanchor\":\"bottom\",\"yref\":\"paper\"},{\"font\":{},\"showarrow\":false,\"text\":\"rocznik=2018\",\"x\":0.2733333333333333,\"xanchor\":\"center\",\"xref\":\"paper\",\"y\":1.0,\"yanchor\":\"bottom\",\"yref\":\"paper\"},{\"font\":{},\"showarrow\":false,\"text\":\"rocznik=2016\",\"x\":0.3866666666666666,\"xanchor\":\"center\",\"xref\":\"paper\",\"y\":1.0,\"yanchor\":\"bottom\",\"yref\":\"paper\"},{\"font\":{},\"showarrow\":false,\"text\":\"rocznik=2022\",\"x\":0.5,\"xanchor\":\"center\",\"xref\":\"paper\",\"y\":1.0,\"yanchor\":\"bottom\",\"yref\":\"paper\"},{\"font\":{},\"showarrow\":false,\"text\":\"rocznik=2023\",\"x\":0.6133333333333333,\"xanchor\":\"center\",\"xref\":\"paper\",\"y\":1.0,\"yanchor\":\"bottom\",\"yref\":\"paper\"},{\"font\":{},\"showarrow\":false,\"text\":\"rocznik=2019\",\"x\":0.7266666666666666,\"xanchor\":\"center\",\"xref\":\"paper\",\"y\":1.0,\"yanchor\":\"bottom\",\"yref\":\"paper\"},{\"font\":{},\"showarrow\":false,\"text\":\"rocznik=2020\",\"x\":0.8400000000000001,\"xanchor\":\"center\",\"xref\":\"paper\",\"y\":1.0,\"yanchor\":\"bottom\",\"yref\":\"paper\"},{\"font\":{},\"showarrow\":false,\"text\":\"rocznik=2015\",\"x\":0.9533333333333334,\"xanchor\":\"center\",\"xref\":\"paper\",\"y\":1.0,\"yanchor\":\"bottom\",\"yref\":\"paper\"}],\"legend\":{\"tracegroupgap\":0},\"title\":{\"text\":\"Cena samochodu z podzia\\u0142em na rodzaj paliwa i rocznik\"},\"boxmode\":\"group\"},                        {\"responsive\": true}                    ).then(function(){\n",
              "                            \n",
              "var gd = document.getElementById('2fc1ed5e-7840-4f7c-8e59-229e414e89c7');\n",
              "var x = new MutationObserver(function (mutations, observer) {{\n",
              "        var display = window.getComputedStyle(gd).display;\n",
              "        if (!display || display === 'none') {{\n",
              "            console.log([gd, 'removed!']);\n",
              "            Plotly.purge(gd);\n",
              "            observer.disconnect();\n",
              "        }}\n",
              "}});\n",
              "\n",
              "// Listen for the removal of the full notebook cells\n",
              "var notebookContainer = gd.closest('#notebook-container');\n",
              "if (notebookContainer) {{\n",
              "    x.observe(notebookContainer, {childList: true});\n",
              "}}\n",
              "\n",
              "// Listen for the clearing of the current output cell\n",
              "var outputEl = gd.closest('.output');\n",
              "if (outputEl) {{\n",
              "    x.observe(outputEl, {childList: true});\n",
              "}}\n",
              "\n",
              "                        })                };                            </script>        </div>\n",
              "</body>\n",
              "</html>"
            ]
          },
          "metadata": {}
        }
      ]
    },
    {
      "cell_type": "code",
      "source": [
        "px.histogram(dane, \n",
        "             x = \"przebieg\", \n",
        "             y= \"cena\", \n",
        "             color = \"paliwo\",\n",
        "             marginal = \"violin\")"
      ],
      "metadata": {
        "colab": {
          "base_uri": "https://localhost:8080/",
          "height": 542
        },
        "id": "tMCZJofB1ou9",
        "outputId": "dbe9f3a5-d557-42b3-ffbb-827199667843"
      },
      "execution_count": null,
      "outputs": [
        {
          "output_type": "display_data",
          "data": {
            "text/html": [
              "<html>\n",
              "<head><meta charset=\"utf-8\" /></head>\n",
              "<body>\n",
              "    <div>            <script src=\"https://cdnjs.cloudflare.com/ajax/libs/mathjax/2.7.5/MathJax.js?config=TeX-AMS-MML_SVG\"></script><script type=\"text/javascript\">if (window.MathJax) {MathJax.Hub.Config({SVG: {font: \"STIX-Web\"}});}</script>                <script type=\"text/javascript\">window.PlotlyConfig = {MathJaxConfig: 'local'};</script>\n",
              "        <script src=\"https://cdn.plot.ly/plotly-2.8.3.min.js\"></script>                <div id=\"16413352-4c2e-4136-8de6-3a0c452dabce\" class=\"plotly-graph-div\" style=\"height:525px; width:100%;\"></div>            <script type=\"text/javascript\">                                    window.PLOTLYENV=window.PLOTLYENV || {};                                    if (document.getElementById(\"16413352-4c2e-4136-8de6-3a0c452dabce\")) {                    Plotly.newPlot(                        \"16413352-4c2e-4136-8de6-3a0c452dabce\",                        [{\"alignmentgroup\":\"True\",\"bingroup\":\"x\",\"histfunc\":\"sum\",\"hovertemplate\":\"paliwo=Benzyna+LPG<br>przebieg=%{x}<br>sum of cena=%{y}<extra></extra>\",\"legendgroup\":\"Benzyna+LPG\",\"marker\":{\"color\":\"#636efa\",\"pattern\":{\"shape\":\"\"}},\"name\":\"Benzyna+LPG\",\"offsetgroup\":\"Benzyna+LPG\",\"orientation\":\"v\",\"showlegend\":true,\"x\":[18500,92800,1,403800,1,10,47650,10,1,118590,10,9000,177294,1,10,10,14249,10000,122553,5,5,5,24500,20500,5,10,5,21000,96340,76784,123073,74800,5,23344,71685,5,6,45000,136000,34000,5,28288,80000,1,1,5,10,10,140000,113457,54633,161093,51670,103721,95681,5,183417,105036,81000,111000,72600,9789,10,5,115000,212000,5,30000,10,124000,8300,108000,98706,102000,25000,1,92330,114881,198000,31107,123000,136592,1,117000,5,1,1,91030,93552,34300,4,125165,5,4,1,93000,5,31853,10,23000,1,10,98423,7000,9,592,105000,10,10,19607,5,5,42508,59415,63016,59415,10,13625,89000,6,10,18000,1,5,1,1,5,10,5496,202142,5,5,97492,1,136000,121780,6500,1,1,36000,41000,139000,38000,1,64525,106000,189000,1,1,1,58629,15000,5,53600,7500,19167,25000,1,1,5,38200,10,1,5,140000,15,5,99000,5,138284,39000,1,1,119800,27900,180000,248564,49800,79200,1,120630,5,5,17500,235254,68828,5,10,22887,10,11788,102700,9,10,5,99739,5000,5,5,10,5,1,32143,1,4000,5,5,10,161140,45000,1,104095,13602,22070,57000,10,1,64549,1,5,13800,9400,35235,13923,10,15300,56380,1,104268,1,10,1,10,104042,48940,120247,59000,144557,21000,169595,155000,44000,7,65069,105000,302000,100000,52800,1,5,14200,10,1,157000,5,1,5,47000,140000,11000,5,136524,1,1,10,10,5,115397,5,95151,20948,11100,5,13605,10,23300,1,5,16653,25000,119500,14700,203677,43500,128112,125000,1,1,1,4500,10,22634,40064,1,26610,1,1,68557,38000,159990,249000,5,5,5,10,6,6,6,6,10,63173,85100,10,10,20146,6609,10,10,10,6,25200,133000,112538,133591,5,55900,105089,8,142000,5,23300,162000,22422,5,96000,7454,1,17900,10380,5,25300,5,21403,23177,10,16137,787,28000,119614,140853,22719,30000,17700,5,5,5,90000,5,5,5,1,71010,500,5,45800,74965,10,114362,119667,5,8,175000,206451,78500,1,146166,1,82882,6500,175000,153486,16000,112000,103000,53200,2750,1,9200,52400,144000,4366,19000,22561,147000,13148,35000,128000,56397,34000,30000,13000,142000,94400,4200,82000,5,33000,40000,179000,129000,241000,92000,49000,146000,328000,155553,57699,7200,120000,56525,77710,299500,114532],\"xaxis\":\"x\",\"y\":[67700,54900,83700,18900,88100,89850,58899,101000,99800,44999,81750,84999,22000,102800,98000,89850,79900,79900,26000,96850,87900,83400,79900,92900,89850,86050,81650,77900,46999,31499,33999,44900,102600,92900,46740,101900,89050,53900,59999,73900,85850,75900,49999,92900,76700,76750,101700,84150,59999,30999,47999,35999,65000,14900,68900,76150,47501,39999,27900,28888,68500,84900,81250,75850,50900,27499,84550,82500,84150,16900,19900,26500,62500,50900,38000,81650,49999,54999,39888,79999,45500,45499,101200,47999,83700,96500,97600,49999,54900,59999,101000,57000,98300,101200,79650,40500,101000,71000,101200,41900,90500,83350,64900,59900,101200,93500,39900,88950,83350,59900,80750,83450,80900,63900,32000,63900,79250,56900,45000,101000,75300,82900,86600,82650,90600,100100,97600,80750,74900,42900,101200,89850,44999,85000,26900,42500,92000,88000,99800,66900,59900,51900,61900,94900,68500,43900,17490,94900,87900,87900,57900,80900,101200,56900,25500,58900,56900,90900,78850,79900,79900,85200,90550,79200,57450,101200,83350,57999,91150,54899,48500,89950,92050,59999,54900,28500,21900,61900,64600,79750,64900,83350,81750,72900,34900,60000,95100,85550,81900,91050,86900,54999,101200,86650,101200,28900,87400,90550,101200,96500,74150,81950,44800,83550,81990,79900,87000,83450,54900,58500,83700,58900,73900,81900,71600,89350,80500,54500,83350,99500,74900,29900,78800,73700,88250,74900,34900,83800,45900,84500,101000,89950,88100,58900,63500,63999,66999,48000,48800,43000,36000,42900,88250,67900,35900,25000,42800,62900,89950,92500,83900,88500,88500,39900,80100,83350,89250,25000,44900,77900,90150,46999,98999,98999,88100,81450,83350,47000,83550,59990,87500,72900,66700,74900,80850,94900,93450,100300,67900,91900,23900,71900,41000,61300,57900,47950,101200,98700,101200,80500,85499,69900,77900,75150,69400,89850,89850,42999,46000,42999,19680,83700,66750,78850,99200,72950,78650,80850,81750,97950,58800,67500,73950,80750,84900,64900,85450,88450,88250,101200,82500,59999,60000,53850,81900,68900,29900,89850,22900,89850,74900,55500,74900,88250,45000,84900,83450,74900,74900,86000,74800,97950,92900,74900,83700,77900,77990,81900,29800,56900,72900,74900,94900,76150,88450,101200,39900,101000,84950,93650,102600,54900,80500,95800,44900,60900,90450,46999,72000,87950,101200,39900,19311,47900,89000,47900,81750,68900,27900,39900,44900,9900,58800,48000,59899,88800,79250,69800,55891,22999,84900,37000,69099,32700,69900,65900,49900,46500,26500,55700,59900,54900,46900,73800,45000,83300,69999,33900,41987,32900,16700,42900,59500,41800,22900,34500,67500,59500,59900,59900,45000,23900,43900],\"yaxis\":\"y\",\"type\":\"histogram\"},{\"alignmentgroup\":\"True\",\"hovertemplate\":\"paliwo=Benzyna+LPG<br>przebieg=%{x}<extra></extra>\",\"legendgroup\":\"Benzyna+LPG\",\"marker\":{\"color\":\"#636efa\"},\"name\":\"Benzyna+LPG\",\"offsetgroup\":\"Benzyna+LPG\",\"scalegroup\":\"x\",\"showlegend\":false,\"x\":[18500,92800,1,403800,1,10,47650,10,1,118590,10,9000,177294,1,10,10,14249,10000,122553,5,5,5,24500,20500,5,10,5,21000,96340,76784,123073,74800,5,23344,71685,5,6,45000,136000,34000,5,28288,80000,1,1,5,10,10,140000,113457,54633,161093,51670,103721,95681,5,183417,105036,81000,111000,72600,9789,10,5,115000,212000,5,30000,10,124000,8300,108000,98706,102000,25000,1,92330,114881,198000,31107,123000,136592,1,117000,5,1,1,91030,93552,34300,4,125165,5,4,1,93000,5,31853,10,23000,1,10,98423,7000,9,592,105000,10,10,19607,5,5,42508,59415,63016,59415,10,13625,89000,6,10,18000,1,5,1,1,5,10,5496,202142,5,5,97492,1,136000,121780,6500,1,1,36000,41000,139000,38000,1,64525,106000,189000,1,1,1,58629,15000,5,53600,7500,19167,25000,1,1,5,38200,10,1,5,140000,15,5,99000,5,138284,39000,1,1,119800,27900,180000,248564,49800,79200,1,120630,5,5,17500,235254,68828,5,10,22887,10,11788,102700,9,10,5,99739,5000,5,5,10,5,1,32143,1,4000,5,5,10,161140,45000,1,104095,13602,22070,57000,10,1,64549,1,5,13800,9400,35235,13923,10,15300,56380,1,104268,1,10,1,10,104042,48940,120247,59000,144557,21000,169595,155000,44000,7,65069,105000,302000,100000,52800,1,5,14200,10,1,157000,5,1,5,47000,140000,11000,5,136524,1,1,10,10,5,115397,5,95151,20948,11100,5,13605,10,23300,1,5,16653,25000,119500,14700,203677,43500,128112,125000,1,1,1,4500,10,22634,40064,1,26610,1,1,68557,38000,159990,249000,5,5,5,10,6,6,6,6,10,63173,85100,10,10,20146,6609,10,10,10,6,25200,133000,112538,133591,5,55900,105089,8,142000,5,23300,162000,22422,5,96000,7454,1,17900,10380,5,25300,5,21403,23177,10,16137,787,28000,119614,140853,22719,30000,17700,5,5,5,90000,5,5,5,1,71010,500,5,45800,74965,10,114362,119667,5,8,175000,206451,78500,1,146166,1,82882,6500,175000,153486,16000,112000,103000,53200,2750,1,9200,52400,144000,4366,19000,22561,147000,13148,35000,128000,56397,34000,30000,13000,142000,94400,4200,82000,5,33000,40000,179000,129000,241000,92000,49000,146000,328000,155553,57699,7200,120000,56525,77710,299500,114532],\"xaxis\":\"x2\",\"yaxis\":\"y2\",\"type\":\"violin\"},{\"alignmentgroup\":\"True\",\"bingroup\":\"x\",\"histfunc\":\"sum\",\"hovertemplate\":\"paliwo=Diesel<br>przebieg=%{x}<br>sum of cena=%{y}<extra></extra>\",\"legendgroup\":\"Diesel\",\"marker\":{\"color\":\"#EF553B\",\"pattern\":{\"shape\":\"\"}},\"name\":\"Diesel\",\"offsetgroup\":\"Diesel\",\"orientation\":\"v\",\"showlegend\":true,\"x\":[299000,130000,128600,126000,208600,120000,88000,189900,136100,60000,93800,130000,137330,127000,60000,96000,124000,84100,173265,118000,66129,48123,39586,73270,34000,137900,111078,100000,138603,93000,146200,415827,390234,60000,230000,180000,163455,117300,99349,25789,59000,24000,168000,144000,98922,91000,51000,26800,89500,175600,142530,118000,122000,24000,34265,77421,150032,63000,38743,10,112429,150343,77254,84462,82245,94391,93180,95000,10,85000,140000,162800,179500,25000,66500,115000,76000,110523,105000,91520,168771,138600,83226,79663,150201,104000,70000,129404,113000,109000,94500,122207,150400,172007,139900,67000,119765,167837,101655,116428,118000,151000,126000,83000,11000,132500,46433,92357,102500,61000,115000,125127,173949,217000,20000,36000,46000,100000,156800,87000,130000,164000,99000,129000,253408,10,81088,175939,85548,106176,138871,181000,232849,147188,81410,141800,243000,109000,161259,199999,54326,116628,194000,147000,119240,127000,102000,151200,59000,84000,116979,100305,131331,1,142805,102929,115000,15003,40000,115900,31000,7000,233100,51900,20,97000,77300,56098,168000,83000,34498,125471,108650,79000,87000,252300,240000,188000,125000,91693,19697,51106,138728,116100,170000,145595,171000,13000,140000,131000,5,84943,171611,169000,50000,89304,48000,79871,178000,199000,11200,82000,72000,20000,149000,104000,127000,79953,29000,175500,150000,197121,17500,88000,39000,61000,218338,125000,130000,192000,234000,74320,267300,76000,162000,41983,130000,50000,221000,50986,90000,109917,197000,117034,110000,301000,24890,109000,152600,21000,103445,74058,87000,157000,71000,9800,85000,17000,231983,51000],\"xaxis\":\"x\",\"y\":[28500,59999,40999,48900,34990,59900,44800,38900,49900,19900,38900,43999,39700,46900,17900,42000,41900,39800,34900,46900,66850,59900,88900,59900,85900,20500,27000,23900,43499,58900,54900,19000,19000,67900,23500,49900,39999,37499,49500,66420,33900,22900,32500,28900,32000,46900,23900,67950,23500,24900,39999,48900,42500,18400,83900,65190,53899,22900,43900,107900,52900,60600,55000,43999,42999,52000,34999,49900,111900,32400,37900,59900,32595,46900,39000,46900,36900,63900,9199,27900,44900,45900,39300,64900,52300,72900,53800,38900,29000,14900,42800,37800,31900,46900,39900,38880,57900,48000,40900,46900,41900,41697,45510,55900,82900,49900,63999,59850,35900,39999,28900,43999,52300,39900,25707,64900,79999,62900,48600,26900,68900,39999,21900,34900,29898,110900,65000,63600,50800,61700,44900,62900,46999,32900,50500,36900,32900,41820,49900,6000,77900,41000,42900,34900,55555,29800,29900,47900,79900,41800,45500,60900,49900,96555,39990,46900,42900,97000,41900,49500,26600,23600,26500,79999,99990,62900,52900,45900,34900,56555,29900,35900,41900,38999,57900,39500,29900,33900,42900,27900,105000,72900,52767,39500,34999,42804,45756,69700,44000,68800,105200,66900,18900,19600,47000,59900,34900,39500,34900,48769,79999,23900,79500,29900,26322,64900,57999,39999,24900,39900,46900,29999,23900,31900,37800,67500,49900,41700,59999,30627,29999,49499,20900,15000,32999,47900,58900,59937,30900,31500,30990,34500,28950,18900,55000,34900,85000,39900,61900,45900,14900,43500,61500,47800,59900,69900,53800,42700,17835,34000],\"yaxis\":\"y\",\"type\":\"histogram\"},{\"alignmentgroup\":\"True\",\"hovertemplate\":\"paliwo=Diesel<br>przebieg=%{x}<extra></extra>\",\"legendgroup\":\"Diesel\",\"marker\":{\"color\":\"#EF553B\"},\"name\":\"Diesel\",\"offsetgroup\":\"Diesel\",\"scalegroup\":\"x\",\"showlegend\":false,\"x\":[299000,130000,128600,126000,208600,120000,88000,189900,136100,60000,93800,130000,137330,127000,60000,96000,124000,84100,173265,118000,66129,48123,39586,73270,34000,137900,111078,100000,138603,93000,146200,415827,390234,60000,230000,180000,163455,117300,99349,25789,59000,24000,168000,144000,98922,91000,51000,26800,89500,175600,142530,118000,122000,24000,34265,77421,150032,63000,38743,10,112429,150343,77254,84462,82245,94391,93180,95000,10,85000,140000,162800,179500,25000,66500,115000,76000,110523,105000,91520,168771,138600,83226,79663,150201,104000,70000,129404,113000,109000,94500,122207,150400,172007,139900,67000,119765,167837,101655,116428,118000,151000,126000,83000,11000,132500,46433,92357,102500,61000,115000,125127,173949,217000,20000,36000,46000,100000,156800,87000,130000,164000,99000,129000,253408,10,81088,175939,85548,106176,138871,181000,232849,147188,81410,141800,243000,109000,161259,199999,54326,116628,194000,147000,119240,127000,102000,151200,59000,84000,116979,100305,131331,1,142805,102929,115000,15003,40000,115900,31000,7000,233100,51900,20,97000,77300,56098,168000,83000,34498,125471,108650,79000,87000,252300,240000,188000,125000,91693,19697,51106,138728,116100,170000,145595,171000,13000,140000,131000,5,84943,171611,169000,50000,89304,48000,79871,178000,199000,11200,82000,72000,20000,149000,104000,127000,79953,29000,175500,150000,197121,17500,88000,39000,61000,218338,125000,130000,192000,234000,74320,267300,76000,162000,41983,130000,50000,221000,50986,90000,109917,197000,117034,110000,301000,24890,109000,152600,21000,103445,74058,87000,157000,71000,9800,85000,17000,231983,51000],\"xaxis\":\"x2\",\"yaxis\":\"y2\",\"type\":\"violin\"},{\"alignmentgroup\":\"True\",\"bingroup\":\"x\",\"histfunc\":\"sum\",\"hovertemplate\":\"paliwo=Benzyna<br>przebieg=%{x}<br>sum of cena=%{y}<extra></extra>\",\"legendgroup\":\"Benzyna\",\"marker\":{\"color\":\"#00cc96\",\"pattern\":{\"shape\":\"\"}},\"name\":\"Benzyna\",\"offsetgroup\":\"Benzyna\",\"orientation\":\"v\",\"showlegend\":true,\"x\":[1,29306,31805,10,1,90000,25800,38000,6810,38000,155000,31000,10,10,32384,103588,6220,43000,51500,5000,1,10,10,53689,49600,73000,12000,1,1,105,9866,1,63500,100000,74000,48741,34000,60000,16632,21700,82300,87687,127400,5,5,124000,204551,231000,6000,47000,56045,49531,102214,56000,95000,1,39584,80000,97275,1,22044,15000,128000,148447,67314,57000,5,320,10,5,24000,90927,171234,48506,7000,35372,26000,51293,31800,19070,104028,1,1,106534,80600,39464,31305,5,5,5,40105,5,112712,42140,32190,39441,198000,45500,61248,1,1,10,5,54032,21500,1,5,55000,50590,47000,61670,34701,66111,5,11000,68200,51200,1,5,12000,8623,22120,62842,121178,88000,2833,53000,5,10,5,5,101000,140000,5,80000,10,103000,32000,10,5,7900,10,14000,10,108000,120000,1,1,45079,15800,51414,39074,61232,1,140000,78594,69000,10,134000,42574,150533,5,20000,64000,32368,57700,176449,15000,80150,56700,1,75000,84200,40000,22000,2,2,132527,94000,1,1,1,100222,80000,125000,36000,33000,2,1,190000,40000,40000,1,13300,2281,62673,107000,72480,10,43325,31939,39409,124286,1,160000,2995,75775,36400,35860,30600,51800,38091,95000,67000,42135,5,75680,1,105132,10,71500,14000,103400,1521,38382,5,10,69757,33000,5,136207,78474,64000,5,10,10,47781,62000,65000,1,67689,122,111762,10,1,73400,97798,74665,16000,7219,1,34915,29366,60978,10,79094,52419,5,75000,37967,146838,42345,134480,9000,91256,143179,56925,1,98900,43313,7,63843,10,5,1,95000,9513,44632,6300,23847,29000,68000,78000,1,26228,47400,2230,55000,34386,98884,44143,143361,116309,600,1,72721,74000,5200,11136,85000,153206,49000,10457,46000,10000,97000,7400,82000,124600,26100,54000,20000,44200,18500,23000,99000,47029,106550,116000,81080,5,39000,42991,98700,1,126,106000,41289,52808,1,8500,14000,28000,5100,51387,10,62396,5,42166,40105,1,1,1,40500,19900,69100,1,65020,35900,10,60000,44000,126000,27284,71205,111997,10,120000,10,5,10,16303,17283,1,1,80218,24881,5,145173,83653,41000,11466,22821,34772,68104,91280,10,1,18000,86261,38312,45400,62000,48000,83626,9500,91544,49000,145000,67965,13143,124923,23900,113100,102500,25200,44632,83000,1,28000,45715,80000,13000,74581,74000,47661,46000,105000,99500,12000,90000,7,35991,78000,80700,70294,51000,16606,32400,79200,106385,106071,61500,1700,23000,54155,57414,10,13000,56251,4000,61946,42471,10000,61000,91287,10,1,90000,10,10,41700,49000,64581,78120,72000,31000,12848,98317,81843,106200,90100,99890,27719,17,18700,22000,17,5,1,63331,64000,1,1,64000,37760,31650,17,10,60200,60000,1,10,1,36000,226947,21800,63000,1,10,65000,18000,36367,58000,8,4,4,74500,13500,1,107682,21300,66317,40400,69700,69000,10,96224,12000,36100,42500,46200,9347,102147,77003,43155,33500,116000,113500,10000,27136,5,51686,98344,81754,69516,39952,8931,47765,71642,90025,50000,14000,9300,65000,119197,20400,58800,98100,41300,52081,62000,69423,73860,102090,196000,217000,5,12600,5,150000,5,1,78000,5,5,18000,24000,5,23000,3000,2932,65355,37678,32555,78306,5,5,140000,75000,10,5,5,130480,228000,1,25,25,10,10,14968,44220,62530,107082,41942,74900,2112,6500,95500,36000,36412,87650,5,78000,63000,54024,37634,76981,84648,1,180000,80000,64771,39800,1,10,28000,36200,5,1,45616,45000,32900,10000,34000,46700,18000,1,41000,4,86811,95500,5,61000,55720,28769,54535,114500,86000,1,1,105000,39000,19160,112000,13000,92000,43753,5,88000,30658,104000,6770,9500,88000,800,30000,43000,23000,34000,5,120609,1,87000,103000,1,60000,134000,1,5,10,49374,30000,104000,1,124856,10,1,39988,121000,14756,139163,1,84000,54850,74623,52886,10,7300,39424,55600,59000,1,8,69460,59070,73351,5,153820,5,5,5,275,18000,10,1,74089,21600,75,38381,133380,84000,69037,5,1,49722,5,75860,10000,5,119000,21000,17883,5,39000,10,91519,4,10,10,70723,93560,5,5,5,42000,109000,4,87000,91000,1,39200,5,48765,10,91000,5,63700,4,110000,163508,10,100000,5,42000,5,5,11000,39520,4,40783,5,4,159990,40200,28562,1,54546,5,98000,71000,41000,6500,1,43000,80000,79900,59000,25000,50000,5,5,161288,72294,48186,45020,50094,5,95380,52000,5,126000,1,32934,36500,51705,184000,72200,178558,11500,39279,107346,116000,42941,83000,42000,14577,25400,155000,7500,86000,93335,62000,100000,33307,41000,56000,143454,92605,104000,5,79000,67500,74000,56000,53468,140000,43000,79125,75300,85020,15852,60000,80064,33000,1400,91400,33000,56700,28700,131000,6800,98000,86200,99500,178000,132100,63000,63000,50118,1,1,27450,140479,20000,51000,95200,14000,129000,31000,5,60232,62818,32650,60000,6200,139000,245000,23000,5,81500,32000,17000,128000,115000,11136,30000,150000,28000,69500,3200,61193,18600,38000,51000,122000,33000,25800,68140,43155,17700,48000,189000,38111,6800,60000,67436,125224,72000,76000,35700,86000,63000,51000,170000,27851,41381,85232,10,10,10,11200,47800,43708,66832,12600,29900],\"xaxis\":\"x\",\"y\":[108700,64900,28900,72979,106000,40000,61000,35900,57900,35000,53900,39999,83700,96700,64900,34500,53900,39999,61500,99490,109500,107700,111500,40500,17800,14900,27000,97300,86800,69990,28500,99490,65000,29000,27000,27000,68900,42500,27900,64900,29900,42499,32900,97400,112500,45999,31900,25700,49900,35000,62500,51900,53000,34900,22500,96700,56999,19900,54000,108000,50999,65900,32900,28000,44999,19900,73410,76900,108400,95800,39999,38900,49900,66850,39900,62999,55900,49999,66900,67900,39499,91700,79900,25900,62999,66999,60999,72700,76200,80400,64900,87000,51299,53999,51900,51999,39888,66900,66999,75800,83900,81600,69900,44900,58500,95000,94900,48900,57900,44900,38900,51999,58883,70800,37900,41900,28900,65900,63100,43700,33990,60999,79000,45499,35900,77999,46900,79600,67600,63900,78850,36900,32900,64600,39600,81900,28900,66800,67700,97300,67900,108400,67999,84900,44900,48700,95600,75600,69999,68500,24999,31499,41999,108700,25900,31900,32900,92300,38900,62999,40999,87300,69900,31000,69900,69500,34500,33900,16900,25300,92300,28900,45500,72000,71900,96900,101000,49900,14600,82900,107900,107900,36000,39900,39500,61900,49000,83900,73900,35000,46900,35900,63900,52900,73999,44900,71900,61999,98500,62999,47501,61000,48999,87500,54999,94999,53999,67900,45900,41500,17900,61999,49899,62000,34900,83700,58900,109400,30000,74200,56900,44900,14760,66700,64700,71300,89900,36900,72888,95700,43499,54900,64888,73900,86000,94700,61900,42700,46000,80300,58900,72000,48000,92850,70200,48500,66999,75999,46500,83900,68900,74999,64900,55499,97600,47900,56999,96900,49900,68000,46899,33900,41800,54900,34500,47500,46900,83000,27400,59990,107700,62900,110500,109650,107700,32000,74600,69900,33900,42900,55900,43900,37999,71616,52100,37900,61900,7700,65499,46499,71000,59500,43999,84900,87300,78900,27900,61900,18900,49000,44500,29900,48900,37600,41600,31980,60900,31900,43900,57900,36700,46900,61900,40500,46500,24900,36900,26900,64900,39900,59000,49900,34900,46900,76300,85900,40900,72900,55900,76900,79900,75900,45900,64900,57999,92200,48900,97500,34900,64900,85900,73200,69900,64500,39900,23500,75800,42499,44900,107700,54000,37900,28900,65999,29900,34900,75600,48800,83700,72500,96700,74900,65900,71400,71900,32900,59900,80600,66900,72900,12500,74900,37900,67900,27900,37900,72400,96300,62900,49900,62500,69800,42900,47900,45900,29900,54900,39900,31900,55850,64900,27500,21900,43900,37761,50900,69900,42400,100200,33900,47700,70000,47700,28900,45400,55950,33800,38900,42900,38900,49999,97500,33900,33700,44900,48500,63500,43900,44600,47600,17300,26900,42900,92900,44000,63900,54900,107700,48900,50600,79950,36900,64499,71500,69000,69900,67800,87100,58900,67850,109900,64900,34900,35200,49900,25900,64900,64500,59999,62900,30999,38900,34900,42000,71600,45600,63000,71800,77100,72100,41600,25900,78300,89000,44900,59990,35500,71600,74569,59900,64999,86700,86000,85400,24900,36900,72900,33500,108200,107700,48700,19500,64900,43900,76700,70700,72900,54900,59500,103500,17500,70800,36900,55900,33900,44500,70900,61900,69900,64900,64900,59800,64500,35900,57850,45500,64900,18800,41900,54800,18200,71700,27900,45000,59500,36000,66000,46000,44000,43000,61999,24900,99000,72900,50800,46464,39900,48900,23990,39900,52900,53500,62730,49800,31900,25900,25900,72700,79900,88820,38900,71910,73700,69000,72750,95800,69900,65900,88200,28900,35900,86900,36500,36900,60900,53900,80400,73000,31500,45500,88450,96900,96700,49900,42900,99999,71999,75999,96700,94000,76900,62900,54900,39900,69900,48500,94000,49900,44280,59900,64900,61500,84000,24900,54900,44900,64900,40900,52000,83700,51900,59900,69900,37900,97300,107000,49900,52767,107500,78800,67900,18900,61999,66900,59777,65800,58900,81200,57000,75600,36900,43050,87900,66300,69900,64500,62900,42900,34900,95600,65900,43000,25900,62300,29900,28500,54900,72999,84600,22900,62499,28500,34770,41500,22900,75500,26900,62500,39000,27300,98200,44900,67900,32900,55800,72500,36997,28900,78600,67600,97900,35999,65999,21900,75500,31999,105700,88550,70999,44999,36500,44000,67000,49500,14500,54900,67900,82900,69900,59850,79900,59900,82900,95700,65900,16000,69900,94700,40850,93900,105000,97300,71000,56900,78600,71900,59900,53900,79999,65900,49900,44999,29900,97400,91300,57900,87200,17000,67900,96700,28900,34900,67900,83900,35900,96900,54900,74000,87300,67700,59900,53999,111700,67300,70200,67800,47800,72499,67800,25500,71900,64900,83700,33900,95300,34500,93700,35500,71500,32500,44901,94700,31500,98500,69900,66300,65300,75000,9300,73700,57990,94700,65300,25900,43200,34999,97300,39999,83900,52800,43900,24999,82999,109500,24999,45900,46900,63900,40900,36900,112500,109700,38800,32000,57800,41500,64900,97400,37900,39900,107400,34317,72000,32900,36900,66900,34000,54900,27500,19800,60900,42500,25900,41900,30000,59900,69400,73800,36900,69500,42900,34500,25999,21900,39900,42900,57000,30999,99999,33800,73700,19557,54999,29800,20199,14444,17900,32900,32900,58900,43900,41900,39900,37399,16100,35916,46000,36800,59800,40990,39900,49900,45900,29800,32900,27900,34900,56900,35900,53500,107700,96700,43900,25900,22900,34500,43900,62000,44900,33900,94900,30000,51900,49900,17900,66000,42000,44700,29800,87300,42999,39000,63900,23900,15900,19900,42900,58900,25000,42900,39999,36900,57900,53400,60000,53900,42999,26800,36900,42500,22900,32900,22900,22500,40999,6700,33000,25500,57000,61900,25500,43900,44700,27900,34900,19500,49900,32900,91300,75800,75800,63900,39900,69000,63000,37900,38500],\"yaxis\":\"y\",\"type\":\"histogram\"},{\"alignmentgroup\":\"True\",\"hovertemplate\":\"paliwo=Benzyna<br>przebieg=%{x}<extra></extra>\",\"legendgroup\":\"Benzyna\",\"marker\":{\"color\":\"#00cc96\"},\"name\":\"Benzyna\",\"offsetgroup\":\"Benzyna\",\"scalegroup\":\"x\",\"showlegend\":false,\"x\":[1,29306,31805,10,1,90000,25800,38000,6810,38000,155000,31000,10,10,32384,103588,6220,43000,51500,5000,1,10,10,53689,49600,73000,12000,1,1,105,9866,1,63500,100000,74000,48741,34000,60000,16632,21700,82300,87687,127400,5,5,124000,204551,231000,6000,47000,56045,49531,102214,56000,95000,1,39584,80000,97275,1,22044,15000,128000,148447,67314,57000,5,320,10,5,24000,90927,171234,48506,7000,35372,26000,51293,31800,19070,104028,1,1,106534,80600,39464,31305,5,5,5,40105,5,112712,42140,32190,39441,198000,45500,61248,1,1,10,5,54032,21500,1,5,55000,50590,47000,61670,34701,66111,5,11000,68200,51200,1,5,12000,8623,22120,62842,121178,88000,2833,53000,5,10,5,5,101000,140000,5,80000,10,103000,32000,10,5,7900,10,14000,10,108000,120000,1,1,45079,15800,51414,39074,61232,1,140000,78594,69000,10,134000,42574,150533,5,20000,64000,32368,57700,176449,15000,80150,56700,1,75000,84200,40000,22000,2,2,132527,94000,1,1,1,100222,80000,125000,36000,33000,2,1,190000,40000,40000,1,13300,2281,62673,107000,72480,10,43325,31939,39409,124286,1,160000,2995,75775,36400,35860,30600,51800,38091,95000,67000,42135,5,75680,1,105132,10,71500,14000,103400,1521,38382,5,10,69757,33000,5,136207,78474,64000,5,10,10,47781,62000,65000,1,67689,122,111762,10,1,73400,97798,74665,16000,7219,1,34915,29366,60978,10,79094,52419,5,75000,37967,146838,42345,134480,9000,91256,143179,56925,1,98900,43313,7,63843,10,5,1,95000,9513,44632,6300,23847,29000,68000,78000,1,26228,47400,2230,55000,34386,98884,44143,143361,116309,600,1,72721,74000,5200,11136,85000,153206,49000,10457,46000,10000,97000,7400,82000,124600,26100,54000,20000,44200,18500,23000,99000,47029,106550,116000,81080,5,39000,42991,98700,1,126,106000,41289,52808,1,8500,14000,28000,5100,51387,10,62396,5,42166,40105,1,1,1,40500,19900,69100,1,65020,35900,10,60000,44000,126000,27284,71205,111997,10,120000,10,5,10,16303,17283,1,1,80218,24881,5,145173,83653,41000,11466,22821,34772,68104,91280,10,1,18000,86261,38312,45400,62000,48000,83626,9500,91544,49000,145000,67965,13143,124923,23900,113100,102500,25200,44632,83000,1,28000,45715,80000,13000,74581,74000,47661,46000,105000,99500,12000,90000,7,35991,78000,80700,70294,51000,16606,32400,79200,106385,106071,61500,1700,23000,54155,57414,10,13000,56251,4000,61946,42471,10000,61000,91287,10,1,90000,10,10,41700,49000,64581,78120,72000,31000,12848,98317,81843,106200,90100,99890,27719,17,18700,22000,17,5,1,63331,64000,1,1,64000,37760,31650,17,10,60200,60000,1,10,1,36000,226947,21800,63000,1,10,65000,18000,36367,58000,8,4,4,74500,13500,1,107682,21300,66317,40400,69700,69000,10,96224,12000,36100,42500,46200,9347,102147,77003,43155,33500,116000,113500,10000,27136,5,51686,98344,81754,69516,39952,8931,47765,71642,90025,50000,14000,9300,65000,119197,20400,58800,98100,41300,52081,62000,69423,73860,102090,196000,217000,5,12600,5,150000,5,1,78000,5,5,18000,24000,5,23000,3000,2932,65355,37678,32555,78306,5,5,140000,75000,10,5,5,130480,228000,1,25,25,10,10,14968,44220,62530,107082,41942,74900,2112,6500,95500,36000,36412,87650,5,78000,63000,54024,37634,76981,84648,1,180000,80000,64771,39800,1,10,28000,36200,5,1,45616,45000,32900,10000,34000,46700,18000,1,41000,4,86811,95500,5,61000,55720,28769,54535,114500,86000,1,1,105000,39000,19160,112000,13000,92000,43753,5,88000,30658,104000,6770,9500,88000,800,30000,43000,23000,34000,5,120609,1,87000,103000,1,60000,134000,1,5,10,49374,30000,104000,1,124856,10,1,39988,121000,14756,139163,1,84000,54850,74623,52886,10,7300,39424,55600,59000,1,8,69460,59070,73351,5,153820,5,5,5,275,18000,10,1,74089,21600,75,38381,133380,84000,69037,5,1,49722,5,75860,10000,5,119000,21000,17883,5,39000,10,91519,4,10,10,70723,93560,5,5,5,42000,109000,4,87000,91000,1,39200,5,48765,10,91000,5,63700,4,110000,163508,10,100000,5,42000,5,5,11000,39520,4,40783,5,4,159990,40200,28562,1,54546,5,98000,71000,41000,6500,1,43000,80000,79900,59000,25000,50000,5,5,161288,72294,48186,45020,50094,5,95380,52000,5,126000,1,32934,36500,51705,184000,72200,178558,11500,39279,107346,116000,42941,83000,42000,14577,25400,155000,7500,86000,93335,62000,100000,33307,41000,56000,143454,92605,104000,5,79000,67500,74000,56000,53468,140000,43000,79125,75300,85020,15852,60000,80064,33000,1400,91400,33000,56700,28700,131000,6800,98000,86200,99500,178000,132100,63000,63000,50118,1,1,27450,140479,20000,51000,95200,14000,129000,31000,5,60232,62818,32650,60000,6200,139000,245000,23000,5,81500,32000,17000,128000,115000,11136,30000,150000,28000,69500,3200,61193,18600,38000,51000,122000,33000,25800,68140,43155,17700,48000,189000,38111,6800,60000,67436,125224,72000,76000,35700,86000,63000,51000,170000,27851,41381,85232,10,10,10,11200,47800,43708,66832,12600,29900],\"xaxis\":\"x2\",\"yaxis\":\"y2\",\"type\":\"violin\"},{\"alignmentgroup\":\"True\",\"bingroup\":\"x\",\"histfunc\":\"sum\",\"hovertemplate\":\"paliwo=Elektryczny<br>przebieg=%{x}<br>sum of cena=%{y}<extra></extra>\",\"legendgroup\":\"Elektryczny\",\"marker\":{\"color\":\"#ab63fa\",\"pattern\":{\"shape\":\"\"}},\"name\":\"Elektryczny\",\"offsetgroup\":\"Elektryczny\",\"orientation\":\"v\",\"showlegend\":true,\"x\":[22054,5,5,5,5,5,5,6071,10,5,9700,5,4,5,1000,1,9179,8500,6400,1,13000,7540,1,1,4,8000,5,1,1,11400,3000,10,6416,5],\"xaxis\":\"x\",\"y\":[35000,107250,107040,103000,107250,107040,107250,77400,111250,111250,72000,109900,111250,100400,54900,107850,66900,37599,51000,107250,73900,74900,99900,107950,107250,55900,102900,107250,100400,41500,61900,110000,64500,111650],\"yaxis\":\"y\",\"type\":\"histogram\"},{\"alignmentgroup\":\"True\",\"hovertemplate\":\"paliwo=Elektryczny<br>przebieg=%{x}<extra></extra>\",\"legendgroup\":\"Elektryczny\",\"marker\":{\"color\":\"#ab63fa\"},\"name\":\"Elektryczny\",\"offsetgroup\":\"Elektryczny\",\"scalegroup\":\"x\",\"showlegend\":false,\"x\":[22054,5,5,5,5,5,5,6071,10,5,9700,5,4,5,1000,1,9179,8500,6400,1,13000,7540,1,1,4,8000,5,1,1,11400,3000,10,6416,5],\"xaxis\":\"x2\",\"yaxis\":\"y2\",\"type\":\"violin\"},{\"alignmentgroup\":\"True\",\"bingroup\":\"x\",\"histfunc\":\"sum\",\"hovertemplate\":\"paliwo=Benzyna+CNG<br>przebieg=%{x}<br>sum of cena=%{y}<extra></extra>\",\"legendgroup\":\"Benzyna+CNG\",\"marker\":{\"color\":\"#FFA15A\",\"pattern\":{\"shape\":\"\"}},\"name\":\"Benzyna+CNG\",\"offsetgroup\":\"Benzyna+CNG\",\"orientation\":\"v\",\"showlegend\":true,\"x\":[77000,5],\"xaxis\":\"x\",\"y\":[59900,94300],\"yaxis\":\"y\",\"type\":\"histogram\"},{\"alignmentgroup\":\"True\",\"hovertemplate\":\"paliwo=Benzyna+CNG<br>przebieg=%{x}<extra></extra>\",\"legendgroup\":\"Benzyna+CNG\",\"marker\":{\"color\":\"#FFA15A\"},\"name\":\"Benzyna+CNG\",\"offsetgroup\":\"Benzyna+CNG\",\"scalegroup\":\"x\",\"showlegend\":false,\"x\":[77000,5],\"xaxis\":\"x2\",\"yaxis\":\"y2\",\"type\":\"violin\"}],                        {\"template\":{\"data\":{\"bar\":[{\"error_x\":{\"color\":\"#2a3f5f\"},\"error_y\":{\"color\":\"#2a3f5f\"},\"marker\":{\"line\":{\"color\":\"#E5ECF6\",\"width\":0.5},\"pattern\":{\"fillmode\":\"overlay\",\"size\":10,\"solidity\":0.2}},\"type\":\"bar\"}],\"barpolar\":[{\"marker\":{\"line\":{\"color\":\"#E5ECF6\",\"width\":0.5},\"pattern\":{\"fillmode\":\"overlay\",\"size\":10,\"solidity\":0.2}},\"type\":\"barpolar\"}],\"carpet\":[{\"aaxis\":{\"endlinecolor\":\"#2a3f5f\",\"gridcolor\":\"white\",\"linecolor\":\"white\",\"minorgridcolor\":\"white\",\"startlinecolor\":\"#2a3f5f\"},\"baxis\":{\"endlinecolor\":\"#2a3f5f\",\"gridcolor\":\"white\",\"linecolor\":\"white\",\"minorgridcolor\":\"white\",\"startlinecolor\":\"#2a3f5f\"},\"type\":\"carpet\"}],\"choropleth\":[{\"colorbar\":{\"outlinewidth\":0,\"ticks\":\"\"},\"type\":\"choropleth\"}],\"contour\":[{\"colorbar\":{\"outlinewidth\":0,\"ticks\":\"\"},\"colorscale\":[[0.0,\"#0d0887\"],[0.1111111111111111,\"#46039f\"],[0.2222222222222222,\"#7201a8\"],[0.3333333333333333,\"#9c179e\"],[0.4444444444444444,\"#bd3786\"],[0.5555555555555556,\"#d8576b\"],[0.6666666666666666,\"#ed7953\"],[0.7777777777777778,\"#fb9f3a\"],[0.8888888888888888,\"#fdca26\"],[1.0,\"#f0f921\"]],\"type\":\"contour\"}],\"contourcarpet\":[{\"colorbar\":{\"outlinewidth\":0,\"ticks\":\"\"},\"type\":\"contourcarpet\"}],\"heatmap\":[{\"colorbar\":{\"outlinewidth\":0,\"ticks\":\"\"},\"colorscale\":[[0.0,\"#0d0887\"],[0.1111111111111111,\"#46039f\"],[0.2222222222222222,\"#7201a8\"],[0.3333333333333333,\"#9c179e\"],[0.4444444444444444,\"#bd3786\"],[0.5555555555555556,\"#d8576b\"],[0.6666666666666666,\"#ed7953\"],[0.7777777777777778,\"#fb9f3a\"],[0.8888888888888888,\"#fdca26\"],[1.0,\"#f0f921\"]],\"type\":\"heatmap\"}],\"heatmapgl\":[{\"colorbar\":{\"outlinewidth\":0,\"ticks\":\"\"},\"colorscale\":[[0.0,\"#0d0887\"],[0.1111111111111111,\"#46039f\"],[0.2222222222222222,\"#7201a8\"],[0.3333333333333333,\"#9c179e\"],[0.4444444444444444,\"#bd3786\"],[0.5555555555555556,\"#d8576b\"],[0.6666666666666666,\"#ed7953\"],[0.7777777777777778,\"#fb9f3a\"],[0.8888888888888888,\"#fdca26\"],[1.0,\"#f0f921\"]],\"type\":\"heatmapgl\"}],\"histogram\":[{\"marker\":{\"pattern\":{\"fillmode\":\"overlay\",\"size\":10,\"solidity\":0.2}},\"type\":\"histogram\"}],\"histogram2d\":[{\"colorbar\":{\"outlinewidth\":0,\"ticks\":\"\"},\"colorscale\":[[0.0,\"#0d0887\"],[0.1111111111111111,\"#46039f\"],[0.2222222222222222,\"#7201a8\"],[0.3333333333333333,\"#9c179e\"],[0.4444444444444444,\"#bd3786\"],[0.5555555555555556,\"#d8576b\"],[0.6666666666666666,\"#ed7953\"],[0.7777777777777778,\"#fb9f3a\"],[0.8888888888888888,\"#fdca26\"],[1.0,\"#f0f921\"]],\"type\":\"histogram2d\"}],\"histogram2dcontour\":[{\"colorbar\":{\"outlinewidth\":0,\"ticks\":\"\"},\"colorscale\":[[0.0,\"#0d0887\"],[0.1111111111111111,\"#46039f\"],[0.2222222222222222,\"#7201a8\"],[0.3333333333333333,\"#9c179e\"],[0.4444444444444444,\"#bd3786\"],[0.5555555555555556,\"#d8576b\"],[0.6666666666666666,\"#ed7953\"],[0.7777777777777778,\"#fb9f3a\"],[0.8888888888888888,\"#fdca26\"],[1.0,\"#f0f921\"]],\"type\":\"histogram2dcontour\"}],\"mesh3d\":[{\"colorbar\":{\"outlinewidth\":0,\"ticks\":\"\"},\"type\":\"mesh3d\"}],\"parcoords\":[{\"line\":{\"colorbar\":{\"outlinewidth\":0,\"ticks\":\"\"}},\"type\":\"parcoords\"}],\"pie\":[{\"automargin\":true,\"type\":\"pie\"}],\"scatter\":[{\"marker\":{\"colorbar\":{\"outlinewidth\":0,\"ticks\":\"\"}},\"type\":\"scatter\"}],\"scatter3d\":[{\"line\":{\"colorbar\":{\"outlinewidth\":0,\"ticks\":\"\"}},\"marker\":{\"colorbar\":{\"outlinewidth\":0,\"ticks\":\"\"}},\"type\":\"scatter3d\"}],\"scattercarpet\":[{\"marker\":{\"colorbar\":{\"outlinewidth\":0,\"ticks\":\"\"}},\"type\":\"scattercarpet\"}],\"scattergeo\":[{\"marker\":{\"colorbar\":{\"outlinewidth\":0,\"ticks\":\"\"}},\"type\":\"scattergeo\"}],\"scattergl\":[{\"marker\":{\"colorbar\":{\"outlinewidth\":0,\"ticks\":\"\"}},\"type\":\"scattergl\"}],\"scattermapbox\":[{\"marker\":{\"colorbar\":{\"outlinewidth\":0,\"ticks\":\"\"}},\"type\":\"scattermapbox\"}],\"scatterpolar\":[{\"marker\":{\"colorbar\":{\"outlinewidth\":0,\"ticks\":\"\"}},\"type\":\"scatterpolar\"}],\"scatterpolargl\":[{\"marker\":{\"colorbar\":{\"outlinewidth\":0,\"ticks\":\"\"}},\"type\":\"scatterpolargl\"}],\"scatterternary\":[{\"marker\":{\"colorbar\":{\"outlinewidth\":0,\"ticks\":\"\"}},\"type\":\"scatterternary\"}],\"surface\":[{\"colorbar\":{\"outlinewidth\":0,\"ticks\":\"\"},\"colorscale\":[[0.0,\"#0d0887\"],[0.1111111111111111,\"#46039f\"],[0.2222222222222222,\"#7201a8\"],[0.3333333333333333,\"#9c179e\"],[0.4444444444444444,\"#bd3786\"],[0.5555555555555556,\"#d8576b\"],[0.6666666666666666,\"#ed7953\"],[0.7777777777777778,\"#fb9f3a\"],[0.8888888888888888,\"#fdca26\"],[1.0,\"#f0f921\"]],\"type\":\"surface\"}],\"table\":[{\"cells\":{\"fill\":{\"color\":\"#EBF0F8\"},\"line\":{\"color\":\"white\"}},\"header\":{\"fill\":{\"color\":\"#C8D4E3\"},\"line\":{\"color\":\"white\"}},\"type\":\"table\"}]},\"layout\":{\"annotationdefaults\":{\"arrowcolor\":\"#2a3f5f\",\"arrowhead\":0,\"arrowwidth\":1},\"autotypenumbers\":\"strict\",\"coloraxis\":{\"colorbar\":{\"outlinewidth\":0,\"ticks\":\"\"}},\"colorscale\":{\"diverging\":[[0,\"#8e0152\"],[0.1,\"#c51b7d\"],[0.2,\"#de77ae\"],[0.3,\"#f1b6da\"],[0.4,\"#fde0ef\"],[0.5,\"#f7f7f7\"],[0.6,\"#e6f5d0\"],[0.7,\"#b8e186\"],[0.8,\"#7fbc41\"],[0.9,\"#4d9221\"],[1,\"#276419\"]],\"sequential\":[[0.0,\"#0d0887\"],[0.1111111111111111,\"#46039f\"],[0.2222222222222222,\"#7201a8\"],[0.3333333333333333,\"#9c179e\"],[0.4444444444444444,\"#bd3786\"],[0.5555555555555556,\"#d8576b\"],[0.6666666666666666,\"#ed7953\"],[0.7777777777777778,\"#fb9f3a\"],[0.8888888888888888,\"#fdca26\"],[1.0,\"#f0f921\"]],\"sequentialminus\":[[0.0,\"#0d0887\"],[0.1111111111111111,\"#46039f\"],[0.2222222222222222,\"#7201a8\"],[0.3333333333333333,\"#9c179e\"],[0.4444444444444444,\"#bd3786\"],[0.5555555555555556,\"#d8576b\"],[0.6666666666666666,\"#ed7953\"],[0.7777777777777778,\"#fb9f3a\"],[0.8888888888888888,\"#fdca26\"],[1.0,\"#f0f921\"]]},\"colorway\":[\"#636efa\",\"#EF553B\",\"#00cc96\",\"#ab63fa\",\"#FFA15A\",\"#19d3f3\",\"#FF6692\",\"#B6E880\",\"#FF97FF\",\"#FECB52\"],\"font\":{\"color\":\"#2a3f5f\"},\"geo\":{\"bgcolor\":\"white\",\"lakecolor\":\"white\",\"landcolor\":\"#E5ECF6\",\"showlakes\":true,\"showland\":true,\"subunitcolor\":\"white\"},\"hoverlabel\":{\"align\":\"left\"},\"hovermode\":\"closest\",\"mapbox\":{\"style\":\"light\"},\"paper_bgcolor\":\"white\",\"plot_bgcolor\":\"#E5ECF6\",\"polar\":{\"angularaxis\":{\"gridcolor\":\"white\",\"linecolor\":\"white\",\"ticks\":\"\"},\"bgcolor\":\"#E5ECF6\",\"radialaxis\":{\"gridcolor\":\"white\",\"linecolor\":\"white\",\"ticks\":\"\"}},\"scene\":{\"xaxis\":{\"backgroundcolor\":\"#E5ECF6\",\"gridcolor\":\"white\",\"gridwidth\":2,\"linecolor\":\"white\",\"showbackground\":true,\"ticks\":\"\",\"zerolinecolor\":\"white\"},\"yaxis\":{\"backgroundcolor\":\"#E5ECF6\",\"gridcolor\":\"white\",\"gridwidth\":2,\"linecolor\":\"white\",\"showbackground\":true,\"ticks\":\"\",\"zerolinecolor\":\"white\"},\"zaxis\":{\"backgroundcolor\":\"#E5ECF6\",\"gridcolor\":\"white\",\"gridwidth\":2,\"linecolor\":\"white\",\"showbackground\":true,\"ticks\":\"\",\"zerolinecolor\":\"white\"}},\"shapedefaults\":{\"line\":{\"color\":\"#2a3f5f\"}},\"ternary\":{\"aaxis\":{\"gridcolor\":\"white\",\"linecolor\":\"white\",\"ticks\":\"\"},\"baxis\":{\"gridcolor\":\"white\",\"linecolor\":\"white\",\"ticks\":\"\"},\"bgcolor\":\"#E5ECF6\",\"caxis\":{\"gridcolor\":\"white\",\"linecolor\":\"white\",\"ticks\":\"\"}},\"title\":{\"x\":0.05},\"xaxis\":{\"automargin\":true,\"gridcolor\":\"white\",\"linecolor\":\"white\",\"ticks\":\"\",\"title\":{\"standoff\":15},\"zerolinecolor\":\"white\",\"zerolinewidth\":2},\"yaxis\":{\"automargin\":true,\"gridcolor\":\"white\",\"linecolor\":\"white\",\"ticks\":\"\",\"title\":{\"standoff\":15},\"zerolinecolor\":\"white\",\"zerolinewidth\":2}}},\"xaxis\":{\"anchor\":\"y\",\"domain\":[0.0,1.0],\"title\":{\"text\":\"przebieg\"}},\"yaxis\":{\"anchor\":\"x\",\"domain\":[0.0,0.7326],\"title\":{\"text\":\"sum of cena\"}},\"xaxis2\":{\"anchor\":\"y2\",\"domain\":[0.0,1.0],\"matches\":\"x\",\"showticklabels\":false,\"showgrid\":true},\"yaxis2\":{\"anchor\":\"x2\",\"domain\":[0.7426,1.0],\"matches\":\"y2\",\"showticklabels\":false,\"showline\":false,\"ticks\":\"\",\"showgrid\":false},\"legend\":{\"title\":{\"text\":\"paliwo\"},\"tracegroupgap\":0},\"margin\":{\"t\":60},\"barmode\":\"relative\"},                        {\"responsive\": true}                    ).then(function(){\n",
              "                            \n",
              "var gd = document.getElementById('16413352-4c2e-4136-8de6-3a0c452dabce');\n",
              "var x = new MutationObserver(function (mutations, observer) {{\n",
              "        var display = window.getComputedStyle(gd).display;\n",
              "        if (!display || display === 'none') {{\n",
              "            console.log([gd, 'removed!']);\n",
              "            Plotly.purge(gd);\n",
              "            observer.disconnect();\n",
              "        }}\n",
              "}});\n",
              "\n",
              "// Listen for the removal of the full notebook cells\n",
              "var notebookContainer = gd.closest('#notebook-container');\n",
              "if (notebookContainer) {{\n",
              "    x.observe(notebookContainer, {childList: true});\n",
              "}}\n",
              "\n",
              "// Listen for the clearing of the current output cell\n",
              "var outputEl = gd.closest('.output');\n",
              "if (outputEl) {{\n",
              "    x.observe(outputEl, {childList: true});\n",
              "}}\n",
              "\n",
              "                        })                };                            </script>        </div>\n",
              "</body>\n",
              "</html>"
            ]
          },
          "metadata": {}
        }
      ]
    },
    {
      "cell_type": "code",
      "source": [
        "\n",
        "matplotlib.rcParams[\"figure.figsize\"] = (16,9)\n",
        "\n",
        "dane.plot(kind = \"scatter\", \n",
        "               x = \"przebieg\",\n",
        "               y = \"cena\",\n",
        "               alpha = .15);"
      ],
      "metadata": {
        "colab": {
          "base_uri": "https://localhost:8080/",
          "height": 551
        },
        "id": "2J3_VXJCEBdD",
        "outputId": "2c5f3b34-b0cb-4a54-bf2b-c7b2b8193eeb"
      },
      "execution_count": null,
      "outputs": [
        {
          "output_type": "display_data",
          "data": {
            "text/plain": [
              "<Figure size 1152x648 with 1 Axes>"
            ],
            "image/png": "[encoded data removed]"
          },
          "metadata": {
            "needs_background": "light"
          }
        }
      ]
    },
    {
      "cell_type": "code",
      "source": [],
      "metadata": {
        "id": "acPv9ZzKdEfs"
      },
      "execution_count": null,
      "outputs": []
    },
    {
      "cell_type": "code",
      "source": [
        "#modelowanie - wybranie zmiennych\n",
        "import matplotlib\n",
        "import matplotlib.pyplot as plt\n",
        "import seaborn as sns\n",
        "import plotly.express as px\n",
        "\n",
        "\n",
        "cechy_do_modelowania = [\"cena\", \"rocznik\", \"przebieg\", \"paliwo\", \"pojemnosc_silnika\"]\n",
        "dane_modelowanie = dane[cechy_do_modelowania]\n",
        "dane_modelowanie"
      ],
      "metadata": {
        "colab": {
          "base_uri": "https://localhost:8080/",
          "height": 423
        },
        "id": "nadBp9wtdEiD",
        "outputId": "16082085-e23d-43ce-b564-0355ed815f46"
      },
      "execution_count": null,
      "outputs": [
        {
          "output_type": "execute_result",
          "data": {
            "text/plain": [
              "       cena  rocznik  przebieg       paliwo  pojemnosc_silnika\n",
              "0     67700     2021     18500  Benzyna+LPG              999.0\n",
              "1     28500     2017    299000       Diesel             1461.0\n",
              "2     59999     2018    130000       Diesel             1461.0\n",
              "3     40999     2016    128600       Diesel             1461.0\n",
              "4     54900     2021     92800  Benzyna+LPG              999.0\n",
              "...     ...      ...       ...          ...                ...\n",
              "1601  45000     2015     77710  Benzyna+LPG             1598.0\n",
              "1602  23900     2016    299500  Benzyna+LPG             1149.0\n",
              "1603  38500     2018     29900      Benzyna             1598.0\n",
              "1604  43900     2016    114532  Benzyna+LPG             1598.0\n",
              "1605  34000     2016     51000       Diesel             1461.0\n",
              "\n",
              "[1606 rows x 5 columns]"
            ],
            "text/html": [
              "\n",
              "  <div id=\"df-008d2a8c-5a74-4001-8954-0d2044328ad7\">\n",
              "    <div class=\"colab-df-container\">\n",
              "      <div>\n",
              "<style scoped>\n",
              "    .dataframe tbody tr th:only-of-type {\n",
              "        vertical-align: middle;\n",
              "    }\n",
              "\n",
              "    .dataframe tbody tr th {\n",
              "        vertical-align: top;\n",
              "    }\n",
              "\n",
              "    .dataframe thead th {\n",
              "        text-align: right;\n",
              "    }\n",
              "</style>\n",
              "<table border=\"1\" class=\"dataframe\">\n",
              "  <thead>\n",
              "    <tr style=\"text-align: right;\">\n",
              "      <th></th>\n",
              "      <th>cena</th>\n",
              "      <th>rocznik</th>\n",
              "      <th>przebieg</th>\n",
              "      <th>paliwo</th>\n",
              "      <th>pojemnosc_silnika</th>\n",
              "    </tr>\n",
              "  </thead>\n",
              "  <tbody>\n",
              "    <tr>\n",
              "      <th>0</th>\n",
              "      <td>67700</td>\n",
              "      <td>2021</td>\n",
              "      <td>18500</td>\n",
              "      <td>Benzyna+LPG</td>\n",
              "      <td>999.0</td>\n",
              "    </tr>\n",
              "    <tr>\n",
              "      <th>1</th>\n",
              "      <td>28500</td>\n",
              "      <td>2017</td>\n",
              "      <td>299000</td>\n",
              "      <td>Diesel</td>\n",
              "      <td>1461.0</td>\n",
              "    </tr>\n",
              "    <tr>\n",
              "      <th>2</th>\n",
              "      <td>59999</td>\n",
              "      <td>2018</td>\n",
              "      <td>130000</td>\n",
              "      <td>Diesel</td>\n",
              "      <td>1461.0</td>\n",
              "    </tr>\n",
              "    <tr>\n",
              "      <th>3</th>\n",
              "      <td>40999</td>\n",
              "      <td>2016</td>\n",
              "      <td>128600</td>\n",
              "      <td>Diesel</td>\n",
              "      <td>1461.0</td>\n",
              "    </tr>\n",
              "    <tr>\n",
              "      <th>4</th>\n",
              "      <td>54900</td>\n",
              "      <td>2021</td>\n",
              "      <td>92800</td>\n",
              "      <td>Benzyna+LPG</td>\n",
              "      <td>999.0</td>\n",
              "    </tr>\n",
              "    <tr>\n",
              "      <th>...</th>\n",
              "      <td>...</td>\n",
              "      <td>...</td>\n",
              "      <td>...</td>\n",
              "      <td>...</td>\n",
              "      <td>...</td>\n",
              "    </tr>\n",
              "    <tr>\n",
              "      <th>1601</th>\n",
              "      <td>45000</td>\n",
              "      <td>2015</td>\n",
              "      <td>77710</td>\n",
              "      <td>Benzyna+LPG</td>\n",
              "      <td>1598.0</td>\n",
              "    </tr>\n",
              "    <tr>\n",
              "      <th>1602</th>\n",
              "      <td>23900</td>\n",
              "      <td>2016</td>\n",
              "      <td>299500</td>\n",
              "      <td>Benzyna+LPG</td>\n",
              "      <td>1149.0</td>\n",
              "    </tr>\n",
              "    <tr>\n",
              "      <th>1603</th>\n",
              "      <td>38500</td>\n",
              "      <td>2018</td>\n",
              "      <td>29900</td>\n",
              "      <td>Benzyna</td>\n",
              "      <td>1598.0</td>\n",
              "    </tr>\n",
              "    <tr>\n",
              "      <th>1604</th>\n",
              "      <td>43900</td>\n",
              "      <td>2016</td>\n",
              "      <td>114532</td>\n",
              "      <td>Benzyna+LPG</td>\n",
              "      <td>1598.0</td>\n",
              "    </tr>\n",
              "    <tr>\n",
              "      <th>1605</th>\n",
              "      <td>34000</td>\n",
              "      <td>2016</td>\n",
              "      <td>51000</td>\n",
              "      <td>Diesel</td>\n",
              "      <td>1461.0</td>\n",
              "    </tr>\n",
              "  </tbody>\n",
              "</table>\n",
              "<p>1606 rows × 5 columns</p>\n",
              "</div>\n",
              "      <button class=\"colab-df-convert\" onclick=\"convertToInteractive('df-008d2a8c-5a74-4001-8954-0d2044328ad7')\"\n",
              "              title=\"Convert this dataframe to an interactive table.\"\n",
              "              style=\"display:none;\">\n",
              "        \n",
              "  <svg xmlns=\"http://www.w3.org/2000/svg\" height=\"24px\"viewBox=\"0 0 24 24\"\n",
              "       width=\"24px\">\n",
              "    <path d=\"M0 0h24v24H0V0z\" fill=\"none\"/>\n",
              "    <path d=\"M18.56 5.44l.94 2.06.94-2.06 2.06-.94-2.06-.94-.94-2.06-.94 2.06-2.06.94zm-11 1L8.5 8.5l.94-2.06 2.06-.94-2.06-.94L8.5 2.5l-.94 2.06-2.06.94zm10 10l.94 2.06.94-2.06 2.06-.94-2.06-.94-.94-2.06-.94 2.06-2.06.94z\"/><path d=\"M17.41 7.96l-1.37-1.37c-.4-.4-.92-.59-1.43-.59-.52 0-1.04.2-1.43.59L10.3 9.45l-7.72 7.72c-.78.78-.78 2.05 0 2.83L4 21.41c.39.39.9.59 1.41.59.51 0 1.02-.2 1.41-.59l7.78-7.78 2.81-2.81c.8-.78.8-2.07 0-2.86zM5.41 20L4 18.59l7.72-7.72 1.47 1.35L5.41 20z\"/>\n",
              "  </svg>\n",
              "      </button>\n",
              "      \n",
              "  <style>\n",
              "    .colab-df-container {\n",
              "      display:flex;\n",
              "      flex-wrap:wrap;\n",
              "      gap: 12px;\n",
              "    }\n",
              "\n",
              "    .colab-df-convert {\n",
              "      background-color: #E8F0FE;\n",
              "      border: none;\n",
              "      border-radius: 50%;\n",
              "      cursor: pointer;\n",
              "      display: none;\n",
              "      fill: #1967D2;\n",
              "      height: 32px;\n",
              "      padding: 0 0 0 0;\n",
              "      width: 32px;\n",
              "    }\n",
              "\n",
              "    .colab-df-convert:hover {\n",
              "      background-color: #E2EBFA;\n",
              "      box-shadow: 0px 1px 2px rgba(60, 64, 67, 0.3), 0px 1px 3px 1px rgba(60, 64, 67, 0.15);\n",
              "      fill: #174EA6;\n",
              "    }\n",
              "\n",
              "    [theme=dark] .colab-df-convert {\n",
              "      background-color: #3B4455;\n",
              "      fill: #D2E3FC;\n",
              "    }\n",
              "\n",
              "    [theme=dark] .colab-df-convert:hover {\n",
              "      background-color: #434B5C;\n",
              "      box-shadow: 0px 1px 3px 1px rgba(0, 0, 0, 0.15);\n",
              "      filter: drop-shadow(0px 1px 2px rgba(0, 0, 0, 0.3));\n",
              "      fill: #FFFFFF;\n",
              "    }\n",
              "  </style>\n",
              "\n",
              "      <script>\n",
              "        const buttonEl =\n",
              "          document.querySelector('#df-008d2a8c-5a74-4001-8954-0d2044328ad7 button.colab-df-convert');\n",
              "        buttonEl.style.display =\n",
              "          google.colab.kernel.accessAllowed ? 'block' : 'none';\n",
              "\n",
              "        async function convertToInteractive(key) {\n",
              "          const element = document.querySelector('#df-008d2a8c-5a74-4001-8954-0d2044328ad7');\n",
              "          const dataTable =\n",
              "            await google.colab.kernel.invokeFunction('convertToInteractive',\n",
              "                                                     [key], {});\n",
              "          if (!dataTable) return;\n",
              "\n",
              "          const docLinkHtml = 'Like what you see? Visit the ' +\n",
              "            '<a target=\"_blank\" href=https://colab.research.google.com/notebooks/data_table.ipynb>data table notebook</a>'\n",
              "            + ' to learn more about interactive tables.';\n",
              "          element.innerHTML = '';\n",
              "          dataTable['output_type'] = 'display_data';\n",
              "          await google.colab.output.renderOutput(dataTable, element);\n",
              "          const docLink = document.createElement('div');\n",
              "          docLink.innerHTML = docLinkHtml;\n",
              "          element.appendChild(docLink);\n",
              "        }\n",
              "      </script>\n",
              "    </div>\n",
              "  </div>\n",
              "  "
            ]
          },
          "metadata": {},
          "execution_count": 6
        }
      ]
    },
    {
      "cell_type": "code",
      "source": [],
      "metadata": {
        "id": "VdbMlNcLdEkw"
      },
      "execution_count": null,
      "outputs": []
    },
    {
      "cell_type": "code",
      "source": [
        "#szuaknie wartości odstających\n",
        "px.box(dane_modelowanie, x = \"cena\", title = \"Rozrzut cechy - cena\", orientation = \"h\")"
      ],
      "metadata": {
        "colab": {
          "base_uri": "https://localhost:8080/",
          "height": 542
        },
        "id": "5yU3STAOdEnH",
        "outputId": "9d6099bf-3ad0-4581-832c-cdce70caf5fd"
      },
      "execution_count": null,
      "outputs": [
        {
          "output_type": "display_data",
          "data": {
            "text/html": [
              "<html>\n",
              "<head><meta charset=\"utf-8\" /></head>\n",
              "<body>\n",
              "    <div>            <script src=\"https://cdnjs.cloudflare.com/ajax/libs/mathjax/2.7.5/MathJax.js?config=TeX-AMS-MML_SVG\"></script><script type=\"text/javascript\">if (window.MathJax) {MathJax.Hub.Config({SVG: {font: \"STIX-Web\"}});}</script>                <script type=\"text/javascript\">window.PlotlyConfig = {MathJaxConfig: 'local'};</script>\n",
              "        <script src=\"https://cdn.plot.ly/plotly-2.8.3.min.js\"></script>                <div id=\"9abd0dc1-b692-43b7-b4ea-a85c353e4975\" class=\"plotly-graph-div\" style=\"height:525px; width:100%;\"></div>            <script type=\"text/javascript\">                                    window.PLOTLYENV=window.PLOTLYENV || {};                                    if (document.getElementById(\"9abd0dc1-b692-43b7-b4ea-a85c353e4975\")) {                    Plotly.newPlot(                        \"9abd0dc1-b692-43b7-b4ea-a85c353e4975\",                        [{\"alignmentgroup\":\"True\",\"hovertemplate\":\"cena=%{x}<extra></extra>\",\"legendgroup\":\"\",\"marker\":{\"color\":\"#636efa\"},\"name\":\"\",\"notched\":false,\"offsetgroup\":\"\",\"orientation\":\"h\",\"showlegend\":false,\"x\":[67700,28500,59999,40999,54900,83700,108700,18900,64900,88100,48900,28900,72979,34990,106000,40000,61000,35900,57900,59900,35000,53900,89850,58899,39999,101000,83700,96700,99800,64900,34500,44999,53900,81750,39999,84999,61500,44800,99490,109500,107700,111500,22000,102800,98000,40500,17800,14900,38900,89850,27000,97300,86800,69990,28500,99490,79900,79900,65000,49900,29000,27000,26000,35000,27000,68900,42500,96850,27900,64900,29900,19900,42499,87900,83400,32900,79900,92900,97400,112500,45999,38900,43999,89850,31900,25700,39700,86050,81650,46900,17900,77900,49900,35000,62500,51900,53000,34900,22500,46999,96700,56999,42000,31499,19900,54000,108000,107250,50999,65900,41900,32900,28000,33999,44999,19900,44900,73410,76900,39800,108400,95800,102600,39999,38900,92900,49900,66850,39900,62999,55900,49999,46740,34900,101900,46900,89050,66900,66850,59900,67900,39499,53900,59999,91700,73900,85850,75900,49999,88900,92900,59900,76700,79900,85900,25900,62999,20500,76750,66999,101700,84150,107040,60999,72700,76200,80400,64900,59999,87000,51299,53999,51900,51999,30999,47999,35999,39888,66900,65000,14900,66999,75800,83900,81600,27000,69900,44900,68900,58500,76150,95000,23900,94900,48900,57900,47501,44900,39999,27900,28888,68500,38900,51999,43499,58883,70800,84900,37900,81250,75850,41900,28900,65900,63100,43700,33990,60999,79000,45499,35900,77999,103000,107250,107040,46900,58900,50900,107250,79600,27499,67600,63900,84550,78850,54900,36900,32900,64600,82500,77400,84150,16900,39600,19900,81900,28900,66800,19000,26500,19000,67900,67700,111250,97300,67900,62500,108400,50900,38000,23500,67999,81650,84900,44900,48700,49900,95600,75600,39999,49999,54999,37499,69999,39888,49500,68500,79999,24999,66420,31499,41999,108700,25900,31900,45500,32900,92300,38900,62999,40999,45499,87300,69900,101200,47999,31000,69900,33900,69500,34500,33900,16900,25300,92300,28900,45500,111250,83700,72000,96500,71900,22900,96900,32500,101000,49900,72000,14600,28900,32000,82900,107900,107900,36000,109900,46900,39900,39500,61900,49000,97600,83900,73900,35000,46900,35900,63900,23900,52900,73999,49999,44900,71900,54900,61999,98500,111250,62999,67950,47501,61000,48999,87500,59999,54999,94999,53999,67900,45900,41500,17900,101000,61999,57000,49899,62000,34900,98300,83700,23500,101200,79650,40500,58900,101000,109400,30000,71000,101200,74200,24900,56900,41900,90500,83350,64900,59900,44900,101200,14760,66700,64700,39999,71300,93500,39900,89900,36900,72888,95700,43499,48900,54900,64888,73900,59900,86000,42500,94700,88950,83350,61900,42700,18400,46000,59900,80300,80750,83450,80900,83900,65190,58900,72000,48000,63900,32000,92850,63900,70200,48500,66999,75999,53899,46500,83900,79250,68900,56900,22900,74999,43900,45000,107900,64900,55499,97600,52900,60600,47900,56999,101000,96900,49900,68000,75300,46899,33900,41800,82900,54900,34500,47500,46900,83000,27400,59990,107700,62900,110500,86600,82650,90600,100100,109650,107700,32000,97600,100400,80750,54900,74600,74900,69900,33900,42900,42900,55900,101200,43900,37999,55000,71616,52100,89850,37900,61900,7700,43999,65499,42999,46499,44999,52000,71000,59500,34999,43999,85000,84900,87300,78900,26900,27900,61900,18900,49000,49900,44500,29900,48900,37600,111900,32400,41600,31980,60900,31900,37900,59900,43900,57900,36700,46900,61900,42500,40500,46500,92000,32595,88000,46900,24900,36900,99800,66900,59900,26900,64900,39900,51900,59000,49900,34900,46900,61900,76300,94900,85900,68500,43900,17490,94900,40900,87900,87900,107850,72900,55900,39000,57900,46900,76900,79900,75900,45900,64900,80900,57999,66900,92200,101200,48900,97500,34900,64900,85900,73200,69900,36900,64500,39900,56900,23500,25500,58900,56900,75800,42499,44900,90900,63900,9199,107700,54000,78850,37900,28900,65999,79900,79900,29900,34900,27900,75600,48800,44900,83700,85200,90550,72500,96700,74900,65900,45900,71400,71900,32900,39300,59900,80600,79200,66900,57450,101200,83350,57999,72900,12500,74900,37900,91150,67900,27900,37900,72400,96300,64900,62900,49900,62500,69800,42900,47900,45900,29900,54900,39900,52300,72900,54899,31900,53800,55850,64900,48500,38900,89950,27500,21900,43900,92050,37599,37761,50900,69900,42400,29000,100200,59999,33900,14900,42800,47700,37800,70000,47700,28900,45400,55950,33800,38900,31900,42900,51000,54900,28500,38900,49999,97500,33900,33700,44900,21900,48500,63500,43900,44600,46900,47600,17300,26900,42900,92900,44000,63900,54900,39900,107700,107250,48900,38880,50600,79950,57900,61900,64600,36900,48000,64499,40900,46900,79750,41900,41697,45510,55900,82900,71500,69000,69900,67800,64900,87100,83350,81750,49900,58900,72900,67850,63999,109900,34900,60000,95100,85550,64900,34900,35200,49900,81900,25900,64900,91050,64500,59999,62900,30999,59850,86900,54999,38900,34900,42000,35900,39999,101200,71600,28900,45600,63000,71800,77100,72100,86650,43999,101200,41600,25900,78300,89000,44900,28900,59990,35500,71600,87400,74569,90550,101200,59900,96500,52300,64999,86700,39900,86000,25707,74150,85400,24900,36900,72900,33500,108200,107700,81950,44800,48700,19500,64900,64900,83550,43900,81990,76700,79999,79900,87000,83450,54900,58500,83700,70700,72900,62900,54900,59500,103500,58900,73900,17500,81900,48600,71600,70800,89350,80500,36900,26900,68900,39999,55900,54500,21900,33900,44500,83350,99500,74900,70900,61900,34900,69900,29898,110900,29900,65000,63600,50800,61700,64900,64900,59800,64500,78800,73700,88250,74900,35900,57850,34900,45500,44900,64900,83800,18800,45900,84500,41900,62900,54800,101000,89950,88100,58900,18200,71700,63500,46999,27900,63999,66999,45000,59500,36000,32900,66000,46000,44000,48000,50500,43000,48800,61999,24900,43000,36900,36000,99000,72900,42900,88250,50800,32900,41820,46464,49900,67900,35900,25000,39900,48900,42800,23990,39900,6000,52900,62900,53500,89950,62730,77900,41000,49800,31900,42900,34900,25900,25900,72700,79900,92500,83900,88820,88500,38900,71910,88500,73700,39900,69000,80100,72750,83350,95800,55555,89250,29800,69900,73900,65900,88200,28900,25000,35900,29900,44900,74900,86900,36500,36900,60900,53900,77900,80400,47900,73000,31500,45500,88450,96900,96700,90150,46999,49900,42900,99999,71999,98999,75999,98999,88100,96700,94000,81450,79900,41800,83350,76900,47000,83550,62900,45500,54900,39900,69900,48500,59990,94000,60900,49900,87500,44280,49900,96555,72900,59900,66700,64900,39990,61500,84000,74900,80850,99900,94900,93450,24900,100300,107950,67900,46900,54900,44900,64900,40900,91900,42900,107250,52000,83700,51900,59900,97000,69900,23900,37900,97300,107000,71900,41000,61300,49900,52767,57900,107500,47950,78800,41900,49500,26600,23600,67900,18900,61999,26500,66900,59777,65800,58900,81200,101200,79999,57000,99990,75600,98700,36900,62900,101200,80500,43050,52900,85499,87900,69900,77900,45900,66300,69900,75150,69400,89850,64500,62900,89850,42900,34900,34900,95600,42999,65900,43000,25900,62300,29900,28500,56555,54900,29900,72999,84600,46000,35900,22900,62499,41900,28500,34770,41500,42999,38999,22900,75500,26900,62500,39000,57900,27300,39500,19680,83700,66750,98200,44900,78850,67900,32900,99200,72950,78650,80850,55800,81750,72500,97950,58800,36997,28900,78600,29900,67500,67600,33900,97900,35999,65999,73950,21900,42900,75500,31999,105700,80750,88550,70999,44999,36500,44000,67000,27900,49500,84900,64900,85450,88450,88250,14500,101200,54900,67900,82900,69900,59850,79900,82500,59999,59900,55900,60000,82900,53850,81900,95700,65900,68900,29900,16000,105000,89850,22900,89850,69900,94700,40850,93900,102900,105000,74900,97300,71000,55500,74900,56900,78600,72900,71900,52767,88250,45000,59900,53900,79999,39500,65900,84900,49900,44999,29900,34999,97400,83450,91300,57900,42804,87200,74900,17000,67900,96700,45756,28900,34900,67900,69700,44000,83900,35900,74900,96900,86000,74800,97950,54900,92900,74000,74900,83700,87300,67700,77900,77990,59900,107250,53999,111700,67300,70200,68800,105200,67800,47800,72499,67800,66900,25500,81900,71900,29800,56900,72900,74900,64900,83700,33900,94900,95300,34500,76150,93700,35500,71500,18900,88450,19600,47000,32500,101200,44901,94700,39900,101000,31500,94300,84950,98500,100400,69900,93650,66300,65300,75000,102600,54900,80500,9300,73700,95800,57990,94700,44900,65300,25900,43200,34999,60900,90450,46999,59900,97300,72000,39999,87950,83900,52800,34900,43900,24999,82999,109500,24999,39500,45900,46900,63900,40900,36900,41500,112500,109700,34900,38800,101200,48769,32000,79999,57800,39900,41500,64900,97400,19311,37900,23900,39900,107400,79500,34317,29900,72000,26322,64900,57999,32900,47900,36900,89000,39999,47900,24900,81750,39900,66900,34000,68900,54900,27900,39900,46900,29999,27500,23900,19800,44900,60900,42500,31900,37800,25900,41900,9900,58800,67500,49900,30000,41700,59900,69400,61900,73800,36900,69500,59999,42900,34500,25999,21900,39900,42900,110000,57000,30999,48000,30627,99999,59899,33800,88800,73700,19557,54999,79250,64500,29800,29999,69800,55891,20199,14444,17900,22999,49499,32900,32900,58900,84900,43900,41900,39900,37399,16100,37000,35916,46000,20900,36800,15000,59800,40990,32999,39900,49900,45900,47900,69099,29800,58900,59937,32700,69900,30900,32900,27900,65900,34900,56900,35900,53500,107700,96700,49900,43900,25900,22900,34500,43900,46500,31500,62000,26500,44900,30990,33900,55700,94900,34500,28950,30000,51900,59900,54900,49900,17900,66000,46900,18900,73800,45000,42000,44700,55000,29800,87300,83300,42999,111650,39000,63900,34900,23900,15900,19900,69999,42900,58900,25000,33900,42900,41987,32900,39999,36900,85000,57900,53400,60000,53900,16700,42999,39900,61900,42900,26800,45900,36900,14900,42500,22900,32900,22900,22500,59500,40999,41800,22900,43500,6700,61500,47800,33000,25500,34500,57000,61900,67500,25500,59900,43900,69900,59500,44700,27900,34900,19500,59900,53800,49900,42700,32900,91300,75800,75800,63900,39900,69000,59900,17835,63000,37900,45000,23900,38500,43900,34000],\"x0\":\" \",\"xaxis\":\"x\",\"y0\":\" \",\"yaxis\":\"y\",\"type\":\"box\"}],                        {\"template\":{\"data\":{\"bar\":[{\"error_x\":{\"color\":\"#2a3f5f\"},\"error_y\":{\"color\":\"#2a3f5f\"},\"marker\":{\"line\":{\"color\":\"#E5ECF6\",\"width\":0.5},\"pattern\":{\"fillmode\":\"overlay\",\"size\":10,\"solidity\":0.2}},\"type\":\"bar\"}],\"barpolar\":[{\"marker\":{\"line\":{\"color\":\"#E5ECF6\",\"width\":0.5},\"pattern\":{\"fillmode\":\"overlay\",\"size\":10,\"solidity\":0.2}},\"type\":\"barpolar\"}],\"carpet\":[{\"aaxis\":{\"endlinecolor\":\"#2a3f5f\",\"gridcolor\":\"white\",\"linecolor\":\"white\",\"minorgridcolor\":\"white\",\"startlinecolor\":\"#2a3f5f\"},\"baxis\":{\"endlinecolor\":\"#2a3f5f\",\"gridcolor\":\"white\",\"linecolor\":\"white\",\"minorgridcolor\":\"white\",\"startlinecolor\":\"#2a3f5f\"},\"type\":\"carpet\"}],\"choropleth\":[{\"colorbar\":{\"outlinewidth\":0,\"ticks\":\"\"},\"type\":\"choropleth\"}],\"contour\":[{\"colorbar\":{\"outlinewidth\":0,\"ticks\":\"\"},\"colorscale\":[[0.0,\"#0d0887\"],[0.1111111111111111,\"#46039f\"],[0.2222222222222222,\"#7201a8\"],[0.3333333333333333,\"#9c179e\"],[0.4444444444444444,\"#bd3786\"],[0.5555555555555556,\"#d8576b\"],[0.6666666666666666,\"#ed7953\"],[0.7777777777777778,\"#fb9f3a\"],[0.8888888888888888,\"#fdca26\"],[1.0,\"#f0f921\"]],\"type\":\"contour\"}],\"contourcarpet\":[{\"colorbar\":{\"outlinewidth\":0,\"ticks\":\"\"},\"type\":\"contourcarpet\"}],\"heatmap\":[{\"colorbar\":{\"outlinewidth\":0,\"ticks\":\"\"},\"colorscale\":[[0.0,\"#0d0887\"],[0.1111111111111111,\"#46039f\"],[0.2222222222222222,\"#7201a8\"],[0.3333333333333333,\"#9c179e\"],[0.4444444444444444,\"#bd3786\"],[0.5555555555555556,\"#d8576b\"],[0.6666666666666666,\"#ed7953\"],[0.7777777777777778,\"#fb9f3a\"],[0.8888888888888888,\"#fdca26\"],[1.0,\"#f0f921\"]],\"type\":\"heatmap\"}],\"heatmapgl\":[{\"colorbar\":{\"outlinewidth\":0,\"ticks\":\"\"},\"colorscale\":[[0.0,\"#0d0887\"],[0.1111111111111111,\"#46039f\"],[0.2222222222222222,\"#7201a8\"],[0.3333333333333333,\"#9c179e\"],[0.4444444444444444,\"#bd3786\"],[0.5555555555555556,\"#d8576b\"],[0.6666666666666666,\"#ed7953\"],[0.7777777777777778,\"#fb9f3a\"],[0.8888888888888888,\"#fdca26\"],[1.0,\"#f0f921\"]],\"type\":\"heatmapgl\"}],\"histogram\":[{\"marker\":{\"pattern\":{\"fillmode\":\"overlay\",\"size\":10,\"solidity\":0.2}},\"type\":\"histogram\"}],\"histogram2d\":[{\"colorbar\":{\"outlinewidth\":0,\"ticks\":\"\"},\"colorscale\":[[0.0,\"#0d0887\"],[0.1111111111111111,\"#46039f\"],[0.2222222222222222,\"#7201a8\"],[0.3333333333333333,\"#9c179e\"],[0.4444444444444444,\"#bd3786\"],[0.5555555555555556,\"#d8576b\"],[0.6666666666666666,\"#ed7953\"],[0.7777777777777778,\"#fb9f3a\"],[0.8888888888888888,\"#fdca26\"],[1.0,\"#f0f921\"]],\"type\":\"histogram2d\"}],\"histogram2dcontour\":[{\"colorbar\":{\"outlinewidth\":0,\"ticks\":\"\"},\"colorscale\":[[0.0,\"#0d0887\"],[0.1111111111111111,\"#46039f\"],[0.2222222222222222,\"#7201a8\"],[0.3333333333333333,\"#9c179e\"],[0.4444444444444444,\"#bd3786\"],[0.5555555555555556,\"#d8576b\"],[0.6666666666666666,\"#ed7953\"],[0.7777777777777778,\"#fb9f3a\"],[0.8888888888888888,\"#fdca26\"],[1.0,\"#f0f921\"]],\"type\":\"histogram2dcontour\"}],\"mesh3d\":[{\"colorbar\":{\"outlinewidth\":0,\"ticks\":\"\"},\"type\":\"mesh3d\"}],\"parcoords\":[{\"line\":{\"colorbar\":{\"outlinewidth\":0,\"ticks\":\"\"}},\"type\":\"parcoords\"}],\"pie\":[{\"automargin\":true,\"type\":\"pie\"}],\"scatter\":[{\"marker\":{\"colorbar\":{\"outlinewidth\":0,\"ticks\":\"\"}},\"type\":\"scatter\"}],\"scatter3d\":[{\"line\":{\"colorbar\":{\"outlinewidth\":0,\"ticks\":\"\"}},\"marker\":{\"colorbar\":{\"outlinewidth\":0,\"ticks\":\"\"}},\"type\":\"scatter3d\"}],\"scattercarpet\":[{\"marker\":{\"colorbar\":{\"outlinewidth\":0,\"ticks\":\"\"}},\"type\":\"scattercarpet\"}],\"scattergeo\":[{\"marker\":{\"colorbar\":{\"outlinewidth\":0,\"ticks\":\"\"}},\"type\":\"scattergeo\"}],\"scattergl\":[{\"marker\":{\"colorbar\":{\"outlinewidth\":0,\"ticks\":\"\"}},\"type\":\"scattergl\"}],\"scattermapbox\":[{\"marker\":{\"colorbar\":{\"outlinewidth\":0,\"ticks\":\"\"}},\"type\":\"scattermapbox\"}],\"scatterpolar\":[{\"marker\":{\"colorbar\":{\"outlinewidth\":0,\"ticks\":\"\"}},\"type\":\"scatterpolar\"}],\"scatterpolargl\":[{\"marker\":{\"colorbar\":{\"outlinewidth\":0,\"ticks\":\"\"}},\"type\":\"scatterpolargl\"}],\"scatterternary\":[{\"marker\":{\"colorbar\":{\"outlinewidth\":0,\"ticks\":\"\"}},\"type\":\"scatterternary\"}],\"surface\":[{\"colorbar\":{\"outlinewidth\":0,\"ticks\":\"\"},\"colorscale\":[[0.0,\"#0d0887\"],[0.1111111111111111,\"#46039f\"],[0.2222222222222222,\"#7201a8\"],[0.3333333333333333,\"#9c179e\"],[0.4444444444444444,\"#bd3786\"],[0.5555555555555556,\"#d8576b\"],[0.6666666666666666,\"#ed7953\"],[0.7777777777777778,\"#fb9f3a\"],[0.8888888888888888,\"#fdca26\"],[1.0,\"#f0f921\"]],\"type\":\"surface\"}],\"table\":[{\"cells\":{\"fill\":{\"color\":\"#EBF0F8\"},\"line\":{\"color\":\"white\"}},\"header\":{\"fill\":{\"color\":\"#C8D4E3\"},\"line\":{\"color\":\"white\"}},\"type\":\"table\"}]},\"layout\":{\"annotationdefaults\":{\"arrowcolor\":\"#2a3f5f\",\"arrowhead\":0,\"arrowwidth\":1},\"autotypenumbers\":\"strict\",\"coloraxis\":{\"colorbar\":{\"outlinewidth\":0,\"ticks\":\"\"}},\"colorscale\":{\"diverging\":[[0,\"#8e0152\"],[0.1,\"#c51b7d\"],[0.2,\"#de77ae\"],[0.3,\"#f1b6da\"],[0.4,\"#fde0ef\"],[0.5,\"#f7f7f7\"],[0.6,\"#e6f5d0\"],[0.7,\"#b8e186\"],[0.8,\"#7fbc41\"],[0.9,\"#4d9221\"],[1,\"#276419\"]],\"sequential\":[[0.0,\"#0d0887\"],[0.1111111111111111,\"#46039f\"],[0.2222222222222222,\"#7201a8\"],[0.3333333333333333,\"#9c179e\"],[0.4444444444444444,\"#bd3786\"],[0.5555555555555556,\"#d8576b\"],[0.6666666666666666,\"#ed7953\"],[0.7777777777777778,\"#fb9f3a\"],[0.8888888888888888,\"#fdca26\"],[1.0,\"#f0f921\"]],\"sequentialminus\":[[0.0,\"#0d0887\"],[0.1111111111111111,\"#46039f\"],[0.2222222222222222,\"#7201a8\"],[0.3333333333333333,\"#9c179e\"],[0.4444444444444444,\"#bd3786\"],[0.5555555555555556,\"#d8576b\"],[0.6666666666666666,\"#ed7953\"],[0.7777777777777778,\"#fb9f3a\"],[0.8888888888888888,\"#fdca26\"],[1.0,\"#f0f921\"]]},\"colorway\":[\"#636efa\",\"#EF553B\",\"#00cc96\",\"#ab63fa\",\"#FFA15A\",\"#19d3f3\",\"#FF6692\",\"#B6E880\",\"#FF97FF\",\"#FECB52\"],\"font\":{\"color\":\"#2a3f5f\"},\"geo\":{\"bgcolor\":\"white\",\"lakecolor\":\"white\",\"landcolor\":\"#E5ECF6\",\"showlakes\":true,\"showland\":true,\"subunitcolor\":\"white\"},\"hoverlabel\":{\"align\":\"left\"},\"hovermode\":\"closest\",\"mapbox\":{\"style\":\"light\"},\"paper_bgcolor\":\"white\",\"plot_bgcolor\":\"#E5ECF6\",\"polar\":{\"angularaxis\":{\"gridcolor\":\"white\",\"linecolor\":\"white\",\"ticks\":\"\"},\"bgcolor\":\"#E5ECF6\",\"radialaxis\":{\"gridcolor\":\"white\",\"linecolor\":\"white\",\"ticks\":\"\"}},\"scene\":{\"xaxis\":{\"backgroundcolor\":\"#E5ECF6\",\"gridcolor\":\"white\",\"gridwidth\":2,\"linecolor\":\"white\",\"showbackground\":true,\"ticks\":\"\",\"zerolinecolor\":\"white\"},\"yaxis\":{\"backgroundcolor\":\"#E5ECF6\",\"gridcolor\":\"white\",\"gridwidth\":2,\"linecolor\":\"white\",\"showbackground\":true,\"ticks\":\"\",\"zerolinecolor\":\"white\"},\"zaxis\":{\"backgroundcolor\":\"#E5ECF6\",\"gridcolor\":\"white\",\"gridwidth\":2,\"linecolor\":\"white\",\"showbackground\":true,\"ticks\":\"\",\"zerolinecolor\":\"white\"}},\"shapedefaults\":{\"line\":{\"color\":\"#2a3f5f\"}},\"ternary\":{\"aaxis\":{\"gridcolor\":\"white\",\"linecolor\":\"white\",\"ticks\":\"\"},\"baxis\":{\"gridcolor\":\"white\",\"linecolor\":\"white\",\"ticks\":\"\"},\"bgcolor\":\"#E5ECF6\",\"caxis\":{\"gridcolor\":\"white\",\"linecolor\":\"white\",\"ticks\":\"\"}},\"title\":{\"x\":0.05},\"xaxis\":{\"automargin\":true,\"gridcolor\":\"white\",\"linecolor\":\"white\",\"ticks\":\"\",\"title\":{\"standoff\":15},\"zerolinecolor\":\"white\",\"zerolinewidth\":2},\"yaxis\":{\"automargin\":true,\"gridcolor\":\"white\",\"linecolor\":\"white\",\"ticks\":\"\",\"title\":{\"standoff\":15},\"zerolinecolor\":\"white\",\"zerolinewidth\":2}}},\"xaxis\":{\"anchor\":\"y\",\"domain\":[0.0,1.0],\"title\":{\"text\":\"cena\"}},\"yaxis\":{\"anchor\":\"x\",\"domain\":[0.0,1.0]},\"legend\":{\"tracegroupgap\":0},\"title\":{\"text\":\"Rozrzut cechy - cena\"},\"boxmode\":\"group\"},                        {\"responsive\": true}                    ).then(function(){\n",
              "                            \n",
              "var gd = document.getElementById('9abd0dc1-b692-43b7-b4ea-a85c353e4975');\n",
              "var x = new MutationObserver(function (mutations, observer) {{\n",
              "        var display = window.getComputedStyle(gd).display;\n",
              "        if (!display || display === 'none') {{\n",
              "            console.log([gd, 'removed!']);\n",
              "            Plotly.purge(gd);\n",
              "            observer.disconnect();\n",
              "        }}\n",
              "}});\n",
              "\n",
              "// Listen for the removal of the full notebook cells\n",
              "var notebookContainer = gd.closest('#notebook-container');\n",
              "if (notebookContainer) {{\n",
              "    x.observe(notebookContainer, {childList: true});\n",
              "}}\n",
              "\n",
              "// Listen for the clearing of the current output cell\n",
              "var outputEl = gd.closest('.output');\n",
              "if (outputEl) {{\n",
              "    x.observe(outputEl, {childList: true});\n",
              "}}\n",
              "\n",
              "                        })                };                            </script>        </div>\n",
              "</body>\n",
              "</html>"
            ]
          },
          "metadata": {}
        }
      ]
    },
    {
      "cell_type": "code",
      "source": [
        "px.box(dane_modelowanie, x = \"pojemnosc_silnika\", title = \"Rozrzut cechy - pojemność silnika\", orientation = \"h\")"
      ],
      "metadata": {
        "colab": {
          "base_uri": "https://localhost:8080/",
          "height": 542
        },
        "id": "PHUjzhXodx3o",
        "outputId": "ec90d122-e16e-4dd0-eea0-f74899fb9b0a"
      },
      "execution_count": null,
      "outputs": [
        {
          "output_type": "display_data",
          "data": {
            "text/html": [
              "<html>\n",
              "<head><meta charset=\"utf-8\" /></head>\n",
              "<body>\n",
              "    <div>            <script src=\"https://cdnjs.cloudflare.com/ajax/libs/mathjax/2.7.5/MathJax.js?config=TeX-AMS-MML_SVG\"></script><script type=\"text/javascript\">if (window.MathJax) {MathJax.Hub.Config({SVG: {font: \"STIX-Web\"}});}</script>                <script type=\"text/javascript\">window.PlotlyConfig = {MathJaxConfig: 'local'};</script>\n",
              "        <script src=\"https://cdn.plot.ly/plotly-2.8.3.min.js\"></script>                <div id=\"7441b890-c3cc-49e3-8b53-461ac0f14c0f\" class=\"plotly-graph-div\" style=\"height:525px; width:100%;\"></div>            <script type=\"text/javascript\">                                    window.PLOTLYENV=window.PLOTLYENV || {};                                    if (document.getElementById(\"7441b890-c3cc-49e3-8b53-461ac0f14c0f\")) {                    Plotly.newPlot(                        \"7441b890-c3cc-49e3-8b53-461ac0f14c0f\",                        [{\"alignmentgroup\":\"True\",\"hovertemplate\":\"pojemnosc_silnika=%{x}<extra></extra>\",\"legendgroup\":\"\",\"marker\":{\"color\":\"#636efa\"},\"name\":\"\",\"notched\":false,\"offsetgroup\":\"\",\"orientation\":\"h\",\"showlegend\":false,\"x\":[999.0,1461.0,1461.0,1461.0,999.0,999.0,1332.0,898.0,999.0,999.0,1461.0,1197.0,999.0,1461.0,1332.0,1598.0,1598.0,898.0,999.0,1461.0,898.0,1598.0,999.0,999.0,1598.0,999.0,999.0,1332.0,999.0,999.0,1598.0,1598.0,999.0,999.0,898.0,999.0,1598.0,1461.0,999.0,1332.0,1332.0,1332.0,1149.0,999.0,999.0,1598.0,898.0,998.0,1461.0,999.0,1598.0,1332.0,999.0,999.0,1332.0,999.0,999.0,999.0,1598.0,1461.0,1598.0,1598.0,1598.0,999.0,1198.0,1332.0,1598.0,999.0,1149.0,1598.0,1149.0,1461.0,1598.0,999.0,999.0,1197.0,999.0,999.0,1332.0,1332.0,1598.0,1461.0,1461.0,999.0,1598.0,1149.0,1461.0,999.0,999.0,1461.0,1461.0,999.0,999.0,999.0,1332.0,1598.0,1598.0,898.0,1149.0,1598.0,1332.0,1598.0,1461.0,1149.0,999.0,1332.0,1332.0,999.0,898.0,999.0,1461.0,898.0,998.0,898.0,1598.0,1197.0,999.0,999.0,999.0,1461.0,1332.0,999.0,999.0,999.0,1197.0,999.0,1598.0,999.0,998.0,999.0,1598.0,1598.0,898.0,1461.0,999.0,1500.0,999.0,999.0,1461.0,1461.0,999.0,898.0,1598.0,999.0,999.0,999.0,999.0,999.0,999.0,1461.0,999.0,1461.0,999.0,999.0,1461.0,1149.0,1598.0,1461.0,999.0,1598.0,999.0,999.0,999.0,1598.0,999.0,999.0,999.0,999.0,999.0,1332.0,1198.0,1598.0,1197.0,1598.0,1149.0,898.0,898.0,1598.0,1598.0,1598.0,1149.0,1598.0,999.0,999.0,999.0,1461.0,999.0,898.0,999.0,999.0,999.0,999.0,1461.0,1332.0,1332.0,1198.0,1598.0,1598.0,898.0,998.0,1149.0,999.0,898.0,898.0,1461.0,1598.0,999.0,999.0,999.0,999.0,999.0,1598.0,999.0,999.0,999.0,898.0,999.0,1332.0,999.0,1598.0,999.0,999.0,999.0,999.0,999.0,1598.0,1461.0,1598.0,999.0,999.0,1598.0,999.0,999.0,999.0,999.0,1461.0,898.0,900.0,999.0,999.0,999.0,999.0,1199.0,898.0,999.0,1300.0,898.0,999.0,1461.0,898.0,1461.0,1461.0,999.0,999.0,999.0,999.0,999.0,1332.0,1598.0,999.0,1461.0,999.0,999.0,1300.0,1197.0,1197.0,1461.0,1332.0,999.0,1461.0,999.0,999.0,1461.0,1332.0,1598.0,1461.0,999.0,999.0,998.0,1461.0,1149.0,898.0,1332.0,1197.0,1149.0,1598.0,898.0,1332.0,1598.0,1598.0,1198.0,1598.0,999.0,999.0,999.0,999.0,898.0,999.0,1461.0,999.0,898.0,999.0,1149.0,898.0,1332.0,999.0,1598.0,999.0,999.0,999.0,999.0,999.0,1461.0,1332.0,1461.0,999.0,1197.0,999.0,1149.0,1461.0,1461.0,1332.0,1332.0,1332.0,898.0,999.0,1461.0,1598.0,1197.0,1598.0,1598.0,999.0,999.0,999.0,1598.0,1598.0,999.0,999.0,1461.0,999.0,999.0,1598.0,1598.0,999.0,1598.0,1598.0,999.0,999.0,1598.0,1461.0,998.0,1598.0,1598.0,999.0,999.0,1197.0,1332.0,1598.0,999.0,898.0,898.0,998.0,999.0,999.0,1598.0,1598.0,999.0,998.0,999.0,999.0,1461.0,999.0,999.0,1598.0,999.0,999.0,1332.0,898.0,999.0,999.0,999.0,1461.0,999.0,999.0,999.0,999.0,999.0,999.0,999.0,999.0,1149.0,999.0,999.0,1461.0,999.0,999.0,898.0,1332.0,898.0,1332.0,999.0,1198.0,1461.0,1197.0,999.0,999.0,999.0,1332.0,1461.0,1332.0,999.0,999.0,1598.0,1197.0,1461.0,1598.0,999.0,999.0,999.0,999.0,999.0,1461.0,1461.0,1598.0,999.0,1197.0,999.0,1149.0,999.0,999.0,999.0,1598.0,1332.0,1332.0,1461.0,999.0,999.0,999.0,999.0,999.0,1461.0,999.0,1461.0,999.0,1461.0,999.0,1598.0,999.0,1461.0,1461.0,1598.0,1598.0,999.0,1332.0,1598.0,999.0,999.0,1598.0,999.0,1199.0,999.0,999.0,999.0,1598.0,1598.0,1332.0,1149.0,1598.0,1332.0,999.0,1332.0,999.0,999.0,999.0,999.0,1332.0,1332.0,898.0,999.0,999.0,999.0,999.0,999.0,999.0,999.0,998.0,1598.0,998.0,1598.0,999.0,898.0,999.0,1461.0,999.0,898.0,999.0,999.0,999.0,1598.0,1461.0,1598.0,1461.0,1598.0,898.0,1461.0,1598.0,1598.0,1461.0,1598.0,999.0,999.0,999.0,999.0,1149.0,999.0,999.0,998.0,1598.0,1461.0,1598.0,1149.0,999.0,999.0,1461.0,1461.0,999.0,998.0,999.0,1149.0,1461.0,1461.0,1598.0,999.0,898.0,898.0,1598.0,1598.0,898.0,898.0,999.0,1461.0,999.0,1461.0,1197.0,998.0,999.0,999.0,999.0,898.0,1598.0,998.0,1598.0,999.0,898.0,998.0,1598.0,999.0,999.0,1332.0,999.0,999.0,1598.0,1149.0,1332.0,1197.0,999.0,999.0,999.0,999.0,1598.0,1461.0,999.0,1461.0,999.0,999.0,999.0,898.0,999.0,999.0,1598.0,999.0,1332.0,999.0,1197.0,999.0,998.0,999.0,999.0,999.0,999.0,1461.0,1600.0,898.0,1598.0,898.0,999.0,999.0,999.0,999.0,1598.0,898.0,999.0,1461.0,1461.0,999.0,1598.0,999.0,898.0,898.0,1598.0,999.0,999.0,1149.0,898.0,1461.0,999.0,1598.0,1461.0,999.0,999.0,999.0,999.0,1332.0,1598.0,999.0,1461.0,999.0,999.0,999.0,1461.0,999.0,999.0,999.0,1598.0,1598.0,999.0,999.0,999.0,999.0,999.0,999.0,999.0,999.0,999.0,998.0,998.0,999.0,999.0,1461.0,1332.0,1598.0,1598.0,1598.0,1197.0,1598.0,898.0,999.0,1598.0,898.0,1461.0,1461.0,1598.0,1598.0,1461.0,1598.0,999.0,898.0,1461.0,999.0,1197.0,999.0,999.0,999.0,999.0,1598.0,1598.0,999.0,1598.0,1461.0,999.0,999.0,999.0,1461.0,1461.0,999.0,1461.0,999.0,999.0,898.0,898.0,1598.0,898.0,1197.0,1461.0,1197.0,999.0,999.0,1598.0,999.0,1197.0,999.0,1149.0,898.0,1197.0,1149.0,1598.0,1598.0,1332.0,898.0,1461.0,1197.0,1149.0,1149.0,1598.0,1332.0,999.0,999.0,1598.0,1461.0,999.0,999.0,898.0,1461.0,1598.0,999.0,1461.0,999.0,1598.0,998.0,1461.0,1598.0,1461.0,1461.0,999.0,1461.0,1461.0,1461.0,1461.0,1461.0,999.0,999.0,999.0,999.0,999.0,999.0,999.0,999.0,1461.0,999.0,999.0,999.0,1461.0,1332.0,1598.0,1598.0,999.0,999.0,1598.0,999.0,998.0,1598.0,999.0,999.0,999.0,999.0,999.0,1598.0,1598.0,998.0,1461.0,999.0,1598.0,1197.0,998.0,999.0,1461.0,1461.0,999.0,999.0,1461.0,898.0,999.0,999.0,999.0,999.0,999.0,1461.0,999.0,1197.0,999.0,999.0,999.0,1598.0,1149.0,1598.0,999.0,999.0,999.0,999.0,999.0,999.0,1598.0,999.0,1461.0,1332.0,999.0,1461.0,1332.0,1461.0,999.0,999.0,999.0,1598.0,999.0,898.0,1332.0,999.0,999.0,898.0,1598.0,999.0,1461.0,999.0,999.0,1598.0,999.0,999.0,1461.0,999.0,999.0,999.0,1598.0,1000.0,999.0,1000.0,1000.0,1500.0,999.0,1598.0,1332.0,999.0,999.0,1598.0,999.0,1461.0,999.0,999.0,999.0,999.0,999.0,1500.0,1461.0,1461.0,1598.0,1598.0,1461.0,898.0,1598.0,999.0,999.0,999.0,999.0,1598.0,1461.0,1332.0,1461.0,1461.0,999.0,1461.0,1461.0,1461.0,1461.0,999.0,999.0,1598.0,999.0,999.0,999.0,999.0,999.0,999.0,1598.0,1598.0,898.0,1461.0,999.0,999.0,1598.0,1598.0,999.0,1197.0,1461.0,1332.0,999.0,999.0,999.0,1332.0,999.0,999.0,999.0,1461.0,1197.0,999.0,999.0,1598.0,1598.0,999.0,1461.0,1598.0,898.0,898.0,1598.0,1461.0,898.0,1598.0,1598.0,999.0,898.0,1461.0,1598.0,1332.0,999.0,999.0,999.0,1598.0,1461.0,1461.0,1197.0,1461.0,999.0,898.0,1598.0,1149.0,1598.0,1598.0,898.0,1598.0,1461.0,1197.0,1598.0,1197.0,999.0,1598.0,1461.0,1461.0,1598.0,1149.0,1461.0,1461.0,1598.0,1598.0,999.0,999.0,999.0,999.0,1332.0,999.0,1598.0,999.0,999.0,999.0,1598.0,999.0,999.0,999.0,999.0,999.0,1461.0,999.0,1461.0,999.0,999.0,999.0,1332.0,999.0,999.0,999.0,1461.0,1598.0,999.0,1332.0,1149.0,999.0,1598.0,1598.0,999.0,999.0,1461.0,999.0,1197.0,1598.0,1332.0,999.0,1332.0,999.0,1598.0,1598.0,1197.0,999.0,999.0,999.0,999.0,999.0,999.0,1300.0,1300.0,999.0,1461.0,1461.0,999.0,999.0,1598.0,999.0,999.0,1461.0,1598.0,1197.0,1332.0,1598.0,1598.0,1332.0,1461.0,898.0,999.0,1598.0,1461.0,1461.0,999.0,1598.0,999.0,999.0,1500.0,1598.0,1332.0,999.0,999.0,999.0,999.0,999.0,998.0,999.0,999.0,999.0,1461.0,1598.0,1197.0,999.0,998.0,999.0,1461.0,999.0,1598.0,999.0,999.0,1598.0,1461.0,1598.0,1598.0,898.0,1332.0,1332.0,999.0,1598.0,1598.0,898.0,1598.0,999.0,1332.0,1598.0,999.0,1461.0,1461.0,1461.0,1461.0,1598.0,999.0,1598.0,1461.0,999.0,1332.0,999.0,1598.0,999.0,999.0,1461.0,1598.0,1461.0,999.0,999.0,999.0,1500.0,999.0,999.0,1598.0,1461.0,999.0,999.0,999.0,999.0,1461.0,1598.0,1598.0,999.0,999.0,999.0,999.0,1598.0,999.0,1598.0,999.0,1461.0,1332.0,1598.0,999.0,1598.0,999.0,999.0,999.0,999.0,1461.0,1197.0,1461.0,1332.0,999.0,999.0,1461.0,898.0,1598.0,1461.0,898.0,999.0,999.0,1598.0,1461.0,1197.0,999.0,1332.0,1598.0,999.0,1461.0,999.0,1461.0,1149.0,999.0,999.0,999.0,1598.0,999.0,999.0,898.0,999.0,999.0,999.0,999.0,1197.0,999.0,999.0,999.0,1598.0,898.0,1149.0,999.0,1461.0,999.0,999.0,1461.0,999.0,998.0,999.0,999.0,1199.0,1461.0,999.0,898.0,1332.0,999.0,999.0,999.0,1598.0,1332.0,898.0,999.0,1461.0,1197.0,999.0,999.0,999.0,999.0,999.0,898.0,999.0,1598.0,999.0,999.0,999.0,999.0,1332.0,999.0,999.0,1598.0,999.0,1598.0,1332.0,1598.0,999.0,1332.0,1598.0,999.0,998.0,1598.0,1461.0,999.0,1598.0,999.0,1598.0,1332.0,1598.0,1332.0,999.0,1332.0,999.0,1332.0,999.0,999.0,999.0,898.0,999.0,1461.0,999.0,1461.0,999.0,1598.0,1598.0,999.0,999.0,1461.0,999.0,999.0,1598.0,1598.0,1149.0,1461.0,1332.0,999.0,999.0,1598.0,1461.0,999.0,999.0,898.0,999.0,1332.0,1461.0,999.0,898.0,999.0,1461.0,1461.0,999.0,898.0,999.0,1332.0,999.0,999.0,999.0,1598.0,999.0,999.0,999.0,999.0,999.0,999.0,999.0,999.0,999.0,999.0,1598.0,1332.0,1000.0,999.0,1461.0,1461.0,1598.0,1197.0,999.0,1197.0,1461.0,1149.0,999.0,999.0,1149.0,999.0,999.0,999.0,999.0,999.0,1600.0,999.0,1300.0,1000.0,999.0,1332.0,1149.0,1000.0,1461.0,999.0,1461.0,1461.0,1197.0,999.0,1598.0,1332.0,1598.0,999.0,898.0,999.0,999.0,1332.0,999.0,999.0,999.0,1000.0,1000.0,999.0,999.0,1598.0,999.0,999.0,999.0,999.0,1598.0,1332.0,898.0,999.0,1149.0,898.0,1149.0,1598.0,999.0,1598.0,1461.0,1332.0,1598.0,1598.0,999.0,1332.0,1598.0,1461.0,1598.0,898.0,999.0,1332.0,898.0,1461.0,1598.0,1598.0,1598.0,898.0,999.0,999.0,1332.0,1332.0,1461.0,1197.0,999.0,1461.0,1197.0,1461.0,1598.0,999.0,999.0,999.0,1332.0,1598.0,898.0,1461.0,898.0,1332.0,1461.0,999.0,1461.0,999.0,1461.0,1461.0,1461.0,999.0,898.0,999.0,999.0,1461.0,1598.0,1461.0,999.0,1461.0,1598.0,1598.0,999.0,1197.0,999.0,999.0,1461.0,1461.0,898.0,1461.0,999.0,1598.0,1332.0,898.0,1461.0,1461.0,898.0,999.0,999.0,1598.0,1461.0,1461.0,898.0,1461.0,1598.0,1598.0,999.0,999.0,1598.0,999.0,1461.0,1197.0,898.0,898.0,1598.0,998.0,1598.0,999.0,1598.0,898.0,1598.0,1461.0,1598.0,1598.0,898.0,999.0,999.0,999.0,1197.0,999.0,999.0,898.0,1461.0,999.0,999.0,1598.0,898.0,1199.0,998.0,1461.0,999.0,998.0,1598.0,999.0,1197.0,998.0,898.0,999.0,999.0,999.0,999.0,1598.0,1461.0,999.0,1461.0,1598.0,898.0,1461.0,898.0,999.0,1598.0,1461.0,999.0,898.0,1461.0,1461.0,898.0,999.0,1461.0,898.0,1197.0,999.0,1197.0,1332.0,898.0,1598.0,1332.0,1332.0,1598.0,998.0,999.0,999.0,998.0,1197.0,898.0,1461.0,999.0,999.0,1598.0,1461.0,999.0,999.0,1332.0,1461.0,1461.0,998.0,1598.0,999.0,999.0,1598.0,898.0,999.0,1598.0,1461.0,999.0,1598.0,1197.0,1197.0,1461.0,898.0,999.0,999.0,1197.0,999.0,898.0,1598.0,1461.0,1598.0,1197.0,999.0,999.0,1598.0,1598.0,999.0,999.0,1197.0,1598.0,1598.0,898.0,999.0,1461.0,1197.0,1197.0,1461.0,999.0,1598.0,898.0,1461.0,1461.0,898.0,999.0,1461.0,999.0,1461.0,898.0,999.0,898.0,1149.0,898.0,999.0,999.0,1598.0,1598.0,1461.0,999.0,1461.0,1461.0,999.0,898.0,898.0,1598.0,1598.0,999.0,999.0,1461.0,1598.0,1461.0,999.0,1598.0,898.0,1198.0,999.0,999.0,1461.0,898.0,1461.0,998.0,999.0,999.0,999.0,999.0,898.0,1332.0,1598.0,1598.0,1598.0,999.0,1598.0,1149.0,1598.0,1598.0,1461.0],\"x0\":\" \",\"xaxis\":\"x\",\"y0\":\" \",\"yaxis\":\"y\",\"type\":\"box\"}],                        {\"template\":{\"data\":{\"bar\":[{\"error_x\":{\"color\":\"#2a3f5f\"},\"error_y\":{\"color\":\"#2a3f5f\"},\"marker\":{\"line\":{\"color\":\"#E5ECF6\",\"width\":0.5},\"pattern\":{\"fillmode\":\"overlay\",\"size\":10,\"solidity\":0.2}},\"type\":\"bar\"}],\"barpolar\":[{\"marker\":{\"line\":{\"color\":\"#E5ECF6\",\"width\":0.5},\"pattern\":{\"fillmode\":\"overlay\",\"size\":10,\"solidity\":0.2}},\"type\":\"barpolar\"}],\"carpet\":[{\"aaxis\":{\"endlinecolor\":\"#2a3f5f\",\"gridcolor\":\"white\",\"linecolor\":\"white\",\"minorgridcolor\":\"white\",\"startlinecolor\":\"#2a3f5f\"},\"baxis\":{\"endlinecolor\":\"#2a3f5f\",\"gridcolor\":\"white\",\"linecolor\":\"white\",\"minorgridcolor\":\"white\",\"startlinecolor\":\"#2a3f5f\"},\"type\":\"carpet\"}],\"choropleth\":[{\"colorbar\":{\"outlinewidth\":0,\"ticks\":\"\"},\"type\":\"choropleth\"}],\"contour\":[{\"colorbar\":{\"outlinewidth\":0,\"ticks\":\"\"},\"colorscale\":[[0.0,\"#0d0887\"],[0.1111111111111111,\"#46039f\"],[0.2222222222222222,\"#7201a8\"],[0.3333333333333333,\"#9c179e\"],[0.4444444444444444,\"#bd3786\"],[0.5555555555555556,\"#d8576b\"],[0.6666666666666666,\"#ed7953\"],[0.7777777777777778,\"#fb9f3a\"],[0.8888888888888888,\"#fdca26\"],[1.0,\"#f0f921\"]],\"type\":\"contour\"}],\"contourcarpet\":[{\"colorbar\":{\"outlinewidth\":0,\"ticks\":\"\"},\"type\":\"contourcarpet\"}],\"heatmap\":[{\"colorbar\":{\"outlinewidth\":0,\"ticks\":\"\"},\"colorscale\":[[0.0,\"#0d0887\"],[0.1111111111111111,\"#46039f\"],[0.2222222222222222,\"#7201a8\"],[0.3333333333333333,\"#9c179e\"],[0.4444444444444444,\"#bd3786\"],[0.5555555555555556,\"#d8576b\"],[0.6666666666666666,\"#ed7953\"],[0.7777777777777778,\"#fb9f3a\"],[0.8888888888888888,\"#fdca26\"],[1.0,\"#f0f921\"]],\"type\":\"heatmap\"}],\"heatmapgl\":[{\"colorbar\":{\"outlinewidth\":0,\"ticks\":\"\"},\"colorscale\":[[0.0,\"#0d0887\"],[0.1111111111111111,\"#46039f\"],[0.2222222222222222,\"#7201a8\"],[0.3333333333333333,\"#9c179e\"],[0.4444444444444444,\"#bd3786\"],[0.5555555555555556,\"#d8576b\"],[0.6666666666666666,\"#ed7953\"],[0.7777777777777778,\"#fb9f3a\"],[0.8888888888888888,\"#fdca26\"],[1.0,\"#f0f921\"]],\"type\":\"heatmapgl\"}],\"histogram\":[{\"marker\":{\"pattern\":{\"fillmode\":\"overlay\",\"size\":10,\"solidity\":0.2}},\"type\":\"histogram\"}],\"histogram2d\":[{\"colorbar\":{\"outlinewidth\":0,\"ticks\":\"\"},\"colorscale\":[[0.0,\"#0d0887\"],[0.1111111111111111,\"#46039f\"],[0.2222222222222222,\"#7201a8\"],[0.3333333333333333,\"#9c179e\"],[0.4444444444444444,\"#bd3786\"],[0.5555555555555556,\"#d8576b\"],[0.6666666666666666,\"#ed7953\"],[0.7777777777777778,\"#fb9f3a\"],[0.8888888888888888,\"#fdca26\"],[1.0,\"#f0f921\"]],\"type\":\"histogram2d\"}],\"histogram2dcontour\":[{\"colorbar\":{\"outlinewidth\":0,\"ticks\":\"\"},\"colorscale\":[[0.0,\"#0d0887\"],[0.1111111111111111,\"#46039f\"],[0.2222222222222222,\"#7201a8\"],[0.3333333333333333,\"#9c179e\"],[0.4444444444444444,\"#bd3786\"],[0.5555555555555556,\"#d8576b\"],[0.6666666666666666,\"#ed7953\"],[0.7777777777777778,\"#fb9f3a\"],[0.8888888888888888,\"#fdca26\"],[1.0,\"#f0f921\"]],\"type\":\"histogram2dcontour\"}],\"mesh3d\":[{\"colorbar\":{\"outlinewidth\":0,\"ticks\":\"\"},\"type\":\"mesh3d\"}],\"parcoords\":[{\"line\":{\"colorbar\":{\"outlinewidth\":0,\"ticks\":\"\"}},\"type\":\"parcoords\"}],\"pie\":[{\"automargin\":true,\"type\":\"pie\"}],\"scatter\":[{\"marker\":{\"colorbar\":{\"outlinewidth\":0,\"ticks\":\"\"}},\"type\":\"scatter\"}],\"scatter3d\":[{\"line\":{\"colorbar\":{\"outlinewidth\":0,\"ticks\":\"\"}},\"marker\":{\"colorbar\":{\"outlinewidth\":0,\"ticks\":\"\"}},\"type\":\"scatter3d\"}],\"scattercarpet\":[{\"marker\":{\"colorbar\":{\"outlinewidth\":0,\"ticks\":\"\"}},\"type\":\"scattercarpet\"}],\"scattergeo\":[{\"marker\":{\"colorbar\":{\"outlinewidth\":0,\"ticks\":\"\"}},\"type\":\"scattergeo\"}],\"scattergl\":[{\"marker\":{\"colorbar\":{\"outlinewidth\":0,\"ticks\":\"\"}},\"type\":\"scattergl\"}],\"scattermapbox\":[{\"marker\":{\"colorbar\":{\"outlinewidth\":0,\"ticks\":\"\"}},\"type\":\"scattermapbox\"}],\"scatterpolar\":[{\"marker\":{\"colorbar\":{\"outlinewidth\":0,\"ticks\":\"\"}},\"type\":\"scatterpolar\"}],\"scatterpolargl\":[{\"marker\":{\"colorbar\":{\"outlinewidth\":0,\"ticks\":\"\"}},\"type\":\"scatterpolargl\"}],\"scatterternary\":[{\"marker\":{\"colorbar\":{\"outlinewidth\":0,\"ticks\":\"\"}},\"type\":\"scatterternary\"}],\"surface\":[{\"colorbar\":{\"outlinewidth\":0,\"ticks\":\"\"},\"colorscale\":[[0.0,\"#0d0887\"],[0.1111111111111111,\"#46039f\"],[0.2222222222222222,\"#7201a8\"],[0.3333333333333333,\"#9c179e\"],[0.4444444444444444,\"#bd3786\"],[0.5555555555555556,\"#d8576b\"],[0.6666666666666666,\"#ed7953\"],[0.7777777777777778,\"#fb9f3a\"],[0.8888888888888888,\"#fdca26\"],[1.0,\"#f0f921\"]],\"type\":\"surface\"}],\"table\":[{\"cells\":{\"fill\":{\"color\":\"#EBF0F8\"},\"line\":{\"color\":\"white\"}},\"header\":{\"fill\":{\"color\":\"#C8D4E3\"},\"line\":{\"color\":\"white\"}},\"type\":\"table\"}]},\"layout\":{\"annotationdefaults\":{\"arrowcolor\":\"#2a3f5f\",\"arrowhead\":0,\"arrowwidth\":1},\"autotypenumbers\":\"strict\",\"coloraxis\":{\"colorbar\":{\"outlinewidth\":0,\"ticks\":\"\"}},\"colorscale\":{\"diverging\":[[0,\"#8e0152\"],[0.1,\"#c51b7d\"],[0.2,\"#de77ae\"],[0.3,\"#f1b6da\"],[0.4,\"#fde0ef\"],[0.5,\"#f7f7f7\"],[0.6,\"#e6f5d0\"],[0.7,\"#b8e186\"],[0.8,\"#7fbc41\"],[0.9,\"#4d9221\"],[1,\"#276419\"]],\"sequential\":[[0.0,\"#0d0887\"],[0.1111111111111111,\"#46039f\"],[0.2222222222222222,\"#7201a8\"],[0.3333333333333333,\"#9c179e\"],[0.4444444444444444,\"#bd3786\"],[0.5555555555555556,\"#d8576b\"],[0.6666666666666666,\"#ed7953\"],[0.7777777777777778,\"#fb9f3a\"],[0.8888888888888888,\"#fdca26\"],[1.0,\"#f0f921\"]],\"sequentialminus\":[[0.0,\"#0d0887\"],[0.1111111111111111,\"#46039f\"],[0.2222222222222222,\"#7201a8\"],[0.3333333333333333,\"#9c179e\"],[0.4444444444444444,\"#bd3786\"],[0.5555555555555556,\"#d8576b\"],[0.6666666666666666,\"#ed7953\"],[0.7777777777777778,\"#fb9f3a\"],[0.8888888888888888,\"#fdca26\"],[1.0,\"#f0f921\"]]},\"colorway\":[\"#636efa\",\"#EF553B\",\"#00cc96\",\"#ab63fa\",\"#FFA15A\",\"#19d3f3\",\"#FF6692\",\"#B6E880\",\"#FF97FF\",\"#FECB52\"],\"font\":{\"color\":\"#2a3f5f\"},\"geo\":{\"bgcolor\":\"white\",\"lakecolor\":\"white\",\"landcolor\":\"#E5ECF6\",\"showlakes\":true,\"showland\":true,\"subunitcolor\":\"white\"},\"hoverlabel\":{\"align\":\"left\"},\"hovermode\":\"closest\",\"mapbox\":{\"style\":\"light\"},\"paper_bgcolor\":\"white\",\"plot_bgcolor\":\"#E5ECF6\",\"polar\":{\"angularaxis\":{\"gridcolor\":\"white\",\"linecolor\":\"white\",\"ticks\":\"\"},\"bgcolor\":\"#E5ECF6\",\"radialaxis\":{\"gridcolor\":\"white\",\"linecolor\":\"white\",\"ticks\":\"\"}},\"scene\":{\"xaxis\":{\"backgroundcolor\":\"#E5ECF6\",\"gridcolor\":\"white\",\"gridwidth\":2,\"linecolor\":\"white\",\"showbackground\":true,\"ticks\":\"\",\"zerolinecolor\":\"white\"},\"yaxis\":{\"backgroundcolor\":\"#E5ECF6\",\"gridcolor\":\"white\",\"gridwidth\":2,\"linecolor\":\"white\",\"showbackground\":true,\"ticks\":\"\",\"zerolinecolor\":\"white\"},\"zaxis\":{\"backgroundcolor\":\"#E5ECF6\",\"gridcolor\":\"white\",\"gridwidth\":2,\"linecolor\":\"white\",\"showbackground\":true,\"ticks\":\"\",\"zerolinecolor\":\"white\"}},\"shapedefaults\":{\"line\":{\"color\":\"#2a3f5f\"}},\"ternary\":{\"aaxis\":{\"gridcolor\":\"white\",\"linecolor\":\"white\",\"ticks\":\"\"},\"baxis\":{\"gridcolor\":\"white\",\"linecolor\":\"white\",\"ticks\":\"\"},\"bgcolor\":\"#E5ECF6\",\"caxis\":{\"gridcolor\":\"white\",\"linecolor\":\"white\",\"ticks\":\"\"}},\"title\":{\"x\":0.05},\"xaxis\":{\"automargin\":true,\"gridcolor\":\"white\",\"linecolor\":\"white\",\"ticks\":\"\",\"title\":{\"standoff\":15},\"zerolinecolor\":\"white\",\"zerolinewidth\":2},\"yaxis\":{\"automargin\":true,\"gridcolor\":\"white\",\"linecolor\":\"white\",\"ticks\":\"\",\"title\":{\"standoff\":15},\"zerolinecolor\":\"white\",\"zerolinewidth\":2}}},\"xaxis\":{\"anchor\":\"y\",\"domain\":[0.0,1.0],\"title\":{\"text\":\"pojemnosc_silnika\"}},\"yaxis\":{\"anchor\":\"x\",\"domain\":[0.0,1.0]},\"legend\":{\"tracegroupgap\":0},\"title\":{\"text\":\"Rozrzut cechy - pojemno\\u015b\\u0107 silnika\"},\"boxmode\":\"group\"},                        {\"responsive\": true}                    ).then(function(){\n",
              "                            \n",
              "var gd = document.getElementById('7441b890-c3cc-49e3-8b53-461ac0f14c0f');\n",
              "var x = new MutationObserver(function (mutations, observer) {{\n",
              "        var display = window.getComputedStyle(gd).display;\n",
              "        if (!display || display === 'none') {{\n",
              "            console.log([gd, 'removed!']);\n",
              "            Plotly.purge(gd);\n",
              "            observer.disconnect();\n",
              "        }}\n",
              "}});\n",
              "\n",
              "// Listen for the removal of the full notebook cells\n",
              "var notebookContainer = gd.closest('#notebook-container');\n",
              "if (notebookContainer) {{\n",
              "    x.observe(notebookContainer, {childList: true});\n",
              "}}\n",
              "\n",
              "// Listen for the clearing of the current output cell\n",
              "var outputEl = gd.closest('.output');\n",
              "if (outputEl) {{\n",
              "    x.observe(outputEl, {childList: true});\n",
              "}}\n",
              "\n",
              "                        })                };                            </script>        </div>\n",
              "</body>\n",
              "</html>"
            ]
          },
          "metadata": {}
        }
      ]
    },
    {
      "cell_type": "code",
      "source": [
        "px.box(dane_modelowanie, x = \"przebieg\", title = \"Rozrzut cechy - przebieg\", orientation = \"h\")"
      ],
      "metadata": {
        "colab": {
          "base_uri": "https://localhost:8080/",
          "height": 542
        },
        "id": "-jjkPfQhED8l",
        "outputId": "f8cb9573-abef-4d51-ac1e-8f9d5fba252b"
      },
      "execution_count": null,
      "outputs": [
        {
          "output_type": "display_data",
          "data": {
            "text/html": [
              "<html>\n",
              "<head><meta charset=\"utf-8\" /></head>\n",
              "<body>\n",
              "    <div>            <script src=\"https://cdnjs.cloudflare.com/ajax/libs/mathjax/2.7.5/MathJax.js?config=TeX-AMS-MML_SVG\"></script><script type=\"text/javascript\">if (window.MathJax) {MathJax.Hub.Config({SVG: {font: \"STIX-Web\"}});}</script>                <script type=\"text/javascript\">window.PlotlyConfig = {MathJaxConfig: 'local'};</script>\n",
              "        <script src=\"https://cdn.plot.ly/plotly-2.8.3.min.js\"></script>                <div id=\"59f82928-7166-496e-a135-ccd4688fded0\" class=\"plotly-graph-div\" style=\"height:525px; width:100%;\"></div>            <script type=\"text/javascript\">                                    window.PLOTLYENV=window.PLOTLYENV || {};                                    if (document.getElementById(\"59f82928-7166-496e-a135-ccd4688fded0\")) {                    Plotly.newPlot(                        \"59f82928-7166-496e-a135-ccd4688fded0\",                        [{\"alignmentgroup\":\"True\",\"hovertemplate\":\"przebieg=%{x}<extra></extra>\",\"legendgroup\":\"\",\"marker\":{\"color\":\"#636efa\"},\"name\":\"\",\"notched\":false,\"offsetgroup\":\"\",\"orientation\":\"h\",\"showlegend\":false,\"x\":[18500,299000,130000,128600,92800,1,1,403800,29306,1,126000,31805,10,208600,1,90000,25800,38000,6810,120000,38000,155000,10,47650,31000,10,10,10,1,32384,103588,118590,6220,10,43000,9000,51500,88000,5000,1,10,10,177294,1,10,53689,49600,73000,189900,10,12000,1,1,105,9866,1,14249,10000,63500,136100,100000,74000,122553,22054,48741,34000,60000,5,16632,21700,82300,60000,87687,5,5,127400,24500,20500,5,5,124000,93800,130000,5,204551,231000,137330,10,5,127000,60000,21000,6000,47000,56045,49531,102214,56000,95000,96340,1,39584,96000,76784,80000,97275,1,5,22044,15000,124000,128000,148447,123073,67314,57000,74800,5,320,84100,10,5,5,24000,90927,23344,171234,48506,7000,35372,26000,51293,71685,173265,5,118000,6,31800,66129,48123,19070,104028,45000,136000,1,34000,5,28288,80000,39586,1,73270,1,1,34000,106534,80600,137900,5,39464,10,10,5,31305,5,5,5,40105,140000,5,112712,42140,32190,39441,113457,54633,161093,198000,45500,51670,103721,61248,1,1,10,111078,5,54032,95681,21500,5,1,100000,5,55000,50590,183417,47000,105036,81000,111000,72600,61670,34701,138603,66111,5,9789,11000,10,5,68200,51200,1,5,12000,8623,22120,62842,121178,88000,2833,5,5,5,53000,93000,115000,5,5,212000,10,5,5,5,146200,101000,140000,5,30000,6071,10,124000,80000,8300,10,103000,32000,415827,108000,390234,60000,10,10,5,7900,98706,10,102000,25000,230000,14000,1,10,108000,120000,180000,1,1,163455,92330,114881,117300,45079,198000,99349,15800,31107,51414,25789,39074,61232,1,140000,78594,123000,69000,10,134000,42574,150533,136592,5,20000,1,117000,64000,32368,59000,57700,176449,15000,80150,56700,1,75000,84200,5,5,40000,1,22000,24000,2,168000,2,132527,9700,94000,144000,98922,1,1,1,100222,5,91000,80000,125000,36000,33000,1,2,1,190000,40000,40000,1,51000,13300,2281,91030,62673,107000,93552,72480,10,4,43325,26800,31939,39409,124286,1,34300,160000,2995,75775,36400,35860,30600,51800,4,38091,125165,95000,67000,42135,5,5,89500,4,1,93000,75680,5,1,105132,31853,10,10,175600,71500,23000,1,10,98423,7000,14000,9,103400,1521,38382,142530,5,592,105000,10,69757,33000,5,136207,118000,78474,64000,5,77000,10,122000,10,10,10,47781,62000,24000,65000,19607,1,5,5,42508,34265,77421,67689,122,111762,59415,63016,10,59415,1,73400,97798,74665,150032,16000,7219,10,1,13625,63000,34915,38743,89000,10,29366,60978,10,112429,150343,79094,52419,6,5,75000,37967,10,146838,42345,134480,18000,9000,91256,143179,56925,1,98900,43313,7,63843,10,1,5,1,1,5,1,95000,5,5,10,1000,9513,5496,44632,6300,202142,23847,29000,5,68000,78000,77254,1,26228,5,47400,2230,55000,84462,34386,82245,98884,97492,94391,44143,143361,93180,116309,1,600,1,72721,136000,74000,5200,11136,85000,95000,153206,49000,10457,46000,10,85000,10000,97000,7400,82000,140000,162800,124600,26100,54000,20000,44200,121780,18500,23000,6500,179500,1,25000,99000,47029,1,36000,41000,106550,116000,81080,139000,5,39000,42991,98700,38000,1,1,126,64525,106000,189000,1,106000,1,1,1,41289,52808,66500,58629,115000,1,8500,14000,28000,5100,15000,51387,9179,10,5,62396,5,42166,40105,1,1,1,76000,40500,19900,53600,69100,7500,19167,25000,1,65020,35900,1,110523,105000,10,60000,1,44000,126000,27284,5,38200,71205,111997,91520,10,120000,168771,10,10,1,5,10,16303,17283,138600,1,1,80218,83226,24881,5,5,145173,140000,15,5,99000,83653,41000,11466,22821,5,34772,68104,91280,10,1,79663,18000,86261,38312,45400,62000,48000,83626,9500,91544,49000,150201,104000,138284,145000,70000,67965,13143,39000,129404,1,124923,23900,113100,1,8500,102500,25200,44632,83000,113000,1,119800,28000,109000,94500,45715,122207,80000,13000,74581,74000,47661,46000,105000,150400,99500,6400,27900,180000,12000,90000,7,35991,78000,80700,248564,70294,51000,16606,32400,172007,79200,106385,106071,61500,1700,23000,54155,57414,139900,10,1,13000,67000,56251,4000,119765,49800,79200,61946,167837,42471,101655,116428,1,118000,151000,126000,83000,11000,10000,61000,91287,10,120630,1,5,5,132500,90000,17500,10,46433,10,235254,68828,5,10,41700,49000,64581,78120,22887,72000,31000,10,12848,98317,81843,106200,92357,11788,102700,90100,99890,27719,102500,61000,9,17,115000,18700,22000,17,5,1,10,125127,5,63331,64000,1,1,64000,99739,37760,31650,17,5000,10,5,5,60200,10,173949,60000,1,217000,10,20000,5,1,36000,226947,21800,63000,1,10,1,32143,65000,18000,36000,36367,1,58000,4000,8,46000,5,5,10,161140,45000,1,4,4,100000,74500,13500,1,104095,13602,107682,22070,156800,57000,21300,10,1,66317,87000,130000,164000,40400,64549,99000,69700,69000,1,5,13800,10,96224,129000,12000,253408,10,9400,81088,175939,85548,106176,36100,42500,46200,9347,35235,13923,10,15300,102147,77003,56380,43155,138871,33500,1,116000,104268,1,113500,181000,10000,10,1,10,104042,27136,5,48940,232849,51686,120247,59000,98344,81754,69516,147188,39952,8931,47765,144557,81410,71642,21000,90025,50000,169595,141800,155000,14000,9300,44000,7,65000,243000,109000,119197,161259,65069,105000,302000,20400,58800,100000,98100,41300,199999,52081,52800,62000,1,69423,54326,116628,73860,102090,194000,147000,196000,217000,5,12600,5,14200,5,10,150000,5,1,1,157000,78000,5,5,1,5,119240,5,127000,18000,13000,24000,5,23000,47000,3000,102000,140000,7540,2932,65355,37678,32555,78306,11000,5,151200,5,140000,75000,10,5,5,5,136524,130480,228000,1,25,1,25,1,10,10,10,10,59000,84000,5,14968,115397,5,44220,116979,62530,107082,41942,74900,95151,2112,100305,6500,20948,95500,131331,1,11100,36000,5,36412,142805,87650,5,13605,10,1,23300,1,78000,5,1,16653,102929,63000,54024,37634,76981,25000,115000,4,84648,1,180000,80000,15003,64771,119500,39800,1,10,14700,203677,43500,28000,36200,128112,5,125000,1,40000,115900,31000,7000,45616,45000,32900,233100,10000,34000,46700,18000,1,1,51900,41000,20,4,1,86811,97000,1,4500,95500,77300,10,5,22634,40064,56098,61000,55720,1,26610,1,28769,54535,1,114500,86000,168000,1,68557,1,105000,39000,19160,112000,13000,83000,92000,34498,43753,5,38000,125471,88000,30658,108650,104000,6770,9500,159990,79000,88000,800,30000,43000,23000,87000,34000,252300,249000,5,5,5,120609,5,1,87000,10,6,6,6,103000,6,1,10,63173,60000,134000,1,240000,85100,5,188000,10,49374,30000,10,104000,125000,1,124856,10,10,1,39988,121000,14756,139163,1,91693,84000,20146,6609,10,10,10,54850,6,74623,52886,10,7300,39424,55600,25200,133000,59000,8000,112538,1,133591,5,8,69460,55900,105089,59070,19697,8,142000,5,73351,5,153820,5,5,5,23300,5,275,162000,22422,18000,10,51106,1,138728,5,96000,74089,21600,75,116100,38381,7454,133380,84000,69037,170000,5,1,1,49722,145595,5,17900,75860,10000,5,171000,119000,21000,17883,13000,140000,5,39000,10380,10,5,25300,5,91519,21403,4,23177,10,10,10,16137,787,70723,1,93560,5,5,5,131000,5,42000,109000,4,87000,84943,91000,28000,1,119614,140853,22719,30000,39200,5,48765,17700,10,91000,5,5,63700,4,171611,5,169000,50000,110000,5,163508,10,90000,5,100000,5,5,5,1,42000,5,5,5,11000,1,71010,500,39520,4,5,40783,5,45800,4,159990,40200,28562,74965,10,114362,89304,1,119667,54546,5,5,98000,48000,71000,41000,6500,1,43000,79871,80000,79900,59000,25000,50000,11400,5,5,178000,161288,8,199000,72294,11200,48186,175000,45020,50094,5,206451,95380,82000,52000,5,72000,126000,20000,1,149000,104000,127000,32934,78500,36500,1,79953,146166,29000,1,175500,51705,184000,82882,72200,6500,175000,150000,197121,178558,17500,11500,153486,39279,107346,88000,39000,116000,42941,16000,112000,61000,218338,83000,125000,42000,14577,3000,25400,155000,7500,130000,86000,93335,62000,100000,33307,41000,10,56000,143454,103000,192000,92605,53200,104000,2750,5,79000,67500,1,6416,74000,234000,9200,52400,56000,53468,140000,144000,74320,43000,79125,75300,4366,85020,15852,60000,80064,33000,19000,1400,91400,267300,33000,76000,56700,28700,162000,131000,6800,98000,41983,22561,86200,130000,50000,147000,13148,221000,99500,178000,35000,132100,63000,63000,50118,1,1,128000,27450,140479,20000,51000,95200,56397,50986,14000,34000,129000,90000,31000,30000,5,109917,197000,60232,62818,13000,142000,32650,60000,6200,94400,117034,4200,82000,139000,245000,110000,23000,5,5,81500,5,32000,17000,301000,128000,115000,11136,33000,30000,150000,28000,40000,69500,179000,129000,3200,61193,24890,18600,38000,51000,122000,241000,33000,109000,152600,92000,25800,21000,68140,103445,43155,17700,48000,189000,38111,49000,6800,146000,328000,74058,60000,87000,157000,67436,125224,155553,72000,76000,57699,35700,71000,86000,9800,7200,63000,51000,170000,27851,120000,85000,41381,17000,85232,10,10,10,11200,47800,43708,56525,231983,66832,12600,77710,299500,29900,114532,51000],\"x0\":\" \",\"xaxis\":\"x\",\"y0\":\" \",\"yaxis\":\"y\",\"type\":\"box\"}],                        {\"template\":{\"data\":{\"bar\":[{\"error_x\":{\"color\":\"#2a3f5f\"},\"error_y\":{\"color\":\"#2a3f5f\"},\"marker\":{\"line\":{\"color\":\"#E5ECF6\",\"width\":0.5},\"pattern\":{\"fillmode\":\"overlay\",\"size\":10,\"solidity\":0.2}},\"type\":\"bar\"}],\"barpolar\":[{\"marker\":{\"line\":{\"color\":\"#E5ECF6\",\"width\":0.5},\"pattern\":{\"fillmode\":\"overlay\",\"size\":10,\"solidity\":0.2}},\"type\":\"barpolar\"}],\"carpet\":[{\"aaxis\":{\"endlinecolor\":\"#2a3f5f\",\"gridcolor\":\"white\",\"linecolor\":\"white\",\"minorgridcolor\":\"white\",\"startlinecolor\":\"#2a3f5f\"},\"baxis\":{\"endlinecolor\":\"#2a3f5f\",\"gridcolor\":\"white\",\"linecolor\":\"white\",\"minorgridcolor\":\"white\",\"startlinecolor\":\"#2a3f5f\"},\"type\":\"carpet\"}],\"choropleth\":[{\"colorbar\":{\"outlinewidth\":0,\"ticks\":\"\"},\"type\":\"choropleth\"}],\"contour\":[{\"colorbar\":{\"outlinewidth\":0,\"ticks\":\"\"},\"colorscale\":[[0.0,\"#0d0887\"],[0.1111111111111111,\"#46039f\"],[0.2222222222222222,\"#7201a8\"],[0.3333333333333333,\"#9c179e\"],[0.4444444444444444,\"#bd3786\"],[0.5555555555555556,\"#d8576b\"],[0.6666666666666666,\"#ed7953\"],[0.7777777777777778,\"#fb9f3a\"],[0.8888888888888888,\"#fdca26\"],[1.0,\"#f0f921\"]],\"type\":\"contour\"}],\"contourcarpet\":[{\"colorbar\":{\"outlinewidth\":0,\"ticks\":\"\"},\"type\":\"contourcarpet\"}],\"heatmap\":[{\"colorbar\":{\"outlinewidth\":0,\"ticks\":\"\"},\"colorscale\":[[0.0,\"#0d0887\"],[0.1111111111111111,\"#46039f\"],[0.2222222222222222,\"#7201a8\"],[0.3333333333333333,\"#9c179e\"],[0.4444444444444444,\"#bd3786\"],[0.5555555555555556,\"#d8576b\"],[0.6666666666666666,\"#ed7953\"],[0.7777777777777778,\"#fb9f3a\"],[0.8888888888888888,\"#fdca26\"],[1.0,\"#f0f921\"]],\"type\":\"heatmap\"}],\"heatmapgl\":[{\"colorbar\":{\"outlinewidth\":0,\"ticks\":\"\"},\"colorscale\":[[0.0,\"#0d0887\"],[0.1111111111111111,\"#46039f\"],[0.2222222222222222,\"#7201a8\"],[0.3333333333333333,\"#9c179e\"],[0.4444444444444444,\"#bd3786\"],[0.5555555555555556,\"#d8576b\"],[0.6666666666666666,\"#ed7953\"],[0.7777777777777778,\"#fb9f3a\"],[0.8888888888888888,\"#fdca26\"],[1.0,\"#f0f921\"]],\"type\":\"heatmapgl\"}],\"histogram\":[{\"marker\":{\"pattern\":{\"fillmode\":\"overlay\",\"size\":10,\"solidity\":0.2}},\"type\":\"histogram\"}],\"histogram2d\":[{\"colorbar\":{\"outlinewidth\":0,\"ticks\":\"\"},\"colorscale\":[[0.0,\"#0d0887\"],[0.1111111111111111,\"#46039f\"],[0.2222222222222222,\"#7201a8\"],[0.3333333333333333,\"#9c179e\"],[0.4444444444444444,\"#bd3786\"],[0.5555555555555556,\"#d8576b\"],[0.6666666666666666,\"#ed7953\"],[0.7777777777777778,\"#fb9f3a\"],[0.8888888888888888,\"#fdca26\"],[1.0,\"#f0f921\"]],\"type\":\"histogram2d\"}],\"histogram2dcontour\":[{\"colorbar\":{\"outlinewidth\":0,\"ticks\":\"\"},\"colorscale\":[[0.0,\"#0d0887\"],[0.1111111111111111,\"#46039f\"],[0.2222222222222222,\"#7201a8\"],[0.3333333333333333,\"#9c179e\"],[0.4444444444444444,\"#bd3786\"],[0.5555555555555556,\"#d8576b\"],[0.6666666666666666,\"#ed7953\"],[0.7777777777777778,\"#fb9f3a\"],[0.8888888888888888,\"#fdca26\"],[1.0,\"#f0f921\"]],\"type\":\"histogram2dcontour\"}],\"mesh3d\":[{\"colorbar\":{\"outlinewidth\":0,\"ticks\":\"\"},\"type\":\"mesh3d\"}],\"parcoords\":[{\"line\":{\"colorbar\":{\"outlinewidth\":0,\"ticks\":\"\"}},\"type\":\"parcoords\"}],\"pie\":[{\"automargin\":true,\"type\":\"pie\"}],\"scatter\":[{\"marker\":{\"colorbar\":{\"outlinewidth\":0,\"ticks\":\"\"}},\"type\":\"scatter\"}],\"scatter3d\":[{\"line\":{\"colorbar\":{\"outlinewidth\":0,\"ticks\":\"\"}},\"marker\":{\"colorbar\":{\"outlinewidth\":0,\"ticks\":\"\"}},\"type\":\"scatter3d\"}],\"scattercarpet\":[{\"marker\":{\"colorbar\":{\"outlinewidth\":0,\"ticks\":\"\"}},\"type\":\"scattercarpet\"}],\"scattergeo\":[{\"marker\":{\"colorbar\":{\"outlinewidth\":0,\"ticks\":\"\"}},\"type\":\"scattergeo\"}],\"scattergl\":[{\"marker\":{\"colorbar\":{\"outlinewidth\":0,\"ticks\":\"\"}},\"type\":\"scattergl\"}],\"scattermapbox\":[{\"marker\":{\"colorbar\":{\"outlinewidth\":0,\"ticks\":\"\"}},\"type\":\"scattermapbox\"}],\"scatterpolar\":[{\"marker\":{\"colorbar\":{\"outlinewidth\":0,\"ticks\":\"\"}},\"type\":\"scatterpolar\"}],\"scatterpolargl\":[{\"marker\":{\"colorbar\":{\"outlinewidth\":0,\"ticks\":\"\"}},\"type\":\"scatterpolargl\"}],\"scatterternary\":[{\"marker\":{\"colorbar\":{\"outlinewidth\":0,\"ticks\":\"\"}},\"type\":\"scatterternary\"}],\"surface\":[{\"colorbar\":{\"outlinewidth\":0,\"ticks\":\"\"},\"colorscale\":[[0.0,\"#0d0887\"],[0.1111111111111111,\"#46039f\"],[0.2222222222222222,\"#7201a8\"],[0.3333333333333333,\"#9c179e\"],[0.4444444444444444,\"#bd3786\"],[0.5555555555555556,\"#d8576b\"],[0.6666666666666666,\"#ed7953\"],[0.7777777777777778,\"#fb9f3a\"],[0.8888888888888888,\"#fdca26\"],[1.0,\"#f0f921\"]],\"type\":\"surface\"}],\"table\":[{\"cells\":{\"fill\":{\"color\":\"#EBF0F8\"},\"line\":{\"color\":\"white\"}},\"header\":{\"fill\":{\"color\":\"#C8D4E3\"},\"line\":{\"color\":\"white\"}},\"type\":\"table\"}]},\"layout\":{\"annotationdefaults\":{\"arrowcolor\":\"#2a3f5f\",\"arrowhead\":0,\"arrowwidth\":1},\"autotypenumbers\":\"strict\",\"coloraxis\":{\"colorbar\":{\"outlinewidth\":0,\"ticks\":\"\"}},\"colorscale\":{\"diverging\":[[0,\"#8e0152\"],[0.1,\"#c51b7d\"],[0.2,\"#de77ae\"],[0.3,\"#f1b6da\"],[0.4,\"#fde0ef\"],[0.5,\"#f7f7f7\"],[0.6,\"#e6f5d0\"],[0.7,\"#b8e186\"],[0.8,\"#7fbc41\"],[0.9,\"#4d9221\"],[1,\"#276419\"]],\"sequential\":[[0.0,\"#0d0887\"],[0.1111111111111111,\"#46039f\"],[0.2222222222222222,\"#7201a8\"],[0.3333333333333333,\"#9c179e\"],[0.4444444444444444,\"#bd3786\"],[0.5555555555555556,\"#d8576b\"],[0.6666666666666666,\"#ed7953\"],[0.7777777777777778,\"#fb9f3a\"],[0.8888888888888888,\"#fdca26\"],[1.0,\"#f0f921\"]],\"sequentialminus\":[[0.0,\"#0d0887\"],[0.1111111111111111,\"#46039f\"],[0.2222222222222222,\"#7201a8\"],[0.3333333333333333,\"#9c179e\"],[0.4444444444444444,\"#bd3786\"],[0.5555555555555556,\"#d8576b\"],[0.6666666666666666,\"#ed7953\"],[0.7777777777777778,\"#fb9f3a\"],[0.8888888888888888,\"#fdca26\"],[1.0,\"#f0f921\"]]},\"colorway\":[\"#636efa\",\"#EF553B\",\"#00cc96\",\"#ab63fa\",\"#FFA15A\",\"#19d3f3\",\"#FF6692\",\"#B6E880\",\"#FF97FF\",\"#FECB52\"],\"font\":{\"color\":\"#2a3f5f\"},\"geo\":{\"bgcolor\":\"white\",\"lakecolor\":\"white\",\"landcolor\":\"#E5ECF6\",\"showlakes\":true,\"showland\":true,\"subunitcolor\":\"white\"},\"hoverlabel\":{\"align\":\"left\"},\"hovermode\":\"closest\",\"mapbox\":{\"style\":\"light\"},\"paper_bgcolor\":\"white\",\"plot_bgcolor\":\"#E5ECF6\",\"polar\":{\"angularaxis\":{\"gridcolor\":\"white\",\"linecolor\":\"white\",\"ticks\":\"\"},\"bgcolor\":\"#E5ECF6\",\"radialaxis\":{\"gridcolor\":\"white\",\"linecolor\":\"white\",\"ticks\":\"\"}},\"scene\":{\"xaxis\":{\"backgroundcolor\":\"#E5ECF6\",\"gridcolor\":\"white\",\"gridwidth\":2,\"linecolor\":\"white\",\"showbackground\":true,\"ticks\":\"\",\"zerolinecolor\":\"white\"},\"yaxis\":{\"backgroundcolor\":\"#E5ECF6\",\"gridcolor\":\"white\",\"gridwidth\":2,\"linecolor\":\"white\",\"showbackground\":true,\"ticks\":\"\",\"zerolinecolor\":\"white\"},\"zaxis\":{\"backgroundcolor\":\"#E5ECF6\",\"gridcolor\":\"white\",\"gridwidth\":2,\"linecolor\":\"white\",\"showbackground\":true,\"ticks\":\"\",\"zerolinecolor\":\"white\"}},\"shapedefaults\":{\"line\":{\"color\":\"#2a3f5f\"}},\"ternary\":{\"aaxis\":{\"gridcolor\":\"white\",\"linecolor\":\"white\",\"ticks\":\"\"},\"baxis\":{\"gridcolor\":\"white\",\"linecolor\":\"white\",\"ticks\":\"\"},\"bgcolor\":\"#E5ECF6\",\"caxis\":{\"gridcolor\":\"white\",\"linecolor\":\"white\",\"ticks\":\"\"}},\"title\":{\"x\":0.05},\"xaxis\":{\"automargin\":true,\"gridcolor\":\"white\",\"linecolor\":\"white\",\"ticks\":\"\",\"title\":{\"standoff\":15},\"zerolinecolor\":\"white\",\"zerolinewidth\":2},\"yaxis\":{\"automargin\":true,\"gridcolor\":\"white\",\"linecolor\":\"white\",\"ticks\":\"\",\"title\":{\"standoff\":15},\"zerolinecolor\":\"white\",\"zerolinewidth\":2}}},\"xaxis\":{\"anchor\":\"y\",\"domain\":[0.0,1.0],\"title\":{\"text\":\"przebieg\"}},\"yaxis\":{\"anchor\":\"x\",\"domain\":[0.0,1.0]},\"legend\":{\"tracegroupgap\":0},\"title\":{\"text\":\"Rozrzut cechy - przebieg\"},\"boxmode\":\"group\"},                        {\"responsive\": true}                    ).then(function(){\n",
              "                            \n",
              "var gd = document.getElementById('59f82928-7166-496e-a135-ccd4688fded0');\n",
              "var x = new MutationObserver(function (mutations, observer) {{\n",
              "        var display = window.getComputedStyle(gd).display;\n",
              "        if (!display || display === 'none') {{\n",
              "            console.log([gd, 'removed!']);\n",
              "            Plotly.purge(gd);\n",
              "            observer.disconnect();\n",
              "        }}\n",
              "}});\n",
              "\n",
              "// Listen for the removal of the full notebook cells\n",
              "var notebookContainer = gd.closest('#notebook-container');\n",
              "if (notebookContainer) {{\n",
              "    x.observe(notebookContainer, {childList: true});\n",
              "}}\n",
              "\n",
              "// Listen for the clearing of the current output cell\n",
              "var outputEl = gd.closest('.output');\n",
              "if (outputEl) {{\n",
              "    x.observe(outputEl, {childList: true});\n",
              "}}\n",
              "\n",
              "                        })                };                            </script>        </div>\n",
              "</body>\n",
              "</html>"
            ]
          },
          "metadata": {}
        }
      ]
    },
    {
      "cell_type": "code",
      "source": [
        "def IQR_outliers_pojemnosc_silnika(a):\n",
        "  Q1, Q3 = np.percentile(a, [25, 75])\n",
        "  IQR = Q3 - Q1\n",
        "\n",
        "  gorne_ograniczenie  = Q3 + (2 * IQR)\n",
        "  dolne_ograniczenie  = Q1 - (2 * IQR)\n",
        "  print(\"Górne ograniczenie:\", gorne_ograniczenie)\n",
        "  print(\"Dolne ograniczenie:\", dolne_ograniczenie)\n",
        "\n",
        "  indeksy = np.where((a > gorne_ograniczenie) | (a < dolne_ograniczenie))\n",
        "  b = np.full(shape=a.shape[0], fill_value=1)\n",
        "  b[indeksy] = -1\n",
        "  \n",
        "  return b"
      ],
      "metadata": {
        "id": "svC3-IsKe_xK"
      },
      "execution_count": null,
      "outputs": []
    },
    {
      "cell_type": "code",
      "source": [
        "\n",
        "\n",
        "# użycie funkcji\n",
        "dane_modelowanie[\"flaga_IQR\"] = IQR_outliers_pojemnosc_silnika(dane_modelowanie[\"pojemnosc_silnika\"])\n",
        "print(dane_modelowanie[\"flaga_IQR\"])\n",
        "\n",
        "# wizualizacja wartości odstających wg. pojemności silnika\n",
        "px.scatter(dane_modelowanie, \n",
        "           x = \"cena\", \n",
        "           y = \"pojemnosc_silnika\",\n",
        "           hover_name = \"rocznik\",\n",
        "           color = \"flaga_IQR\", \n",
        "           title = \"Rozrzut cechy - pojemność_silnika a wartości odstające\")"
      ],
      "metadata": {
        "colab": {
          "base_uri": "https://localhost:8080/",
          "height": 943
        },
        "id": "k2iyhLwbd_Cq",
        "outputId": "4790aebc-2067-40ea-971f-2374253d7851"
      },
      "execution_count": null,
      "outputs": [
        {
          "output_type": "stream",
          "name": "stdout",
          "text": [
            "Górne ograniczenie: 2385.0\n",
            "Dolne ograniczenie: 75.0\n",
            "0       1\n",
            "1       1\n",
            "2       1\n",
            "3       1\n",
            "4       1\n",
            "       ..\n",
            "1601    1\n",
            "1602    1\n",
            "1603    1\n",
            "1604    1\n",
            "1605    1\n",
            "Name: flaga_IQR, Length: 1606, dtype: int64\n"
          ]
        },
        {
          "output_type": "stream",
          "name": "stderr",
          "text": [
            "<ipython-input-12-d7acb78a8657>:2: SettingWithCopyWarning:\n",
            "\n",
            "\n",
            "A value is trying to be set on a copy of a slice from a DataFrame.\n",
            "Try using .loc[row_indexer,col_indexer] = value instead\n",
            "\n",
            "See the caveats in the documentation: https://pandas.pydata.org/pandas-docs/stable/user_guide/indexing.html#returning-a-view-versus-a-copy\n",
            "\n"
          ]
        },
        {
          "output_type": "display_data",
          "data": {
            "text/html": [
              "<html>\n",
              "<head><meta charset=\"utf-8\" /></head>\n",
              "<body>\n",
              "    <div>            <script src=\"https://cdnjs.cloudflare.com/ajax/libs/mathjax/2.7.5/MathJax.js?config=TeX-AMS-MML_SVG\"></script><script type=\"text/javascript\">if (window.MathJax) {MathJax.Hub.Config({SVG: {font: \"STIX-Web\"}});}</script>                <script type=\"text/javascript\">window.PlotlyConfig = {MathJaxConfig: 'local'};</script>\n",
              "        <script src=\"https://cdn.plot.ly/plotly-2.8.3.min.js\"></script>                <div id=\"138031db-70f3-45e4-8a61-7cb30b56f2dd\" class=\"plotly-graph-div\" style=\"height:525px; width:100%;\"></div>            <script type=\"text/javascript\">                                    window.PLOTLYENV=window.PLOTLYENV || {};                                    if (document.getElementById(\"138031db-70f3-45e4-8a61-7cb30b56f2dd\")) {                    Plotly.newPlot(                        \"138031db-70f3-45e4-8a61-7cb30b56f2dd\",                        [{\"hovertemplate\":\"<b>%{hovertext}</b><br><br>cena=%{x}<br>pojemnosc_silnika=%{y}<br>flaga_IQR=%{marker.color}<extra></extra>\",\"hovertext\":[2021.0,2017.0,2018.0,2016.0,2021.0,2022.0,2022.0,2016.0,2021.0,2023.0,2017.0,2016.0,2022.0,2016.0,2022.0,2019.0,2019.0,2016.0,2022.0,2018.0,2017.0,2018.0,2022.0,2020.0,2018.0,2023.0,2022.0,2022.0,2022.0,2021.0,2015.0,2015.0,2021.0,2022.0,2017.0,2022.0,2018.0,2016.0,2022.0,2022.0,2022.0,2022.0,2015.0,2022.0,2022.0,2016.0,2016.0,2017.0,2017.0,2023.0,2018.0,2022.0,2022.0,2022.0,2020.0,2022.0,2021.0,2021.0,2018.0,2018.0,2017.0,2019.0,2018.0,2021.0,2018.0,2021.0,2016.0,2023.0,2017.0,2019.0,2015.0,2016.0,2016.0,2023.0,2023.0,2015.0,2021.0,2022.0,2022.0,2023.0,2016.0,2016.0,2015.0,2023.0,2016.0,2016.0,2017.0,2022.0,2022.0,2017.0,2020.0,2021.0,2022.0,2018.0,2019.0,2016.0,2019.0,2016.0,2016.0,2016.0,2022.0,2018.0,2016.0,2017.0,2019.0,2019.0,2022.0,2022.0,2019.0,2021.0,2017.0,2018.0,2017.0,2018.0,2016.0,2018.0,2020.0,2022.0,2022.0,2016.0,2022.0,2022.0,2022.0,2018.0,2015.0,2022.0,2017.0,2021.0,2018.0,2021.0,2018.0,2017.0,2018.0,2017.0,2022.0,2018.0,2023.0,2021.0,2019.0,2018.0,2019.0,2018.0,2019.0,2020.0,2022.0,2020.0,2023.0,2020.0,2020.0,2021.0,2022.0,2019.0,2022.0,2022.0,2021.0,2015.0,2018.0,2015.0,2023.0,2019.0,2022.0,2022.0,2023.0,2019.0,2022.0,2022.0,2023.0,2021.0,2021.0,2022.0,2017.0,2016.0,2017.0,2017.0,2015.0,2018.0,2016.0,2017.0,2019.0,2019.0,2017.0,2019.0,2022.0,2022.0,2023.0,2015.0,2023.0,2019.0,2020.0,2019.0,2023.0,2022.0,2017.0,2022.0,2020.0,2018.0,2019.0,2017.0,2016.0,2019.0,2016.0,2020.0,2018.0,2019.0,2015.0,2018.0,2023.0,2022.0,2020.0,2023.0,2023.0,2016.0,2018.0,2022.0,2023.0,2018.0,2022.0,2019.0,2019.0,2015.0,2018.0,2022.0,2022.0,2022.0,2022.0,2017.0,2018.0,2019.0,2022.0,2023.0,2018.0,2023.0,2023.0,2023.0,2023.0,2019.0,2017.0,2015.0,2023.0,2021.0,2021.0,2022.0,2015.0,2018.0,2021.0,2022.0,2016.0,2019.0,2015.0,2019.0,2015.0,2019.0,2023.0,2023.0,2022.0,2019.0,2020.0,2022.0,2017.0,2020.0,2018.0,2019.0,2022.0,2022.0,2016.0,2017.0,2017.0,2022.0,2022.0,2017.0,2020.0,2020.0,2017.0,2019.0,2017.0,2016.0,2020.0,2021.0,2019.0,2019.0,2016.0,2017.0,2022.0,2015.0,2016.0,2018.0,2016.0,2022.0,2017.0,2018.0,2015.0,2017.0,2022.0,2021.0,2022.0,2020.0,2016.0,2019.0,2016.0,2019.0,2017.0,2018.0,2016.0,2016.0,2022.0,2018.0,2016.0,2023.0,2023.0,2019.0,2022.0,2019.0,2021.0,2022.0,2015.0,2022.0,2017.0,2021.0,2017.0,2015.0,2018.0,2022.0,2022.0,2022.0,2018.0,2022.0,2017.0,2015.0,2015.0,2018.0,2019.0,2022.0,2022.0,2022.0,2016.0,2018.0,2020.0,2022.0,2018.0,2021.0,2021.0,2017.0,2017.0,2020.0,2019.0,2018.0,2022.0,2022.0,2018.0,2020.0,2020.0,2019.0,2018.0,2022.0,2020.0,2019.0,2022.0,2017.0,2021.0,2019.0,2019.0,2018.0,2022.0,2021.0,2018.0,2018.0,2019.0,2017.0,2022.0,2022.0,2018.0,2022.0,2023.0,2017.0,2019.0,2022.0,2022.0,2016.0,2021.0,2022.0,2022.0,2015.0,2020.0,2020.0,2022.0,2022.0,2020.0,2021.0,2019.0,2022.0,2017.0,2021.0,2021.0,2017.0,2022.0,2022.0,2017.0,2022.0,2016.0,2020.0,2022.0,2017.0,2018.0,2017.0,2019.0,2022.0,2020.0,2022.0,2015.0,2022.0,2023.0,2022.0,2018.0,2015.0,2020.0,2017.0,2021.0,2023.0,2022.0,2022.0,2021.0,2021.0,2018.0,2019.0,2022.0,2016.0,2021.0,2016.0,2022.0,2021.0,2023.0,2016.0,2019.0,2020.0,2019.0,2021.0,2022.0,2022.0,2023.0,2021.0,2016.0,2020.0,2017.0,2020.0,2022.0,2021.0,2018.0,2022.0,2019.0,2019.0,2017.0,2018.0,2022.0,2022.0,2016.0,2021.0,2022.0,2017.0,2019.0,2017.0,2021.0,2022.0,2018.0,2017.0,2016.0,2022.0,2016.0,2019.0,2022.0,2019.0,2023.0,2022.0,2022.0,2022.0,2022.0,2022.0,2023.0,2018.0,2022.0,2022.0,2022.0,2022.0,2021.0,2021.0,2021.0,2018.0,2017.0,2019.0,2018.0,2023.0,2018.0,2018.0,2017.0,2022.0,2019.0,2023.0,2020.0,2021.0,2018.0,2018.0,2018.0,2015.0,2017.0,2019.0,2017.0,2019.0,2018.0,2018.0,2016.0,2022.0,2022.0,2022.0,2020.0,2016.0,2018.0,2021.0,2018.0,2019.0,2019.0,2016.0,2015.0,2021.0,2017.0,2022.0,2017.0,2021.0,2018.0,2021.0,2017.0,2016.0,2018.0,2017.0,2020.0,2017.0,2019.0,2019.0,2017.0,2019.0,2018.0,2022.0,2017.0,2022.0,2020.0,2016.0,2018.0,2022.0,2021.0,2020.0,2015.0,2018.0,2019.0,2019.0,2022.0,2019.0,2018.0,2018.0,2020.0,2022.0,2023.0,2022.0,2020.0,2017.0,2015.0,2023.0,2016.0,2023.0,2023.0,2022.0,2019.0,2019.0,2015.0,2020.0,2018.0,2022.0,2022.0,2021.0,2018.0,2021.0,2021.0,2018.0,2021.0,2022.0,2022.0,2017.0,2022.0,2017.0,2021.0,2022.0,2022.0,2022.0,2018.0,2019.0,2019.0,2019.0,2017.0,2021.0,2021.0,2021.0,2023.0,2015.0,2017.0,2022.0,2018.0,2017.0,2022.0,2019.0,2023.0,2019.0,2016.0,2018.0,2022.0,2021.0,2016.0,2016.0,2015.0,2022.0,2017.0,2018.0,2022.0,2022.0,2022.0,2022.0,2022.0,2019.0,2021.0,2017.0,2022.0,2022.0,2017.0,2015.0,2019.0,2022.0,2023.0,2019.0,2018.0,2022.0,2022.0,2020.0,2019.0,2019.0,2019.0,2018.0,2022.0,2021.0,2017.0,2019.0,2022.0,2022.0,2019.0,2019.0,2016.0,2018.0,2018.0,2017.0,2016.0,2018.0,2021.0,2018.0,2019.0,2019.0,2019.0,2019.0,2015.0,2017.0,2019.0,2021.0,2019.0,2017.0,2023.0,2015.0,2020.0,2019.0,2023.0,2022.0,2016.0,2017.0,2021.0,2017.0,2015.0,2022.0,2020.0,2019.0,2016.0,2015.0,2020.0,2015.0,2019.0,2021.0,2017.0,2019.0,2018.0,2016.0,2015.0,2015.0,2017.0,2021.0,2021.0,2016.0,2021.0,2015.0,2022.0,2017.0,2016.0,2016.0,2016.0,2016.0,2019.0,2021.0,2020.0,2015.0,2017.0,2016.0,2016.0,2015.0,2022.0,2021.0,2019.0,2018.0,2018.0,2022.0,2022.0,2020.0,2016.0,2017.0,2022.0,2019.0,2021.0,2019.0,2019.0,2018.0,2019.0,2015.0,2018.0,2022.0,2016.0,2018.0,2018.0,2019.0,2021.0,2022.0,2019.0,2019.0,2022.0,2021.0,2022.0,2022.0,2022.0,2016.0,2019.0,2020.0,2022.0,2019.0,2023.0,2015.0,2019.0,2023.0,2023.0,2018.0,2018.0,2018.0,2016.0,2021.0,2020.0,2021.0,2023.0,2021.0,2018.0,2019.0,2019.0,2018.0,2022.0,2019.0,2015.0,2018.0,2019.0,2019.0,2019.0,2022.0,2022.0,2015.0,2018.0,2020.0,2022.0,2022.0,2022.0,2022.0,2015.0,2022.0,2015.0,2018.0,2022.0,2023.0,2016.0,2016.0,2018.0,2018.0,2022.0,2022.0,2022.0,2023.0,2023.0,2018.0,2022.0,2018.0,2019.0,2023.0,2015.0,2022.0,2020.0,2022.0,2023.0,2018.0,2015.0,2021.0,2016.0,2022.0,2022.0,2022.0,2019.0,2017.0,2019.0,2019.0,2021.0,2022.0,2019.0,2021.0,2022.0,2020.0,2022.0,2022.0,2022.0,2018.0,2020.0,2023.0,2022.0,2022.0,2019.0,2019.0,2018.0,2022.0,2020.0,2020.0,2019.0,2021.0,2017.0,2020.0,2020.0,2023.0,2023.0,2019.0,2015.0,2019.0,2017.0,2018.0,2017.0,2016.0,2016.0,2016.0,2022.0,2023.0,2021.0,2022.0,2019.0,2015.0,2021.0,2017.0,2022.0,2021.0,2019.0,2018.0,2017.0,2019.0,2021.0,2021.0,2018.0,2021.0,2021.0,2021.0,2022.0,2021.0,2018.0,2019.0,2015.0,2019.0,2017.0,2021.0,2022.0,2019.0,2017.0,2022.0,2015.0,2018.0,2021.0,2022.0,2022.0,2022.0,2019.0,2017.0,2022.0,2020.0,2018.0,2016.0,2020.0,2020.0,2015.0,2018.0,2018.0,2015.0,2018.0,2019.0,2019.0,2018.0,2016.0,2018.0,2019.0,2018.0,2018.0,2019.0,2016.0,2016.0,2022.0,2021.0,2020.0,2022.0,2016.0,2017.0,2018.0,2017.0,2017.0,2020.0,2016.0,2015.0,2021.0,2018.0,2016.0,2015.0,2016.0,2016.0,2018.0,2019.0,2018.0,2023.0,2019.0,2019.0,2015.0,2017.0,2016.0,2016.0,2016.0,2015.0,2015.0,2022.0,2021.0,2022.0,2022.0,2022.0,2023.0,2016.0,2022.0,2023.0,2022.0,2015.0,2020.0,2022.0,2022.0,2022.0,2022.0,2017.0,2022.0,2017.0,2019.0,2021.0,2019.0,2022.0,2020.0,2021.0,2022.0,2015.0,2017.0,2021.0,2021.0,2017.0,2018.0,2018.0,2019.0,2021.0,2022.0,2018.0,2023.0,2015.0,2017.0,2022.0,2022.0,2022.0,2022.0,2017.0,2016.0,2017.0,2022.0,2022.0,2022.0,2022.0,2022.0,2022.0,2022.0,2022.0,2022.0,2020.0,2018.0,2022.0,2021.0,2017.0,2022.0,2021.0,2018.0,2019.0,2017.0,2019.0,2018.0,2018.0,2021.0,2019.0,2020.0,2021.0,2017.0,2019.0,2022.0,2022.0,2018.0,2023.0,2021.0,2016.0,2019.0,2022.0,2021.0,2022.0,2022.0,2022.0,2023.0,2017.0,2022.0,2022.0,2022.0,2017.0,2018.0,2017.0,2021.0,2018.0,2022.0,2016.0,2022.0,2017.0,2022.0,2019.0,2018.0,2021.0,2019.0,2015.0,2017.0,2023.0,2023.0,2021.0,2015.0,2019.0,2016.0,2018.0,2020.0,2022.0,2019.0,2023.0,2020.0,2017.0,2020.0,2021.0,2019.0,2019.0,2018.0,2016.0,2021.0,2019.0,2019.0,2019.0,2022.0,2023.0,2019.0,2018.0,2022.0,2022.0,2023.0,2018.0,2019.0,2023.0,2022.0,2018.0,2019.0,2022.0,2022.0,2020.0,2021.0,2015.0,2019.0,2019.0,2022.0,2021.0,2023.0,2021.0,2018.0,2023.0,2016.0,2018.0,2016.0,2023.0,2015.0,2022.0,2019.0,2018.0,2019.0,2018.0,2018.0,2017.0,2018.0,2020.0,2019.0,2022.0,2020.0,2016.0,2016.0,2019.0,2017.0,2015.0,2022.0,2021.0,2018.0,2016.0,2016.0,2022.0,2019.0,2018.0,2019.0,2020.0,2018.0,2016.0,2017.0,2023.0,2023.0,2022.0,2015.0,2022.0,2022.0,2018.0,2022.0,2022.0,2022.0,2022.0,2018.0,2022.0,2022.0,2022.0,2019.0,2016.0,2017.0,2022.0,2015.0,2020.0,2023.0,2017.0,2023.0,2017.0,2019.0,2023.0,2015.0,2018.0,2022.0,2015.0,2023.0,2022.0,2022.0,2020.0,2017.0,2019.0,2017.0,2022.0,2018.0,2016.0,2021.0,2021.0,2023.0,2023.0,2023.0,2015.0,2022.0,2017.0,2019.0,2022.0,2021.0,2020.0,2019.0,2021.0,2021.0,2018.0,2022.0,2019.0,2022.0,2017.0,2022.0,2022.0,2018.0,2020.0,2019.0,2017.0,2022.0,2023.0,2017.0,2023.0,2019.0,2022.0,2017.0,2022.0,2022.0,2022.0,2021.0,2023.0,2022.0,2020.0,2021.0,2019.0,2022.0,2019.0,2022.0,2018.0,2022.0,2015.0,2019.0,2019.0,2022.0,2017.0,2020.0,2021.0,2017.0,2017.0,2016.0,2015.0,2022.0,2022.0,2022.0,2019.0,2018.0,2022.0,2021.0,2019.0,2021.0,2022.0,2017.0,2018.0,2017.0,2021.0,2020.0,2016.0,2022.0,2016.0,2021.0,2022.0,2023.0,2021.0,2022.0,2018.0,2022.0,2022.0,2021.0,2022.0,2022.0,2022.0,2021.0,2022.0,2019.0,2022.0,2018.0,2022.0,2022.0,2022.0,2019.0,2022.0,2020.0,2017.0,2022.0,2018.0,2019.0,2016.0,2021.0,2022.0,2015.0,2020.0,2021.0,2021.0,2021.0,2022.0,2015.0,2022.0,2022.0,2018.0,2022.0,2022.0,2017.0,2022.0,2019.0,2022.0,2018.0,2020.0,2016.0,2022.0,2016.0,2022.0,2015.0,2022.0,2015.0,2022.0,2022.0,2022.0,2022.0,2019.0,2022.0,2022.0,2021.0,2022.0,2022.0,2018.0,2022.0,2018.0,2022.0,2022.0,2018.0,2022.0,2016.0,2022.0,2017.0,2018.0,2016.0,2019.0,2022.0,2016.0,2018.0,2023.0,2019.0,2015.0,2023.0,2022.0,2018.0,2018.0,2016.0,2016.0,2022.0,2022.0,2018.0,2017.0,2016.0,2016.0,2019.0,2019.0,2020.0,2021.0,2023.0,2023.0,2018.0,2016.0,2022.0,2017.0,2015.0,2020.0,2018.0,2020.0,2019.0,2021.0,2022.0,2018.0,2015.0,2016.0,2017.0,2022.0,2020.0,2018.0,2021.0,2022.0,2015.0,2018.0,2018.0,2020.0,2019.0,2017.0,2022.0,2015.0,2018.0,2020.0,2022.0,2016.0,2019.0,2018.0,2020.0,2018.0,2022.0,2020.0,2018.0,2015.0,2015.0,2020.0,2021.0,2018.0,2020.0,2018.0,2016.0,2018.0,2016.0,2019.0,2021.0,2019.0,2019.0,2018.0,2015.0,2016.0,2018.0,2019.0,2022.0,2021.0,2018.0,2021.0,2018.0,2016.0,2017.0,2019.0,2015.0,2017.0,2018.0,2022.0,2018.0,2017.0,2016.0,2016.0,2019.0,2019.0,2016.0,2022.0,2022.0,2019.0,2018.0,2022.0,2022.0,2015.0,2017.0,2021.0,2020.0,2017.0,2015.0,2015.0,2017.0,2019.0,2018.0,2018.0,2019.0,2022.0,2015.0,2018.0,2018.0,2020.0,2019.0,2021.0,2022.0,2019.0,2015.0,2019.0,2015.0,2018.0,2018.0,2015.0,2018.0,2020.0,2017.0,2018.0,2021.0,2015.0,2018.0,2020.0,2015.0,2022.0,2016.0,2017.0,2015.0,2020.0,2015.0,2019.0,2016.0,2018.0,2022.0,2022.0,2018.0,2019.0,2018.0,2021.0,2017.0,2015.0,2017.0,2019.0,2019.0,2020.0,2015.0,2016.0,2018.0,2020.0,2022.0,2015.0,2015.0,2018.0,2017.0,2021.0,2020.0,2018.0,2016.0,2021.0,2017.0,2015.0,2021.0,2017.0,2018.0,2017.0,2018.0,2019.0,2022.0,2022.0,2015.0,2022.0,2018.0,2019.0,2017.0,2016.0,2015.0,2018.0,2021.0,2019.0,2018.0,2018.0,2020.0,2015.0,2018.0,2015.0,2020.0,2019.0,2021.0,2018.0,2018.0,2019.0,2019.0,2015.0,2018.0,2017.0,2019.0,2018.0,2019.0,2020.0,2018.0,2016.0,2019.0,2018.0,2016.0,2016.0,2018.0,2020.0,2021.0,2015.0,2017.0,2021.0,2019.0,2018.0,2019.0,2018.0,2017.0,2018.0,2018.0,2019.0,2020.0,2019.0,2018.0,2016.0,2021.0,2021.0,2016.0,2019.0,2015.0,2021.0,2020.0,2019.0,2019.0,2020.0,2018.0,2022.0,2022.0,2022.0,2021.0,2018.0,2019.0,2019.0,2017.0,2018.0,2019.0,2015.0,2016.0,2018.0,2016.0,2016.0],\"legendgroup\":\"\",\"marker\":{\"color\":[1,1,1,1,1,1,1,1,1,1,1,1,1,1,1,1,1,1,1,1,1,1,1,1,1,1,1,1,1,1,1,1,1,1,1,1,1,1,1,1,1,1,1,1,1,1,1,1,1,1,1,1,1,1,1,1,1,1,1,1,1,1,1,1,1,1,1,1,1,1,1,1,1,1,1,1,1,1,1,1,1,1,1,1,1,1,1,1,1,1,1,1,1,1,1,1,1,1,1,1,1,1,1,1,1,1,1,1,1,1,1,1,1,1,1,1,1,1,1,1,1,1,1,1,1,1,1,1,1,1,1,1,1,1,1,1,1,1,1,1,1,1,1,1,1,1,1,1,1,1,1,1,1,1,1,1,1,1,1,1,1,1,1,1,1,1,1,1,1,1,1,1,1,1,1,1,1,1,1,1,1,1,1,1,1,1,1,1,1,1,1,1,1,1,1,1,1,1,1,1,1,1,1,1,1,1,1,1,1,1,1,1,1,1,1,1,1,1,1,1,1,1,1,1,1,1,1,1,1,1,1,1,1,1,1,1,1,1,1,1,1,1,1,1,1,1,1,1,1,1,1,1,1,1,1,1,1,1,1,1,1,1,1,1,1,1,1,1,1,1,1,1,1,1,1,1,1,1,1,1,1,1,1,1,1,1,1,1,1,1,1,1,1,1,1,1,1,1,1,1,1,1,1,1,1,1,1,1,1,1,1,1,1,1,1,1,1,1,1,1,1,1,1,1,1,1,1,1,1,1,1,1,1,1,1,1,1,1,1,1,1,1,1,1,1,1,1,1,1,1,1,1,1,1,1,1,1,1,1,1,1,1,1,1,1,1,1,1,1,1,1,1,1,1,1,1,1,1,1,1,1,1,1,1,1,1,1,1,1,1,1,1,1,1,1,1,1,1,1,1,1,1,1,1,1,1,1,1,1,1,1,1,1,1,1,1,1,1,1,1,1,1,1,1,1,1,1,1,1,1,1,1,1,1,1,1,1,1,1,1,1,1,1,1,1,1,1,1,1,1,1,1,1,1,1,1,1,1,1,1,1,1,1,1,1,1,1,1,1,1,1,1,1,1,1,1,1,1,1,1,1,1,1,1,1,1,1,1,1,1,1,1,1,1,1,1,1,1,1,1,1,1,1,1,1,1,1,1,1,1,1,1,1,1,1,1,1,1,1,1,1,1,1,1,1,1,1,1,1,1,1,1,1,1,1,1,1,1,1,1,1,1,1,1,1,1,1,1,1,1,1,1,1,1,1,1,1,1,1,1,1,1,1,1,1,1,1,1,1,1,1,1,1,1,1,1,1,1,1,1,1,1,1,1,1,1,1,1,1,1,1,1,1,1,1,1,1,1,1,1,1,1,1,1,1,1,1,1,1,1,1,1,1,1,1,1,1,1,1,1,1,1,1,1,1,1,1,1,1,1,1,1,1,1,1,1,1,1,1,1,1,1,1,1,1,1,1,1,1,1,1,1,1,1,1,1,1,1,1,1,1,1,1,1,1,1,1,1,1,1,1,1,1,1,1,1,1,1,1,1,1,1,1,1,1,1,1,1,1,1,1,1,1,1,1,1,1,1,1,1,1,1,1,1,1,1,1,1,1,1,1,1,1,1,1,1,1,1,1,1,1,1,1,1,1,1,1,1,1,1,1,1,1,1,1,1,1,1,1,1,1,1,1,1,1,1,1,1,1,1,1,1,1,1,1,1,1,1,1,1,1,1,1,1,1,1,1,1,1,1,1,1,1,1,1,1,1,1,1,1,1,1,1,1,1,1,1,1,1,1,1,1,1,1,1,1,1,1,1,1,1,1,1,1,1,1,1,1,1,1,1,1,1,1,1,1,1,1,1,1,1,1,1,1,1,1,1,1,1,1,1,1,1,1,1,1,1,1,1,1,1,1,1,1,1,1,1,1,1,1,1,1,1,1,1,1,1,1,1,1,1,1,1,1,1,1,1,1,1,1,1,1,1,1,1,1,1,1,1,1,1,1,1,1,1,1,1,1,1,1,1,1,1,1,1,1,1,1,1,1,1,1,1,1,1,1,1,1,1,1,1,1,1,1,1,1,1,1,1,1,1,1,1,1,1,1,1,1,1,1,1,1,1,1,1,1,1,1,1,1,1,1,1,1,1,1,1,1,1,1,1,1,1,1,1,1,1,1,1,1,1,1,1,1,1,1,1,1,1,1,1,1,1,1,1,1,1,1,1,1,1,1,1,1,1,1,1,1,1,1,1,1,1,1,1,1,1,1,1,1,1,1,1,1,1,1,1,1,1,1,1,1,1,1,1,1,1,1,1,1,1,1,1,1,1,1,1,1,1,1,1,1,1,1,1,1,1,1,1,1,1,1,1,1,1,1,1,1,1,1,1,1,1,1,1,1,1,1,1,1,1,1,1,1,1,1,1,1,1,1,1,1,1,1,1,1,1,1,1,1,1,1,1,1,1,1,1,1,1,1,1,1,1,1,1,1,1,1,1,1,1,1,1,1,1,1,1,1,1,1,1,1,1,1,1,1,1,1,1,1,1,1,1,1,1,1,1,1,1,1,1,1,1,1,1,1,1,1,1,1,1,1,1,1,1,1,1,1,1,1,1,1,1,1,1,1,1,1,1,1,1,1,1,1,1,1,1,1,1,1,1,1,1,1,1,1,1,1,1,1,1,1,1,1,1,1,1,1,1,1,1,1,1,1,1,1,1,1,1,1,1,1,1,1,1,1,1,1,1,1,1,1,1,1,1,1,1,1,1,1,1,1,1,1,1,1,1,1,1,1,1,1,1,1,1,1,1,1,1,1,1,1,1,1,1,1,1,1,1,1,1,1,1,1,1,1,1,1,1,1,1,1,1,1,1,1,1,1,1,1,1,1,1,1,1,1,1,1,1,1,1,1,1,1,1,1,1,1,1,1,1,1,1,1,1,1,1,1,1,1,1,1,1,1,1,1,1,1,1,1,1,1,1,1,1,1,1,1,1,1,1,1,1,1,1,1,1,1,1,1,1,1,1,1,1,1,1,1,1,1,1,1,1,1,1,1,1,1,1,1,1,1,1,1,1,1,1,1,1,1,1,1,1,1,1,1,1,1,1,1,1,1,1,1,1,1,1,1,1,1,1,1,1,1,1,1,1,1,1,1,1,1,1,1,1,1,1,1,1,1,1,1,1,1,1,1,1,1,1,1,1,1,1,1,1,1,1,1,1,1,1,1,1,1,1,1,1,1,1,1,1,1,1,1,1,1,1,1,1,1,1,1,1,1,1,1,1,1,1,1,1,1,1,1,1,1,1,1,1,1,1,1,1,1,1,1,1,1,1,1,1,1,1,1,1,1,1,1,1,1,1,1,1,1,1,1,1,1,1,1,1,1,1,1,1,1,1,1,1,1,1,1,1,1,1,1,1,1,1,1,1,1,1,1,1,1,1,1,1,1,1,1,1,1,1,1,1,1,1,1,1,1,1,1,1,1,1,1,1,1,1,1,1,1,1,1,1,1,1,1,1,1,1,1,1,1,1,1,1,1,1,1,1,1,1,1,1,1,1,1,1,1,1,1,1,1,1,1,1,1,1,1,1,1,1,1,1,1,1,1,1,1,1,1,1,1,1,1,1,1,1,1,1,1,1,1],\"coloraxis\":\"coloraxis\",\"symbol\":\"circle\"},\"mode\":\"markers\",\"name\":\"\",\"showlegend\":false,\"x\":[67700,28500,59999,40999,54900,83700,108700,18900,64900,88100,48900,28900,72979,34990,106000,40000,61000,35900,57900,59900,35000,53900,89850,58899,39999,101000,83700,96700,99800,64900,34500,44999,53900,81750,39999,84999,61500,44800,99490,109500,107700,111500,22000,102800,98000,40500,17800,14900,38900,89850,27000,97300,86800,69990,28500,99490,79900,79900,65000,49900,29000,27000,26000,35000,27000,68900,42500,96850,27900,64900,29900,19900,42499,87900,83400,32900,79900,92900,97400,112500,45999,38900,43999,89850,31900,25700,39700,86050,81650,46900,17900,77900,49900,35000,62500,51900,53000,34900,22500,46999,96700,56999,42000,31499,19900,54000,108000,107250,50999,65900,41900,32900,28000,33999,44999,19900,44900,73410,76900,39800,108400,95800,102600,39999,38900,92900,49900,66850,39900,62999,55900,49999,46740,34900,101900,46900,89050,66900,66850,59900,67900,39499,53900,59999,91700,73900,85850,75900,49999,88900,92900,59900,76700,79900,85900,25900,62999,20500,76750,66999,101700,84150,107040,60999,72700,76200,80400,64900,59999,87000,51299,53999,51900,51999,30999,47999,35999,39888,66900,65000,14900,66999,75800,83900,81600,27000,69900,44900,68900,58500,76150,95000,23900,94900,48900,57900,47501,44900,39999,27900,28888,68500,38900,51999,43499,58883,70800,84900,37900,81250,75850,41900,28900,65900,63100,43700,33990,60999,79000,45499,35900,77999,103000,107250,107040,46900,58900,50900,107250,79600,27499,67600,63900,84550,78850,54900,36900,32900,64600,82500,77400,84150,16900,39600,19900,81900,28900,66800,19000,26500,19000,67900,67700,111250,97300,67900,62500,108400,50900,38000,23500,67999,81650,84900,44900,48700,49900,95600,75600,39999,49999,54999,37499,69999,39888,49500,68500,79999,24999,66420,31499,41999,108700,25900,31900,45500,32900,92300,38900,62999,40999,45499,87300,69900,101200,47999,31000,69900,33900,69500,34500,33900,16900,25300,92300,28900,45500,111250,83700,72000,96500,71900,22900,96900,32500,101000,49900,72000,14600,28900,32000,82900,107900,107900,36000,109900,46900,39900,39500,61900,49000,97600,83900,73900,35000,46900,35900,63900,23900,52900,73999,49999,44900,71900,54900,61999,98500,111250,62999,67950,47501,61000,48999,87500,59999,54999,94999,53999,67900,45900,41500,17900,101000,61999,57000,49899,62000,34900,98300,83700,23500,101200,79650,40500,58900,101000,109400,30000,71000,101200,74200,24900,56900,41900,90500,83350,64900,59900,44900,101200,14760,66700,64700,39999,71300,93500,39900,89900,36900,72888,95700,43499,48900,54900,64888,73900,59900,86000,42500,94700,88950,83350,61900,42700,18400,46000,59900,80300,80750,83450,80900,83900,65190,58900,72000,48000,63900,32000,92850,63900,70200,48500,66999,75999,53899,46500,83900,79250,68900,56900,22900,74999,43900,45000,107900,64900,55499,97600,52900,60600,47900,56999,101000,96900,49900,68000,75300,46899,33900,41800,82900,54900,34500,47500,46900,83000,27400,59990,107700,62900,110500,86600,82650,90600,100100,109650,107700,32000,97600,100400,80750,54900,74600,74900,69900,33900,42900,42900,55900,101200,43900,37999,55000,71616,52100,89850,37900,61900,7700,43999,65499,42999,46499,44999,52000,71000,59500,34999,43999,85000,84900,87300,78900,26900,27900,61900,18900,49000,49900,44500,29900,48900,37600,111900,32400,41600,31980,60900,31900,37900,59900,43900,57900,36700,46900,61900,42500,40500,46500,92000,32595,88000,46900,24900,36900,99800,66900,59900,26900,64900,39900,51900,59000,49900,34900,46900,61900,76300,94900,85900,68500,43900,17490,94900,40900,87900,87900,107850,72900,55900,39000,57900,46900,76900,79900,75900,45900,64900,80900,57999,66900,92200,101200,48900,97500,34900,64900,85900,73200,69900,36900,64500,39900,56900,23500,25500,58900,56900,75800,42499,44900,90900,63900,9199,107700,54000,78850,37900,28900,65999,79900,79900,29900,34900,27900,75600,48800,44900,83700,85200,90550,72500,96700,74900,65900,45900,71400,71900,32900,39300,59900,80600,79200,66900,57450,101200,83350,57999,72900,12500,74900,37900,91150,67900,27900,37900,72400,96300,64900,62900,49900,62500,69800,42900,47900,45900,29900,54900,39900,52300,72900,54899,31900,53800,55850,64900,48500,38900,89950,27500,21900,43900,92050,37599,37761,50900,69900,42400,29000,100200,59999,33900,14900,42800,47700,37800,70000,47700,28900,45400,55950,33800,38900,31900,42900,51000,54900,28500,38900,49999,97500,33900,33700,44900,21900,48500,63500,43900,44600,46900,47600,17300,26900,42900,92900,44000,63900,54900,39900,107700,107250,48900,38880,50600,79950,57900,61900,64600,36900,48000,64499,40900,46900,79750,41900,41697,45510,55900,82900,71500,69000,69900,67800,64900,87100,83350,81750,49900,58900,72900,67850,63999,109900,34900,60000,95100,85550,64900,34900,35200,49900,81900,25900,64900,91050,64500,59999,62900,30999,59850,86900,54999,38900,34900,42000,35900,39999,101200,71600,28900,45600,63000,71800,77100,72100,86650,43999,101200,41600,25900,78300,89000,44900,28900,59990,35500,71600,87400,74569,90550,101200,59900,96500,52300,64999,86700,39900,86000,25707,74150,85400,24900,36900,72900,33500,108200,107700,81950,44800,48700,19500,64900,64900,83550,43900,81990,76700,79999,79900,87000,83450,54900,58500,83700,70700,72900,62900,54900,59500,103500,58900,73900,17500,81900,48600,71600,70800,89350,80500,36900,26900,68900,39999,55900,54500,21900,33900,44500,83350,99500,74900,70900,61900,34900,69900,29898,110900,29900,65000,63600,50800,61700,64900,64900,59800,64500,78800,73700,88250,74900,35900,57850,34900,45500,44900,64900,83800,18800,45900,84500,41900,62900,54800,101000,89950,88100,58900,18200,71700,63500,46999,27900,63999,66999,45000,59500,36000,32900,66000,46000,44000,48000,50500,43000,48800,61999,24900,43000,36900,36000,99000,72900,42900,88250,50800,32900,41820,46464,49900,67900,35900,25000,39900,48900,42800,23990,39900,6000,52900,62900,53500,89950,62730,77900,41000,49800,31900,42900,34900,25900,25900,72700,79900,92500,83900,88820,88500,38900,71910,88500,73700,39900,69000,80100,72750,83350,95800,55555,89250,29800,69900,73900,65900,88200,28900,25000,35900,29900,44900,74900,86900,36500,36900,60900,53900,77900,80400,47900,73000,31500,45500,88450,96900,96700,90150,46999,49900,42900,99999,71999,98999,75999,98999,88100,96700,94000,81450,79900,41800,83350,76900,47000,83550,62900,45500,54900,39900,69900,48500,59990,94000,60900,49900,87500,44280,49900,96555,72900,59900,66700,64900,39990,61500,84000,74900,80850,99900,94900,93450,24900,100300,107950,67900,46900,54900,44900,64900,40900,91900,42900,107250,52000,83700,51900,59900,97000,69900,23900,37900,97300,107000,71900,41000,61300,49900,52767,57900,107500,47950,78800,41900,49500,26600,23600,67900,18900,61999,26500,66900,59777,65800,58900,81200,101200,79999,57000,99990,75600,98700,36900,62900,101200,80500,43050,52900,85499,87900,69900,77900,45900,66300,69900,75150,69400,89850,64500,62900,89850,42900,34900,34900,95600,42999,65900,43000,25900,62300,29900,28500,56555,54900,29900,72999,84600,46000,35900,22900,62499,41900,28500,34770,41500,42999,38999,22900,75500,26900,62500,39000,57900,27300,39500,19680,83700,66750,98200,44900,78850,67900,32900,99200,72950,78650,80850,55800,81750,72500,97950,58800,36997,28900,78600,29900,67500,67600,33900,97900,35999,65999,73950,21900,42900,75500,31999,105700,80750,88550,70999,44999,36500,44000,67000,27900,49500,84900,64900,85450,88450,88250,14500,101200,54900,67900,82900,69900,59850,79900,82500,59999,59900,55900,60000,82900,53850,81900,95700,65900,68900,29900,16000,105000,89850,22900,89850,69900,94700,40850,93900,102900,105000,74900,97300,71000,55500,74900,56900,78600,72900,71900,52767,88250,45000,59900,53900,79999,39500,65900,84900,49900,44999,29900,34999,97400,83450,91300,57900,42804,87200,74900,17000,67900,96700,45756,28900,34900,67900,69700,44000,83900,35900,74900,96900,86000,74800,97950,54900,92900,74000,74900,83700,87300,67700,77900,77990,59900,107250,53999,111700,67300,70200,68800,105200,67800,47800,72499,67800,66900,25500,81900,71900,29800,56900,72900,74900,64900,83700,33900,94900,95300,34500,76150,93700,35500,71500,18900,88450,19600,47000,32500,101200,44901,94700,39900,101000,31500,94300,84950,98500,100400,69900,93650,66300,65300,75000,102600,54900,80500,9300,73700,95800,57990,94700,44900,65300,25900,43200,34999,60900,90450,46999,59900,97300,72000,39999,87950,83900,52800,34900,43900,24999,82999,109500,24999,39500,45900,46900,63900,40900,36900,41500,112500,109700,34900,38800,101200,48769,32000,79999,57800,39900,41500,64900,97400,19311,37900,23900,39900,107400,79500,34317,29900,72000,26322,64900,57999,32900,47900,36900,89000,39999,47900,24900,81750,39900,66900,34000,68900,54900,27900,39900,46900,29999,27500,23900,19800,44900,60900,42500,31900,37800,25900,41900,9900,58800,67500,49900,30000,41700,59900,69400,61900,73800,36900,69500,59999,42900,34500,25999,21900,39900,42900,110000,57000,30999,48000,30627,99999,59899,33800,88800,73700,19557,54999,79250,64500,29800,29999,69800,55891,20199,14444,17900,22999,49499,32900,32900,58900,84900,43900,41900,39900,37399,16100,37000,35916,46000,20900,36800,15000,59800,40990,32999,39900,49900,45900,47900,69099,29800,58900,59937,32700,69900,30900,32900,27900,65900,34900,56900,35900,53500,107700,96700,49900,43900,25900,22900,34500,43900,46500,31500,62000,26500,44900,30990,33900,55700,94900,34500,28950,30000,51900,59900,54900,49900,17900,66000,46900,18900,73800,45000,42000,44700,55000,29800,87300,83300,42999,111650,39000,63900,34900,23900,15900,19900,69999,42900,58900,25000,33900,42900,41987,32900,39999,36900,85000,57900,53400,60000,53900,16700,42999,39900,61900,42900,26800,45900,36900,14900,42500,22900,32900,22900,22500,59500,40999,41800,22900,43500,6700,61500,47800,33000,25500,34500,57000,61900,67500,25500,59900,43900,69900,59500,44700,27900,34900,19500,59900,53800,49900,42700,32900,91300,75800,75800,63900,39900,69000,59900,17835,63000,37900,45000,23900,38500,43900,34000],\"xaxis\":\"x\",\"y\":[999.0,1461.0,1461.0,1461.0,999.0,999.0,1332.0,898.0,999.0,999.0,1461.0,1197.0,999.0,1461.0,1332.0,1598.0,1598.0,898.0,999.0,1461.0,898.0,1598.0,999.0,999.0,1598.0,999.0,999.0,1332.0,999.0,999.0,1598.0,1598.0,999.0,999.0,898.0,999.0,1598.0,1461.0,999.0,1332.0,1332.0,1332.0,1149.0,999.0,999.0,1598.0,898.0,998.0,1461.0,999.0,1598.0,1332.0,999.0,999.0,1332.0,999.0,999.0,999.0,1598.0,1461.0,1598.0,1598.0,1598.0,999.0,1198.0,1332.0,1598.0,999.0,1149.0,1598.0,1149.0,1461.0,1598.0,999.0,999.0,1197.0,999.0,999.0,1332.0,1332.0,1598.0,1461.0,1461.0,999.0,1598.0,1149.0,1461.0,999.0,999.0,1461.0,1461.0,999.0,999.0,999.0,1332.0,1598.0,1598.0,898.0,1149.0,1598.0,1332.0,1598.0,1461.0,1149.0,999.0,1332.0,1332.0,999.0,898.0,999.0,1461.0,898.0,998.0,898.0,1598.0,1197.0,999.0,999.0,999.0,1461.0,1332.0,999.0,999.0,999.0,1197.0,999.0,1598.0,999.0,998.0,999.0,1598.0,1598.0,898.0,1461.0,999.0,1500.0,999.0,999.0,1461.0,1461.0,999.0,898.0,1598.0,999.0,999.0,999.0,999.0,999.0,999.0,1461.0,999.0,1461.0,999.0,999.0,1461.0,1149.0,1598.0,1461.0,999.0,1598.0,999.0,999.0,999.0,1598.0,999.0,999.0,999.0,999.0,999.0,1332.0,1198.0,1598.0,1197.0,1598.0,1149.0,898.0,898.0,1598.0,1598.0,1598.0,1149.0,1598.0,999.0,999.0,999.0,1461.0,999.0,898.0,999.0,999.0,999.0,999.0,1461.0,1332.0,1332.0,1198.0,1598.0,1598.0,898.0,998.0,1149.0,999.0,898.0,898.0,1461.0,1598.0,999.0,999.0,999.0,999.0,999.0,1598.0,999.0,999.0,999.0,898.0,999.0,1332.0,999.0,1598.0,999.0,999.0,999.0,999.0,999.0,1598.0,1461.0,1598.0,999.0,999.0,1598.0,999.0,999.0,999.0,999.0,1461.0,898.0,900.0,999.0,999.0,999.0,999.0,1199.0,898.0,999.0,1300.0,898.0,999.0,1461.0,898.0,1461.0,1461.0,999.0,999.0,999.0,999.0,999.0,1332.0,1598.0,999.0,1461.0,999.0,999.0,1300.0,1197.0,1197.0,1461.0,1332.0,999.0,1461.0,999.0,999.0,1461.0,1332.0,1598.0,1461.0,999.0,999.0,998.0,1461.0,1149.0,898.0,1332.0,1197.0,1149.0,1598.0,898.0,1332.0,1598.0,1598.0,1198.0,1598.0,999.0,999.0,999.0,999.0,898.0,999.0,1461.0,999.0,898.0,999.0,1149.0,898.0,1332.0,999.0,1598.0,999.0,999.0,999.0,999.0,999.0,1461.0,1332.0,1461.0,999.0,1197.0,999.0,1149.0,1461.0,1461.0,1332.0,1332.0,1332.0,898.0,999.0,1461.0,1598.0,1197.0,1598.0,1598.0,999.0,999.0,999.0,1598.0,1598.0,999.0,999.0,1461.0,999.0,999.0,1598.0,1598.0,999.0,1598.0,1598.0,999.0,999.0,1598.0,1461.0,998.0,1598.0,1598.0,999.0,999.0,1197.0,1332.0,1598.0,999.0,898.0,898.0,998.0,999.0,999.0,1598.0,1598.0,999.0,998.0,999.0,999.0,1461.0,999.0,999.0,1598.0,999.0,999.0,1332.0,898.0,999.0,999.0,999.0,1461.0,999.0,999.0,999.0,999.0,999.0,999.0,999.0,999.0,1149.0,999.0,999.0,1461.0,999.0,999.0,898.0,1332.0,898.0,1332.0,999.0,1198.0,1461.0,1197.0,999.0,999.0,999.0,1332.0,1461.0,1332.0,999.0,999.0,1598.0,1197.0,1461.0,1598.0,999.0,999.0,999.0,999.0,999.0,1461.0,1461.0,1598.0,999.0,1197.0,999.0,1149.0,999.0,999.0,999.0,1598.0,1332.0,1332.0,1461.0,999.0,999.0,999.0,999.0,999.0,1461.0,999.0,1461.0,999.0,1461.0,999.0,1598.0,999.0,1461.0,1461.0,1598.0,1598.0,999.0,1332.0,1598.0,999.0,999.0,1598.0,999.0,1199.0,999.0,999.0,999.0,1598.0,1598.0,1332.0,1149.0,1598.0,1332.0,999.0,1332.0,999.0,999.0,999.0,999.0,1332.0,1332.0,898.0,999.0,999.0,999.0,999.0,999.0,999.0,999.0,998.0,1598.0,998.0,1598.0,999.0,898.0,999.0,1461.0,999.0,898.0,999.0,999.0,999.0,1598.0,1461.0,1598.0,1461.0,1598.0,898.0,1461.0,1598.0,1598.0,1461.0,1598.0,999.0,999.0,999.0,999.0,1149.0,999.0,999.0,998.0,1598.0,1461.0,1598.0,1149.0,999.0,999.0,1461.0,1461.0,999.0,998.0,999.0,1149.0,1461.0,1461.0,1598.0,999.0,898.0,898.0,1598.0,1598.0,898.0,898.0,999.0,1461.0,999.0,1461.0,1197.0,998.0,999.0,999.0,999.0,898.0,1598.0,998.0,1598.0,999.0,898.0,998.0,1598.0,999.0,999.0,1332.0,999.0,999.0,1598.0,1149.0,1332.0,1197.0,999.0,999.0,999.0,999.0,1598.0,1461.0,999.0,1461.0,999.0,999.0,999.0,898.0,999.0,999.0,1598.0,999.0,1332.0,999.0,1197.0,999.0,998.0,999.0,999.0,999.0,999.0,1461.0,1600.0,898.0,1598.0,898.0,999.0,999.0,999.0,999.0,1598.0,898.0,999.0,1461.0,1461.0,999.0,1598.0,999.0,898.0,898.0,1598.0,999.0,999.0,1149.0,898.0,1461.0,999.0,1598.0,1461.0,999.0,999.0,999.0,999.0,1332.0,1598.0,999.0,1461.0,999.0,999.0,999.0,1461.0,999.0,999.0,999.0,1598.0,1598.0,999.0,999.0,999.0,999.0,999.0,999.0,999.0,999.0,999.0,998.0,998.0,999.0,999.0,1461.0,1332.0,1598.0,1598.0,1598.0,1197.0,1598.0,898.0,999.0,1598.0,898.0,1461.0,1461.0,1598.0,1598.0,1461.0,1598.0,999.0,898.0,1461.0,999.0,1197.0,999.0,999.0,999.0,999.0,1598.0,1598.0,999.0,1598.0,1461.0,999.0,999.0,999.0,1461.0,1461.0,999.0,1461.0,999.0,999.0,898.0,898.0,1598.0,898.0,1197.0,1461.0,1197.0,999.0,999.0,1598.0,999.0,1197.0,999.0,1149.0,898.0,1197.0,1149.0,1598.0,1598.0,1332.0,898.0,1461.0,1197.0,1149.0,1149.0,1598.0,1332.0,999.0,999.0,1598.0,1461.0,999.0,999.0,898.0,1461.0,1598.0,999.0,1461.0,999.0,1598.0,998.0,1461.0,1598.0,1461.0,1461.0,999.0,1461.0,1461.0,1461.0,1461.0,1461.0,999.0,999.0,999.0,999.0,999.0,999.0,999.0,999.0,1461.0,999.0,999.0,999.0,1461.0,1332.0,1598.0,1598.0,999.0,999.0,1598.0,999.0,998.0,1598.0,999.0,999.0,999.0,999.0,999.0,1598.0,1598.0,998.0,1461.0,999.0,1598.0,1197.0,998.0,999.0,1461.0,1461.0,999.0,999.0,1461.0,898.0,999.0,999.0,999.0,999.0,999.0,1461.0,999.0,1197.0,999.0,999.0,999.0,1598.0,1149.0,1598.0,999.0,999.0,999.0,999.0,999.0,999.0,1598.0,999.0,1461.0,1332.0,999.0,1461.0,1332.0,1461.0,999.0,999.0,999.0,1598.0,999.0,898.0,1332.0,999.0,999.0,898.0,1598.0,999.0,1461.0,999.0,999.0,1598.0,999.0,999.0,1461.0,999.0,999.0,999.0,1598.0,1000.0,999.0,1000.0,1000.0,1500.0,999.0,1598.0,1332.0,999.0,999.0,1598.0,999.0,1461.0,999.0,999.0,999.0,999.0,999.0,1500.0,1461.0,1461.0,1598.0,1598.0,1461.0,898.0,1598.0,999.0,999.0,999.0,999.0,1598.0,1461.0,1332.0,1461.0,1461.0,999.0,1461.0,1461.0,1461.0,1461.0,999.0,999.0,1598.0,999.0,999.0,999.0,999.0,999.0,999.0,1598.0,1598.0,898.0,1461.0,999.0,999.0,1598.0,1598.0,999.0,1197.0,1461.0,1332.0,999.0,999.0,999.0,1332.0,999.0,999.0,999.0,1461.0,1197.0,999.0,999.0,1598.0,1598.0,999.0,1461.0,1598.0,898.0,898.0,1598.0,1461.0,898.0,1598.0,1598.0,999.0,898.0,1461.0,1598.0,1332.0,999.0,999.0,999.0,1598.0,1461.0,1461.0,1197.0,1461.0,999.0,898.0,1598.0,1149.0,1598.0,1598.0,898.0,1598.0,1461.0,1197.0,1598.0,1197.0,999.0,1598.0,1461.0,1461.0,1598.0,1149.0,1461.0,1461.0,1598.0,1598.0,999.0,999.0,999.0,999.0,1332.0,999.0,1598.0,999.0,999.0,999.0,1598.0,999.0,999.0,999.0,999.0,999.0,1461.0,999.0,1461.0,999.0,999.0,999.0,1332.0,999.0,999.0,999.0,1461.0,1598.0,999.0,1332.0,1149.0,999.0,1598.0,1598.0,999.0,999.0,1461.0,999.0,1197.0,1598.0,1332.0,999.0,1332.0,999.0,1598.0,1598.0,1197.0,999.0,999.0,999.0,999.0,999.0,999.0,1300.0,1300.0,999.0,1461.0,1461.0,999.0,999.0,1598.0,999.0,999.0,1461.0,1598.0,1197.0,1332.0,1598.0,1598.0,1332.0,1461.0,898.0,999.0,1598.0,1461.0,1461.0,999.0,1598.0,999.0,999.0,1500.0,1598.0,1332.0,999.0,999.0,999.0,999.0,999.0,998.0,999.0,999.0,999.0,1461.0,1598.0,1197.0,999.0,998.0,999.0,1461.0,999.0,1598.0,999.0,999.0,1598.0,1461.0,1598.0,1598.0,898.0,1332.0,1332.0,999.0,1598.0,1598.0,898.0,1598.0,999.0,1332.0,1598.0,999.0,1461.0,1461.0,1461.0,1461.0,1598.0,999.0,1598.0,1461.0,999.0,1332.0,999.0,1598.0,999.0,999.0,1461.0,1598.0,1461.0,999.0,999.0,999.0,1500.0,999.0,999.0,1598.0,1461.0,999.0,999.0,999.0,999.0,1461.0,1598.0,1598.0,999.0,999.0,999.0,999.0,1598.0,999.0,1598.0,999.0,1461.0,1332.0,1598.0,999.0,1598.0,999.0,999.0,999.0,999.0,1461.0,1197.0,1461.0,1332.0,999.0,999.0,1461.0,898.0,1598.0,1461.0,898.0,999.0,999.0,1598.0,1461.0,1197.0,999.0,1332.0,1598.0,999.0,1461.0,999.0,1461.0,1149.0,999.0,999.0,999.0,1598.0,999.0,999.0,898.0,999.0,999.0,999.0,999.0,1197.0,999.0,999.0,999.0,1598.0,898.0,1149.0,999.0,1461.0,999.0,999.0,1461.0,999.0,998.0,999.0,999.0,1199.0,1461.0,999.0,898.0,1332.0,999.0,999.0,999.0,1598.0,1332.0,898.0,999.0,1461.0,1197.0,999.0,999.0,999.0,999.0,999.0,898.0,999.0,1598.0,999.0,999.0,999.0,999.0,1332.0,999.0,999.0,1598.0,999.0,1598.0,1332.0,1598.0,999.0,1332.0,1598.0,999.0,998.0,1598.0,1461.0,999.0,1598.0,999.0,1598.0,1332.0,1598.0,1332.0,999.0,1332.0,999.0,1332.0,999.0,999.0,999.0,898.0,999.0,1461.0,999.0,1461.0,999.0,1598.0,1598.0,999.0,999.0,1461.0,999.0,999.0,1598.0,1598.0,1149.0,1461.0,1332.0,999.0,999.0,1598.0,1461.0,999.0,999.0,898.0,999.0,1332.0,1461.0,999.0,898.0,999.0,1461.0,1461.0,999.0,898.0,999.0,1332.0,999.0,999.0,999.0,1598.0,999.0,999.0,999.0,999.0,999.0,999.0,999.0,999.0,999.0,999.0,1598.0,1332.0,1000.0,999.0,1461.0,1461.0,1598.0,1197.0,999.0,1197.0,1461.0,1149.0,999.0,999.0,1149.0,999.0,999.0,999.0,999.0,999.0,1600.0,999.0,1300.0,1000.0,999.0,1332.0,1149.0,1000.0,1461.0,999.0,1461.0,1461.0,1197.0,999.0,1598.0,1332.0,1598.0,999.0,898.0,999.0,999.0,1332.0,999.0,999.0,999.0,1000.0,1000.0,999.0,999.0,1598.0,999.0,999.0,999.0,999.0,1598.0,1332.0,898.0,999.0,1149.0,898.0,1149.0,1598.0,999.0,1598.0,1461.0,1332.0,1598.0,1598.0,999.0,1332.0,1598.0,1461.0,1598.0,898.0,999.0,1332.0,898.0,1461.0,1598.0,1598.0,1598.0,898.0,999.0,999.0,1332.0,1332.0,1461.0,1197.0,999.0,1461.0,1197.0,1461.0,1598.0,999.0,999.0,999.0,1332.0,1598.0,898.0,1461.0,898.0,1332.0,1461.0,999.0,1461.0,999.0,1461.0,1461.0,1461.0,999.0,898.0,999.0,999.0,1461.0,1598.0,1461.0,999.0,1461.0,1598.0,1598.0,999.0,1197.0,999.0,999.0,1461.0,1461.0,898.0,1461.0,999.0,1598.0,1332.0,898.0,1461.0,1461.0,898.0,999.0,999.0,1598.0,1461.0,1461.0,898.0,1461.0,1598.0,1598.0,999.0,999.0,1598.0,999.0,1461.0,1197.0,898.0,898.0,1598.0,998.0,1598.0,999.0,1598.0,898.0,1598.0,1461.0,1598.0,1598.0,898.0,999.0,999.0,999.0,1197.0,999.0,999.0,898.0,1461.0,999.0,999.0,1598.0,898.0,1199.0,998.0,1461.0,999.0,998.0,1598.0,999.0,1197.0,998.0,898.0,999.0,999.0,999.0,999.0,1598.0,1461.0,999.0,1461.0,1598.0,898.0,1461.0,898.0,999.0,1598.0,1461.0,999.0,898.0,1461.0,1461.0,898.0,999.0,1461.0,898.0,1197.0,999.0,1197.0,1332.0,898.0,1598.0,1332.0,1332.0,1598.0,998.0,999.0,999.0,998.0,1197.0,898.0,1461.0,999.0,999.0,1598.0,1461.0,999.0,999.0,1332.0,1461.0,1461.0,998.0,1598.0,999.0,999.0,1598.0,898.0,999.0,1598.0,1461.0,999.0,1598.0,1197.0,1197.0,1461.0,898.0,999.0,999.0,1197.0,999.0,898.0,1598.0,1461.0,1598.0,1197.0,999.0,999.0,1598.0,1598.0,999.0,999.0,1197.0,1598.0,1598.0,898.0,999.0,1461.0,1197.0,1197.0,1461.0,999.0,1598.0,898.0,1461.0,1461.0,898.0,999.0,1461.0,999.0,1461.0,898.0,999.0,898.0,1149.0,898.0,999.0,999.0,1598.0,1598.0,1461.0,999.0,1461.0,1461.0,999.0,898.0,898.0,1598.0,1598.0,999.0,999.0,1461.0,1598.0,1461.0,999.0,1598.0,898.0,1198.0,999.0,999.0,1461.0,898.0,1461.0,998.0,999.0,999.0,999.0,999.0,898.0,1332.0,1598.0,1598.0,1598.0,999.0,1598.0,1149.0,1598.0,1598.0,1461.0],\"yaxis\":\"y\",\"type\":\"scattergl\"}],                        {\"template\":{\"data\":{\"bar\":[{\"error_x\":{\"color\":\"#2a3f5f\"},\"error_y\":{\"color\":\"#2a3f5f\"},\"marker\":{\"line\":{\"color\":\"#E5ECF6\",\"width\":0.5},\"pattern\":{\"fillmode\":\"overlay\",\"size\":10,\"solidity\":0.2}},\"type\":\"bar\"}],\"barpolar\":[{\"marker\":{\"line\":{\"color\":\"#E5ECF6\",\"width\":0.5},\"pattern\":{\"fillmode\":\"overlay\",\"size\":10,\"solidity\":0.2}},\"type\":\"barpolar\"}],\"carpet\":[{\"aaxis\":{\"endlinecolor\":\"#2a3f5f\",\"gridcolor\":\"white\",\"linecolor\":\"white\",\"minorgridcolor\":\"white\",\"startlinecolor\":\"#2a3f5f\"},\"baxis\":{\"endlinecolor\":\"#2a3f5f\",\"gridcolor\":\"white\",\"linecolor\":\"white\",\"minorgridcolor\":\"white\",\"startlinecolor\":\"#2a3f5f\"},\"type\":\"carpet\"}],\"choropleth\":[{\"colorbar\":{\"outlinewidth\":0,\"ticks\":\"\"},\"type\":\"choropleth\"}],\"contour\":[{\"colorbar\":{\"outlinewidth\":0,\"ticks\":\"\"},\"colorscale\":[[0.0,\"#0d0887\"],[0.1111111111111111,\"#46039f\"],[0.2222222222222222,\"#7201a8\"],[0.3333333333333333,\"#9c179e\"],[0.4444444444444444,\"#bd3786\"],[0.5555555555555556,\"#d8576b\"],[0.6666666666666666,\"#ed7953\"],[0.7777777777777778,\"#fb9f3a\"],[0.8888888888888888,\"#fdca26\"],[1.0,\"#f0f921\"]],\"type\":\"contour\"}],\"contourcarpet\":[{\"colorbar\":{\"outlinewidth\":0,\"ticks\":\"\"},\"type\":\"contourcarpet\"}],\"heatmap\":[{\"colorbar\":{\"outlinewidth\":0,\"ticks\":\"\"},\"colorscale\":[[0.0,\"#0d0887\"],[0.1111111111111111,\"#46039f\"],[0.2222222222222222,\"#7201a8\"],[0.3333333333333333,\"#9c179e\"],[0.4444444444444444,\"#bd3786\"],[0.5555555555555556,\"#d8576b\"],[0.6666666666666666,\"#ed7953\"],[0.7777777777777778,\"#fb9f3a\"],[0.8888888888888888,\"#fdca26\"],[1.0,\"#f0f921\"]],\"type\":\"heatmap\"}],\"heatmapgl\":[{\"colorbar\":{\"outlinewidth\":0,\"ticks\":\"\"},\"colorscale\":[[0.0,\"#0d0887\"],[0.1111111111111111,\"#46039f\"],[0.2222222222222222,\"#7201a8\"],[0.3333333333333333,\"#9c179e\"],[0.4444444444444444,\"#bd3786\"],[0.5555555555555556,\"#d8576b\"],[0.6666666666666666,\"#ed7953\"],[0.7777777777777778,\"#fb9f3a\"],[0.8888888888888888,\"#fdca26\"],[1.0,\"#f0f921\"]],\"type\":\"heatmapgl\"}],\"histogram\":[{\"marker\":{\"pattern\":{\"fillmode\":\"overlay\",\"size\":10,\"solidity\":0.2}},\"type\":\"histogram\"}],\"histogram2d\":[{\"colorbar\":{\"outlinewidth\":0,\"ticks\":\"\"},\"colorscale\":[[0.0,\"#0d0887\"],[0.1111111111111111,\"#46039f\"],[0.2222222222222222,\"#7201a8\"],[0.3333333333333333,\"#9c179e\"],[0.4444444444444444,\"#bd3786\"],[0.5555555555555556,\"#d8576b\"],[0.6666666666666666,\"#ed7953\"],[0.7777777777777778,\"#fb9f3a\"],[0.8888888888888888,\"#fdca26\"],[1.0,\"#f0f921\"]],\"type\":\"histogram2d\"}],\"histogram2dcontour\":[{\"colorbar\":{\"outlinewidth\":0,\"ticks\":\"\"},\"colorscale\":[[0.0,\"#0d0887\"],[0.1111111111111111,\"#46039f\"],[0.2222222222222222,\"#7201a8\"],[0.3333333333333333,\"#9c179e\"],[0.4444444444444444,\"#bd3786\"],[0.5555555555555556,\"#d8576b\"],[0.6666666666666666,\"#ed7953\"],[0.7777777777777778,\"#fb9f3a\"],[0.8888888888888888,\"#fdca26\"],[1.0,\"#f0f921\"]],\"type\":\"histogram2dcontour\"}],\"mesh3d\":[{\"colorbar\":{\"outlinewidth\":0,\"ticks\":\"\"},\"type\":\"mesh3d\"}],\"parcoords\":[{\"line\":{\"colorbar\":{\"outlinewidth\":0,\"ticks\":\"\"}},\"type\":\"parcoords\"}],\"pie\":[{\"automargin\":true,\"type\":\"pie\"}],\"scatter\":[{\"marker\":{\"colorbar\":{\"outlinewidth\":0,\"ticks\":\"\"}},\"type\":\"scatter\"}],\"scatter3d\":[{\"line\":{\"colorbar\":{\"outlinewidth\":0,\"ticks\":\"\"}},\"marker\":{\"colorbar\":{\"outlinewidth\":0,\"ticks\":\"\"}},\"type\":\"scatter3d\"}],\"scattercarpet\":[{\"marker\":{\"colorbar\":{\"outlinewidth\":0,\"ticks\":\"\"}},\"type\":\"scattercarpet\"}],\"scattergeo\":[{\"marker\":{\"colorbar\":{\"outlinewidth\":0,\"ticks\":\"\"}},\"type\":\"scattergeo\"}],\"scattergl\":[{\"marker\":{\"colorbar\":{\"outlinewidth\":0,\"ticks\":\"\"}},\"type\":\"scattergl\"}],\"scattermapbox\":[{\"marker\":{\"colorbar\":{\"outlinewidth\":0,\"ticks\":\"\"}},\"type\":\"scattermapbox\"}],\"scatterpolar\":[{\"marker\":{\"colorbar\":{\"outlinewidth\":0,\"ticks\":\"\"}},\"type\":\"scatterpolar\"}],\"scatterpolargl\":[{\"marker\":{\"colorbar\":{\"outlinewidth\":0,\"ticks\":\"\"}},\"type\":\"scatterpolargl\"}],\"scatterternary\":[{\"marker\":{\"colorbar\":{\"outlinewidth\":0,\"ticks\":\"\"}},\"type\":\"scatterternary\"}],\"surface\":[{\"colorbar\":{\"outlinewidth\":0,\"ticks\":\"\"},\"colorscale\":[[0.0,\"#0d0887\"],[0.1111111111111111,\"#46039f\"],[0.2222222222222222,\"#7201a8\"],[0.3333333333333333,\"#9c179e\"],[0.4444444444444444,\"#bd3786\"],[0.5555555555555556,\"#d8576b\"],[0.6666666666666666,\"#ed7953\"],[0.7777777777777778,\"#fb9f3a\"],[0.8888888888888888,\"#fdca26\"],[1.0,\"#f0f921\"]],\"type\":\"surface\"}],\"table\":[{\"cells\":{\"fill\":{\"color\":\"#EBF0F8\"},\"line\":{\"color\":\"white\"}},\"header\":{\"fill\":{\"color\":\"#C8D4E3\"},\"line\":{\"color\":\"white\"}},\"type\":\"table\"}]},\"layout\":{\"annotationdefaults\":{\"arrowcolor\":\"#2a3f5f\",\"arrowhead\":0,\"arrowwidth\":1},\"autotypenumbers\":\"strict\",\"coloraxis\":{\"colorbar\":{\"outlinewidth\":0,\"ticks\":\"\"}},\"colorscale\":{\"diverging\":[[0,\"#8e0152\"],[0.1,\"#c51b7d\"],[0.2,\"#de77ae\"],[0.3,\"#f1b6da\"],[0.4,\"#fde0ef\"],[0.5,\"#f7f7f7\"],[0.6,\"#e6f5d0\"],[0.7,\"#b8e186\"],[0.8,\"#7fbc41\"],[0.9,\"#4d9221\"],[1,\"#276419\"]],\"sequential\":[[0.0,\"#0d0887\"],[0.1111111111111111,\"#46039f\"],[0.2222222222222222,\"#7201a8\"],[0.3333333333333333,\"#9c179e\"],[0.4444444444444444,\"#bd3786\"],[0.5555555555555556,\"#d8576b\"],[0.6666666666666666,\"#ed7953\"],[0.7777777777777778,\"#fb9f3a\"],[0.8888888888888888,\"#fdca26\"],[1.0,\"#f0f921\"]],\"sequentialminus\":[[0.0,\"#0d0887\"],[0.1111111111111111,\"#46039f\"],[0.2222222222222222,\"#7201a8\"],[0.3333333333333333,\"#9c179e\"],[0.4444444444444444,\"#bd3786\"],[0.5555555555555556,\"#d8576b\"],[0.6666666666666666,\"#ed7953\"],[0.7777777777777778,\"#fb9f3a\"],[0.8888888888888888,\"#fdca26\"],[1.0,\"#f0f921\"]]},\"colorway\":[\"#636efa\",\"#EF553B\",\"#00cc96\",\"#ab63fa\",\"#FFA15A\",\"#19d3f3\",\"#FF6692\",\"#B6E880\",\"#FF97FF\",\"#FECB52\"],\"font\":{\"color\":\"#2a3f5f\"},\"geo\":{\"bgcolor\":\"white\",\"lakecolor\":\"white\",\"landcolor\":\"#E5ECF6\",\"showlakes\":true,\"showland\":true,\"subunitcolor\":\"white\"},\"hoverlabel\":{\"align\":\"left\"},\"hovermode\":\"closest\",\"mapbox\":{\"style\":\"light\"},\"paper_bgcolor\":\"white\",\"plot_bgcolor\":\"#E5ECF6\",\"polar\":{\"angularaxis\":{\"gridcolor\":\"white\",\"linecolor\":\"white\",\"ticks\":\"\"},\"bgcolor\":\"#E5ECF6\",\"radialaxis\":{\"gridcolor\":\"white\",\"linecolor\":\"white\",\"ticks\":\"\"}},\"scene\":{\"xaxis\":{\"backgroundcolor\":\"#E5ECF6\",\"gridcolor\":\"white\",\"gridwidth\":2,\"linecolor\":\"white\",\"showbackground\":true,\"ticks\":\"\",\"zerolinecolor\":\"white\"},\"yaxis\":{\"backgroundcolor\":\"#E5ECF6\",\"gridcolor\":\"white\",\"gridwidth\":2,\"linecolor\":\"white\",\"showbackground\":true,\"ticks\":\"\",\"zerolinecolor\":\"white\"},\"zaxis\":{\"backgroundcolor\":\"#E5ECF6\",\"gridcolor\":\"white\",\"gridwidth\":2,\"linecolor\":\"white\",\"showbackground\":true,\"ticks\":\"\",\"zerolinecolor\":\"white\"}},\"shapedefaults\":{\"line\":{\"color\":\"#2a3f5f\"}},\"ternary\":{\"aaxis\":{\"gridcolor\":\"white\",\"linecolor\":\"white\",\"ticks\":\"\"},\"baxis\":{\"gridcolor\":\"white\",\"linecolor\":\"white\",\"ticks\":\"\"},\"bgcolor\":\"#E5ECF6\",\"caxis\":{\"gridcolor\":\"white\",\"linecolor\":\"white\",\"ticks\":\"\"}},\"title\":{\"x\":0.05},\"xaxis\":{\"automargin\":true,\"gridcolor\":\"white\",\"linecolor\":\"white\",\"ticks\":\"\",\"title\":{\"standoff\":15},\"zerolinecolor\":\"white\",\"zerolinewidth\":2},\"yaxis\":{\"automargin\":true,\"gridcolor\":\"white\",\"linecolor\":\"white\",\"ticks\":\"\",\"title\":{\"standoff\":15},\"zerolinecolor\":\"white\",\"zerolinewidth\":2}}},\"xaxis\":{\"anchor\":\"y\",\"domain\":[0.0,1.0],\"title\":{\"text\":\"cena\"}},\"yaxis\":{\"anchor\":\"x\",\"domain\":[0.0,1.0],\"title\":{\"text\":\"pojemnosc_silnika\"}},\"coloraxis\":{\"colorbar\":{\"title\":{\"text\":\"flaga_IQR\"}},\"colorscale\":[[0.0,\"#0d0887\"],[0.1111111111111111,\"#46039f\"],[0.2222222222222222,\"#7201a8\"],[0.3333333333333333,\"#9c179e\"],[0.4444444444444444,\"#bd3786\"],[0.5555555555555556,\"#d8576b\"],[0.6666666666666666,\"#ed7953\"],[0.7777777777777778,\"#fb9f3a\"],[0.8888888888888888,\"#fdca26\"],[1.0,\"#f0f921\"]]},\"legend\":{\"tracegroupgap\":0},\"title\":{\"text\":\"Rozrzut cechy - oferta_pojemno\\u015b\\u0107 a warto\\u015bci odstaj\\u0105ce\"}},                        {\"responsive\": true}                    ).then(function(){\n",
              "                            \n",
              "var gd = document.getElementById('138031db-70f3-45e4-8a61-7cb30b56f2dd');\n",
              "var x = new MutationObserver(function (mutations, observer) {{\n",
              "        var display = window.getComputedStyle(gd).display;\n",
              "        if (!display || display === 'none') {{\n",
              "            console.log([gd, 'removed!']);\n",
              "            Plotly.purge(gd);\n",
              "            observer.disconnect();\n",
              "        }}\n",
              "}});\n",
              "\n",
              "// Listen for the removal of the full notebook cells\n",
              "var notebookContainer = gd.closest('#notebook-container');\n",
              "if (notebookContainer) {{\n",
              "    x.observe(notebookContainer, {childList: true});\n",
              "}}\n",
              "\n",
              "// Listen for the clearing of the current output cell\n",
              "var outputEl = gd.closest('.output');\n",
              "if (outputEl) {{\n",
              "    x.observe(outputEl, {childList: true});\n",
              "}}\n",
              "\n",
              "                        })                };                            </script>        </div>\n",
              "</body>\n",
              "</html>"
            ]
          },
          "metadata": {}
        }
      ]
    },
    {
      "cell_type": "code",
      "source": [],
      "metadata": {
        "id": "trB9FEKjezxD"
      },
      "execution_count": null,
      "outputs": []
    },
    {
      "cell_type": "code",
      "source": [
        "dane_modelowanie.shape"
      ],
      "metadata": {
        "colab": {
          "base_uri": "https://localhost:8080/"
        },
        "id": "tzimB2UEeX2K",
        "outputId": "ed10abbe-93ad-44ed-af5e-78970f77cb90"
      },
      "execution_count": null,
      "outputs": [
        {
          "output_type": "execute_result",
          "data": {
            "text/plain": [
              "(1606, 6)"
            ]
          },
          "metadata": {},
          "execution_count": 239
        }
      ]
    },
    {
      "cell_type": "code",
      "source": [
        "dane_modelowanie2 = dane_modelowanie[dane_modelowanie[\"flaga_IQR\"]==1]\n",
        "dane_modelowanie2.shape"
      ],
      "metadata": {
        "colab": {
          "base_uri": "https://localhost:8080/"
        },
        "id": "-SRdB0dQebqw",
        "outputId": "219f329b-8330-4db8-d755-24806c28026b"
      },
      "execution_count": null,
      "outputs": [
        {
          "output_type": "execute_result",
          "data": {
            "text/plain": [
              "(1606, 6)"
            ]
          },
          "metadata": {},
          "execution_count": 240
        }
      ]
    },
    {
      "cell_type": "code",
      "source": [
        "def IQR_outliers_przebieg(a):\n",
        "  Q1, Q3 = np.percentile(a, [25, 75])\n",
        "  IQR = Q3 - Q1\n",
        "\n",
        "  gorne_ograniczenie  = Q3 + (2 * IQR)\n",
        "  dolne_ograniczenie  = Q1 - (2 * IQR)\n",
        "  print(\"Górne ograniczenie:\", gorne_ograniczenie)\n",
        "  print(\"Dolne ograniczenie:\", dolne_ograniczenie)\n",
        "\n",
        "  indeksy = np.where((a > gorne_ograniczenie) | (a < dolne_ograniczenie))\n",
        "  b = np.full(shape=a.shape[0], fill_value=1)\n",
        "  b[indeksy] = -1\n",
        "  \n",
        "  return b\n",
        "\n",
        "\n",
        "dane_modelowanie[\"flaga_IQR\"] = IQR_outliers_przebieg(dane_modelowanie[\"przebieg\"])\n",
        "print(dane_modelowanie[\"flaga_IQR\"])\n",
        "\n",
        "# wizualizacja wartości odstających wg. pojemności silnika\n",
        "px.scatter(dane_modelowanie, \n",
        "           x = \"cena\", \n",
        "           y = \"przebieg\",\n",
        "           hover_name = \"rocznik\",\n",
        "           color = \"flaga_IQR\", \n",
        "           title = \"Rozrzut cechy - przebieg a wartości odstające\")"
      ],
      "metadata": {
        "colab": {
          "base_uri": "https://localhost:8080/",
          "height": 943
        },
        "id": "m7XGpjk2ebtL",
        "outputId": "87215474-bb45-499c-81ac-9c51d0f152be"
      },
      "execution_count": null,
      "outputs": [
        {
          "output_type": "stream",
          "name": "stdout",
          "text": [
            "Górne ograniczenie: 274947.25\n",
            "Dolne ograniczenie: -183281.5\n",
            "0       1\n",
            "1      -1\n",
            "2       1\n",
            "3       1\n",
            "4       1\n",
            "       ..\n",
            "1601    1\n",
            "1602   -1\n",
            "1603    1\n",
            "1604    1\n",
            "1605    1\n",
            "Name: flaga_IQR, Length: 1606, dtype: int64\n"
          ]
        },
        {
          "output_type": "stream",
          "name": "stderr",
          "text": [
            "<ipython-input-16-76fe190283cc>:17: SettingWithCopyWarning:\n",
            "\n",
            "\n",
            "A value is trying to be set on a copy of a slice from a DataFrame.\n",
            "Try using .loc[row_indexer,col_indexer] = value instead\n",
            "\n",
            "See the caveats in the documentation: https://pandas.pydata.org/pandas-docs/stable/user_guide/indexing.html#returning-a-view-versus-a-copy\n",
            "\n"
          ]
        },
        {
          "output_type": "display_data",
          "data": {
            "text/html": [
              "<html>\n",
              "<head><meta charset=\"utf-8\" /></head>\n",
              "<body>\n",
              "    <div>            <script src=\"https://cdnjs.cloudflare.com/ajax/libs/mathjax/2.7.5/MathJax.js?config=TeX-AMS-MML_SVG\"></script><script type=\"text/javascript\">if (window.MathJax) {MathJax.Hub.Config({SVG: {font: \"STIX-Web\"}});}</script>                <script type=\"text/javascript\">window.PlotlyConfig = {MathJaxConfig: 'local'};</script>\n",
              "        <script src=\"https://cdn.plot.ly/plotly-2.8.3.min.js\"></script>                <div id=\"c5145b9a-6599-42ba-b03f-e9863ad4c653\" class=\"plotly-graph-div\" style=\"height:525px; width:100%;\"></div>            <script type=\"text/javascript\">                                    window.PLOTLYENV=window.PLOTLYENV || {};                                    if (document.getElementById(\"c5145b9a-6599-42ba-b03f-e9863ad4c653\")) {                    Plotly.newPlot(                        \"c5145b9a-6599-42ba-b03f-e9863ad4c653\",                        [{\"hovertemplate\":\"<b>%{hovertext}</b><br><br>cena=%{x}<br>przebieg=%{y}<br>flaga_IQR=%{marker.color}<extra></extra>\",\"hovertext\":[2021.0,2017.0,2018.0,2016.0,2021.0,2022.0,2022.0,2016.0,2021.0,2023.0,2017.0,2016.0,2022.0,2016.0,2022.0,2019.0,2019.0,2016.0,2022.0,2018.0,2017.0,2018.0,2022.0,2020.0,2018.0,2023.0,2022.0,2022.0,2022.0,2021.0,2015.0,2015.0,2021.0,2022.0,2017.0,2022.0,2018.0,2016.0,2022.0,2022.0,2022.0,2022.0,2015.0,2022.0,2022.0,2016.0,2016.0,2017.0,2017.0,2023.0,2018.0,2022.0,2022.0,2022.0,2020.0,2022.0,2021.0,2021.0,2018.0,2018.0,2017.0,2019.0,2018.0,2021.0,2018.0,2021.0,2016.0,2023.0,2017.0,2019.0,2015.0,2016.0,2016.0,2023.0,2023.0,2015.0,2021.0,2022.0,2022.0,2023.0,2016.0,2016.0,2015.0,2023.0,2016.0,2016.0,2017.0,2022.0,2022.0,2017.0,2020.0,2021.0,2022.0,2018.0,2019.0,2016.0,2019.0,2016.0,2016.0,2016.0,2022.0,2018.0,2016.0,2017.0,2019.0,2019.0,2022.0,2022.0,2019.0,2021.0,2017.0,2018.0,2017.0,2018.0,2016.0,2018.0,2020.0,2022.0,2022.0,2016.0,2022.0,2022.0,2022.0,2018.0,2015.0,2022.0,2017.0,2021.0,2018.0,2021.0,2018.0,2017.0,2018.0,2017.0,2022.0,2018.0,2023.0,2021.0,2019.0,2018.0,2019.0,2018.0,2019.0,2020.0,2022.0,2020.0,2023.0,2020.0,2020.0,2021.0,2022.0,2019.0,2022.0,2022.0,2021.0,2015.0,2018.0,2015.0,2023.0,2019.0,2022.0,2022.0,2023.0,2019.0,2022.0,2022.0,2023.0,2021.0,2021.0,2022.0,2017.0,2016.0,2017.0,2017.0,2015.0,2018.0,2016.0,2017.0,2019.0,2019.0,2017.0,2019.0,2022.0,2022.0,2023.0,2015.0,2023.0,2019.0,2020.0,2019.0,2023.0,2022.0,2017.0,2022.0,2020.0,2018.0,2019.0,2017.0,2016.0,2019.0,2016.0,2020.0,2018.0,2019.0,2015.0,2018.0,2023.0,2022.0,2020.0,2023.0,2023.0,2016.0,2018.0,2022.0,2023.0,2018.0,2022.0,2019.0,2019.0,2015.0,2018.0,2022.0,2022.0,2022.0,2022.0,2017.0,2018.0,2019.0,2022.0,2023.0,2018.0,2023.0,2023.0,2023.0,2023.0,2019.0,2017.0,2015.0,2023.0,2021.0,2021.0,2022.0,2015.0,2018.0,2021.0,2022.0,2016.0,2019.0,2015.0,2019.0,2015.0,2019.0,2023.0,2023.0,2022.0,2019.0,2020.0,2022.0,2017.0,2020.0,2018.0,2019.0,2022.0,2022.0,2016.0,2017.0,2017.0,2022.0,2022.0,2017.0,2020.0,2020.0,2017.0,2019.0,2017.0,2016.0,2020.0,2021.0,2019.0,2019.0,2016.0,2017.0,2022.0,2015.0,2016.0,2018.0,2016.0,2022.0,2017.0,2018.0,2015.0,2017.0,2022.0,2021.0,2022.0,2020.0,2016.0,2019.0,2016.0,2019.0,2017.0,2018.0,2016.0,2016.0,2022.0,2018.0,2016.0,2023.0,2023.0,2019.0,2022.0,2019.0,2021.0,2022.0,2015.0,2022.0,2017.0,2021.0,2017.0,2015.0,2018.0,2022.0,2022.0,2022.0,2018.0,2022.0,2017.0,2015.0,2015.0,2018.0,2019.0,2022.0,2022.0,2022.0,2016.0,2018.0,2020.0,2022.0,2018.0,2021.0,2021.0,2017.0,2017.0,2020.0,2019.0,2018.0,2022.0,2022.0,2018.0,2020.0,2020.0,2019.0,2018.0,2022.0,2020.0,2019.0,2022.0,2017.0,2021.0,2019.0,2019.0,2018.0,2022.0,2021.0,2018.0,2018.0,2019.0,2017.0,2022.0,2022.0,2018.0,2022.0,2023.0,2017.0,2019.0,2022.0,2022.0,2016.0,2021.0,2022.0,2022.0,2015.0,2020.0,2020.0,2022.0,2022.0,2020.0,2021.0,2019.0,2022.0,2017.0,2021.0,2021.0,2017.0,2022.0,2022.0,2017.0,2022.0,2016.0,2020.0,2022.0,2017.0,2018.0,2017.0,2019.0,2022.0,2020.0,2022.0,2015.0,2022.0,2023.0,2022.0,2018.0,2015.0,2020.0,2017.0,2021.0,2023.0,2022.0,2022.0,2021.0,2021.0,2018.0,2019.0,2022.0,2016.0,2021.0,2016.0,2022.0,2021.0,2023.0,2016.0,2019.0,2020.0,2019.0,2021.0,2022.0,2022.0,2023.0,2021.0,2016.0,2020.0,2017.0,2020.0,2022.0,2021.0,2018.0,2022.0,2019.0,2019.0,2017.0,2018.0,2022.0,2022.0,2016.0,2021.0,2022.0,2017.0,2019.0,2017.0,2021.0,2022.0,2018.0,2017.0,2016.0,2022.0,2016.0,2019.0,2022.0,2019.0,2023.0,2022.0,2022.0,2022.0,2022.0,2022.0,2023.0,2018.0,2022.0,2022.0,2022.0,2022.0,2021.0,2021.0,2021.0,2018.0,2017.0,2019.0,2018.0,2023.0,2018.0,2018.0,2017.0,2022.0,2019.0,2023.0,2020.0,2021.0,2018.0,2018.0,2018.0,2015.0,2017.0,2019.0,2017.0,2019.0,2018.0,2018.0,2016.0,2022.0,2022.0,2022.0,2020.0,2016.0,2018.0,2021.0,2018.0,2019.0,2019.0,2016.0,2015.0,2021.0,2017.0,2022.0,2017.0,2021.0,2018.0,2021.0,2017.0,2016.0,2018.0,2017.0,2020.0,2017.0,2019.0,2019.0,2017.0,2019.0,2018.0,2022.0,2017.0,2022.0,2020.0,2016.0,2018.0,2022.0,2021.0,2020.0,2015.0,2018.0,2019.0,2019.0,2022.0,2019.0,2018.0,2018.0,2020.0,2022.0,2023.0,2022.0,2020.0,2017.0,2015.0,2023.0,2016.0,2023.0,2023.0,2022.0,2019.0,2019.0,2015.0,2020.0,2018.0,2022.0,2022.0,2021.0,2018.0,2021.0,2021.0,2018.0,2021.0,2022.0,2022.0,2017.0,2022.0,2017.0,2021.0,2022.0,2022.0,2022.0,2018.0,2019.0,2019.0,2019.0,2017.0,2021.0,2021.0,2021.0,2023.0,2015.0,2017.0,2022.0,2018.0,2017.0,2022.0,2019.0,2023.0,2019.0,2016.0,2018.0,2022.0,2021.0,2016.0,2016.0,2015.0,2022.0,2017.0,2018.0,2022.0,2022.0,2022.0,2022.0,2022.0,2019.0,2021.0,2017.0,2022.0,2022.0,2017.0,2015.0,2019.0,2022.0,2023.0,2019.0,2018.0,2022.0,2022.0,2020.0,2019.0,2019.0,2019.0,2018.0,2022.0,2021.0,2017.0,2019.0,2022.0,2022.0,2019.0,2019.0,2016.0,2018.0,2018.0,2017.0,2016.0,2018.0,2021.0,2018.0,2019.0,2019.0,2019.0,2019.0,2015.0,2017.0,2019.0,2021.0,2019.0,2017.0,2023.0,2015.0,2020.0,2019.0,2023.0,2022.0,2016.0,2017.0,2021.0,2017.0,2015.0,2022.0,2020.0,2019.0,2016.0,2015.0,2020.0,2015.0,2019.0,2021.0,2017.0,2019.0,2018.0,2016.0,2015.0,2015.0,2017.0,2021.0,2021.0,2016.0,2021.0,2015.0,2022.0,2017.0,2016.0,2016.0,2016.0,2016.0,2019.0,2021.0,2020.0,2015.0,2017.0,2016.0,2016.0,2015.0,2022.0,2021.0,2019.0,2018.0,2018.0,2022.0,2022.0,2020.0,2016.0,2017.0,2022.0,2019.0,2021.0,2019.0,2019.0,2018.0,2019.0,2015.0,2018.0,2022.0,2016.0,2018.0,2018.0,2019.0,2021.0,2022.0,2019.0,2019.0,2022.0,2021.0,2022.0,2022.0,2022.0,2016.0,2019.0,2020.0,2022.0,2019.0,2023.0,2015.0,2019.0,2023.0,2023.0,2018.0,2018.0,2018.0,2016.0,2021.0,2020.0,2021.0,2023.0,2021.0,2018.0,2019.0,2019.0,2018.0,2022.0,2019.0,2015.0,2018.0,2019.0,2019.0,2019.0,2022.0,2022.0,2015.0,2018.0,2020.0,2022.0,2022.0,2022.0,2022.0,2015.0,2022.0,2015.0,2018.0,2022.0,2023.0,2016.0,2016.0,2018.0,2018.0,2022.0,2022.0,2022.0,2023.0,2023.0,2018.0,2022.0,2018.0,2019.0,2023.0,2015.0,2022.0,2020.0,2022.0,2023.0,2018.0,2015.0,2021.0,2016.0,2022.0,2022.0,2022.0,2019.0,2017.0,2019.0,2019.0,2021.0,2022.0,2019.0,2021.0,2022.0,2020.0,2022.0,2022.0,2022.0,2018.0,2020.0,2023.0,2022.0,2022.0,2019.0,2019.0,2018.0,2022.0,2020.0,2020.0,2019.0,2021.0,2017.0,2020.0,2020.0,2023.0,2023.0,2019.0,2015.0,2019.0,2017.0,2018.0,2017.0,2016.0,2016.0,2016.0,2022.0,2023.0,2021.0,2022.0,2019.0,2015.0,2021.0,2017.0,2022.0,2021.0,2019.0,2018.0,2017.0,2019.0,2021.0,2021.0,2018.0,2021.0,2021.0,2021.0,2022.0,2021.0,2018.0,2019.0,2015.0,2019.0,2017.0,2021.0,2022.0,2019.0,2017.0,2022.0,2015.0,2018.0,2021.0,2022.0,2022.0,2022.0,2019.0,2017.0,2022.0,2020.0,2018.0,2016.0,2020.0,2020.0,2015.0,2018.0,2018.0,2015.0,2018.0,2019.0,2019.0,2018.0,2016.0,2018.0,2019.0,2018.0,2018.0,2019.0,2016.0,2016.0,2022.0,2021.0,2020.0,2022.0,2016.0,2017.0,2018.0,2017.0,2017.0,2020.0,2016.0,2015.0,2021.0,2018.0,2016.0,2015.0,2016.0,2016.0,2018.0,2019.0,2018.0,2023.0,2019.0,2019.0,2015.0,2017.0,2016.0,2016.0,2016.0,2015.0,2015.0,2022.0,2021.0,2022.0,2022.0,2022.0,2023.0,2016.0,2022.0,2023.0,2022.0,2015.0,2020.0,2022.0,2022.0,2022.0,2022.0,2017.0,2022.0,2017.0,2019.0,2021.0,2019.0,2022.0,2020.0,2021.0,2022.0,2015.0,2017.0,2021.0,2021.0,2017.0,2018.0,2018.0,2019.0,2021.0,2022.0,2018.0,2023.0,2015.0,2017.0,2022.0,2022.0,2022.0,2022.0,2017.0,2016.0,2017.0,2022.0,2022.0,2022.0,2022.0,2022.0,2022.0,2022.0,2022.0,2022.0,2020.0,2018.0,2022.0,2021.0,2017.0,2022.0,2021.0,2018.0,2019.0,2017.0,2019.0,2018.0,2018.0,2021.0,2019.0,2020.0,2021.0,2017.0,2019.0,2022.0,2022.0,2018.0,2023.0,2021.0,2016.0,2019.0,2022.0,2021.0,2022.0,2022.0,2022.0,2023.0,2017.0,2022.0,2022.0,2022.0,2017.0,2018.0,2017.0,2021.0,2018.0,2022.0,2016.0,2022.0,2017.0,2022.0,2019.0,2018.0,2021.0,2019.0,2015.0,2017.0,2023.0,2023.0,2021.0,2015.0,2019.0,2016.0,2018.0,2020.0,2022.0,2019.0,2023.0,2020.0,2017.0,2020.0,2021.0,2019.0,2019.0,2018.0,2016.0,2021.0,2019.0,2019.0,2019.0,2022.0,2023.0,2019.0,2018.0,2022.0,2022.0,2023.0,2018.0,2019.0,2023.0,2022.0,2018.0,2019.0,2022.0,2022.0,2020.0,2021.0,2015.0,2019.0,2019.0,2022.0,2021.0,2023.0,2021.0,2018.0,2023.0,2016.0,2018.0,2016.0,2023.0,2015.0,2022.0,2019.0,2018.0,2019.0,2018.0,2018.0,2017.0,2018.0,2020.0,2019.0,2022.0,2020.0,2016.0,2016.0,2019.0,2017.0,2015.0,2022.0,2021.0,2018.0,2016.0,2016.0,2022.0,2019.0,2018.0,2019.0,2020.0,2018.0,2016.0,2017.0,2023.0,2023.0,2022.0,2015.0,2022.0,2022.0,2018.0,2022.0,2022.0,2022.0,2022.0,2018.0,2022.0,2022.0,2022.0,2019.0,2016.0,2017.0,2022.0,2015.0,2020.0,2023.0,2017.0,2023.0,2017.0,2019.0,2023.0,2015.0,2018.0,2022.0,2015.0,2023.0,2022.0,2022.0,2020.0,2017.0,2019.0,2017.0,2022.0,2018.0,2016.0,2021.0,2021.0,2023.0,2023.0,2023.0,2015.0,2022.0,2017.0,2019.0,2022.0,2021.0,2020.0,2019.0,2021.0,2021.0,2018.0,2022.0,2019.0,2022.0,2017.0,2022.0,2022.0,2018.0,2020.0,2019.0,2017.0,2022.0,2023.0,2017.0,2023.0,2019.0,2022.0,2017.0,2022.0,2022.0,2022.0,2021.0,2023.0,2022.0,2020.0,2021.0,2019.0,2022.0,2019.0,2022.0,2018.0,2022.0,2015.0,2019.0,2019.0,2022.0,2017.0,2020.0,2021.0,2017.0,2017.0,2016.0,2015.0,2022.0,2022.0,2022.0,2019.0,2018.0,2022.0,2021.0,2019.0,2021.0,2022.0,2017.0,2018.0,2017.0,2021.0,2020.0,2016.0,2022.0,2016.0,2021.0,2022.0,2023.0,2021.0,2022.0,2018.0,2022.0,2022.0,2021.0,2022.0,2022.0,2022.0,2021.0,2022.0,2019.0,2022.0,2018.0,2022.0,2022.0,2022.0,2019.0,2022.0,2020.0,2017.0,2022.0,2018.0,2019.0,2016.0,2021.0,2022.0,2015.0,2020.0,2021.0,2021.0,2021.0,2022.0,2015.0,2022.0,2022.0,2018.0,2022.0,2022.0,2017.0,2022.0,2019.0,2022.0,2018.0,2020.0,2016.0,2022.0,2016.0,2022.0,2015.0,2022.0,2015.0,2022.0,2022.0,2022.0,2022.0,2019.0,2022.0,2022.0,2021.0,2022.0,2022.0,2018.0,2022.0,2018.0,2022.0,2022.0,2018.0,2022.0,2016.0,2022.0,2017.0,2018.0,2016.0,2019.0,2022.0,2016.0,2018.0,2023.0,2019.0,2015.0,2023.0,2022.0,2018.0,2018.0,2016.0,2016.0,2022.0,2022.0,2018.0,2017.0,2016.0,2016.0,2019.0,2019.0,2020.0,2021.0,2023.0,2023.0,2018.0,2016.0,2022.0,2017.0,2015.0,2020.0,2018.0,2020.0,2019.0,2021.0,2022.0,2018.0,2015.0,2016.0,2017.0,2022.0,2020.0,2018.0,2021.0,2022.0,2015.0,2018.0,2018.0,2020.0,2019.0,2017.0,2022.0,2015.0,2018.0,2020.0,2022.0,2016.0,2019.0,2018.0,2020.0,2018.0,2022.0,2020.0,2018.0,2015.0,2015.0,2020.0,2021.0,2018.0,2020.0,2018.0,2016.0,2018.0,2016.0,2019.0,2021.0,2019.0,2019.0,2018.0,2015.0,2016.0,2018.0,2019.0,2022.0,2021.0,2018.0,2021.0,2018.0,2016.0,2017.0,2019.0,2015.0,2017.0,2018.0,2022.0,2018.0,2017.0,2016.0,2016.0,2019.0,2019.0,2016.0,2022.0,2022.0,2019.0,2018.0,2022.0,2022.0,2015.0,2017.0,2021.0,2020.0,2017.0,2015.0,2015.0,2017.0,2019.0,2018.0,2018.0,2019.0,2022.0,2015.0,2018.0,2018.0,2020.0,2019.0,2021.0,2022.0,2019.0,2015.0,2019.0,2015.0,2018.0,2018.0,2015.0,2018.0,2020.0,2017.0,2018.0,2021.0,2015.0,2018.0,2020.0,2015.0,2022.0,2016.0,2017.0,2015.0,2020.0,2015.0,2019.0,2016.0,2018.0,2022.0,2022.0,2018.0,2019.0,2018.0,2021.0,2017.0,2015.0,2017.0,2019.0,2019.0,2020.0,2015.0,2016.0,2018.0,2020.0,2022.0,2015.0,2015.0,2018.0,2017.0,2021.0,2020.0,2018.0,2016.0,2021.0,2017.0,2015.0,2021.0,2017.0,2018.0,2017.0,2018.0,2019.0,2022.0,2022.0,2015.0,2022.0,2018.0,2019.0,2017.0,2016.0,2015.0,2018.0,2021.0,2019.0,2018.0,2018.0,2020.0,2015.0,2018.0,2015.0,2020.0,2019.0,2021.0,2018.0,2018.0,2019.0,2019.0,2015.0,2018.0,2017.0,2019.0,2018.0,2019.0,2020.0,2018.0,2016.0,2019.0,2018.0,2016.0,2016.0,2018.0,2020.0,2021.0,2015.0,2017.0,2021.0,2019.0,2018.0,2019.0,2018.0,2017.0,2018.0,2018.0,2019.0,2020.0,2019.0,2018.0,2016.0,2021.0,2021.0,2016.0,2019.0,2015.0,2021.0,2020.0,2019.0,2019.0,2020.0,2018.0,2022.0,2022.0,2022.0,2021.0,2018.0,2019.0,2019.0,2017.0,2018.0,2019.0,2015.0,2016.0,2018.0,2016.0,2016.0],\"legendgroup\":\"\",\"marker\":{\"color\":[1,-1,1,1,1,1,1,-1,1,1,1,1,1,1,1,1,1,1,1,1,1,1,1,1,1,1,1,1,1,1,1,1,1,1,1,1,1,1,1,1,1,1,1,1,1,1,1,1,1,1,1,1,1,1,1,1,1,1,1,1,1,1,1,1,1,1,1,1,1,1,1,1,1,1,1,1,1,1,1,1,1,1,1,1,1,1,1,1,1,1,1,1,1,1,1,1,1,1,1,1,1,1,1,1,1,1,1,1,1,1,1,1,1,1,1,1,1,1,1,1,1,1,1,1,1,1,1,1,1,1,1,1,1,1,1,1,1,1,1,1,1,1,1,1,1,1,1,1,1,1,1,1,1,1,1,1,1,1,1,1,1,1,1,1,1,1,1,1,1,1,1,1,1,1,1,1,1,1,1,1,1,1,1,1,1,1,1,1,1,1,1,1,1,1,1,1,1,1,1,1,1,1,1,1,1,1,1,1,1,1,1,1,1,1,1,1,1,1,1,1,1,1,1,1,1,1,1,1,1,1,1,1,1,1,1,1,1,1,1,1,1,1,1,1,1,1,1,1,-1,1,-1,1,1,1,1,1,1,1,1,1,1,1,1,1,1,1,1,1,1,1,1,1,1,1,1,1,1,1,1,1,1,1,1,1,1,1,1,1,1,1,1,1,1,1,1,1,1,1,1,1,1,1,1,1,1,1,1,1,1,1,1,1,1,1,1,1,1,1,1,1,1,1,1,1,1,1,1,1,1,1,1,1,1,1,1,1,1,1,1,1,1,1,1,1,1,1,1,1,1,1,1,1,1,1,1,1,1,1,1,1,1,1,1,1,1,1,1,1,1,1,1,1,1,1,1,1,1,1,1,1,1,1,1,1,1,1,1,1,1,1,1,1,1,1,1,1,1,1,1,1,1,1,1,1,1,1,1,1,1,1,1,1,1,1,1,1,1,1,1,1,1,1,1,1,1,1,1,1,1,1,1,1,1,1,1,1,1,1,1,1,1,1,1,1,1,1,1,1,1,1,1,1,1,1,1,1,1,1,1,1,1,1,1,1,1,1,1,1,1,1,1,1,1,1,1,1,1,1,1,1,1,1,1,1,1,1,1,1,1,1,1,1,1,1,1,1,1,1,1,1,1,1,1,1,1,1,1,1,1,1,1,1,1,1,1,1,1,1,1,1,1,1,1,1,1,1,1,1,1,1,1,1,1,1,1,1,1,1,1,1,1,1,1,1,1,1,1,1,1,1,1,1,1,1,1,1,1,1,1,1,1,1,1,1,1,1,1,1,1,1,1,1,1,1,1,1,1,1,1,1,1,1,1,1,1,1,1,1,1,1,1,1,1,1,1,1,1,1,1,1,1,1,1,1,1,1,1,1,1,1,1,1,1,1,1,1,1,1,1,1,1,1,1,1,1,1,1,1,1,1,1,1,1,1,1,1,1,1,1,1,1,1,1,1,1,1,1,1,1,1,1,1,1,1,1,1,1,1,1,1,1,1,1,1,1,1,1,1,1,1,1,1,1,1,1,1,1,1,1,1,1,1,1,1,1,1,1,1,1,1,1,1,1,1,1,1,1,1,1,1,1,1,1,1,1,1,1,1,1,1,1,1,1,1,1,1,1,1,1,1,1,1,1,1,1,1,1,1,1,1,1,1,1,1,1,1,1,1,1,1,1,1,1,1,1,1,1,1,1,1,1,1,1,1,1,1,1,1,1,1,1,1,1,1,1,1,1,1,1,1,1,1,1,1,1,1,1,1,1,1,1,1,1,1,1,1,1,1,1,1,1,1,1,1,1,1,1,1,1,1,1,1,1,1,1,1,1,1,1,1,1,1,1,1,1,1,1,1,1,1,1,1,1,1,1,1,1,1,1,1,1,1,1,1,1,1,1,1,1,1,1,1,1,1,1,1,1,1,1,1,1,1,1,1,1,1,1,1,1,1,1,1,1,1,1,1,1,1,1,1,1,1,1,1,1,1,1,1,1,1,1,1,1,1,1,1,1,1,1,1,1,1,1,1,1,1,1,1,1,1,1,1,1,1,1,1,1,1,1,1,1,1,1,1,1,1,1,1,1,1,1,1,1,1,1,1,1,1,1,1,1,-1,1,1,1,1,1,1,1,1,1,1,1,1,1,1,1,1,1,1,1,1,1,1,1,1,1,1,1,1,1,1,1,1,1,1,1,1,1,1,1,1,1,1,1,1,1,1,1,1,1,1,1,1,1,1,1,1,1,1,1,1,1,1,1,1,1,1,1,1,1,1,1,1,1,1,1,1,1,1,1,1,1,1,1,1,1,1,1,1,1,1,1,1,1,1,1,1,1,1,1,1,1,1,1,1,1,1,1,1,1,1,1,1,1,1,1,1,1,1,1,1,1,1,1,1,1,1,1,1,1,1,1,1,1,1,1,1,1,1,1,1,1,1,1,1,1,1,1,1,1,1,1,1,1,1,1,1,1,1,1,1,1,1,1,1,1,1,1,1,1,1,1,1,1,1,1,1,1,1,1,1,1,1,1,1,1,1,1,1,1,1,1,1,1,1,1,1,1,1,1,1,1,1,1,1,1,1,1,1,1,1,1,1,1,1,1,1,1,1,1,1,1,1,1,1,1,1,1,1,1,1,1,1,1,1,1,1,1,1,1,1,1,1,1,1,1,1,1,1,1,1,1,1,1,1,1,1,1,1,1,1,1,1,1,1,1,1,1,1,1,1,1,1,1,1,1,1,1,1,1,1,1,1,1,1,1,1,1,1,1,1,1,1,1,1,1,1,1,1,1,1,1,1,1,1,1,1,1,1,1,1,1,1,1,1,1,1,1,1,1,1,1,1,1,1,1,1,1,1,1,1,1,1,1,1,1,1,1,1,1,1,1,1,1,1,1,1,1,1,1,1,1,1,1,1,1,1,1,1,1,1,1,1,1,1,1,1,1,1,1,1,1,1,1,1,1,1,1,1,1,1,1,1,1,1,1,1,1,1,1,1,1,1,1,1,1,1,1,1,1,1,1,1,1,1,1,1,1,1,1,1,1,1,1,1,1,1,1,1,1,1,1,1,1,1,1,1,1,1,1,1,1,1,1,1,1,1,1,1,1,1,1,1,1,1,1,1,1,1,1,1,1,1,1,1,1,1,1,1,1,1,1,1,1,1,1,1,1,1,1,1,1,1,1,1,1,1,1,1,1,1,1,1,1,1,1,1,1,1,1,1,1,1,1,1,1,1,1,1,1,1,1,1,1,1,1,1,1,1,1,1,1,1,1,1,1,1,1,1,1,1,1,1,1,1,1,1,1,1,1,1,1,1,1,1,1,1,1,1,1,1,1,1,1,1,1,1,1,1,1,1,1,1,1,1,1,1,1,1,1,1,1,1,1,1,1,1,1,1,1,1,1,1,1,1,1,1,1,1,1,1,1,1,1,1,1,1,1,1,1,1,1,1,1,1,1,1,1,1,-1,1,1,1,1,1,1,1,1,1,1,1,1,1,1,1,1,1,1,1,1,1,1,1,1,1,1,1,1,1,1,1,1,1,1,1,-1,1,1,1,1,1,1,1,1,1,1,1,1,1,1,1,1,1,1,1,1,1,1,1,1,1,1,1,1,1,1,1,1,1,1,1,-1,1,1,1],\"coloraxis\":\"coloraxis\",\"symbol\":\"circle\"},\"mode\":\"markers\",\"name\":\"\",\"showlegend\":false,\"x\":[67700,28500,59999,40999,54900,83700,108700,18900,64900,88100,48900,28900,72979,34990,106000,40000,61000,35900,57900,59900,35000,53900,89850,58899,39999,101000,83700,96700,99800,64900,34500,44999,53900,81750,39999,84999,61500,44800,99490,109500,107700,111500,22000,102800,98000,40500,17800,14900,38900,89850,27000,97300,86800,69990,28500,99490,79900,79900,65000,49900,29000,27000,26000,35000,27000,68900,42500,96850,27900,64900,29900,19900,42499,87900,83400,32900,79900,92900,97400,112500,45999,38900,43999,89850,31900,25700,39700,86050,81650,46900,17900,77900,49900,35000,62500,51900,53000,34900,22500,46999,96700,56999,42000,31499,19900,54000,108000,107250,50999,65900,41900,32900,28000,33999,44999,19900,44900,73410,76900,39800,108400,95800,102600,39999,38900,92900,49900,66850,39900,62999,55900,49999,46740,34900,101900,46900,89050,66900,66850,59900,67900,39499,53900,59999,91700,73900,85850,75900,49999,88900,92900,59900,76700,79900,85900,25900,62999,20500,76750,66999,101700,84150,107040,60999,72700,76200,80400,64900,59999,87000,51299,53999,51900,51999,30999,47999,35999,39888,66900,65000,14900,66999,75800,83900,81600,27000,69900,44900,68900,58500,76150,95000,23900,94900,48900,57900,47501,44900,39999,27900,28888,68500,38900,51999,43499,58883,70800,84900,37900,81250,75850,41900,28900,65900,63100,43700,33990,60999,79000,45499,35900,77999,103000,107250,107040,46900,58900,50900,107250,79600,27499,67600,63900,84550,78850,54900,36900,32900,64600,82500,77400,84150,16900,39600,19900,81900,28900,66800,19000,26500,19000,67900,67700,111250,97300,67900,62500,108400,50900,38000,23500,67999,81650,84900,44900,48700,49900,95600,75600,39999,49999,54999,37499,69999,39888,49500,68500,79999,24999,66420,31499,41999,108700,25900,31900,45500,32900,92300,38900,62999,40999,45499,87300,69900,101200,47999,31000,69900,33900,69500,34500,33900,16900,25300,92300,28900,45500,111250,83700,72000,96500,71900,22900,96900,32500,101000,49900,72000,14600,28900,32000,82900,107900,107900,36000,109900,46900,39900,39500,61900,49000,97600,83900,73900,35000,46900,35900,63900,23900,52900,73999,49999,44900,71900,54900,61999,98500,111250,62999,67950,47501,61000,48999,87500,59999,54999,94999,53999,67900,45900,41500,17900,101000,61999,57000,49899,62000,34900,98300,83700,23500,101200,79650,40500,58900,101000,109400,30000,71000,101200,74200,24900,56900,41900,90500,83350,64900,59900,44900,101200,14760,66700,64700,39999,71300,93500,39900,89900,36900,72888,95700,43499,48900,54900,64888,73900,59900,86000,42500,94700,88950,83350,61900,42700,18400,46000,59900,80300,80750,83450,80900,83900,65190,58900,72000,48000,63900,32000,92850,63900,70200,48500,66999,75999,53899,46500,83900,79250,68900,56900,22900,74999,43900,45000,107900,64900,55499,97600,52900,60600,47900,56999,101000,96900,49900,68000,75300,46899,33900,41800,82900,54900,34500,47500,46900,83000,27400,59990,107700,62900,110500,86600,82650,90600,100100,109650,107700,32000,97600,100400,80750,54900,74600,74900,69900,33900,42900,42900,55900,101200,43900,37999,55000,71616,52100,89850,37900,61900,7700,43999,65499,42999,46499,44999,52000,71000,59500,34999,43999,85000,84900,87300,78900,26900,27900,61900,18900,49000,49900,44500,29900,48900,37600,111900,32400,41600,31980,60900,31900,37900,59900,43900,57900,36700,46900,61900,42500,40500,46500,92000,32595,88000,46900,24900,36900,99800,66900,59900,26900,64900,39900,51900,59000,49900,34900,46900,61900,76300,94900,85900,68500,43900,17490,94900,40900,87900,87900,107850,72900,55900,39000,57900,46900,76900,79900,75900,45900,64900,80900,57999,66900,92200,101200,48900,97500,34900,64900,85900,73200,69900,36900,64500,39900,56900,23500,25500,58900,56900,75800,42499,44900,90900,63900,9199,107700,54000,78850,37900,28900,65999,79900,79900,29900,34900,27900,75600,48800,44900,83700,85200,90550,72500,96700,74900,65900,45900,71400,71900,32900,39300,59900,80600,79200,66900,57450,101200,83350,57999,72900,12500,74900,37900,91150,67900,27900,37900,72400,96300,64900,62900,49900,62500,69800,42900,47900,45900,29900,54900,39900,52300,72900,54899,31900,53800,55850,64900,48500,38900,89950,27500,21900,43900,92050,37599,37761,50900,69900,42400,29000,100200,59999,33900,14900,42800,47700,37800,70000,47700,28900,45400,55950,33800,38900,31900,42900,51000,54900,28500,38900,49999,97500,33900,33700,44900,21900,48500,63500,43900,44600,46900,47600,17300,26900,42900,92900,44000,63900,54900,39900,107700,107250,48900,38880,50600,79950,57900,61900,64600,36900,48000,64499,40900,46900,79750,41900,41697,45510,55900,82900,71500,69000,69900,67800,64900,87100,83350,81750,49900,58900,72900,67850,63999,109900,34900,60000,95100,85550,64900,34900,35200,49900,81900,25900,64900,91050,64500,59999,62900,30999,59850,86900,54999,38900,34900,42000,35900,39999,101200,71600,28900,45600,63000,71800,77100,72100,86650,43999,101200,41600,25900,78300,89000,44900,28900,59990,35500,71600,87400,74569,90550,101200,59900,96500,52300,64999,86700,39900,86000,25707,74150,85400,24900,36900,72900,33500,108200,107700,81950,44800,48700,19500,64900,64900,83550,43900,81990,76700,79999,79900,87000,83450,54900,58500,83700,70700,72900,62900,54900,59500,103500,58900,73900,17500,81900,48600,71600,70800,89350,80500,36900,26900,68900,39999,55900,54500,21900,33900,44500,83350,99500,74900,70900,61900,34900,69900,29898,110900,29900,65000,63600,50800,61700,64900,64900,59800,64500,78800,73700,88250,74900,35900,57850,34900,45500,44900,64900,83800,18800,45900,84500,41900,62900,54800,101000,89950,88100,58900,18200,71700,63500,46999,27900,63999,66999,45000,59500,36000,32900,66000,46000,44000,48000,50500,43000,48800,61999,24900,43000,36900,36000,99000,72900,42900,88250,50800,32900,41820,46464,49900,67900,35900,25000,39900,48900,42800,23990,39900,6000,52900,62900,53500,89950,62730,77900,41000,49800,31900,42900,34900,25900,25900,72700,79900,92500,83900,88820,88500,38900,71910,88500,73700,39900,69000,80100,72750,83350,95800,55555,89250,29800,69900,73900,65900,88200,28900,25000,35900,29900,44900,74900,86900,36500,36900,60900,53900,77900,80400,47900,73000,31500,45500,88450,96900,96700,90150,46999,49900,42900,99999,71999,98999,75999,98999,88100,96700,94000,81450,79900,41800,83350,76900,47000,83550,62900,45500,54900,39900,69900,48500,59990,94000,60900,49900,87500,44280,49900,96555,72900,59900,66700,64900,39990,61500,84000,74900,80850,99900,94900,93450,24900,100300,107950,67900,46900,54900,44900,64900,40900,91900,42900,107250,52000,83700,51900,59900,97000,69900,23900,37900,97300,107000,71900,41000,61300,49900,52767,57900,107500,47950,78800,41900,49500,26600,23600,67900,18900,61999,26500,66900,59777,65800,58900,81200,101200,79999,57000,99990,75600,98700,36900,62900,101200,80500,43050,52900,85499,87900,69900,77900,45900,66300,69900,75150,69400,89850,64500,62900,89850,42900,34900,34900,95600,42999,65900,43000,25900,62300,29900,28500,56555,54900,29900,72999,84600,46000,35900,22900,62499,41900,28500,34770,41500,42999,38999,22900,75500,26900,62500,39000,57900,27300,39500,19680,83700,66750,98200,44900,78850,67900,32900,99200,72950,78650,80850,55800,81750,72500,97950,58800,36997,28900,78600,29900,67500,67600,33900,97900,35999,65999,73950,21900,42900,75500,31999,105700,80750,88550,70999,44999,36500,44000,67000,27900,49500,84900,64900,85450,88450,88250,14500,101200,54900,67900,82900,69900,59850,79900,82500,59999,59900,55900,60000,82900,53850,81900,95700,65900,68900,29900,16000,105000,89850,22900,89850,69900,94700,40850,93900,102900,105000,74900,97300,71000,55500,74900,56900,78600,72900,71900,52767,88250,45000,59900,53900,79999,39500,65900,84900,49900,44999,29900,34999,97400,83450,91300,57900,42804,87200,74900,17000,67900,96700,45756,28900,34900,67900,69700,44000,83900,35900,74900,96900,86000,74800,97950,54900,92900,74000,74900,83700,87300,67700,77900,77990,59900,107250,53999,111700,67300,70200,68800,105200,67800,47800,72499,67800,66900,25500,81900,71900,29800,56900,72900,74900,64900,83700,33900,94900,95300,34500,76150,93700,35500,71500,18900,88450,19600,47000,32500,101200,44901,94700,39900,101000,31500,94300,84950,98500,100400,69900,93650,66300,65300,75000,102600,54900,80500,9300,73700,95800,57990,94700,44900,65300,25900,43200,34999,60900,90450,46999,59900,97300,72000,39999,87950,83900,52800,34900,43900,24999,82999,109500,24999,39500,45900,46900,63900,40900,36900,41500,112500,109700,34900,38800,101200,48769,32000,79999,57800,39900,41500,64900,97400,19311,37900,23900,39900,107400,79500,34317,29900,72000,26322,64900,57999,32900,47900,36900,89000,39999,47900,24900,81750,39900,66900,34000,68900,54900,27900,39900,46900,29999,27500,23900,19800,44900,60900,42500,31900,37800,25900,41900,9900,58800,67500,49900,30000,41700,59900,69400,61900,73800,36900,69500,59999,42900,34500,25999,21900,39900,42900,110000,57000,30999,48000,30627,99999,59899,33800,88800,73700,19557,54999,79250,64500,29800,29999,69800,55891,20199,14444,17900,22999,49499,32900,32900,58900,84900,43900,41900,39900,37399,16100,37000,35916,46000,20900,36800,15000,59800,40990,32999,39900,49900,45900,47900,69099,29800,58900,59937,32700,69900,30900,32900,27900,65900,34900,56900,35900,53500,107700,96700,49900,43900,25900,22900,34500,43900,46500,31500,62000,26500,44900,30990,33900,55700,94900,34500,28950,30000,51900,59900,54900,49900,17900,66000,46900,18900,73800,45000,42000,44700,55000,29800,87300,83300,42999,111650,39000,63900,34900,23900,15900,19900,69999,42900,58900,25000,33900,42900,41987,32900,39999,36900,85000,57900,53400,60000,53900,16700,42999,39900,61900,42900,26800,45900,36900,14900,42500,22900,32900,22900,22500,59500,40999,41800,22900,43500,6700,61500,47800,33000,25500,34500,57000,61900,67500,25500,59900,43900,69900,59500,44700,27900,34900,19500,59900,53800,49900,42700,32900,91300,75800,75800,63900,39900,69000,59900,17835,63000,37900,45000,23900,38500,43900,34000],\"xaxis\":\"x\",\"y\":[18500,299000,130000,128600,92800,1,1,403800,29306,1,126000,31805,10,208600,1,90000,25800,38000,6810,120000,38000,155000,10,47650,31000,10,10,10,1,32384,103588,118590,6220,10,43000,9000,51500,88000,5000,1,10,10,177294,1,10,53689,49600,73000,189900,10,12000,1,1,105,9866,1,14249,10000,63500,136100,100000,74000,122553,22054,48741,34000,60000,5,16632,21700,82300,60000,87687,5,5,127400,24500,20500,5,5,124000,93800,130000,5,204551,231000,137330,10,5,127000,60000,21000,6000,47000,56045,49531,102214,56000,95000,96340,1,39584,96000,76784,80000,97275,1,5,22044,15000,124000,128000,148447,123073,67314,57000,74800,5,320,84100,10,5,5,24000,90927,23344,171234,48506,7000,35372,26000,51293,71685,173265,5,118000,6,31800,66129,48123,19070,104028,45000,136000,1,34000,5,28288,80000,39586,1,73270,1,1,34000,106534,80600,137900,5,39464,10,10,5,31305,5,5,5,40105,140000,5,112712,42140,32190,39441,113457,54633,161093,198000,45500,51670,103721,61248,1,1,10,111078,5,54032,95681,21500,5,1,100000,5,55000,50590,183417,47000,105036,81000,111000,72600,61670,34701,138603,66111,5,9789,11000,10,5,68200,51200,1,5,12000,8623,22120,62842,121178,88000,2833,5,5,5,53000,93000,115000,5,5,212000,10,5,5,5,146200,101000,140000,5,30000,6071,10,124000,80000,8300,10,103000,32000,415827,108000,390234,60000,10,10,5,7900,98706,10,102000,25000,230000,14000,1,10,108000,120000,180000,1,1,163455,92330,114881,117300,45079,198000,99349,15800,31107,51414,25789,39074,61232,1,140000,78594,123000,69000,10,134000,42574,150533,136592,5,20000,1,117000,64000,32368,59000,57700,176449,15000,80150,56700,1,75000,84200,5,5,40000,1,22000,24000,2,168000,2,132527,9700,94000,144000,98922,1,1,1,100222,5,91000,80000,125000,36000,33000,1,2,1,190000,40000,40000,1,51000,13300,2281,91030,62673,107000,93552,72480,10,4,43325,26800,31939,39409,124286,1,34300,160000,2995,75775,36400,35860,30600,51800,4,38091,125165,95000,67000,42135,5,5,89500,4,1,93000,75680,5,1,105132,31853,10,10,175600,71500,23000,1,10,98423,7000,14000,9,103400,1521,38382,142530,5,592,105000,10,69757,33000,5,136207,118000,78474,64000,5,77000,10,122000,10,10,10,47781,62000,24000,65000,19607,1,5,5,42508,34265,77421,67689,122,111762,59415,63016,10,59415,1,73400,97798,74665,150032,16000,7219,10,1,13625,63000,34915,38743,89000,10,29366,60978,10,112429,150343,79094,52419,6,5,75000,37967,10,146838,42345,134480,18000,9000,91256,143179,56925,1,98900,43313,7,63843,10,1,5,1,1,5,1,95000,5,5,10,1000,9513,5496,44632,6300,202142,23847,29000,5,68000,78000,77254,1,26228,5,47400,2230,55000,84462,34386,82245,98884,97492,94391,44143,143361,93180,116309,1,600,1,72721,136000,74000,5200,11136,85000,95000,153206,49000,10457,46000,10,85000,10000,97000,7400,82000,140000,162800,124600,26100,54000,20000,44200,121780,18500,23000,6500,179500,1,25000,99000,47029,1,36000,41000,106550,116000,81080,139000,5,39000,42991,98700,38000,1,1,126,64525,106000,189000,1,106000,1,1,1,41289,52808,66500,58629,115000,1,8500,14000,28000,5100,15000,51387,9179,10,5,62396,5,42166,40105,1,1,1,76000,40500,19900,53600,69100,7500,19167,25000,1,65020,35900,1,110523,105000,10,60000,1,44000,126000,27284,5,38200,71205,111997,91520,10,120000,168771,10,10,1,5,10,16303,17283,138600,1,1,80218,83226,24881,5,5,145173,140000,15,5,99000,83653,41000,11466,22821,5,34772,68104,91280,10,1,79663,18000,86261,38312,45400,62000,48000,83626,9500,91544,49000,150201,104000,138284,145000,70000,67965,13143,39000,129404,1,124923,23900,113100,1,8500,102500,25200,44632,83000,113000,1,119800,28000,109000,94500,45715,122207,80000,13000,74581,74000,47661,46000,105000,150400,99500,6400,27900,180000,12000,90000,7,35991,78000,80700,248564,70294,51000,16606,32400,172007,79200,106385,106071,61500,1700,23000,54155,57414,139900,10,1,13000,67000,56251,4000,119765,49800,79200,61946,167837,42471,101655,116428,1,118000,151000,126000,83000,11000,10000,61000,91287,10,120630,1,5,5,132500,90000,17500,10,46433,10,235254,68828,5,10,41700,49000,64581,78120,22887,72000,31000,10,12848,98317,81843,106200,92357,11788,102700,90100,99890,27719,102500,61000,9,17,115000,18700,22000,17,5,1,10,125127,5,63331,64000,1,1,64000,99739,37760,31650,17,5000,10,5,5,60200,10,173949,60000,1,217000,10,20000,5,1,36000,226947,21800,63000,1,10,1,32143,65000,18000,36000,36367,1,58000,4000,8,46000,5,5,10,161140,45000,1,4,4,100000,74500,13500,1,104095,13602,107682,22070,156800,57000,21300,10,1,66317,87000,130000,164000,40400,64549,99000,69700,69000,1,5,13800,10,96224,129000,12000,253408,10,9400,81088,175939,85548,106176,36100,42500,46200,9347,35235,13923,10,15300,102147,77003,56380,43155,138871,33500,1,116000,104268,1,113500,181000,10000,10,1,10,104042,27136,5,48940,232849,51686,120247,59000,98344,81754,69516,147188,39952,8931,47765,144557,81410,71642,21000,90025,50000,169595,141800,155000,14000,9300,44000,7,65000,243000,109000,119197,161259,65069,105000,302000,20400,58800,100000,98100,41300,199999,52081,52800,62000,1,69423,54326,116628,73860,102090,194000,147000,196000,217000,5,12600,5,14200,5,10,150000,5,1,1,157000,78000,5,5,1,5,119240,5,127000,18000,13000,24000,5,23000,47000,3000,102000,140000,7540,2932,65355,37678,32555,78306,11000,5,151200,5,140000,75000,10,5,5,5,136524,130480,228000,1,25,1,25,1,10,10,10,10,59000,84000,5,14968,115397,5,44220,116979,62530,107082,41942,74900,95151,2112,100305,6500,20948,95500,131331,1,11100,36000,5,36412,142805,87650,5,13605,10,1,23300,1,78000,5,1,16653,102929,63000,54024,37634,76981,25000,115000,4,84648,1,180000,80000,15003,64771,119500,39800,1,10,14700,203677,43500,28000,36200,128112,5,125000,1,40000,115900,31000,7000,45616,45000,32900,233100,10000,34000,46700,18000,1,1,51900,41000,20,4,1,86811,97000,1,4500,95500,77300,10,5,22634,40064,56098,61000,55720,1,26610,1,28769,54535,1,114500,86000,168000,1,68557,1,105000,39000,19160,112000,13000,83000,92000,34498,43753,5,38000,125471,88000,30658,108650,104000,6770,9500,159990,79000,88000,800,30000,43000,23000,87000,34000,252300,249000,5,5,5,120609,5,1,87000,10,6,6,6,103000,6,1,10,63173,60000,134000,1,240000,85100,5,188000,10,49374,30000,10,104000,125000,1,124856,10,10,1,39988,121000,14756,139163,1,91693,84000,20146,6609,10,10,10,54850,6,74623,52886,10,7300,39424,55600,25200,133000,59000,8000,112538,1,133591,5,8,69460,55900,105089,59070,19697,8,142000,5,73351,5,153820,5,5,5,23300,5,275,162000,22422,18000,10,51106,1,138728,5,96000,74089,21600,75,116100,38381,7454,133380,84000,69037,170000,5,1,1,49722,145595,5,17900,75860,10000,5,171000,119000,21000,17883,13000,140000,5,39000,10380,10,5,25300,5,91519,21403,4,23177,10,10,10,16137,787,70723,1,93560,5,5,5,131000,5,42000,109000,4,87000,84943,91000,28000,1,119614,140853,22719,30000,39200,5,48765,17700,10,91000,5,5,63700,4,171611,5,169000,50000,110000,5,163508,10,90000,5,100000,5,5,5,1,42000,5,5,5,11000,1,71010,500,39520,4,5,40783,5,45800,4,159990,40200,28562,74965,10,114362,89304,1,119667,54546,5,5,98000,48000,71000,41000,6500,1,43000,79871,80000,79900,59000,25000,50000,11400,5,5,178000,161288,8,199000,72294,11200,48186,175000,45020,50094,5,206451,95380,82000,52000,5,72000,126000,20000,1,149000,104000,127000,32934,78500,36500,1,79953,146166,29000,1,175500,51705,184000,82882,72200,6500,175000,150000,197121,178558,17500,11500,153486,39279,107346,88000,39000,116000,42941,16000,112000,61000,218338,83000,125000,42000,14577,3000,25400,155000,7500,130000,86000,93335,62000,100000,33307,41000,10,56000,143454,103000,192000,92605,53200,104000,2750,5,79000,67500,1,6416,74000,234000,9200,52400,56000,53468,140000,144000,74320,43000,79125,75300,4366,85020,15852,60000,80064,33000,19000,1400,91400,267300,33000,76000,56700,28700,162000,131000,6800,98000,41983,22561,86200,130000,50000,147000,13148,221000,99500,178000,35000,132100,63000,63000,50118,1,1,128000,27450,140479,20000,51000,95200,56397,50986,14000,34000,129000,90000,31000,30000,5,109917,197000,60232,62818,13000,142000,32650,60000,6200,94400,117034,4200,82000,139000,245000,110000,23000,5,5,81500,5,32000,17000,301000,128000,115000,11136,33000,30000,150000,28000,40000,69500,179000,129000,3200,61193,24890,18600,38000,51000,122000,241000,33000,109000,152600,92000,25800,21000,68140,103445,43155,17700,48000,189000,38111,49000,6800,146000,328000,74058,60000,87000,157000,67436,125224,155553,72000,76000,57699,35700,71000,86000,9800,7200,63000,51000,170000,27851,120000,85000,41381,17000,85232,10,10,10,11200,47800,43708,56525,231983,66832,12600,77710,299500,29900,114532,51000],\"yaxis\":\"y\",\"type\":\"scattergl\"}],                        {\"template\":{\"data\":{\"bar\":[{\"error_x\":{\"color\":\"#2a3f5f\"},\"error_y\":{\"color\":\"#2a3f5f\"},\"marker\":{\"line\":{\"color\":\"#E5ECF6\",\"width\":0.5},\"pattern\":{\"fillmode\":\"overlay\",\"size\":10,\"solidity\":0.2}},\"type\":\"bar\"}],\"barpolar\":[{\"marker\":{\"line\":{\"color\":\"#E5ECF6\",\"width\":0.5},\"pattern\":{\"fillmode\":\"overlay\",\"size\":10,\"solidity\":0.2}},\"type\":\"barpolar\"}],\"carpet\":[{\"aaxis\":{\"endlinecolor\":\"#2a3f5f\",\"gridcolor\":\"white\",\"linecolor\":\"white\",\"minorgridcolor\":\"white\",\"startlinecolor\":\"#2a3f5f\"},\"baxis\":{\"endlinecolor\":\"#2a3f5f\",\"gridcolor\":\"white\",\"linecolor\":\"white\",\"minorgridcolor\":\"white\",\"startlinecolor\":\"#2a3f5f\"},\"type\":\"carpet\"}],\"choropleth\":[{\"colorbar\":{\"outlinewidth\":0,\"ticks\":\"\"},\"type\":\"choropleth\"}],\"contour\":[{\"colorbar\":{\"outlinewidth\":0,\"ticks\":\"\"},\"colorscale\":[[0.0,\"#0d0887\"],[0.1111111111111111,\"#46039f\"],[0.2222222222222222,\"#7201a8\"],[0.3333333333333333,\"#9c179e\"],[0.4444444444444444,\"#bd3786\"],[0.5555555555555556,\"#d8576b\"],[0.6666666666666666,\"#ed7953\"],[0.7777777777777778,\"#fb9f3a\"],[0.8888888888888888,\"#fdca26\"],[1.0,\"#f0f921\"]],\"type\":\"contour\"}],\"contourcarpet\":[{\"colorbar\":{\"outlinewidth\":0,\"ticks\":\"\"},\"type\":\"contourcarpet\"}],\"heatmap\":[{\"colorbar\":{\"outlinewidth\":0,\"ticks\":\"\"},\"colorscale\":[[0.0,\"#0d0887\"],[0.1111111111111111,\"#46039f\"],[0.2222222222222222,\"#7201a8\"],[0.3333333333333333,\"#9c179e\"],[0.4444444444444444,\"#bd3786\"],[0.5555555555555556,\"#d8576b\"],[0.6666666666666666,\"#ed7953\"],[0.7777777777777778,\"#fb9f3a\"],[0.8888888888888888,\"#fdca26\"],[1.0,\"#f0f921\"]],\"type\":\"heatmap\"}],\"heatmapgl\":[{\"colorbar\":{\"outlinewidth\":0,\"ticks\":\"\"},\"colorscale\":[[0.0,\"#0d0887\"],[0.1111111111111111,\"#46039f\"],[0.2222222222222222,\"#7201a8\"],[0.3333333333333333,\"#9c179e\"],[0.4444444444444444,\"#bd3786\"],[0.5555555555555556,\"#d8576b\"],[0.6666666666666666,\"#ed7953\"],[0.7777777777777778,\"#fb9f3a\"],[0.8888888888888888,\"#fdca26\"],[1.0,\"#f0f921\"]],\"type\":\"heatmapgl\"}],\"histogram\":[{\"marker\":{\"pattern\":{\"fillmode\":\"overlay\",\"size\":10,\"solidity\":0.2}},\"type\":\"histogram\"}],\"histogram2d\":[{\"colorbar\":{\"outlinewidth\":0,\"ticks\":\"\"},\"colorscale\":[[0.0,\"#0d0887\"],[0.1111111111111111,\"#46039f\"],[0.2222222222222222,\"#7201a8\"],[0.3333333333333333,\"#9c179e\"],[0.4444444444444444,\"#bd3786\"],[0.5555555555555556,\"#d8576b\"],[0.6666666666666666,\"#ed7953\"],[0.7777777777777778,\"#fb9f3a\"],[0.8888888888888888,\"#fdca26\"],[1.0,\"#f0f921\"]],\"type\":\"histogram2d\"}],\"histogram2dcontour\":[{\"colorbar\":{\"outlinewidth\":0,\"ticks\":\"\"},\"colorscale\":[[0.0,\"#0d0887\"],[0.1111111111111111,\"#46039f\"],[0.2222222222222222,\"#7201a8\"],[0.3333333333333333,\"#9c179e\"],[0.4444444444444444,\"#bd3786\"],[0.5555555555555556,\"#d8576b\"],[0.6666666666666666,\"#ed7953\"],[0.7777777777777778,\"#fb9f3a\"],[0.8888888888888888,\"#fdca26\"],[1.0,\"#f0f921\"]],\"type\":\"histogram2dcontour\"}],\"mesh3d\":[{\"colorbar\":{\"outlinewidth\":0,\"ticks\":\"\"},\"type\":\"mesh3d\"}],\"parcoords\":[{\"line\":{\"colorbar\":{\"outlinewidth\":0,\"ticks\":\"\"}},\"type\":\"parcoords\"}],\"pie\":[{\"automargin\":true,\"type\":\"pie\"}],\"scatter\":[{\"marker\":{\"colorbar\":{\"outlinewidth\":0,\"ticks\":\"\"}},\"type\":\"scatter\"}],\"scatter3d\":[{\"line\":{\"colorbar\":{\"outlinewidth\":0,\"ticks\":\"\"}},\"marker\":{\"colorbar\":{\"outlinewidth\":0,\"ticks\":\"\"}},\"type\":\"scatter3d\"}],\"scattercarpet\":[{\"marker\":{\"colorbar\":{\"outlinewidth\":0,\"ticks\":\"\"}},\"type\":\"scattercarpet\"}],\"scattergeo\":[{\"marker\":{\"colorbar\":{\"outlinewidth\":0,\"ticks\":\"\"}},\"type\":\"scattergeo\"}],\"scattergl\":[{\"marker\":{\"colorbar\":{\"outlinewidth\":0,\"ticks\":\"\"}},\"type\":\"scattergl\"}],\"scattermapbox\":[{\"marker\":{\"colorbar\":{\"outlinewidth\":0,\"ticks\":\"\"}},\"type\":\"scattermapbox\"}],\"scatterpolar\":[{\"marker\":{\"colorbar\":{\"outlinewidth\":0,\"ticks\":\"\"}},\"type\":\"scatterpolar\"}],\"scatterpolargl\":[{\"marker\":{\"colorbar\":{\"outlinewidth\":0,\"ticks\":\"\"}},\"type\":\"scatterpolargl\"}],\"scatterternary\":[{\"marker\":{\"colorbar\":{\"outlinewidth\":0,\"ticks\":\"\"}},\"type\":\"scatterternary\"}],\"surface\":[{\"colorbar\":{\"outlinewidth\":0,\"ticks\":\"\"},\"colorscale\":[[0.0,\"#0d0887\"],[0.1111111111111111,\"#46039f\"],[0.2222222222222222,\"#7201a8\"],[0.3333333333333333,\"#9c179e\"],[0.4444444444444444,\"#bd3786\"],[0.5555555555555556,\"#d8576b\"],[0.6666666666666666,\"#ed7953\"],[0.7777777777777778,\"#fb9f3a\"],[0.8888888888888888,\"#fdca26\"],[1.0,\"#f0f921\"]],\"type\":\"surface\"}],\"table\":[{\"cells\":{\"fill\":{\"color\":\"#EBF0F8\"},\"line\":{\"color\":\"white\"}},\"header\":{\"fill\":{\"color\":\"#C8D4E3\"},\"line\":{\"color\":\"white\"}},\"type\":\"table\"}]},\"layout\":{\"annotationdefaults\":{\"arrowcolor\":\"#2a3f5f\",\"arrowhead\":0,\"arrowwidth\":1},\"autotypenumbers\":\"strict\",\"coloraxis\":{\"colorbar\":{\"outlinewidth\":0,\"ticks\":\"\"}},\"colorscale\":{\"diverging\":[[0,\"#8e0152\"],[0.1,\"#c51b7d\"],[0.2,\"#de77ae\"],[0.3,\"#f1b6da\"],[0.4,\"#fde0ef\"],[0.5,\"#f7f7f7\"],[0.6,\"#e6f5d0\"],[0.7,\"#b8e186\"],[0.8,\"#7fbc41\"],[0.9,\"#4d9221\"],[1,\"#276419\"]],\"sequential\":[[0.0,\"#0d0887\"],[0.1111111111111111,\"#46039f\"],[0.2222222222222222,\"#7201a8\"],[0.3333333333333333,\"#9c179e\"],[0.4444444444444444,\"#bd3786\"],[0.5555555555555556,\"#d8576b\"],[0.6666666666666666,\"#ed7953\"],[0.7777777777777778,\"#fb9f3a\"],[0.8888888888888888,\"#fdca26\"],[1.0,\"#f0f921\"]],\"sequentialminus\":[[0.0,\"#0d0887\"],[0.1111111111111111,\"#46039f\"],[0.2222222222222222,\"#7201a8\"],[0.3333333333333333,\"#9c179e\"],[0.4444444444444444,\"#bd3786\"],[0.5555555555555556,\"#d8576b\"],[0.6666666666666666,\"#ed7953\"],[0.7777777777777778,\"#fb9f3a\"],[0.8888888888888888,\"#fdca26\"],[1.0,\"#f0f921\"]]},\"colorway\":[\"#636efa\",\"#EF553B\",\"#00cc96\",\"#ab63fa\",\"#FFA15A\",\"#19d3f3\",\"#FF6692\",\"#B6E880\",\"#FF97FF\",\"#FECB52\"],\"font\":{\"color\":\"#2a3f5f\"},\"geo\":{\"bgcolor\":\"white\",\"lakecolor\":\"white\",\"landcolor\":\"#E5ECF6\",\"showlakes\":true,\"showland\":true,\"subunitcolor\":\"white\"},\"hoverlabel\":{\"align\":\"left\"},\"hovermode\":\"closest\",\"mapbox\":{\"style\":\"light\"},\"paper_bgcolor\":\"white\",\"plot_bgcolor\":\"#E5ECF6\",\"polar\":{\"angularaxis\":{\"gridcolor\":\"white\",\"linecolor\":\"white\",\"ticks\":\"\"},\"bgcolor\":\"#E5ECF6\",\"radialaxis\":{\"gridcolor\":\"white\",\"linecolor\":\"white\",\"ticks\":\"\"}},\"scene\":{\"xaxis\":{\"backgroundcolor\":\"#E5ECF6\",\"gridcolor\":\"white\",\"gridwidth\":2,\"linecolor\":\"white\",\"showbackground\":true,\"ticks\":\"\",\"zerolinecolor\":\"white\"},\"yaxis\":{\"backgroundcolor\":\"#E5ECF6\",\"gridcolor\":\"white\",\"gridwidth\":2,\"linecolor\":\"white\",\"showbackground\":true,\"ticks\":\"\",\"zerolinecolor\":\"white\"},\"zaxis\":{\"backgroundcolor\":\"#E5ECF6\",\"gridcolor\":\"white\",\"gridwidth\":2,\"linecolor\":\"white\",\"showbackground\":true,\"ticks\":\"\",\"zerolinecolor\":\"white\"}},\"shapedefaults\":{\"line\":{\"color\":\"#2a3f5f\"}},\"ternary\":{\"aaxis\":{\"gridcolor\":\"white\",\"linecolor\":\"white\",\"ticks\":\"\"},\"baxis\":{\"gridcolor\":\"white\",\"linecolor\":\"white\",\"ticks\":\"\"},\"bgcolor\":\"#E5ECF6\",\"caxis\":{\"gridcolor\":\"white\",\"linecolor\":\"white\",\"ticks\":\"\"}},\"title\":{\"x\":0.05},\"xaxis\":{\"automargin\":true,\"gridcolor\":\"white\",\"linecolor\":\"white\",\"ticks\":\"\",\"title\":{\"standoff\":15},\"zerolinecolor\":\"white\",\"zerolinewidth\":2},\"yaxis\":{\"automargin\":true,\"gridcolor\":\"white\",\"linecolor\":\"white\",\"ticks\":\"\",\"title\":{\"standoff\":15},\"zerolinecolor\":\"white\",\"zerolinewidth\":2}}},\"xaxis\":{\"anchor\":\"y\",\"domain\":[0.0,1.0],\"title\":{\"text\":\"cena\"}},\"yaxis\":{\"anchor\":\"x\",\"domain\":[0.0,1.0],\"title\":{\"text\":\"przebieg\"}},\"coloraxis\":{\"colorbar\":{\"title\":{\"text\":\"flaga_IQR\"}},\"colorscale\":[[0.0,\"#0d0887\"],[0.1111111111111111,\"#46039f\"],[0.2222222222222222,\"#7201a8\"],[0.3333333333333333,\"#9c179e\"],[0.4444444444444444,\"#bd3786\"],[0.5555555555555556,\"#d8576b\"],[0.6666666666666666,\"#ed7953\"],[0.7777777777777778,\"#fb9f3a\"],[0.8888888888888888,\"#fdca26\"],[1.0,\"#f0f921\"]]},\"legend\":{\"tracegroupgap\":0},\"title\":{\"text\":\"Rozrzut cechy - oferta_pojemno\\u015b\\u0107 a warto\\u015bci odstaj\\u0105ce\"}},                        {\"responsive\": true}                    ).then(function(){\n",
              "                            \n",
              "var gd = document.getElementById('c5145b9a-6599-42ba-b03f-e9863ad4c653');\n",
              "var x = new MutationObserver(function (mutations, observer) {{\n",
              "        var display = window.getComputedStyle(gd).display;\n",
              "        if (!display || display === 'none') {{\n",
              "            console.log([gd, 'removed!']);\n",
              "            Plotly.purge(gd);\n",
              "            observer.disconnect();\n",
              "        }}\n",
              "}});\n",
              "\n",
              "// Listen for the removal of the full notebook cells\n",
              "var notebookContainer = gd.closest('#notebook-container');\n",
              "if (notebookContainer) {{\n",
              "    x.observe(notebookContainer, {childList: true});\n",
              "}}\n",
              "\n",
              "// Listen for the clearing of the current output cell\n",
              "var outputEl = gd.closest('.output');\n",
              "if (outputEl) {{\n",
              "    x.observe(outputEl, {childList: true});\n",
              "}}\n",
              "\n",
              "                        })                };                            </script>        </div>\n",
              "</body>\n",
              "</html>"
            ]
          },
          "metadata": {}
        }
      ]
    },
    {
      "cell_type": "code",
      "source": [
        "dane_modelowanie2 = dane_modelowanie[dane_modelowanie[\"flaga_IQR\"]==1]\n",
        "dane_modelowanie2.shape"
      ],
      "metadata": {
        "colab": {
          "base_uri": "https://localhost:8080/"
        },
        "id": "wYMmozC2ebvf",
        "outputId": "4e729f77-7426-4895-f670-a1457fc2decf"
      },
      "execution_count": null,
      "outputs": [
        {
          "output_type": "execute_result",
          "data": {
            "text/plain": [
              "(1598, 6)"
            ]
          },
          "metadata": {},
          "execution_count": 17
        }
      ]
    },
    {
      "cell_type": "code",
      "source": [
        "def IQR_outliers_cena(a):\n",
        "  Q1, Q3 = np.percentile(a, [25, 75])\n",
        "  IQR = Q3 - Q1\n",
        "\n",
        "  gorne_ograniczenie  = Q3 + (0.5 * IQR)\n",
        "  dolne_ograniczenie  = Q1 - (1.5 * IQR)\n",
        "  print(\"Górne ograniczenie:\", gorne_ograniczenie)\n",
        "  print(\"Dolne ograniczenie:\", dolne_ograniczenie)\n",
        "\n",
        "  indeksy = np.where((a > gorne_ograniczenie) | (a < dolne_ograniczenie))\n",
        "  b = np.full(shape=a.shape[0], fill_value=1)\n",
        "  b[indeksy] = -1\n",
        "  \n",
        "  return b"
      ],
      "metadata": {
        "id": "VHWImMMef0B7"
      },
      "execution_count": null,
      "outputs": []
    },
    {
      "cell_type": "code",
      "source": [
        "dane_modelowanie2[\"flaga_IQR\"] = IQR_outliers_cena(dane_modelowanie2[\"cena\"])\n",
        "print(dane_modelowanie2[\"flaga_IQR\"])\n",
        "\n",
        "# wizualizacja wartości odstających wg. ceny samochodu\n",
        "px.scatter(dane_modelowanie2, \n",
        "           x = \"przebieg\", \n",
        "           y = \"cena\",\n",
        "           hover_name = \"rocznik\",\n",
        "           color = \"flaga_IQR\", \n",
        "           title = \"Rozrzut cechy - cena a wartości odstające\")"
      ],
      "metadata": {
        "colab": {
          "base_uri": "https://localhost:8080/",
          "height": 943
        },
        "id": "ZRV99tPtebxc",
        "outputId": "6658aff1-8b95-40ae-c526-db24fbecacbf"
      },
      "execution_count": null,
      "outputs": [
        {
          "output_type": "stream",
          "name": "stdout",
          "text": [
            "Górne ograniczenie: 95350.5\n",
            "Dolne ograniczenie: -15352.5\n",
            "0       1\n",
            "2       1\n",
            "3       1\n",
            "4       1\n",
            "5       1\n",
            "       ..\n",
            "1600    1\n",
            "1601    1\n",
            "1603    1\n",
            "1604    1\n",
            "1605    1\n",
            "Name: flaga_IQR, Length: 1598, dtype: int64\n"
          ]
        },
        {
          "output_type": "stream",
          "name": "stderr",
          "text": [
            "<ipython-input-24-c61efb037acd>:1: SettingWithCopyWarning:\n",
            "\n",
            "\n",
            "A value is trying to be set on a copy of a slice from a DataFrame.\n",
            "Try using .loc[row_indexer,col_indexer] = value instead\n",
            "\n",
            "See the caveats in the documentation: https://pandas.pydata.org/pandas-docs/stable/user_guide/indexing.html#returning-a-view-versus-a-copy\n",
            "\n"
          ]
        },
        {
          "output_type": "display_data",
          "data": {
            "text/html": [
              "<html>\n",
              "<head><meta charset=\"utf-8\" /></head>\n",
              "<body>\n",
              "    <div>            <script src=\"https://cdnjs.cloudflare.com/ajax/libs/mathjax/2.7.5/MathJax.js?config=TeX-AMS-MML_SVG\"></script><script type=\"text/javascript\">if (window.MathJax) {MathJax.Hub.Config({SVG: {font: \"STIX-Web\"}});}</script>                <script type=\"text/javascript\">window.PlotlyConfig = {MathJaxConfig: 'local'};</script>\n",
              "        <script src=\"https://cdn.plot.ly/plotly-2.8.3.min.js\"></script>                <div id=\"82453e2f-daa2-4f9a-92cd-bfd3d67021a7\" class=\"plotly-graph-div\" style=\"height:525px; width:100%;\"></div>            <script type=\"text/javascript\">                                    window.PLOTLYENV=window.PLOTLYENV || {};                                    if (document.getElementById(\"82453e2f-daa2-4f9a-92cd-bfd3d67021a7\")) {                    Plotly.newPlot(                        \"82453e2f-daa2-4f9a-92cd-bfd3d67021a7\",                        [{\"hovertemplate\":\"<b>%{hovertext}</b><br><br>przebieg=%{x}<br>cena=%{y}<br>flaga_IQR=%{marker.color}<extra></extra>\",\"hovertext\":[2021.0,2018.0,2016.0,2021.0,2022.0,2022.0,2021.0,2023.0,2017.0,2016.0,2022.0,2016.0,2022.0,2019.0,2019.0,2016.0,2022.0,2018.0,2017.0,2018.0,2022.0,2020.0,2018.0,2023.0,2022.0,2022.0,2022.0,2021.0,2015.0,2015.0,2021.0,2022.0,2017.0,2022.0,2018.0,2016.0,2022.0,2022.0,2022.0,2022.0,2015.0,2022.0,2022.0,2016.0,2016.0,2017.0,2017.0,2023.0,2018.0,2022.0,2022.0,2022.0,2020.0,2022.0,2021.0,2021.0,2018.0,2018.0,2017.0,2019.0,2018.0,2021.0,2018.0,2021.0,2016.0,2023.0,2017.0,2019.0,2015.0,2016.0,2016.0,2023.0,2023.0,2015.0,2021.0,2022.0,2022.0,2023.0,2016.0,2016.0,2015.0,2023.0,2016.0,2016.0,2017.0,2022.0,2022.0,2017.0,2020.0,2021.0,2022.0,2018.0,2019.0,2016.0,2019.0,2016.0,2016.0,2016.0,2022.0,2018.0,2016.0,2017.0,2019.0,2019.0,2022.0,2022.0,2019.0,2021.0,2017.0,2018.0,2017.0,2018.0,2016.0,2018.0,2020.0,2022.0,2022.0,2016.0,2022.0,2022.0,2022.0,2018.0,2015.0,2022.0,2017.0,2021.0,2018.0,2021.0,2018.0,2017.0,2018.0,2017.0,2022.0,2018.0,2023.0,2021.0,2019.0,2018.0,2019.0,2018.0,2019.0,2020.0,2022.0,2020.0,2023.0,2020.0,2020.0,2021.0,2022.0,2019.0,2022.0,2022.0,2021.0,2015.0,2018.0,2015.0,2023.0,2019.0,2022.0,2022.0,2023.0,2019.0,2022.0,2022.0,2023.0,2021.0,2021.0,2022.0,2017.0,2016.0,2017.0,2017.0,2015.0,2018.0,2016.0,2017.0,2019.0,2019.0,2017.0,2019.0,2022.0,2022.0,2023.0,2015.0,2023.0,2019.0,2020.0,2019.0,2023.0,2022.0,2017.0,2022.0,2020.0,2018.0,2019.0,2017.0,2016.0,2019.0,2016.0,2020.0,2018.0,2019.0,2015.0,2018.0,2023.0,2022.0,2020.0,2023.0,2023.0,2016.0,2018.0,2022.0,2023.0,2018.0,2022.0,2019.0,2019.0,2015.0,2018.0,2022.0,2022.0,2022.0,2022.0,2017.0,2018.0,2019.0,2022.0,2023.0,2018.0,2023.0,2023.0,2023.0,2023.0,2019.0,2017.0,2015.0,2023.0,2021.0,2021.0,2022.0,2015.0,2018.0,2021.0,2022.0,2016.0,2019.0,2019.0,2019.0,2023.0,2023.0,2022.0,2019.0,2020.0,2022.0,2017.0,2020.0,2018.0,2019.0,2022.0,2022.0,2016.0,2017.0,2017.0,2022.0,2022.0,2017.0,2020.0,2020.0,2017.0,2019.0,2017.0,2016.0,2020.0,2021.0,2019.0,2019.0,2016.0,2017.0,2022.0,2015.0,2016.0,2018.0,2016.0,2022.0,2017.0,2018.0,2015.0,2017.0,2022.0,2021.0,2022.0,2020.0,2016.0,2019.0,2016.0,2019.0,2017.0,2018.0,2016.0,2016.0,2022.0,2018.0,2016.0,2023.0,2023.0,2019.0,2022.0,2019.0,2021.0,2022.0,2015.0,2022.0,2017.0,2021.0,2017.0,2015.0,2018.0,2022.0,2022.0,2022.0,2018.0,2022.0,2017.0,2015.0,2015.0,2018.0,2019.0,2022.0,2022.0,2022.0,2016.0,2018.0,2020.0,2022.0,2018.0,2021.0,2021.0,2017.0,2017.0,2020.0,2019.0,2018.0,2022.0,2022.0,2018.0,2020.0,2020.0,2019.0,2018.0,2022.0,2020.0,2019.0,2022.0,2017.0,2021.0,2019.0,2019.0,2018.0,2022.0,2021.0,2018.0,2018.0,2019.0,2017.0,2022.0,2022.0,2018.0,2022.0,2023.0,2017.0,2019.0,2022.0,2022.0,2016.0,2021.0,2022.0,2022.0,2015.0,2020.0,2020.0,2022.0,2022.0,2020.0,2021.0,2019.0,2022.0,2017.0,2021.0,2021.0,2017.0,2022.0,2022.0,2017.0,2022.0,2016.0,2020.0,2022.0,2017.0,2018.0,2017.0,2019.0,2022.0,2020.0,2022.0,2015.0,2022.0,2023.0,2022.0,2018.0,2015.0,2020.0,2017.0,2021.0,2023.0,2022.0,2022.0,2021.0,2021.0,2018.0,2019.0,2022.0,2016.0,2021.0,2016.0,2022.0,2021.0,2023.0,2016.0,2019.0,2020.0,2019.0,2021.0,2022.0,2022.0,2023.0,2021.0,2016.0,2020.0,2017.0,2020.0,2022.0,2021.0,2018.0,2022.0,2019.0,2019.0,2017.0,2018.0,2022.0,2022.0,2016.0,2021.0,2022.0,2017.0,2019.0,2017.0,2021.0,2022.0,2018.0,2017.0,2016.0,2022.0,2016.0,2019.0,2022.0,2019.0,2023.0,2022.0,2022.0,2022.0,2022.0,2022.0,2023.0,2018.0,2022.0,2022.0,2022.0,2022.0,2021.0,2021.0,2021.0,2018.0,2017.0,2019.0,2018.0,2023.0,2018.0,2018.0,2017.0,2022.0,2019.0,2023.0,2020.0,2021.0,2018.0,2018.0,2018.0,2015.0,2017.0,2019.0,2017.0,2019.0,2018.0,2018.0,2016.0,2022.0,2022.0,2022.0,2020.0,2016.0,2018.0,2021.0,2018.0,2019.0,2019.0,2016.0,2015.0,2021.0,2017.0,2022.0,2017.0,2021.0,2018.0,2021.0,2017.0,2016.0,2018.0,2017.0,2020.0,2017.0,2019.0,2019.0,2017.0,2019.0,2018.0,2022.0,2017.0,2022.0,2020.0,2016.0,2018.0,2022.0,2021.0,2020.0,2015.0,2018.0,2019.0,2019.0,2022.0,2019.0,2018.0,2018.0,2020.0,2022.0,2023.0,2022.0,2020.0,2017.0,2015.0,2023.0,2016.0,2023.0,2023.0,2022.0,2019.0,2019.0,2015.0,2020.0,2018.0,2022.0,2022.0,2021.0,2018.0,2021.0,2021.0,2018.0,2021.0,2022.0,2022.0,2017.0,2022.0,2017.0,2021.0,2022.0,2022.0,2022.0,2018.0,2019.0,2019.0,2019.0,2017.0,2021.0,2021.0,2021.0,2023.0,2015.0,2017.0,2022.0,2018.0,2017.0,2022.0,2019.0,2023.0,2019.0,2016.0,2018.0,2022.0,2021.0,2016.0,2016.0,2015.0,2022.0,2017.0,2018.0,2022.0,2022.0,2022.0,2022.0,2022.0,2019.0,2021.0,2017.0,2022.0,2022.0,2017.0,2015.0,2019.0,2022.0,2023.0,2019.0,2018.0,2022.0,2022.0,2020.0,2019.0,2019.0,2019.0,2018.0,2022.0,2021.0,2017.0,2019.0,2022.0,2022.0,2019.0,2019.0,2016.0,2018.0,2018.0,2017.0,2016.0,2018.0,2021.0,2018.0,2019.0,2019.0,2019.0,2019.0,2015.0,2017.0,2019.0,2021.0,2019.0,2017.0,2023.0,2015.0,2020.0,2019.0,2023.0,2022.0,2016.0,2017.0,2021.0,2017.0,2015.0,2022.0,2020.0,2019.0,2016.0,2015.0,2020.0,2015.0,2019.0,2021.0,2017.0,2019.0,2018.0,2016.0,2015.0,2015.0,2017.0,2021.0,2021.0,2016.0,2021.0,2015.0,2022.0,2017.0,2016.0,2016.0,2016.0,2016.0,2019.0,2021.0,2020.0,2015.0,2017.0,2016.0,2016.0,2015.0,2022.0,2021.0,2019.0,2018.0,2018.0,2022.0,2022.0,2020.0,2016.0,2017.0,2022.0,2019.0,2021.0,2019.0,2019.0,2018.0,2019.0,2015.0,2018.0,2022.0,2016.0,2018.0,2018.0,2019.0,2021.0,2022.0,2019.0,2019.0,2022.0,2021.0,2022.0,2022.0,2022.0,2016.0,2019.0,2020.0,2022.0,2019.0,2023.0,2015.0,2019.0,2023.0,2023.0,2018.0,2018.0,2018.0,2016.0,2021.0,2020.0,2021.0,2023.0,2021.0,2018.0,2019.0,2019.0,2018.0,2022.0,2019.0,2015.0,2018.0,2019.0,2019.0,2019.0,2022.0,2022.0,2015.0,2018.0,2020.0,2022.0,2022.0,2022.0,2022.0,2015.0,2022.0,2015.0,2018.0,2022.0,2023.0,2016.0,2016.0,2018.0,2018.0,2022.0,2022.0,2022.0,2023.0,2023.0,2018.0,2022.0,2018.0,2019.0,2023.0,2015.0,2022.0,2020.0,2022.0,2023.0,2018.0,2015.0,2021.0,2016.0,2022.0,2022.0,2022.0,2019.0,2017.0,2019.0,2019.0,2021.0,2022.0,2019.0,2021.0,2022.0,2020.0,2022.0,2022.0,2022.0,2018.0,2020.0,2023.0,2022.0,2022.0,2019.0,2019.0,2018.0,2022.0,2020.0,2020.0,2019.0,2021.0,2017.0,2020.0,2020.0,2023.0,2023.0,2019.0,2015.0,2019.0,2017.0,2018.0,2017.0,2016.0,2016.0,2016.0,2022.0,2023.0,2021.0,2022.0,2019.0,2015.0,2021.0,2017.0,2022.0,2021.0,2019.0,2018.0,2017.0,2019.0,2021.0,2021.0,2018.0,2021.0,2021.0,2021.0,2022.0,2021.0,2018.0,2019.0,2015.0,2019.0,2017.0,2021.0,2022.0,2019.0,2017.0,2022.0,2015.0,2018.0,2021.0,2022.0,2022.0,2022.0,2019.0,2017.0,2022.0,2020.0,2018.0,2016.0,2020.0,2020.0,2015.0,2018.0,2018.0,2015.0,2018.0,2019.0,2019.0,2018.0,2016.0,2018.0,2019.0,2018.0,2018.0,2019.0,2016.0,2016.0,2022.0,2021.0,2020.0,2022.0,2016.0,2017.0,2018.0,2017.0,2017.0,2020.0,2016.0,2021.0,2018.0,2016.0,2015.0,2016.0,2016.0,2018.0,2019.0,2018.0,2023.0,2019.0,2019.0,2015.0,2017.0,2016.0,2016.0,2016.0,2015.0,2015.0,2022.0,2021.0,2022.0,2022.0,2022.0,2023.0,2016.0,2022.0,2023.0,2022.0,2015.0,2020.0,2022.0,2022.0,2022.0,2022.0,2017.0,2022.0,2017.0,2019.0,2021.0,2019.0,2022.0,2020.0,2021.0,2022.0,2015.0,2017.0,2021.0,2021.0,2017.0,2018.0,2018.0,2019.0,2021.0,2022.0,2018.0,2023.0,2015.0,2017.0,2022.0,2022.0,2022.0,2022.0,2017.0,2016.0,2017.0,2022.0,2022.0,2022.0,2022.0,2022.0,2022.0,2022.0,2022.0,2022.0,2020.0,2018.0,2022.0,2021.0,2017.0,2022.0,2021.0,2018.0,2019.0,2017.0,2019.0,2018.0,2018.0,2021.0,2019.0,2020.0,2021.0,2017.0,2019.0,2022.0,2022.0,2018.0,2023.0,2021.0,2016.0,2019.0,2022.0,2021.0,2022.0,2022.0,2022.0,2023.0,2017.0,2022.0,2022.0,2022.0,2017.0,2018.0,2017.0,2021.0,2018.0,2022.0,2016.0,2022.0,2017.0,2022.0,2019.0,2018.0,2021.0,2019.0,2015.0,2017.0,2023.0,2023.0,2021.0,2015.0,2019.0,2016.0,2018.0,2020.0,2022.0,2019.0,2023.0,2020.0,2017.0,2020.0,2021.0,2019.0,2019.0,2018.0,2016.0,2021.0,2019.0,2019.0,2019.0,2022.0,2023.0,2019.0,2018.0,2022.0,2022.0,2023.0,2018.0,2019.0,2023.0,2022.0,2018.0,2019.0,2022.0,2022.0,2020.0,2021.0,2015.0,2019.0,2019.0,2022.0,2021.0,2023.0,2021.0,2018.0,2023.0,2016.0,2018.0,2016.0,2023.0,2015.0,2022.0,2019.0,2018.0,2019.0,2018.0,2018.0,2017.0,2018.0,2020.0,2019.0,2022.0,2020.0,2016.0,2016.0,2019.0,2017.0,2015.0,2022.0,2021.0,2018.0,2016.0,2016.0,2022.0,2019.0,2018.0,2019.0,2020.0,2018.0,2016.0,2017.0,2023.0,2023.0,2022.0,2015.0,2022.0,2022.0,2018.0,2022.0,2022.0,2022.0,2022.0,2018.0,2022.0,2022.0,2022.0,2019.0,2016.0,2017.0,2022.0,2015.0,2020.0,2023.0,2017.0,2023.0,2017.0,2019.0,2023.0,2015.0,2018.0,2022.0,2015.0,2023.0,2022.0,2022.0,2020.0,2017.0,2019.0,2017.0,2022.0,2018.0,2016.0,2021.0,2021.0,2023.0,2023.0,2023.0,2015.0,2022.0,2017.0,2019.0,2022.0,2021.0,2020.0,2019.0,2021.0,2021.0,2018.0,2022.0,2019.0,2022.0,2017.0,2022.0,2022.0,2018.0,2020.0,2019.0,2017.0,2022.0,2023.0,2017.0,2023.0,2019.0,2022.0,2017.0,2022.0,2022.0,2022.0,2021.0,2023.0,2022.0,2020.0,2021.0,2019.0,2022.0,2019.0,2022.0,2018.0,2022.0,2015.0,2019.0,2019.0,2022.0,2017.0,2020.0,2021.0,2017.0,2017.0,2016.0,2015.0,2022.0,2022.0,2022.0,2019.0,2018.0,2022.0,2021.0,2019.0,2021.0,2022.0,2017.0,2018.0,2017.0,2021.0,2020.0,2016.0,2022.0,2016.0,2021.0,2022.0,2023.0,2021.0,2022.0,2018.0,2022.0,2022.0,2021.0,2022.0,2022.0,2022.0,2021.0,2022.0,2019.0,2022.0,2018.0,2022.0,2022.0,2022.0,2019.0,2022.0,2020.0,2017.0,2022.0,2018.0,2019.0,2016.0,2021.0,2022.0,2015.0,2020.0,2021.0,2021.0,2021.0,2022.0,2015.0,2022.0,2022.0,2018.0,2022.0,2022.0,2017.0,2022.0,2019.0,2022.0,2018.0,2020.0,2016.0,2022.0,2016.0,2022.0,2015.0,2022.0,2015.0,2022.0,2022.0,2022.0,2022.0,2019.0,2022.0,2022.0,2021.0,2022.0,2022.0,2018.0,2022.0,2018.0,2022.0,2022.0,2018.0,2022.0,2016.0,2022.0,2017.0,2018.0,2016.0,2019.0,2022.0,2016.0,2018.0,2023.0,2019.0,2015.0,2023.0,2022.0,2018.0,2018.0,2016.0,2016.0,2022.0,2022.0,2018.0,2017.0,2016.0,2016.0,2019.0,2019.0,2020.0,2021.0,2023.0,2023.0,2018.0,2016.0,2022.0,2017.0,2015.0,2020.0,2018.0,2020.0,2019.0,2021.0,2022.0,2018.0,2015.0,2016.0,2017.0,2022.0,2020.0,2018.0,2021.0,2022.0,2015.0,2018.0,2018.0,2020.0,2019.0,2017.0,2022.0,2015.0,2018.0,2020.0,2022.0,2016.0,2019.0,2018.0,2020.0,2018.0,2022.0,2020.0,2018.0,2015.0,2015.0,2020.0,2021.0,2018.0,2020.0,2018.0,2016.0,2018.0,2016.0,2019.0,2021.0,2019.0,2019.0,2018.0,2015.0,2016.0,2018.0,2019.0,2022.0,2021.0,2018.0,2021.0,2018.0,2016.0,2017.0,2019.0,2015.0,2017.0,2018.0,2022.0,2018.0,2017.0,2016.0,2016.0,2019.0,2019.0,2016.0,2022.0,2022.0,2019.0,2018.0,2022.0,2022.0,2015.0,2017.0,2021.0,2020.0,2017.0,2015.0,2015.0,2017.0,2019.0,2018.0,2018.0,2019.0,2022.0,2015.0,2018.0,2018.0,2020.0,2019.0,2021.0,2022.0,2019.0,2015.0,2019.0,2015.0,2018.0,2018.0,2015.0,2018.0,2020.0,2017.0,2018.0,2021.0,2015.0,2018.0,2020.0,2015.0,2022.0,2016.0,2017.0,2015.0,2020.0,2015.0,2019.0,2016.0,2018.0,2022.0,2022.0,2018.0,2019.0,2018.0,2021.0,2017.0,2015.0,2017.0,2019.0,2019.0,2020.0,2015.0,2016.0,2018.0,2020.0,2022.0,2015.0,2015.0,2018.0,2017.0,2021.0,2020.0,2018.0,2016.0,2021.0,2017.0,2015.0,2021.0,2017.0,2018.0,2017.0,2018.0,2019.0,2022.0,2022.0,2015.0,2022.0,2018.0,2019.0,2016.0,2015.0,2018.0,2021.0,2019.0,2018.0,2018.0,2020.0,2015.0,2018.0,2015.0,2020.0,2019.0,2021.0,2018.0,2018.0,2019.0,2019.0,2015.0,2018.0,2017.0,2019.0,2018.0,2019.0,2020.0,2018.0,2016.0,2019.0,2018.0,2016.0,2016.0,2018.0,2020.0,2021.0,2015.0,2021.0,2019.0,2018.0,2019.0,2018.0,2017.0,2018.0,2018.0,2019.0,2020.0,2019.0,2018.0,2016.0,2021.0,2021.0,2016.0,2019.0,2015.0,2021.0,2020.0,2019.0,2019.0,2020.0,2018.0,2022.0,2022.0,2022.0,2021.0,2018.0,2019.0,2019.0,2017.0,2018.0,2019.0,2015.0,2018.0,2016.0,2016.0],\"legendgroup\":\"\",\"marker\":{\"color\":[1,1,1,1,1,-1,1,1,1,1,1,1,-1,1,1,1,1,1,1,1,1,1,1,-1,1,-1,-1,1,1,1,1,1,1,1,1,1,-1,-1,-1,-1,1,-1,-1,1,1,1,1,1,1,-1,1,1,1,-1,1,1,1,1,1,1,1,1,1,1,1,-1,1,1,1,1,1,1,1,1,1,1,-1,-1,1,1,1,1,1,1,1,1,1,1,1,1,1,1,1,1,1,1,1,1,-1,1,1,1,1,1,-1,-1,1,1,1,1,1,1,1,1,1,1,1,1,-1,-1,-1,1,1,1,1,1,1,1,1,1,1,1,-1,1,1,1,1,1,1,1,1,1,1,1,1,1,1,1,1,1,1,1,1,1,1,1,1,1,-1,1,-1,1,1,1,1,1,1,1,1,1,1,1,1,1,1,1,1,1,1,1,1,1,1,1,1,1,1,1,1,1,1,1,1,1,1,1,1,1,1,1,1,1,1,1,1,1,1,1,1,1,1,1,1,1,1,1,1,1,1,1,-1,-1,-1,1,1,1,-1,1,1,1,1,1,1,1,1,1,1,1,1,1,1,1,1,1,1,1,1,1,1,-1,-1,1,1,-1,1,1,1,1,1,1,1,1,1,-1,1,1,1,1,1,1,1,1,1,1,1,1,1,1,-1,1,1,1,1,1,1,1,1,1,1,1,-1,1,1,1,1,1,1,1,1,1,1,1,1,-1,1,1,-1,1,1,-1,1,-1,1,1,1,1,1,1,-1,-1,1,-1,1,1,1,1,1,-1,1,1,1,1,1,1,1,1,1,1,1,1,1,1,-1,-1,1,1,1,1,1,1,1,1,1,1,1,1,1,1,-1,1,1,1,1,1,-1,1,1,-1,1,1,1,-1,-1,1,1,-1,1,1,1,1,1,1,1,1,1,-1,1,1,1,1,1,1,1,1,1,1,-1,1,1,1,1,1,1,1,1,1,1,1,1,1,1,1,1,1,1,1,1,1,1,1,1,1,1,1,1,1,1,1,1,1,1,1,1,1,1,1,1,1,1,1,-1,1,1,-1,1,1,1,1,-1,-1,1,1,1,1,1,1,1,1,1,1,1,1,1,1,-1,1,-1,1,1,1,-1,-1,-1,1,-1,-1,1,1,1,1,1,1,1,1,1,-1,1,1,1,1,1,1,1,1,1,1,1,1,1,1,1,1,1,1,1,1,1,1,1,1,1,1,1,1,1,1,1,1,1,-1,1,1,1,1,1,1,1,1,1,1,1,1,1,1,1,1,1,1,1,1,1,-1,1,1,1,1,1,1,1,1,1,1,1,1,1,1,1,1,1,1,1,1,1,-1,1,1,1,1,1,1,1,1,1,1,1,1,1,1,-1,1,-1,1,1,1,1,1,1,1,1,1,1,1,1,1,1,1,1,1,1,1,-1,1,1,1,1,1,1,1,1,1,1,1,1,1,1,1,1,1,-1,1,1,1,1,1,1,1,1,1,1,1,1,-1,1,1,1,1,1,1,1,1,1,1,1,-1,1,1,1,1,1,1,1,1,1,1,1,1,1,1,1,1,1,1,1,1,1,1,1,1,1,1,1,1,1,1,1,-1,1,1,1,1,1,1,1,1,1,1,1,1,1,1,1,1,1,1,1,1,-1,1,1,1,1,1,1,1,1,1,1,1,1,1,1,1,1,1,1,-1,-1,1,1,1,1,1,1,1,1,1,1,1,1,1,1,1,1,1,1,1,1,1,1,1,1,1,1,1,1,1,1,1,-1,1,1,1,1,1,1,1,1,1,1,1,1,1,1,1,1,1,1,1,1,1,1,1,1,-1,1,1,1,1,1,1,1,1,1,-1,1,1,1,1,1,1,1,1,1,1,1,1,-1,1,-1,1,1,1,1,1,1,1,1,1,1,1,1,-1,-1,1,1,1,1,1,1,1,1,1,1,1,1,1,1,1,1,1,1,1,1,1,1,-1,1,1,1,1,1,1,1,1,1,1,1,1,1,1,1,1,1,1,1,-1,1,1,1,1,1,1,-1,1,1,1,1,1,1,1,1,1,1,1,1,1,1,1,1,1,1,1,1,1,1,1,1,1,1,-1,1,1,1,1,1,1,1,1,1,1,1,1,1,1,1,1,1,1,1,1,1,1,1,1,1,1,-1,1,1,1,1,1,1,1,1,1,1,1,1,1,1,1,1,1,1,1,1,1,1,1,1,1,1,1,1,1,1,1,1,1,1,1,1,1,1,1,1,1,1,1,1,-1,1,1,1,1,1,1,1,1,1,1,1,1,1,1,1,1,1,1,1,1,1,1,1,1,1,-1,-1,1,1,1,1,-1,1,-1,1,-1,1,-1,1,1,1,1,1,1,1,1,1,1,1,1,1,1,1,1,1,1,1,1,1,-1,1,1,1,1,1,1,1,1,1,-1,1,1,1,-1,-1,1,1,1,1,1,1,1,1,-1,1,1,1,1,-1,1,1,1,-1,-1,1,1,1,1,1,1,-1,1,1,1,1,1,1,1,1,1,1,1,1,1,1,1,-1,1,1,-1,1,-1,1,1,-1,1,1,1,1,1,1,1,1,1,1,1,1,1,1,1,1,1,1,1,-1,1,1,1,1,1,1,1,1,1,1,1,1,1,1,1,1,1,1,1,1,1,1,1,1,1,1,1,1,1,1,1,1,1,-1,1,1,1,1,-1,1,1,1,1,1,1,-1,1,1,1,1,1,1,1,1,-1,1,1,1,1,1,1,1,-1,1,1,1,1,1,1,1,1,1,1,1,1,1,1,1,-1,1,1,1,1,1,1,1,1,1,1,1,1,1,1,-1,1,1,1,1,-1,1,1,1,1,1,1,1,-1,-1,1,-1,1,1,1,1,1,1,1,1,1,1,1,1,1,1,1,1,1,1,1,1,-1,1,1,1,1,1,1,1,1,-1,1,1,1,1,1,1,1,1,1,-1,1,1,-1,1,1,1,1,1,1,1,1,1,1,-1,1,-1,1,1,1,-1,1,1,1,1,1,1,1,1,1,1,1,1,1,1,1,1,1,1,1,1,1,1,1,1,1,1,1,-1,1,1,1,-1,1,1,1,-1,-1,1,1,1,1,1,-1,1,1,1,1,-1,1,1,1,1,1,1,1,1,1,1,1,-1,1,1,1,1,1,1,1,1,1,-1,1,1,1,1,1,1,1,1,-1,-1,1,1,-1,1,1,1,1,1,1,1,-1,1,1,1,1,-1,1,1,1,1,1,1,1,1,1,1,1,1,1,1,1,1,1,1,1,1,1,1,1,1,1,1,1,1,1,1,1,1,1,1,1,1,1,1,1,1,1,1,1,1,1,1,1,1,1,1,1,1,1,-1,1,1,1,1,-1,1,1,1,1,1,1,1,1,1,1,1,1,1,1,1,1,1,1,1,1,1,1,1,1,1,1,1,1,1,1,1,1,1,1,1,1,1,1,1,1,1,1,1,1,1,1,1,1,1,1,1,1,1,-1,-1,1,1,1,1,1,1,1,1,1,1,1,1,1,1,1,1,1,1,1,1,1,1,1,1,1,1,1,1,1,1,1,1,1,1,1,-1,1,1,1,1,1,1,1,1,1,1,1,1,1,1,1,1,1,1,1,1,1,1,1,1,1,1,1,1,1,1,1,1,1,1,1,1,1,1,1,1,1,1,1,1,1,1,1,1,1,1,1,1,1,1,1,1,1,1,1,1,1,1,1,1,1,1,1,1,1,1,1,1,1,1,1],\"coloraxis\":\"coloraxis\",\"symbol\":\"circle\"},\"mode\":\"markers\",\"name\":\"\",\"showlegend\":false,\"x\":[18500,130000,128600,92800,1,1,29306,1,126000,31805,10,208600,1,90000,25800,38000,6810,120000,38000,155000,10,47650,31000,10,10,10,1,32384,103588,118590,6220,10,43000,9000,51500,88000,5000,1,10,10,177294,1,10,53689,49600,73000,189900,10,12000,1,1,105,9866,1,14249,10000,63500,136100,100000,74000,122553,22054,48741,34000,60000,5,16632,21700,82300,60000,87687,5,5,127400,24500,20500,5,5,124000,93800,130000,5,204551,231000,137330,10,5,127000,60000,21000,6000,47000,56045,49531,102214,56000,95000,96340,1,39584,96000,76784,80000,97275,1,5,22044,15000,124000,128000,148447,123073,67314,57000,74800,5,320,84100,10,5,5,24000,90927,23344,171234,48506,7000,35372,26000,51293,71685,173265,5,118000,6,31800,66129,48123,19070,104028,45000,136000,1,34000,5,28288,80000,39586,1,73270,1,1,34000,106534,80600,137900,5,39464,10,10,5,31305,5,5,5,40105,140000,5,112712,42140,32190,39441,113457,54633,161093,198000,45500,51670,103721,61248,1,1,10,111078,5,54032,95681,21500,5,1,100000,5,55000,50590,183417,47000,105036,81000,111000,72600,61670,34701,138603,66111,5,9789,11000,10,5,68200,51200,1,5,12000,8623,22120,62842,121178,88000,2833,5,5,5,53000,93000,115000,5,5,212000,10,5,5,5,146200,101000,140000,5,30000,6071,10,124000,80000,8300,10,103000,32000,108000,60000,10,10,5,7900,98706,10,102000,25000,230000,14000,1,10,108000,120000,180000,1,1,163455,92330,114881,117300,45079,198000,99349,15800,31107,51414,25789,39074,61232,1,140000,78594,123000,69000,10,134000,42574,150533,136592,5,20000,1,117000,64000,32368,59000,57700,176449,15000,80150,56700,1,75000,84200,5,5,40000,1,22000,24000,2,168000,2,132527,9700,94000,144000,98922,1,1,1,100222,5,91000,80000,125000,36000,33000,1,2,1,190000,40000,40000,1,51000,13300,2281,91030,62673,107000,93552,72480,10,4,43325,26800,31939,39409,124286,1,34300,160000,2995,75775,36400,35860,30600,51800,4,38091,125165,95000,67000,42135,5,5,89500,4,1,93000,75680,5,1,105132,31853,10,10,175600,71500,23000,1,10,98423,7000,14000,9,103400,1521,38382,142530,5,592,105000,10,69757,33000,5,136207,118000,78474,64000,5,77000,10,122000,10,10,10,47781,62000,24000,65000,19607,1,5,5,42508,34265,77421,67689,122,111762,59415,63016,10,59415,1,73400,97798,74665,150032,16000,7219,10,1,13625,63000,34915,38743,89000,10,29366,60978,10,112429,150343,79094,52419,6,5,75000,37967,10,146838,42345,134480,18000,9000,91256,143179,56925,1,98900,43313,7,63843,10,1,5,1,1,5,1,95000,5,5,10,1000,9513,5496,44632,6300,202142,23847,29000,5,68000,78000,77254,1,26228,5,47400,2230,55000,84462,34386,82245,98884,97492,94391,44143,143361,93180,116309,1,600,1,72721,136000,74000,5200,11136,85000,95000,153206,49000,10457,46000,10,85000,10000,97000,7400,82000,140000,162800,124600,26100,54000,20000,44200,121780,18500,23000,6500,179500,1,25000,99000,47029,1,36000,41000,106550,116000,81080,139000,5,39000,42991,98700,38000,1,1,126,64525,106000,189000,1,106000,1,1,1,41289,52808,66500,58629,115000,1,8500,14000,28000,5100,15000,51387,9179,10,5,62396,5,42166,40105,1,1,1,76000,40500,19900,53600,69100,7500,19167,25000,1,65020,35900,1,110523,105000,10,60000,1,44000,126000,27284,5,38200,71205,111997,91520,10,120000,168771,10,10,1,5,10,16303,17283,138600,1,1,80218,83226,24881,5,5,145173,140000,15,5,99000,83653,41000,11466,22821,5,34772,68104,91280,10,1,79663,18000,86261,38312,45400,62000,48000,83626,9500,91544,49000,150201,104000,138284,145000,70000,67965,13143,39000,129404,1,124923,23900,113100,1,8500,102500,25200,44632,83000,113000,1,119800,28000,109000,94500,45715,122207,80000,13000,74581,74000,47661,46000,105000,150400,99500,6400,27900,180000,12000,90000,7,35991,78000,80700,248564,70294,51000,16606,32400,172007,79200,106385,106071,61500,1700,23000,54155,57414,139900,10,1,13000,67000,56251,4000,119765,49800,79200,61946,167837,42471,101655,116428,1,118000,151000,126000,83000,11000,10000,61000,91287,10,120630,1,5,5,132500,90000,17500,10,46433,10,235254,68828,5,10,41700,49000,64581,78120,22887,72000,31000,10,12848,98317,81843,106200,92357,11788,102700,90100,99890,27719,102500,61000,9,17,115000,18700,22000,17,5,1,10,125127,5,63331,64000,1,1,64000,99739,37760,31650,17,5000,10,5,5,60200,10,173949,60000,1,217000,10,20000,5,1,36000,226947,21800,63000,1,10,1,32143,65000,18000,36000,36367,1,58000,4000,8,46000,5,5,10,161140,45000,1,4,4,100000,74500,13500,1,104095,13602,107682,22070,156800,57000,21300,10,1,66317,87000,130000,164000,40400,64549,99000,69700,69000,1,5,13800,10,96224,129000,12000,253408,10,9400,81088,175939,85548,106176,36100,42500,46200,9347,35235,13923,10,15300,102147,77003,56380,43155,138871,33500,1,116000,104268,1,113500,181000,10000,10,1,10,104042,27136,5,48940,232849,51686,120247,59000,98344,81754,69516,147188,39952,8931,47765,144557,81410,71642,21000,90025,50000,169595,141800,155000,14000,9300,44000,7,65000,243000,109000,119197,161259,65069,105000,20400,58800,100000,98100,41300,199999,52081,52800,62000,1,69423,54326,116628,73860,102090,194000,147000,196000,217000,5,12600,5,14200,5,10,150000,5,1,1,157000,78000,5,5,1,5,119240,5,127000,18000,13000,24000,5,23000,47000,3000,102000,140000,7540,2932,65355,37678,32555,78306,11000,5,151200,5,140000,75000,10,5,5,5,136524,130480,228000,1,25,1,25,1,10,10,10,10,59000,84000,5,14968,115397,5,44220,116979,62530,107082,41942,74900,95151,2112,100305,6500,20948,95500,131331,1,11100,36000,5,36412,142805,87650,5,13605,10,1,23300,1,78000,5,1,16653,102929,63000,54024,37634,76981,25000,115000,4,84648,1,180000,80000,15003,64771,119500,39800,1,10,14700,203677,43500,28000,36200,128112,5,125000,1,40000,115900,31000,7000,45616,45000,32900,233100,10000,34000,46700,18000,1,1,51900,41000,20,4,1,86811,97000,1,4500,95500,77300,10,5,22634,40064,56098,61000,55720,1,26610,1,28769,54535,1,114500,86000,168000,1,68557,1,105000,39000,19160,112000,13000,83000,92000,34498,43753,5,38000,125471,88000,30658,108650,104000,6770,9500,159990,79000,88000,800,30000,43000,23000,87000,34000,252300,249000,5,5,5,120609,5,1,87000,10,6,6,6,103000,6,1,10,63173,60000,134000,1,240000,85100,5,188000,10,49374,30000,10,104000,125000,1,124856,10,10,1,39988,121000,14756,139163,1,91693,84000,20146,6609,10,10,10,54850,6,74623,52886,10,7300,39424,55600,25200,133000,59000,8000,112538,1,133591,5,8,69460,55900,105089,59070,19697,8,142000,5,73351,5,153820,5,5,5,23300,5,275,162000,22422,18000,10,51106,1,138728,5,96000,74089,21600,75,116100,38381,7454,133380,84000,69037,170000,5,1,1,49722,145595,5,17900,75860,10000,5,171000,119000,21000,17883,13000,140000,5,39000,10380,10,5,25300,5,91519,21403,4,23177,10,10,10,16137,787,70723,1,93560,5,5,5,131000,5,42000,109000,4,87000,84943,91000,28000,1,119614,140853,22719,30000,39200,5,48765,17700,10,91000,5,5,63700,4,171611,5,169000,50000,110000,5,163508,10,90000,5,100000,5,5,5,1,42000,5,5,5,11000,1,71010,500,39520,4,5,40783,5,45800,4,159990,40200,28562,74965,10,114362,89304,1,119667,54546,5,5,98000,48000,71000,41000,6500,1,43000,79871,80000,79900,59000,25000,50000,11400,5,5,178000,161288,8,199000,72294,11200,48186,175000,45020,50094,5,206451,95380,82000,52000,5,72000,126000,20000,1,149000,104000,127000,32934,78500,36500,1,79953,146166,29000,1,175500,51705,184000,82882,72200,6500,175000,150000,197121,178558,17500,11500,153486,39279,107346,88000,39000,116000,42941,16000,112000,61000,218338,83000,125000,42000,14577,3000,25400,155000,7500,130000,86000,93335,62000,100000,33307,41000,10,56000,143454,103000,192000,92605,53200,104000,2750,5,79000,67500,1,6416,74000,234000,9200,52400,56000,53468,140000,144000,74320,43000,79125,75300,4366,85020,15852,60000,80064,33000,19000,1400,91400,267300,33000,76000,56700,28700,162000,131000,6800,98000,41983,22561,86200,130000,50000,147000,13148,221000,99500,178000,35000,132100,63000,63000,50118,1,1,128000,27450,140479,20000,51000,95200,56397,50986,14000,34000,129000,90000,31000,30000,5,109917,197000,60232,62818,13000,142000,32650,60000,6200,94400,117034,4200,82000,139000,245000,110000,23000,5,5,81500,5,32000,17000,128000,115000,11136,33000,30000,150000,28000,40000,69500,179000,129000,3200,61193,24890,18600,38000,51000,122000,241000,33000,109000,152600,92000,25800,21000,68140,103445,43155,17700,48000,189000,38111,49000,6800,146000,74058,60000,87000,157000,67436,125224,155553,72000,76000,57699,35700,71000,86000,9800,7200,63000,51000,170000,27851,120000,85000,41381,17000,85232,10,10,10,11200,47800,43708,56525,231983,66832,12600,77710,29900,114532,51000],\"xaxis\":\"x\",\"y\":[67700,59999,40999,54900,83700,108700,64900,88100,48900,28900,72979,34990,106000,40000,61000,35900,57900,59900,35000,53900,89850,58899,39999,101000,83700,96700,99800,64900,34500,44999,53900,81750,39999,84999,61500,44800,99490,109500,107700,111500,22000,102800,98000,40500,17800,14900,38900,89850,27000,97300,86800,69990,28500,99490,79900,79900,65000,49900,29000,27000,26000,35000,27000,68900,42500,96850,27900,64900,29900,19900,42499,87900,83400,32900,79900,92900,97400,112500,45999,38900,43999,89850,31900,25700,39700,86050,81650,46900,17900,77900,49900,35000,62500,51900,53000,34900,22500,46999,96700,56999,42000,31499,19900,54000,108000,107250,50999,65900,41900,32900,28000,33999,44999,19900,44900,73410,76900,39800,108400,95800,102600,39999,38900,92900,49900,66850,39900,62999,55900,49999,46740,34900,101900,46900,89050,66900,66850,59900,67900,39499,53900,59999,91700,73900,85850,75900,49999,88900,92900,59900,76700,79900,85900,25900,62999,20500,76750,66999,101700,84150,107040,60999,72700,76200,80400,64900,59999,87000,51299,53999,51900,51999,30999,47999,35999,39888,66900,65000,14900,66999,75800,83900,81600,27000,69900,44900,68900,58500,76150,95000,23900,94900,48900,57900,47501,44900,39999,27900,28888,68500,38900,51999,43499,58883,70800,84900,37900,81250,75850,41900,28900,65900,63100,43700,33990,60999,79000,45499,35900,77999,103000,107250,107040,46900,58900,50900,107250,79600,27499,67600,63900,84550,78850,54900,36900,32900,64600,82500,77400,84150,16900,39600,19900,81900,28900,66800,26500,67900,67700,111250,97300,67900,62500,108400,50900,38000,23500,67999,81650,84900,44900,48700,49900,95600,75600,39999,49999,54999,37499,69999,39888,49500,68500,79999,24999,66420,31499,41999,108700,25900,31900,45500,32900,92300,38900,62999,40999,45499,87300,69900,101200,47999,31000,69900,33900,69500,34500,33900,16900,25300,92300,28900,45500,111250,83700,72000,96500,71900,22900,96900,32500,101000,49900,72000,14600,28900,32000,82900,107900,107900,36000,109900,46900,39900,39500,61900,49000,97600,83900,73900,35000,46900,35900,63900,23900,52900,73999,49999,44900,71900,54900,61999,98500,111250,62999,67950,47501,61000,48999,87500,59999,54999,94999,53999,67900,45900,41500,17900,101000,61999,57000,49899,62000,34900,98300,83700,23500,101200,79650,40500,58900,101000,109400,30000,71000,101200,74200,24900,56900,41900,90500,83350,64900,59900,44900,101200,14760,66700,64700,39999,71300,93500,39900,89900,36900,72888,95700,43499,48900,54900,64888,73900,59900,86000,42500,94700,88950,83350,61900,42700,18400,46000,59900,80300,80750,83450,80900,83900,65190,58900,72000,48000,63900,32000,92850,63900,70200,48500,66999,75999,53899,46500,83900,79250,68900,56900,22900,74999,43900,45000,107900,64900,55499,97600,52900,60600,47900,56999,101000,96900,49900,68000,75300,46899,33900,41800,82900,54900,34500,47500,46900,83000,27400,59990,107700,62900,110500,86600,82650,90600,100100,109650,107700,32000,97600,100400,80750,54900,74600,74900,69900,33900,42900,42900,55900,101200,43900,37999,55000,71616,52100,89850,37900,61900,7700,43999,65499,42999,46499,44999,52000,71000,59500,34999,43999,85000,84900,87300,78900,26900,27900,61900,18900,49000,49900,44500,29900,48900,37600,111900,32400,41600,31980,60900,31900,37900,59900,43900,57900,36700,46900,61900,42500,40500,46500,92000,32595,88000,46900,24900,36900,99800,66900,59900,26900,64900,39900,51900,59000,49900,34900,46900,61900,76300,94900,85900,68500,43900,17490,94900,40900,87900,87900,107850,72900,55900,39000,57900,46900,76900,79900,75900,45900,64900,80900,57999,66900,92200,101200,48900,97500,34900,64900,85900,73200,69900,36900,64500,39900,56900,23500,25500,58900,56900,75800,42499,44900,90900,63900,9199,107700,54000,78850,37900,28900,65999,79900,79900,29900,34900,27900,75600,48800,44900,83700,85200,90550,72500,96700,74900,65900,45900,71400,71900,32900,39300,59900,80600,79200,66900,57450,101200,83350,57999,72900,12500,74900,37900,91150,67900,27900,37900,72400,96300,64900,62900,49900,62500,69800,42900,47900,45900,29900,54900,39900,52300,72900,54899,31900,53800,55850,64900,48500,38900,89950,27500,21900,43900,92050,37599,37761,50900,69900,42400,29000,100200,59999,33900,14900,42800,47700,37800,70000,47700,28900,45400,55950,33800,38900,31900,42900,51000,54900,28500,38900,49999,97500,33900,33700,44900,21900,48500,63500,43900,44600,46900,47600,17300,26900,42900,92900,44000,63900,54900,39900,107700,107250,48900,38880,50600,79950,57900,61900,64600,36900,48000,64499,40900,46900,79750,41900,41697,45510,55900,82900,71500,69000,69900,67800,64900,87100,83350,81750,49900,58900,72900,67850,63999,109900,34900,60000,95100,85550,64900,34900,35200,49900,81900,25900,64900,91050,64500,59999,62900,30999,59850,86900,54999,38900,34900,42000,35900,39999,101200,71600,28900,45600,63000,71800,77100,72100,86650,43999,101200,41600,25900,78300,89000,44900,28900,59990,35500,71600,87400,74569,90550,101200,59900,96500,52300,64999,86700,39900,86000,25707,74150,85400,24900,36900,72900,33500,108200,107700,81950,44800,48700,19500,64900,64900,83550,43900,81990,76700,79999,79900,87000,83450,54900,58500,83700,70700,72900,62900,54900,59500,103500,58900,73900,17500,81900,48600,71600,70800,89350,80500,36900,26900,68900,39999,55900,54500,21900,33900,44500,83350,99500,74900,70900,61900,34900,69900,29898,110900,29900,65000,63600,50800,61700,64900,64900,59800,64500,78800,73700,88250,74900,35900,57850,34900,45500,44900,64900,83800,18800,45900,84500,41900,62900,54800,101000,89950,88100,58900,18200,71700,63500,46999,27900,63999,66999,45000,59500,36000,32900,66000,46000,44000,48000,50500,43000,48800,61999,24900,43000,36900,36000,99000,72900,42900,88250,50800,32900,41820,46464,49900,67900,35900,39900,48900,42800,23990,39900,6000,52900,62900,53500,89950,62730,77900,41000,49800,31900,42900,34900,25900,25900,72700,79900,92500,83900,88820,88500,38900,71910,88500,73700,39900,69000,80100,72750,83350,95800,55555,89250,29800,69900,73900,65900,88200,28900,25000,35900,29900,44900,74900,86900,36500,36900,60900,53900,77900,80400,47900,73000,31500,45500,88450,96900,96700,90150,46999,49900,42900,99999,71999,98999,75999,98999,88100,96700,94000,81450,79900,41800,83350,76900,47000,83550,62900,45500,54900,39900,69900,48500,59990,94000,60900,49900,87500,44280,49900,96555,72900,59900,66700,64900,39990,61500,84000,74900,80850,99900,94900,93450,24900,100300,107950,67900,46900,54900,44900,64900,40900,91900,42900,107250,52000,83700,51900,59900,97000,69900,23900,37900,97300,107000,71900,41000,61300,49900,52767,57900,107500,47950,78800,41900,49500,26600,23600,67900,18900,61999,26500,66900,59777,65800,58900,81200,101200,79999,57000,99990,75600,98700,36900,62900,101200,80500,43050,52900,85499,87900,69900,77900,45900,66300,69900,75150,69400,89850,64500,62900,89850,42900,34900,34900,95600,42999,65900,43000,25900,62300,29900,28500,56555,54900,29900,72999,84600,46000,35900,22900,62499,41900,28500,34770,41500,42999,38999,22900,75500,26900,62500,39000,57900,27300,39500,19680,83700,66750,98200,44900,78850,67900,32900,99200,72950,78650,80850,55800,81750,72500,97950,58800,36997,28900,78600,29900,67500,67600,33900,97900,35999,65999,73950,21900,42900,75500,31999,105700,80750,88550,70999,44999,36500,44000,67000,27900,49500,84900,64900,85450,88450,88250,14500,101200,54900,67900,82900,69900,59850,79900,82500,59999,59900,55900,60000,82900,53850,81900,95700,65900,68900,29900,16000,105000,89850,22900,89850,69900,94700,40850,93900,102900,105000,74900,97300,71000,55500,74900,56900,78600,72900,71900,52767,88250,45000,59900,53900,79999,39500,65900,84900,49900,44999,29900,34999,97400,83450,91300,57900,42804,87200,74900,17000,67900,96700,45756,28900,34900,67900,69700,44000,83900,35900,74900,96900,86000,74800,97950,54900,92900,74000,74900,83700,87300,67700,77900,77990,59900,107250,53999,111700,67300,70200,68800,105200,67800,47800,72499,67800,66900,25500,81900,71900,29800,56900,72900,74900,64900,83700,33900,94900,95300,34500,76150,93700,35500,71500,18900,88450,19600,47000,32500,101200,44901,94700,39900,101000,31500,94300,84950,98500,100400,69900,93650,66300,65300,75000,102600,54900,80500,9300,73700,95800,57990,94700,44900,65300,25900,43200,34999,60900,90450,46999,59900,97300,72000,39999,87950,83900,52800,34900,43900,24999,82999,109500,24999,39500,45900,46900,63900,40900,36900,41500,112500,109700,34900,38800,101200,48769,32000,79999,57800,39900,41500,64900,97400,19311,37900,23900,39900,107400,79500,34317,29900,72000,26322,64900,57999,32900,47900,36900,89000,39999,47900,24900,81750,39900,66900,34000,68900,54900,27900,39900,46900,29999,27500,23900,19800,44900,60900,42500,31900,37800,25900,41900,9900,58800,67500,49900,30000,41700,59900,69400,61900,73800,36900,69500,59999,42900,34500,25999,21900,39900,42900,110000,57000,30999,48000,30627,99999,59899,33800,88800,73700,19557,54999,79250,64500,29800,29999,69800,55891,20199,14444,17900,22999,49499,32900,32900,58900,84900,43900,41900,39900,37399,16100,37000,35916,46000,20900,36800,15000,59800,40990,32999,39900,49900,45900,47900,69099,29800,58900,59937,32700,69900,30900,32900,27900,65900,34900,56900,35900,53500,107700,96700,49900,43900,25900,22900,34500,43900,46500,31500,62000,26500,44900,30990,33900,55700,94900,34500,28950,30000,51900,59900,54900,49900,17900,66000,46900,18900,73800,45000,42000,44700,55000,29800,87300,83300,42999,111650,39000,63900,23900,15900,19900,69999,42900,58900,25000,33900,42900,41987,32900,39999,36900,85000,57900,53400,60000,53900,16700,42999,39900,61900,42900,26800,45900,36900,14900,42500,22900,32900,22900,22500,59500,40999,41800,43500,6700,61500,47800,33000,25500,34500,57000,61900,67500,25500,59900,43900,69900,59500,44700,27900,34900,19500,59900,53800,49900,42700,32900,91300,75800,75800,63900,39900,69000,59900,17835,63000,37900,45000,38500,43900,34000],\"yaxis\":\"y\",\"type\":\"scattergl\"}],                        {\"template\":{\"data\":{\"bar\":[{\"error_x\":{\"color\":\"#2a3f5f\"},\"error_y\":{\"color\":\"#2a3f5f\"},\"marker\":{\"line\":{\"color\":\"#E5ECF6\",\"width\":0.5},\"pattern\":{\"fillmode\":\"overlay\",\"size\":10,\"solidity\":0.2}},\"type\":\"bar\"}],\"barpolar\":[{\"marker\":{\"line\":{\"color\":\"#E5ECF6\",\"width\":0.5},\"pattern\":{\"fillmode\":\"overlay\",\"size\":10,\"solidity\":0.2}},\"type\":\"barpolar\"}],\"carpet\":[{\"aaxis\":{\"endlinecolor\":\"#2a3f5f\",\"gridcolor\":\"white\",\"linecolor\":\"white\",\"minorgridcolor\":\"white\",\"startlinecolor\":\"#2a3f5f\"},\"baxis\":{\"endlinecolor\":\"#2a3f5f\",\"gridcolor\":\"white\",\"linecolor\":\"white\",\"minorgridcolor\":\"white\",\"startlinecolor\":\"#2a3f5f\"},\"type\":\"carpet\"}],\"choropleth\":[{\"colorbar\":{\"outlinewidth\":0,\"ticks\":\"\"},\"type\":\"choropleth\"}],\"contour\":[{\"colorbar\":{\"outlinewidth\":0,\"ticks\":\"\"},\"colorscale\":[[0.0,\"#0d0887\"],[0.1111111111111111,\"#46039f\"],[0.2222222222222222,\"#7201a8\"],[0.3333333333333333,\"#9c179e\"],[0.4444444444444444,\"#bd3786\"],[0.5555555555555556,\"#d8576b\"],[0.6666666666666666,\"#ed7953\"],[0.7777777777777778,\"#fb9f3a\"],[0.8888888888888888,\"#fdca26\"],[1.0,\"#f0f921\"]],\"type\":\"contour\"}],\"contourcarpet\":[{\"colorbar\":{\"outlinewidth\":0,\"ticks\":\"\"},\"type\":\"contourcarpet\"}],\"heatmap\":[{\"colorbar\":{\"outlinewidth\":0,\"ticks\":\"\"},\"colorscale\":[[0.0,\"#0d0887\"],[0.1111111111111111,\"#46039f\"],[0.2222222222222222,\"#7201a8\"],[0.3333333333333333,\"#9c179e\"],[0.4444444444444444,\"#bd3786\"],[0.5555555555555556,\"#d8576b\"],[0.6666666666666666,\"#ed7953\"],[0.7777777777777778,\"#fb9f3a\"],[0.8888888888888888,\"#fdca26\"],[1.0,\"#f0f921\"]],\"type\":\"heatmap\"}],\"heatmapgl\":[{\"colorbar\":{\"outlinewidth\":0,\"ticks\":\"\"},\"colorscale\":[[0.0,\"#0d0887\"],[0.1111111111111111,\"#46039f\"],[0.2222222222222222,\"#7201a8\"],[0.3333333333333333,\"#9c179e\"],[0.4444444444444444,\"#bd3786\"],[0.5555555555555556,\"#d8576b\"],[0.6666666666666666,\"#ed7953\"],[0.7777777777777778,\"#fb9f3a\"],[0.8888888888888888,\"#fdca26\"],[1.0,\"#f0f921\"]],\"type\":\"heatmapgl\"}],\"histogram\":[{\"marker\":{\"pattern\":{\"fillmode\":\"overlay\",\"size\":10,\"solidity\":0.2}},\"type\":\"histogram\"}],\"histogram2d\":[{\"colorbar\":{\"outlinewidth\":0,\"ticks\":\"\"},\"colorscale\":[[0.0,\"#0d0887\"],[0.1111111111111111,\"#46039f\"],[0.2222222222222222,\"#7201a8\"],[0.3333333333333333,\"#9c179e\"],[0.4444444444444444,\"#bd3786\"],[0.5555555555555556,\"#d8576b\"],[0.6666666666666666,\"#ed7953\"],[0.7777777777777778,\"#fb9f3a\"],[0.8888888888888888,\"#fdca26\"],[1.0,\"#f0f921\"]],\"type\":\"histogram2d\"}],\"histogram2dcontour\":[{\"colorbar\":{\"outlinewidth\":0,\"ticks\":\"\"},\"colorscale\":[[0.0,\"#0d0887\"],[0.1111111111111111,\"#46039f\"],[0.2222222222222222,\"#7201a8\"],[0.3333333333333333,\"#9c179e\"],[0.4444444444444444,\"#bd3786\"],[0.5555555555555556,\"#d8576b\"],[0.6666666666666666,\"#ed7953\"],[0.7777777777777778,\"#fb9f3a\"],[0.8888888888888888,\"#fdca26\"],[1.0,\"#f0f921\"]],\"type\":\"histogram2dcontour\"}],\"mesh3d\":[{\"colorbar\":{\"outlinewidth\":0,\"ticks\":\"\"},\"type\":\"mesh3d\"}],\"parcoords\":[{\"line\":{\"colorbar\":{\"outlinewidth\":0,\"ticks\":\"\"}},\"type\":\"parcoords\"}],\"pie\":[{\"automargin\":true,\"type\":\"pie\"}],\"scatter\":[{\"marker\":{\"colorbar\":{\"outlinewidth\":0,\"ticks\":\"\"}},\"type\":\"scatter\"}],\"scatter3d\":[{\"line\":{\"colorbar\":{\"outlinewidth\":0,\"ticks\":\"\"}},\"marker\":{\"colorbar\":{\"outlinewidth\":0,\"ticks\":\"\"}},\"type\":\"scatter3d\"}],\"scattercarpet\":[{\"marker\":{\"colorbar\":{\"outlinewidth\":0,\"ticks\":\"\"}},\"type\":\"scattercarpet\"}],\"scattergeo\":[{\"marker\":{\"colorbar\":{\"outlinewidth\":0,\"ticks\":\"\"}},\"type\":\"scattergeo\"}],\"scattergl\":[{\"marker\":{\"colorbar\":{\"outlinewidth\":0,\"ticks\":\"\"}},\"type\":\"scattergl\"}],\"scattermapbox\":[{\"marker\":{\"colorbar\":{\"outlinewidth\":0,\"ticks\":\"\"}},\"type\":\"scattermapbox\"}],\"scatterpolar\":[{\"marker\":{\"colorbar\":{\"outlinewidth\":0,\"ticks\":\"\"}},\"type\":\"scatterpolar\"}],\"scatterpolargl\":[{\"marker\":{\"colorbar\":{\"outlinewidth\":0,\"ticks\":\"\"}},\"type\":\"scatterpolargl\"}],\"scatterternary\":[{\"marker\":{\"colorbar\":{\"outlinewidth\":0,\"ticks\":\"\"}},\"type\":\"scatterternary\"}],\"surface\":[{\"colorbar\":{\"outlinewidth\":0,\"ticks\":\"\"},\"colorscale\":[[0.0,\"#0d0887\"],[0.1111111111111111,\"#46039f\"],[0.2222222222222222,\"#7201a8\"],[0.3333333333333333,\"#9c179e\"],[0.4444444444444444,\"#bd3786\"],[0.5555555555555556,\"#d8576b\"],[0.6666666666666666,\"#ed7953\"],[0.7777777777777778,\"#fb9f3a\"],[0.8888888888888888,\"#fdca26\"],[1.0,\"#f0f921\"]],\"type\":\"surface\"}],\"table\":[{\"cells\":{\"fill\":{\"color\":\"#EBF0F8\"},\"line\":{\"color\":\"white\"}},\"header\":{\"fill\":{\"color\":\"#C8D4E3\"},\"line\":{\"color\":\"white\"}},\"type\":\"table\"}]},\"layout\":{\"annotationdefaults\":{\"arrowcolor\":\"#2a3f5f\",\"arrowhead\":0,\"arrowwidth\":1},\"autotypenumbers\":\"strict\",\"coloraxis\":{\"colorbar\":{\"outlinewidth\":0,\"ticks\":\"\"}},\"colorscale\":{\"diverging\":[[0,\"#8e0152\"],[0.1,\"#c51b7d\"],[0.2,\"#de77ae\"],[0.3,\"#f1b6da\"],[0.4,\"#fde0ef\"],[0.5,\"#f7f7f7\"],[0.6,\"#e6f5d0\"],[0.7,\"#b8e186\"],[0.8,\"#7fbc41\"],[0.9,\"#4d9221\"],[1,\"#276419\"]],\"sequential\":[[0.0,\"#0d0887\"],[0.1111111111111111,\"#46039f\"],[0.2222222222222222,\"#7201a8\"],[0.3333333333333333,\"#9c179e\"],[0.4444444444444444,\"#bd3786\"],[0.5555555555555556,\"#d8576b\"],[0.6666666666666666,\"#ed7953\"],[0.7777777777777778,\"#fb9f3a\"],[0.8888888888888888,\"#fdca26\"],[1.0,\"#f0f921\"]],\"sequentialminus\":[[0.0,\"#0d0887\"],[0.1111111111111111,\"#46039f\"],[0.2222222222222222,\"#7201a8\"],[0.3333333333333333,\"#9c179e\"],[0.4444444444444444,\"#bd3786\"],[0.5555555555555556,\"#d8576b\"],[0.6666666666666666,\"#ed7953\"],[0.7777777777777778,\"#fb9f3a\"],[0.8888888888888888,\"#fdca26\"],[1.0,\"#f0f921\"]]},\"colorway\":[\"#636efa\",\"#EF553B\",\"#00cc96\",\"#ab63fa\",\"#FFA15A\",\"#19d3f3\",\"#FF6692\",\"#B6E880\",\"#FF97FF\",\"#FECB52\"],\"font\":{\"color\":\"#2a3f5f\"},\"geo\":{\"bgcolor\":\"white\",\"lakecolor\":\"white\",\"landcolor\":\"#E5ECF6\",\"showlakes\":true,\"showland\":true,\"subunitcolor\":\"white\"},\"hoverlabel\":{\"align\":\"left\"},\"hovermode\":\"closest\",\"mapbox\":{\"style\":\"light\"},\"paper_bgcolor\":\"white\",\"plot_bgcolor\":\"#E5ECF6\",\"polar\":{\"angularaxis\":{\"gridcolor\":\"white\",\"linecolor\":\"white\",\"ticks\":\"\"},\"bgcolor\":\"#E5ECF6\",\"radialaxis\":{\"gridcolor\":\"white\",\"linecolor\":\"white\",\"ticks\":\"\"}},\"scene\":{\"xaxis\":{\"backgroundcolor\":\"#E5ECF6\",\"gridcolor\":\"white\",\"gridwidth\":2,\"linecolor\":\"white\",\"showbackground\":true,\"ticks\":\"\",\"zerolinecolor\":\"white\"},\"yaxis\":{\"backgroundcolor\":\"#E5ECF6\",\"gridcolor\":\"white\",\"gridwidth\":2,\"linecolor\":\"white\",\"showbackground\":true,\"ticks\":\"\",\"zerolinecolor\":\"white\"},\"zaxis\":{\"backgroundcolor\":\"#E5ECF6\",\"gridcolor\":\"white\",\"gridwidth\":2,\"linecolor\":\"white\",\"showbackground\":true,\"ticks\":\"\",\"zerolinecolor\":\"white\"}},\"shapedefaults\":{\"line\":{\"color\":\"#2a3f5f\"}},\"ternary\":{\"aaxis\":{\"gridcolor\":\"white\",\"linecolor\":\"white\",\"ticks\":\"\"},\"baxis\":{\"gridcolor\":\"white\",\"linecolor\":\"white\",\"ticks\":\"\"},\"bgcolor\":\"#E5ECF6\",\"caxis\":{\"gridcolor\":\"white\",\"linecolor\":\"white\",\"ticks\":\"\"}},\"title\":{\"x\":0.05},\"xaxis\":{\"automargin\":true,\"gridcolor\":\"white\",\"linecolor\":\"white\",\"ticks\":\"\",\"title\":{\"standoff\":15},\"zerolinecolor\":\"white\",\"zerolinewidth\":2},\"yaxis\":{\"automargin\":true,\"gridcolor\":\"white\",\"linecolor\":\"white\",\"ticks\":\"\",\"title\":{\"standoff\":15},\"zerolinecolor\":\"white\",\"zerolinewidth\":2}}},\"xaxis\":{\"anchor\":\"y\",\"domain\":[0.0,1.0],\"title\":{\"text\":\"przebieg\"}},\"yaxis\":{\"anchor\":\"x\",\"domain\":[0.0,1.0],\"title\":{\"text\":\"cena\"}},\"coloraxis\":{\"colorbar\":{\"title\":{\"text\":\"flaga_IQR\"}},\"colorscale\":[[0.0,\"#0d0887\"],[0.1111111111111111,\"#46039f\"],[0.2222222222222222,\"#7201a8\"],[0.3333333333333333,\"#9c179e\"],[0.4444444444444444,\"#bd3786\"],[0.5555555555555556,\"#d8576b\"],[0.6666666666666666,\"#ed7953\"],[0.7777777777777778,\"#fb9f3a\"],[0.8888888888888888,\"#fdca26\"],[1.0,\"#f0f921\"]]},\"legend\":{\"tracegroupgap\":0},\"title\":{\"text\":\"Rozrzut cechy - cena a warto\\u015bci odstaj\\u0105ce\"}},                        {\"responsive\": true}                    ).then(function(){\n",
              "                            \n",
              "var gd = document.getElementById('82453e2f-daa2-4f9a-92cd-bfd3d67021a7');\n",
              "var x = new MutationObserver(function (mutations, observer) {{\n",
              "        var display = window.getComputedStyle(gd).display;\n",
              "        if (!display || display === 'none') {{\n",
              "            console.log([gd, 'removed!']);\n",
              "            Plotly.purge(gd);\n",
              "            observer.disconnect();\n",
              "        }}\n",
              "}});\n",
              "\n",
              "// Listen for the removal of the full notebook cells\n",
              "var notebookContainer = gd.closest('#notebook-container');\n",
              "if (notebookContainer) {{\n",
              "    x.observe(notebookContainer, {childList: true});\n",
              "}}\n",
              "\n",
              "// Listen for the clearing of the current output cell\n",
              "var outputEl = gd.closest('.output');\n",
              "if (outputEl) {{\n",
              "    x.observe(outputEl, {childList: true});\n",
              "}}\n",
              "\n",
              "                        })                };                            </script>        </div>\n",
              "</body>\n",
              "</html>"
            ]
          },
          "metadata": {}
        }
      ]
    },
    {
      "cell_type": "code",
      "source": [
        "dane_modelowanie3 = dane_modelowanie2[dane_modelowanie2[\"flaga_IQR\"]==1]\n",
        "dane_modelowanie3.shape"
      ],
      "metadata": {
        "colab": {
          "base_uri": "https://localhost:8080/"
        },
        "id": "_aYxgVCFMWL0",
        "outputId": "21fab0a7-accb-4864-e0af-23724256da96"
      },
      "execution_count": null,
      "outputs": [
        {
          "output_type": "execute_result",
          "data": {
            "text/plain": [
              "(1451, 6)"
            ]
          },
          "metadata": {},
          "execution_count": 25
        }
      ]
    },
    {
      "cell_type": "code",
      "source": [
        "dane_modelowanie3.drop(columns = [\"flaga_IQR\"], inplace = True)"
      ],
      "metadata": {
        "colab": {
          "base_uri": "https://localhost:8080/"
        },
        "id": "PR1nbUrNitR6",
        "outputId": "8343e1be-22b8-4a0f-addb-940d6a0de6bb"
      },
      "execution_count": null,
      "outputs": [
        {
          "output_type": "stream",
          "name": "stderr",
          "text": [
            "/usr/local/lib/python3.8/dist-packages/pandas/core/frame.py:4906: SettingWithCopyWarning:\n",
            "\n",
            "\n",
            "A value is trying to be set on a copy of a slice from a DataFrame\n",
            "\n",
            "See the caveats in the documentation: https://pandas.pydata.org/pandas-docs/stable/user_guide/indexing.html#returning-a-view-versus-a-copy\n",
            "\n"
          ]
        }
      ]
    },
    {
      "cell_type": "code",
      "source": [
        "# sprawdzenie korelacji między zmiennymi\n",
        "korelacja = dane_modelowanie2.corr()\n",
        "f, ax = plt.subplots(figsize=(20, 20))\n",
        "sns.heatmap(korelacja, square = True, annot = True);"
      ],
      "metadata": {
        "colab": {
          "base_uri": "https://localhost:8080/",
          "height": 1000
        },
        "id": "Iu-gsm0kiW9P",
        "outputId": "637e711f-5945-48de-ba43-3a6d68de5164"
      },
      "execution_count": null,
      "outputs": [
        {
          "output_type": "display_data",
          "data": {
            "text/plain": [
              "<Figure size 1440x1440 with 2 Axes>"
            ],
            "image/png": "[encoded data removed]"
          },
          "metadata": {
            "needs_background": "light"
          }
        }
      ]
    },
    {
      "cell_type": "code",
      "source": [],
      "metadata": {
        "id": "022XbDhajbzQ"
      },
      "execution_count": null,
      "outputs": []
    },
    {
      "cell_type": "code",
      "source": [
        "dane_modelowanie3[\"paliwo\"].value_counts()"
      ],
      "metadata": {
        "colab": {
          "base_uri": "https://localhost:8080/"
        },
        "id": "x_Ybmuz5jb_R",
        "outputId": "eb129558-a5a5-42e7-b1a1-2488bc1741dd"
      },
      "execution_count": null,
      "outputs": [
        {
          "output_type": "execute_result",
          "data": {
            "text/plain": [
              "Benzyna        824\n",
              "Benzyna+LPG    374\n",
              "Diesel         238\n",
              "Elektryczny     13\n",
              "Benzyna+CNG      2\n",
              "Name: paliwo, dtype: int64"
            ]
          },
          "metadata": {},
          "execution_count": 29
        }
      ]
    },
    {
      "cell_type": "code",
      "source": [
        "dane_modelowanie4 = dane_modelowanie3[dane_modelowanie3[\"paliwo\"]!=\"Benzyna+CNG\"]"
      ],
      "metadata": {
        "id": "fsne5G4hjwRb"
      },
      "execution_count": null,
      "outputs": []
    },
    {
      "cell_type": "code",
      "source": [
        "# dodanie zmiennej wiek samochodu na podstawie zmiennej przedziałowej oferta_rocznik\n",
        "dane_modelowanie4[\"wiek\"] = datetime.datetime.now().year - dane_modelowanie4[\"rocznik\"]\n",
        "dane_modelowanie4"
      ],
      "metadata": {
        "colab": {
          "base_uri": "https://localhost:8080/",
          "height": 569
        },
        "id": "__wtt4NFj4Lv",
        "outputId": "01a2d59e-838e-44bb-ed79-b4d3a179a53c"
      },
      "execution_count": null,
      "outputs": [
        {
          "output_type": "stream",
          "name": "stderr",
          "text": [
            "<ipython-input-31-099f3cb81213>:4: SettingWithCopyWarning:\n",
            "\n",
            "\n",
            "A value is trying to be set on a copy of a slice from a DataFrame.\n",
            "Try using .loc[row_indexer,col_indexer] = value instead\n",
            "\n",
            "See the caveats in the documentation: https://pandas.pydata.org/pandas-docs/stable/user_guide/indexing.html#returning-a-view-versus-a-copy\n",
            "\n"
          ]
        },
        {
          "output_type": "execute_result",
          "data": {
            "text/plain": [
              "       cena  rocznik  przebieg       paliwo  pojemnosc_silnika  wiek\n",
              "0     67700     2021     18500  Benzyna+LPG              999.0     2\n",
              "2     59999     2018    130000       Diesel             1461.0     5\n",
              "3     40999     2016    128600       Diesel             1461.0     7\n",
              "4     54900     2021     92800  Benzyna+LPG              999.0     2\n",
              "5     83700     2022         1  Benzyna+LPG              999.0     1\n",
              "...     ...      ...       ...          ...                ...   ...\n",
              "1600  37900     2019     12600      Benzyna              999.0     4\n",
              "1601  45000     2015     77710  Benzyna+LPG             1598.0     8\n",
              "1603  38500     2018     29900      Benzyna             1598.0     5\n",
              "1604  43900     2016    114532  Benzyna+LPG             1598.0     7\n",
              "1605  34000     2016     51000       Diesel             1461.0     7\n",
              "\n",
              "[1449 rows x 6 columns]"
            ],
            "text/html": [
              "\n",
              "  <div id=\"df-07adaeaf-674e-43f4-bfbd-7d0ef650642e\">\n",
              "    <div class=\"colab-df-container\">\n",
              "      <div>\n",
              "<style scoped>\n",
              "    .dataframe tbody tr th:only-of-type {\n",
              "        vertical-align: middle;\n",
              "    }\n",
              "\n",
              "    .dataframe tbody tr th {\n",
              "        vertical-align: top;\n",
              "    }\n",
              "\n",
              "    .dataframe thead th {\n",
              "        text-align: right;\n",
              "    }\n",
              "</style>\n",
              "<table border=\"1\" class=\"dataframe\">\n",
              "  <thead>\n",
              "    <tr style=\"text-align: right;\">\n",
              "      <th></th>\n",
              "      <th>cena</th>\n",
              "      <th>rocznik</th>\n",
              "      <th>przebieg</th>\n",
              "      <th>paliwo</th>\n",
              "      <th>pojemnosc_silnika</th>\n",
              "      <th>wiek</th>\n",
              "    </tr>\n",
              "  </thead>\n",
              "  <tbody>\n",
              "    <tr>\n",
              "      <th>0</th>\n",
              "      <td>67700</td>\n",
              "      <td>2021</td>\n",
              "      <td>18500</td>\n",
              "      <td>Benzyna+LPG</td>\n",
              "      <td>999.0</td>\n",
              "      <td>2</td>\n",
              "    </tr>\n",
              "    <tr>\n",
              "      <th>2</th>\n",
              "      <td>59999</td>\n",
              "      <td>2018</td>\n",
              "      <td>130000</td>\n",
              "      <td>Diesel</td>\n",
              "      <td>1461.0</td>\n",
              "      <td>5</td>\n",
              "    </tr>\n",
              "    <tr>\n",
              "      <th>3</th>\n",
              "      <td>40999</td>\n",
              "      <td>2016</td>\n",
              "      <td>128600</td>\n",
              "      <td>Diesel</td>\n",
              "      <td>1461.0</td>\n",
              "      <td>7</td>\n",
              "    </tr>\n",
              "    <tr>\n",
              "      <th>4</th>\n",
              "      <td>54900</td>\n",
              "      <td>2021</td>\n",
              "      <td>92800</td>\n",
              "      <td>Benzyna+LPG</td>\n",
              "      <td>999.0</td>\n",
              "      <td>2</td>\n",
              "    </tr>\n",
              "    <tr>\n",
              "      <th>5</th>\n",
              "      <td>83700</td>\n",
              "      <td>2022</td>\n",
              "      <td>1</td>\n",
              "      <td>Benzyna+LPG</td>\n",
              "      <td>999.0</td>\n",
              "      <td>1</td>\n",
              "    </tr>\n",
              "    <tr>\n",
              "      <th>...</th>\n",
              "      <td>...</td>\n",
              "      <td>...</td>\n",
              "      <td>...</td>\n",
              "      <td>...</td>\n",
              "      <td>...</td>\n",
              "      <td>...</td>\n",
              "    </tr>\n",
              "    <tr>\n",
              "      <th>1600</th>\n",
              "      <td>37900</td>\n",
              "      <td>2019</td>\n",
              "      <td>12600</td>\n",
              "      <td>Benzyna</td>\n",
              "      <td>999.0</td>\n",
              "      <td>4</td>\n",
              "    </tr>\n",
              "    <tr>\n",
              "      <th>1601</th>\n",
              "      <td>45000</td>\n",
              "      <td>2015</td>\n",
              "      <td>77710</td>\n",
              "      <td>Benzyna+LPG</td>\n",
              "      <td>1598.0</td>\n",
              "      <td>8</td>\n",
              "    </tr>\n",
              "    <tr>\n",
              "      <th>1603</th>\n",
              "      <td>38500</td>\n",
              "      <td>2018</td>\n",
              "      <td>29900</td>\n",
              "      <td>Benzyna</td>\n",
              "      <td>1598.0</td>\n",
              "      <td>5</td>\n",
              "    </tr>\n",
              "    <tr>\n",
              "      <th>1604</th>\n",
              "      <td>43900</td>\n",
              "      <td>2016</td>\n",
              "      <td>114532</td>\n",
              "      <td>Benzyna+LPG</td>\n",
              "      <td>1598.0</td>\n",
              "      <td>7</td>\n",
              "    </tr>\n",
              "    <tr>\n",
              "      <th>1605</th>\n",
              "      <td>34000</td>\n",
              "      <td>2016</td>\n",
              "      <td>51000</td>\n",
              "      <td>Diesel</td>\n",
              "      <td>1461.0</td>\n",
              "      <td>7</td>\n",
              "    </tr>\n",
              "  </tbody>\n",
              "</table>\n",
              "<p>1449 rows × 6 columns</p>\n",
              "</div>\n",
              "      <button class=\"colab-df-convert\" onclick=\"convertToInteractive('df-07adaeaf-674e-43f4-bfbd-7d0ef650642e')\"\n",
              "              title=\"Convert this dataframe to an interactive table.\"\n",
              "              style=\"display:none;\">\n",
              "        \n",
              "  <svg xmlns=\"http://www.w3.org/2000/svg\" height=\"24px\"viewBox=\"0 0 24 24\"\n",
              "       width=\"24px\">\n",
              "    <path d=\"M0 0h24v24H0V0z\" fill=\"none\"/>\n",
              "    <path d=\"M18.56 5.44l.94 2.06.94-2.06 2.06-.94-2.06-.94-.94-2.06-.94 2.06-2.06.94zm-11 1L8.5 8.5l.94-2.06 2.06-.94-2.06-.94L8.5 2.5l-.94 2.06-2.06.94zm10 10l.94 2.06.94-2.06 2.06-.94-2.06-.94-.94-2.06-.94 2.06-2.06.94z\"/><path d=\"M17.41 7.96l-1.37-1.37c-.4-.4-.92-.59-1.43-.59-.52 0-1.04.2-1.43.59L10.3 9.45l-7.72 7.72c-.78.78-.78 2.05 0 2.83L4 21.41c.39.39.9.59 1.41.59.51 0 1.02-.2 1.41-.59l7.78-7.78 2.81-2.81c.8-.78.8-2.07 0-2.86zM5.41 20L4 18.59l7.72-7.72 1.47 1.35L5.41 20z\"/>\n",
              "  </svg>\n",
              "      </button>\n",
              "      \n",
              "  <style>\n",
              "    .colab-df-container {\n",
              "      display:flex;\n",
              "      flex-wrap:wrap;\n",
              "      gap: 12px;\n",
              "    }\n",
              "\n",
              "    .colab-df-convert {\n",
              "      background-color: #E8F0FE;\n",
              "      border: none;\n",
              "      border-radius: 50%;\n",
              "      cursor: pointer;\n",
              "      display: none;\n",
              "      fill: #1967D2;\n",
              "      height: 32px;\n",
              "      padding: 0 0 0 0;\n",
              "      width: 32px;\n",
              "    }\n",
              "\n",
              "    .colab-df-convert:hover {\n",
              "      background-color: #E2EBFA;\n",
              "      box-shadow: 0px 1px 2px rgba(60, 64, 67, 0.3), 0px 1px 3px 1px rgba(60, 64, 67, 0.15);\n",
              "      fill: #174EA6;\n",
              "    }\n",
              "\n",
              "    [theme=dark] .colab-df-convert {\n",
              "      background-color: #3B4455;\n",
              "      fill: #D2E3FC;\n",
              "    }\n",
              "\n",
              "    [theme=dark] .colab-df-convert:hover {\n",
              "      background-color: #434B5C;\n",
              "      box-shadow: 0px 1px 3px 1px rgba(0, 0, 0, 0.15);\n",
              "      filter: drop-shadow(0px 1px 2px rgba(0, 0, 0, 0.3));\n",
              "      fill: #FFFFFF;\n",
              "    }\n",
              "  </style>\n",
              "\n",
              "      <script>\n",
              "        const buttonEl =\n",
              "          document.querySelector('#df-07adaeaf-674e-43f4-bfbd-7d0ef650642e button.colab-df-convert');\n",
              "        buttonEl.style.display =\n",
              "          google.colab.kernel.accessAllowed ? 'block' : 'none';\n",
              "\n",
              "        async function convertToInteractive(key) {\n",
              "          const element = document.querySelector('#df-07adaeaf-674e-43f4-bfbd-7d0ef650642e');\n",
              "          const dataTable =\n",
              "            await google.colab.kernel.invokeFunction('convertToInteractive',\n",
              "                                                     [key], {});\n",
              "          if (!dataTable) return;\n",
              "\n",
              "          const docLinkHtml = 'Like what you see? Visit the ' +\n",
              "            '<a target=\"_blank\" href=https://colab.research.google.com/notebooks/data_table.ipynb>data table notebook</a>'\n",
              "            + ' to learn more about interactive tables.';\n",
              "          element.innerHTML = '';\n",
              "          dataTable['output_type'] = 'display_data';\n",
              "          await google.colab.output.renderOutput(dataTable, element);\n",
              "          const docLink = document.createElement('div');\n",
              "          docLink.innerHTML = docLinkHtml;\n",
              "          element.appendChild(docLink);\n",
              "        }\n",
              "      </script>\n",
              "    </div>\n",
              "  </div>\n",
              "  "
            ]
          },
          "metadata": {},
          "execution_count": 31
        }
      ]
    },
    {
      "cell_type": "code",
      "source": [
        "# tworzenie 3 kategorii na podstawie zakresu lat produkcji aut \n",
        "# (mean-odch.std, mean, mean+odch.std)\n",
        "lista_rocznikow = dane_modelowanie3[\"rocznik\"].unique().tolist()\n",
        "print(\"Lista roczników: \", lista_rocznikow)\n",
        "print(\"Średnia z rocznika:\", int(np.mean(lista_rocznikow)), \"oraz odchylenie standardowe rocznika:\", int(np.std(lista_rocznikow)), sep=\" \", end=\"\\n\")\n",
        "zakresy_lat_produkcji = np.digitize(dane_modelowanie4[\"rocznik\"], \n",
        "                                    bins=[int(np.mean(lista_rocznikow) - np.std(lista_rocznikow)),\n",
        "                                          int(np.mean(lista_rocznikow)), \n",
        "                                          int(np.mean(lista_rocznikow) + np.std(lista_rocznikow))])\n",
        "# dodanie kategorii\n",
        "dane_modelowanie4[\"zakresy_lat_produkcji\"] = zakresy_lat_produkcji"
      ],
      "metadata": {
        "colab": {
          "base_uri": "https://localhost:8080/"
        },
        "id": "pS6xRvfEj-bE",
        "outputId": "11c43dbb-541d-473b-d42c-8bef08b00382"
      },
      "execution_count": null,
      "outputs": [
        {
          "output_type": "stream",
          "name": "stdout",
          "text": [
            "Lista roczników:  [2021, 2018, 2016, 2022, 2023, 2017, 2019, 2020, 2015]\n",
            "Średnia z rocznika: 2019 oraz odchylenie standardowe rocznika: 2\n"
          ]
        },
        {
          "output_type": "stream",
          "name": "stderr",
          "text": [
            "<ipython-input-32-b5f90f1a69d8>:11: SettingWithCopyWarning:\n",
            "\n",
            "\n",
            "A value is trying to be set on a copy of a slice from a DataFrame.\n",
            "Try using .loc[row_indexer,col_indexer] = value instead\n",
            "\n",
            "See the caveats in the documentation: https://pandas.pydata.org/pandas-docs/stable/user_guide/indexing.html#returning-a-view-versus-a-copy\n",
            "\n"
          ]
        }
      ]
    },
    {
      "cell_type": "code",
      "source": [
        "# usuwanie rocznik ze zbioru danych\n",
        "dane_modelowanie4.drop(columns=[\"rocznik\"], inplace=True)\n",
        "dane_modelowanie4"
      ],
      "metadata": {
        "colab": {
          "base_uri": "https://localhost:8080/",
          "height": 551
        },
        "id": "GTdXb217kdEb",
        "outputId": "d39b78f4-7945-4a33-e124-61fcca00e766"
      },
      "execution_count": null,
      "outputs": [
        {
          "output_type": "stream",
          "name": "stderr",
          "text": [
            "/usr/local/lib/python3.8/dist-packages/pandas/core/frame.py:4906: SettingWithCopyWarning:\n",
            "\n",
            "\n",
            "A value is trying to be set on a copy of a slice from a DataFrame\n",
            "\n",
            "See the caveats in the documentation: https://pandas.pydata.org/pandas-docs/stable/user_guide/indexing.html#returning-a-view-versus-a-copy\n",
            "\n"
          ]
        },
        {
          "output_type": "execute_result",
          "data": {
            "text/plain": [
              "       cena  przebieg       paliwo  pojemnosc_silnika  wiek  \\\n",
              "0     67700     18500  Benzyna+LPG              999.0     2   \n",
              "2     59999    130000       Diesel             1461.0     5   \n",
              "3     40999    128600       Diesel             1461.0     7   \n",
              "4     54900     92800  Benzyna+LPG              999.0     2   \n",
              "5     83700         1  Benzyna+LPG              999.0     1   \n",
              "...     ...       ...          ...                ...   ...   \n",
              "1600  37900     12600      Benzyna              999.0     4   \n",
              "1601  45000     77710  Benzyna+LPG             1598.0     8   \n",
              "1603  38500     29900      Benzyna             1598.0     5   \n",
              "1604  43900    114532  Benzyna+LPG             1598.0     7   \n",
              "1605  34000     51000       Diesel             1461.0     7   \n",
              "\n",
              "      zakresy_lat_produkcji  \n",
              "0                         3  \n",
              "2                         1  \n",
              "3                         1  \n",
              "4                         3  \n",
              "5                         3  \n",
              "...                     ...  \n",
              "1600                      2  \n",
              "1601                      0  \n",
              "1603                      1  \n",
              "1604                      1  \n",
              "1605                      1  \n",
              "\n",
              "[1449 rows x 6 columns]"
            ],
            "text/html": [
              "\n",
              "  <div id=\"df-ddfd4dec-c247-4913-9833-195ea934d45c\">\n",
              "    <div class=\"colab-df-container\">\n",
              "      <div>\n",
              "<style scoped>\n",
              "    .dataframe tbody tr th:only-of-type {\n",
              "        vertical-align: middle;\n",
              "    }\n",
              "\n",
              "    .dataframe tbody tr th {\n",
              "        vertical-align: top;\n",
              "    }\n",
              "\n",
              "    .dataframe thead th {\n",
              "        text-align: right;\n",
              "    }\n",
              "</style>\n",
              "<table border=\"1\" class=\"dataframe\">\n",
              "  <thead>\n",
              "    <tr style=\"text-align: right;\">\n",
              "      <th></th>\n",
              "      <th>cena</th>\n",
              "      <th>przebieg</th>\n",
              "      <th>paliwo</th>\n",
              "      <th>pojemnosc_silnika</th>\n",
              "      <th>wiek</th>\n",
              "      <th>zakresy_lat_produkcji</th>\n",
              "    </tr>\n",
              "  </thead>\n",
              "  <tbody>\n",
              "    <tr>\n",
              "      <th>0</th>\n",
              "      <td>67700</td>\n",
              "      <td>18500</td>\n",
              "      <td>Benzyna+LPG</td>\n",
              "      <td>999.0</td>\n",
              "      <td>2</td>\n",
              "      <td>3</td>\n",
              "    </tr>\n",
              "    <tr>\n",
              "      <th>2</th>\n",
              "      <td>59999</td>\n",
              "      <td>130000</td>\n",
              "      <td>Diesel</td>\n",
              "      <td>1461.0</td>\n",
              "      <td>5</td>\n",
              "      <td>1</td>\n",
              "    </tr>\n",
              "    <tr>\n",
              "      <th>3</th>\n",
              "      <td>40999</td>\n",
              "      <td>128600</td>\n",
              "      <td>Diesel</td>\n",
              "      <td>1461.0</td>\n",
              "      <td>7</td>\n",
              "      <td>1</td>\n",
              "    </tr>\n",
              "    <tr>\n",
              "      <th>4</th>\n",
              "      <td>54900</td>\n",
              "      <td>92800</td>\n",
              "      <td>Benzyna+LPG</td>\n",
              "      <td>999.0</td>\n",
              "      <td>2</td>\n",
              "      <td>3</td>\n",
              "    </tr>\n",
              "    <tr>\n",
              "      <th>5</th>\n",
              "      <td>83700</td>\n",
              "      <td>1</td>\n",
              "      <td>Benzyna+LPG</td>\n",
              "      <td>999.0</td>\n",
              "      <td>1</td>\n",
              "      <td>3</td>\n",
              "    </tr>\n",
              "    <tr>\n",
              "      <th>...</th>\n",
              "      <td>...</td>\n",
              "      <td>...</td>\n",
              "      <td>...</td>\n",
              "      <td>...</td>\n",
              "      <td>...</td>\n",
              "      <td>...</td>\n",
              "    </tr>\n",
              "    <tr>\n",
              "      <th>1600</th>\n",
              "      <td>37900</td>\n",
              "      <td>12600</td>\n",
              "      <td>Benzyna</td>\n",
              "      <td>999.0</td>\n",
              "      <td>4</td>\n",
              "      <td>2</td>\n",
              "    </tr>\n",
              "    <tr>\n",
              "      <th>1601</th>\n",
              "      <td>45000</td>\n",
              "      <td>77710</td>\n",
              "      <td>Benzyna+LPG</td>\n",
              "      <td>1598.0</td>\n",
              "      <td>8</td>\n",
              "      <td>0</td>\n",
              "    </tr>\n",
              "    <tr>\n",
              "      <th>1603</th>\n",
              "      <td>38500</td>\n",
              "      <td>29900</td>\n",
              "      <td>Benzyna</td>\n",
              "      <td>1598.0</td>\n",
              "      <td>5</td>\n",
              "      <td>1</td>\n",
              "    </tr>\n",
              "    <tr>\n",
              "      <th>1604</th>\n",
              "      <td>43900</td>\n",
              "      <td>114532</td>\n",
              "      <td>Benzyna+LPG</td>\n",
              "      <td>1598.0</td>\n",
              "      <td>7</td>\n",
              "      <td>1</td>\n",
              "    </tr>\n",
              "    <tr>\n",
              "      <th>1605</th>\n",
              "      <td>34000</td>\n",
              "      <td>51000</td>\n",
              "      <td>Diesel</td>\n",
              "      <td>1461.0</td>\n",
              "      <td>7</td>\n",
              "      <td>1</td>\n",
              "    </tr>\n",
              "  </tbody>\n",
              "</table>\n",
              "<p>1449 rows × 6 columns</p>\n",
              "</div>\n",
              "      <button class=\"colab-df-convert\" onclick=\"convertToInteractive('df-ddfd4dec-c247-4913-9833-195ea934d45c')\"\n",
              "              title=\"Convert this dataframe to an interactive table.\"\n",
              "              style=\"display:none;\">\n",
              "        \n",
              "  <svg xmlns=\"http://www.w3.org/2000/svg\" height=\"24px\"viewBox=\"0 0 24 24\"\n",
              "       width=\"24px\">\n",
              "    <path d=\"M0 0h24v24H0V0z\" fill=\"none\"/>\n",
              "    <path d=\"M18.56 5.44l.94 2.06.94-2.06 2.06-.94-2.06-.94-.94-2.06-.94 2.06-2.06.94zm-11 1L8.5 8.5l.94-2.06 2.06-.94-2.06-.94L8.5 2.5l-.94 2.06-2.06.94zm10 10l.94 2.06.94-2.06 2.06-.94-2.06-.94-.94-2.06-.94 2.06-2.06.94z\"/><path d=\"M17.41 7.96l-1.37-1.37c-.4-.4-.92-.59-1.43-.59-.52 0-1.04.2-1.43.59L10.3 9.45l-7.72 7.72c-.78.78-.78 2.05 0 2.83L4 21.41c.39.39.9.59 1.41.59.51 0 1.02-.2 1.41-.59l7.78-7.78 2.81-2.81c.8-.78.8-2.07 0-2.86zM5.41 20L4 18.59l7.72-7.72 1.47 1.35L5.41 20z\"/>\n",
              "  </svg>\n",
              "      </button>\n",
              "      \n",
              "  <style>\n",
              "    .colab-df-container {\n",
              "      display:flex;\n",
              "      flex-wrap:wrap;\n",
              "      gap: 12px;\n",
              "    }\n",
              "\n",
              "    .colab-df-convert {\n",
              "      background-color: #E8F0FE;\n",
              "      border: none;\n",
              "      border-radius: 50%;\n",
              "      cursor: pointer;\n",
              "      display: none;\n",
              "      fill: #1967D2;\n",
              "      height: 32px;\n",
              "      padding: 0 0 0 0;\n",
              "      width: 32px;\n",
              "    }\n",
              "\n",
              "    .colab-df-convert:hover {\n",
              "      background-color: #E2EBFA;\n",
              "      box-shadow: 0px 1px 2px rgba(60, 64, 67, 0.3), 0px 1px 3px 1px rgba(60, 64, 67, 0.15);\n",
              "      fill: #174EA6;\n",
              "    }\n",
              "\n",
              "    [theme=dark] .colab-df-convert {\n",
              "      background-color: #3B4455;\n",
              "      fill: #D2E3FC;\n",
              "    }\n",
              "\n",
              "    [theme=dark] .colab-df-convert:hover {\n",
              "      background-color: #434B5C;\n",
              "      box-shadow: 0px 1px 3px 1px rgba(0, 0, 0, 0.15);\n",
              "      filter: drop-shadow(0px 1px 2px rgba(0, 0, 0, 0.3));\n",
              "      fill: #FFFFFF;\n",
              "    }\n",
              "  </style>\n",
              "\n",
              "      <script>\n",
              "        const buttonEl =\n",
              "          document.querySelector('#df-ddfd4dec-c247-4913-9833-195ea934d45c button.colab-df-convert');\n",
              "        buttonEl.style.display =\n",
              "          google.colab.kernel.accessAllowed ? 'block' : 'none';\n",
              "\n",
              "        async function convertToInteractive(key) {\n",
              "          const element = document.querySelector('#df-ddfd4dec-c247-4913-9833-195ea934d45c');\n",
              "          const dataTable =\n",
              "            await google.colab.kernel.invokeFunction('convertToInteractive',\n",
              "                                                     [key], {});\n",
              "          if (!dataTable) return;\n",
              "\n",
              "          const docLinkHtml = 'Like what you see? Visit the ' +\n",
              "            '<a target=\"_blank\" href=https://colab.research.google.com/notebooks/data_table.ipynb>data table notebook</a>'\n",
              "            + ' to learn more about interactive tables.';\n",
              "          element.innerHTML = '';\n",
              "          dataTable['output_type'] = 'display_data';\n",
              "          await google.colab.output.renderOutput(dataTable, element);\n",
              "          const docLink = document.createElement('div');\n",
              "          docLink.innerHTML = docLinkHtml;\n",
              "          element.appendChild(docLink);\n",
              "        }\n",
              "      </script>\n",
              "    </div>\n",
              "  </div>\n",
              "  "
            ]
          },
          "metadata": {},
          "execution_count": 33
        }
      ]
    },
    {
      "cell_type": "code",
      "source": [
        "dane_modelowanie5 = pd.get_dummies(dane_modelowanie4, columns=[\"paliwo\", \"zakresy_lat_produkcji\"], prefix_sep=\"_\")\n",
        "dane_modelowanie5"
      ],
      "metadata": {
        "colab": {
          "base_uri": "https://localhost:8080/",
          "height": 487
        },
        "id": "0Uyohwjbk7kr",
        "outputId": "4df90e29-d208-47a5-fbf7-aa654548497b"
      },
      "execution_count": null,
      "outputs": [
        {
          "output_type": "execute_result",
          "data": {
            "text/plain": [
              "       cena  przebieg  pojemnosc_silnika  wiek  paliwo_Benzyna  \\\n",
              "0     67700     18500              999.0     2               0   \n",
              "2     59999    130000             1461.0     5               0   \n",
              "3     40999    128600             1461.0     7               0   \n",
              "4     54900     92800              999.0     2               0   \n",
              "5     83700         1              999.0     1               0   \n",
              "...     ...       ...                ...   ...             ...   \n",
              "1600  37900     12600              999.0     4               1   \n",
              "1601  45000     77710             1598.0     8               0   \n",
              "1603  38500     29900             1598.0     5               1   \n",
              "1604  43900    114532             1598.0     7               0   \n",
              "1605  34000     51000             1461.0     7               0   \n",
              "\n",
              "      paliwo_Benzyna+LPG  paliwo_Diesel  paliwo_Elektryczny  \\\n",
              "0                      1              0                   0   \n",
              "2                      0              1                   0   \n",
              "3                      0              1                   0   \n",
              "4                      1              0                   0   \n",
              "5                      1              0                   0   \n",
              "...                  ...            ...                 ...   \n",
              "1600                   0              0                   0   \n",
              "1601                   1              0                   0   \n",
              "1603                   0              0                   0   \n",
              "1604                   1              0                   0   \n",
              "1605                   0              1                   0   \n",
              "\n",
              "      zakresy_lat_produkcji_0  zakresy_lat_produkcji_1  \\\n",
              "0                           0                        0   \n",
              "2                           0                        1   \n",
              "3                           0                        1   \n",
              "4                           0                        0   \n",
              "5                           0                        0   \n",
              "...                       ...                      ...   \n",
              "1600                        0                        0   \n",
              "1601                        1                        0   \n",
              "1603                        0                        1   \n",
              "1604                        0                        1   \n",
              "1605                        0                        1   \n",
              "\n",
              "      zakresy_lat_produkcji_2  zakresy_lat_produkcji_3  \n",
              "0                           0                        1  \n",
              "2                           0                        0  \n",
              "3                           0                        0  \n",
              "4                           0                        1  \n",
              "5                           0                        1  \n",
              "...                       ...                      ...  \n",
              "1600                        1                        0  \n",
              "1601                        0                        0  \n",
              "1603                        0                        0  \n",
              "1604                        0                        0  \n",
              "1605                        0                        0  \n",
              "\n",
              "[1449 rows x 12 columns]"
            ],
            "text/html": [
              "\n",
              "  <div id=\"df-871f3f35-ee9d-4a0c-a9c2-ef2dd85d1fdb\">\n",
              "    <div class=\"colab-df-container\">\n",
              "      <div>\n",
              "<style scoped>\n",
              "    .dataframe tbody tr th:only-of-type {\n",
              "        vertical-align: middle;\n",
              "    }\n",
              "\n",
              "    .dataframe tbody tr th {\n",
              "        vertical-align: top;\n",
              "    }\n",
              "\n",
              "    .dataframe thead th {\n",
              "        text-align: right;\n",
              "    }\n",
              "</style>\n",
              "<table border=\"1\" class=\"dataframe\">\n",
              "  <thead>\n",
              "    <tr style=\"text-align: right;\">\n",
              "      <th></th>\n",
              "      <th>cena</th>\n",
              "      <th>przebieg</th>\n",
              "      <th>pojemnosc_silnika</th>\n",
              "      <th>wiek</th>\n",
              "      <th>paliwo_Benzyna</th>\n",
              "      <th>paliwo_Benzyna+LPG</th>\n",
              "      <th>paliwo_Diesel</th>\n",
              "      <th>paliwo_Elektryczny</th>\n",
              "      <th>zakresy_lat_produkcji_0</th>\n",
              "      <th>zakresy_lat_produkcji_1</th>\n",
              "      <th>zakresy_lat_produkcji_2</th>\n",
              "      <th>zakresy_lat_produkcji_3</th>\n",
              "    </tr>\n",
              "  </thead>\n",
              "  <tbody>\n",
              "    <tr>\n",
              "      <th>0</th>\n",
              "      <td>67700</td>\n",
              "      <td>18500</td>\n",
              "      <td>999.0</td>\n",
              "      <td>2</td>\n",
              "      <td>0</td>\n",
              "      <td>1</td>\n",
              "      <td>0</td>\n",
              "      <td>0</td>\n",
              "      <td>0</td>\n",
              "      <td>0</td>\n",
              "      <td>0</td>\n",
              "      <td>1</td>\n",
              "    </tr>\n",
              "    <tr>\n",
              "      <th>2</th>\n",
              "      <td>59999</td>\n",
              "      <td>130000</td>\n",
              "      <td>1461.0</td>\n",
              "      <td>5</td>\n",
              "      <td>0</td>\n",
              "      <td>0</td>\n",
              "      <td>1</td>\n",
              "      <td>0</td>\n",
              "      <td>0</td>\n",
              "      <td>1</td>\n",
              "      <td>0</td>\n",
              "      <td>0</td>\n",
              "    </tr>\n",
              "    <tr>\n",
              "      <th>3</th>\n",
              "      <td>40999</td>\n",
              "      <td>128600</td>\n",
              "      <td>1461.0</td>\n",
              "      <td>7</td>\n",
              "      <td>0</td>\n",
              "      <td>0</td>\n",
              "      <td>1</td>\n",
              "      <td>0</td>\n",
              "      <td>0</td>\n",
              "      <td>1</td>\n",
              "      <td>0</td>\n",
              "      <td>0</td>\n",
              "    </tr>\n",
              "    <tr>\n",
              "      <th>4</th>\n",
              "      <td>54900</td>\n",
              "      <td>92800</td>\n",
              "      <td>999.0</td>\n",
              "      <td>2</td>\n",
              "      <td>0</td>\n",
              "      <td>1</td>\n",
              "      <td>0</td>\n",
              "      <td>0</td>\n",
              "      <td>0</td>\n",
              "      <td>0</td>\n",
              "      <td>0</td>\n",
              "      <td>1</td>\n",
              "    </tr>\n",
              "    <tr>\n",
              "      <th>5</th>\n",
              "      <td>83700</td>\n",
              "      <td>1</td>\n",
              "      <td>999.0</td>\n",
              "      <td>1</td>\n",
              "      <td>0</td>\n",
              "      <td>1</td>\n",
              "      <td>0</td>\n",
              "      <td>0</td>\n",
              "      <td>0</td>\n",
              "      <td>0</td>\n",
              "      <td>0</td>\n",
              "      <td>1</td>\n",
              "    </tr>\n",
              "    <tr>\n",
              "      <th>...</th>\n",
              "      <td>...</td>\n",
              "      <td>...</td>\n",
              "      <td>...</td>\n",
              "      <td>...</td>\n",
              "      <td>...</td>\n",
              "      <td>...</td>\n",
              "      <td>...</td>\n",
              "      <td>...</td>\n",
              "      <td>...</td>\n",
              "      <td>...</td>\n",
              "      <td>...</td>\n",
              "      <td>...</td>\n",
              "    </tr>\n",
              "    <tr>\n",
              "      <th>1600</th>\n",
              "      <td>37900</td>\n",
              "      <td>12600</td>\n",
              "      <td>999.0</td>\n",
              "      <td>4</td>\n",
              "      <td>1</td>\n",
              "      <td>0</td>\n",
              "      <td>0</td>\n",
              "      <td>0</td>\n",
              "      <td>0</td>\n",
              "      <td>0</td>\n",
              "      <td>1</td>\n",
              "      <td>0</td>\n",
              "    </tr>\n",
              "    <tr>\n",
              "      <th>1601</th>\n",
              "      <td>45000</td>\n",
              "      <td>77710</td>\n",
              "      <td>1598.0</td>\n",
              "      <td>8</td>\n",
              "      <td>0</td>\n",
              "      <td>1</td>\n",
              "      <td>0</td>\n",
              "      <td>0</td>\n",
              "      <td>1</td>\n",
              "      <td>0</td>\n",
              "      <td>0</td>\n",
              "      <td>0</td>\n",
              "    </tr>\n",
              "    <tr>\n",
              "      <th>1603</th>\n",
              "      <td>38500</td>\n",
              "      <td>29900</td>\n",
              "      <td>1598.0</td>\n",
              "      <td>5</td>\n",
              "      <td>1</td>\n",
              "      <td>0</td>\n",
              "      <td>0</td>\n",
              "      <td>0</td>\n",
              "      <td>0</td>\n",
              "      <td>1</td>\n",
              "      <td>0</td>\n",
              "      <td>0</td>\n",
              "    </tr>\n",
              "    <tr>\n",
              "      <th>1604</th>\n",
              "      <td>43900</td>\n",
              "      <td>114532</td>\n",
              "      <td>1598.0</td>\n",
              "      <td>7</td>\n",
              "      <td>0</td>\n",
              "      <td>1</td>\n",
              "      <td>0</td>\n",
              "      <td>0</td>\n",
              "      <td>0</td>\n",
              "      <td>1</td>\n",
              "      <td>0</td>\n",
              "      <td>0</td>\n",
              "    </tr>\n",
              "    <tr>\n",
              "      <th>1605</th>\n",
              "      <td>34000</td>\n",
              "      <td>51000</td>\n",
              "      <td>1461.0</td>\n",
              "      <td>7</td>\n",
              "      <td>0</td>\n",
              "      <td>0</td>\n",
              "      <td>1</td>\n",
              "      <td>0</td>\n",
              "      <td>0</td>\n",
              "      <td>1</td>\n",
              "      <td>0</td>\n",
              "      <td>0</td>\n",
              "    </tr>\n",
              "  </tbody>\n",
              "</table>\n",
              "<p>1449 rows × 12 columns</p>\n",
              "</div>\n",
              "      <button class=\"colab-df-convert\" onclick=\"convertToInteractive('df-871f3f35-ee9d-4a0c-a9c2-ef2dd85d1fdb')\"\n",
              "              title=\"Convert this dataframe to an interactive table.\"\n",
              "              style=\"display:none;\">\n",
              "        \n",
              "  <svg xmlns=\"http://www.w3.org/2000/svg\" height=\"24px\"viewBox=\"0 0 24 24\"\n",
              "       width=\"24px\">\n",
              "    <path d=\"M0 0h24v24H0V0z\" fill=\"none\"/>\n",
              "    <path d=\"M18.56 5.44l.94 2.06.94-2.06 2.06-.94-2.06-.94-.94-2.06-.94 2.06-2.06.94zm-11 1L8.5 8.5l.94-2.06 2.06-.94-2.06-.94L8.5 2.5l-.94 2.06-2.06.94zm10 10l.94 2.06.94-2.06 2.06-.94-2.06-.94-.94-2.06-.94 2.06-2.06.94z\"/><path d=\"M17.41 7.96l-1.37-1.37c-.4-.4-.92-.59-1.43-.59-.52 0-1.04.2-1.43.59L10.3 9.45l-7.72 7.72c-.78.78-.78 2.05 0 2.83L4 21.41c.39.39.9.59 1.41.59.51 0 1.02-.2 1.41-.59l7.78-7.78 2.81-2.81c.8-.78.8-2.07 0-2.86zM5.41 20L4 18.59l7.72-7.72 1.47 1.35L5.41 20z\"/>\n",
              "  </svg>\n",
              "      </button>\n",
              "      \n",
              "  <style>\n",
              "    .colab-df-container {\n",
              "      display:flex;\n",
              "      flex-wrap:wrap;\n",
              "      gap: 12px;\n",
              "    }\n",
              "\n",
              "    .colab-df-convert {\n",
              "      background-color: #E8F0FE;\n",
              "      border: none;\n",
              "      border-radius: 50%;\n",
              "      cursor: pointer;\n",
              "      display: none;\n",
              "      fill: #1967D2;\n",
              "      height: 32px;\n",
              "      padding: 0 0 0 0;\n",
              "      width: 32px;\n",
              "    }\n",
              "\n",
              "    .colab-df-convert:hover {\n",
              "      background-color: #E2EBFA;\n",
              "      box-shadow: 0px 1px 2px rgba(60, 64, 67, 0.3), 0px 1px 3px 1px rgba(60, 64, 67, 0.15);\n",
              "      fill: #174EA6;\n",
              "    }\n",
              "\n",
              "    [theme=dark] .colab-df-convert {\n",
              "      background-color: #3B4455;\n",
              "      fill: #D2E3FC;\n",
              "    }\n",
              "\n",
              "    [theme=dark] .colab-df-convert:hover {\n",
              "      background-color: #434B5C;\n",
              "      box-shadow: 0px 1px 3px 1px rgba(0, 0, 0, 0.15);\n",
              "      filter: drop-shadow(0px 1px 2px rgba(0, 0, 0, 0.3));\n",
              "      fill: #FFFFFF;\n",
              "    }\n",
              "  </style>\n",
              "\n",
              "      <script>\n",
              "        const buttonEl =\n",
              "          document.querySelector('#df-871f3f35-ee9d-4a0c-a9c2-ef2dd85d1fdb button.colab-df-convert');\n",
              "        buttonEl.style.display =\n",
              "          google.colab.kernel.accessAllowed ? 'block' : 'none';\n",
              "\n",
              "        async function convertToInteractive(key) {\n",
              "          const element = document.querySelector('#df-871f3f35-ee9d-4a0c-a9c2-ef2dd85d1fdb');\n",
              "          const dataTable =\n",
              "            await google.colab.kernel.invokeFunction('convertToInteractive',\n",
              "                                                     [key], {});\n",
              "          if (!dataTable) return;\n",
              "\n",
              "          const docLinkHtml = 'Like what you see? Visit the ' +\n",
              "            '<a target=\"_blank\" href=https://colab.research.google.com/notebooks/data_table.ipynb>data table notebook</a>'\n",
              "            + ' to learn more about interactive tables.';\n",
              "          element.innerHTML = '';\n",
              "          dataTable['output_type'] = 'display_data';\n",
              "          await google.colab.output.renderOutput(dataTable, element);\n",
              "          const docLink = document.createElement('div');\n",
              "          docLink.innerHTML = docLinkHtml;\n",
              "          element.appendChild(docLink);\n",
              "        }\n",
              "      </script>\n",
              "    </div>\n",
              "  </div>\n",
              "  "
            ]
          },
          "metadata": {},
          "execution_count": 34
        }
      ]
    },
    {
      "cell_type": "code",
      "source": [
        "# sprawdzenie korelacji między zmiennymi - całkowita\n",
        "korelacja = dane_modelowanie5.corr().abs()\n",
        "f, ax = plt.subplots(figsize=(20, 20))\n",
        "sns.heatmap(korelacja, square = True, annot = True);"
      ],
      "metadata": {
        "colab": {
          "base_uri": "https://localhost:8080/",
          "height": 1000
        },
        "id": "WpAUJ-M0k7qQ",
        "outputId": "b64b4b3e-17c2-49e2-ffa6-cd9c4823fb9c"
      },
      "execution_count": null,
      "outputs": [
        {
          "output_type": "display_data",
          "data": {
            "text/plain": [
              "<Figure size 1440x1440 with 2 Axes>"
            ],
            "image/png": "[encoded data removed]"
          },
          "metadata": {
            "needs_background": "light"
          }
        }
      ]
    },
    {
      "cell_type": "code",
      "source": [
        "# zdefiniowanie macierzy do filtrowania\n",
        "macierz_filter = np.triu(np.ones(korelacja.shape), k=1).astype(np.bool)\n",
        "\n",
        "# wybranie górnej części trójkąta w macierzy korelacji\n",
        "gorny_trojkat = korelacja.where(macierz_filter)\n",
        "\n",
        "# zdefiniowanie indeksów kolumn o korelacji powyżej 0.9\n",
        "indeks_mocna_korelacja = [kolumna for kolumna in gorny_trojkat.columns if any(gorny_trojkat[kolumna] > 0.8)]\n",
        "print(indeks_mocna_korelacja)"
      ],
      "metadata": {
        "colab": {
          "base_uri": "https://localhost:8080/"
        },
        "id": "isrFe_rlk7sm",
        "outputId": "e7a9e0ec-2712-4170-a1b4-cc47cdb93146"
      },
      "execution_count": null,
      "outputs": [
        {
          "output_type": "stream",
          "name": "stdout",
          "text": [
            "['zakresy_lat_produkcji_3']\n"
          ]
        },
        {
          "output_type": "stream",
          "name": "stderr",
          "text": [
            "<ipython-input-38-601eea0c6fdd>:2: DeprecationWarning:\n",
            "\n",
            "`np.bool` is a deprecated alias for the builtin `bool`. To silence this warning, use `bool` by itself. Doing this will not modify any behavior and is safe. If you specifically wanted the numpy scalar type, use `np.bool_` here.\n",
            "Deprecated in NumPy 1.20; for more details and guidance: https://numpy.org/devdocs/release/1.20.0-notes.html#deprecations\n",
            "\n"
          ]
        }
      ]
    },
    {
      "cell_type": "code",
      "source": [
        "dane_modelowanie5.drop(columns=indeks_mocna_korelacja, inplace=True)"
      ],
      "metadata": {
        "id": "-BW4FDWUk7vE"
      },
      "execution_count": null,
      "outputs": []
    },
    {
      "cell_type": "code",
      "source": [
        "dane_modelowanie5.to_csv(\"dane_modelowanie5.csv\", index=False)"
      ],
      "metadata": {
        "id": "i19aaLD0RBzo"
      },
      "execution_count": null,
      "outputs": []
    },
    {
      "cell_type": "code",
      "source": [
        "\n",
        "dane_modelowanie5 = pd.read_csv(\"dane_modelowanie5.csv\")"
      ],
      "metadata": {
        "id": "d6gOAicuwbAa"
      },
      "execution_count": 2,
      "outputs": []
    },
    {
      "cell_type": "code",
      "source": [
        "# tworzenie zbiorów\n",
        "X = dane_modelowanie5.drop(columns = [\"cena\"])\n",
        "y = dane_modelowanie5[\"cena\"]\n",
        "\n",
        "# tworzenie zbiorów uczący i testowy\n",
        "X_uczacy, X_testowy, y_uczacy, y_testowy = model_selection.train_test_split(X, \n",
        "                                                                            y.values, \n",
        "                                                                            test_size = .2, \n",
        "                                                                            random_state = 2020)"
      ],
      "metadata": {
        "id": "t87gANPUlxxK"
      },
      "execution_count": 3,
      "outputs": []
    },
    {
      "cell_type": "code",
      "source": [
        "X_uczacy.info()"
      ],
      "metadata": {
        "colab": {
          "base_uri": "https://localhost:8080/"
        },
        "id": "6X8EPJ6cmKEU",
        "outputId": "4f438422-b222-4abe-d32a-0aa2449a8590"
      },
      "execution_count": null,
      "outputs": [
        {
          "output_type": "stream",
          "name": "stdout",
          "text": [
            "<class 'pandas.core.frame.DataFrame'>\n",
            "Int64Index: 1276 entries, 737 to 869\n",
            "Data columns (total 10 columns):\n",
            " #   Column                   Non-Null Count  Dtype  \n",
            "---  ------                   --------------  -----  \n",
            " 0   przebieg                 1276 non-null   int64  \n",
            " 1   pojemnosc_silnika        1276 non-null   float64\n",
            " 2   wiek                     1276 non-null   int64  \n",
            " 3   paliwo_Benzyna           1276 non-null   uint8  \n",
            " 4   paliwo_Benzyna+LPG       1276 non-null   uint8  \n",
            " 5   paliwo_Diesel            1276 non-null   uint8  \n",
            " 6   paliwo_Elektryczny       1276 non-null   uint8  \n",
            " 7   zakresy_lat_produkcji_0  1276 non-null   uint8  \n",
            " 8   zakresy_lat_produkcji_1  1276 non-null   uint8  \n",
            " 9   zakresy_lat_produkcji_2  1276 non-null   uint8  \n",
            "dtypes: float64(1), int64(2), uint8(7)\n",
            "memory usage: 48.6 KB\n"
          ]
        }
      ]
    },
    {
      "cell_type": "code",
      "source": [
        "# standaryzowanie cech objaśniających\n",
        "standaryzacja = preprocessing.StandardScaler()\n",
        "fit_stand = standaryzacja.fit(X_uczacy)\n",
        "X_uczacy_stand = fit_stand.transform(X_uczacy)\n",
        "X_testowy_stand = fit_stand.transform(X_testowy)\n",
        "\n"
      ],
      "metadata": {
        "id": "DplAY7DfmOP3"
      },
      "execution_count": 6,
      "outputs": []
    },
    {
      "cell_type": "code",
      "source": [
        "#wyuczenie modelu\n"
      ],
      "metadata": {
        "id": "wZovqCeqOqG_"
      },
      "execution_count": null,
      "outputs": []
    },
    {
      "cell_type": "code",
      "source": [
        "# przygotowanie modelu Regresji Liniowej\n",
        "model_rl = linear_model.LinearRegression()\n",
        "model_rl.fit(X_uczacy_stand, y_uczacy)"
      ],
      "metadata": {
        "colab": {
          "base_uri": "https://localhost:8080/"
        },
        "id": "iRrvtcBljQFC",
        "outputId": "29fbbfda-f117-4faf-cec1-b25aa90360e2"
      },
      "execution_count": 7,
      "outputs": [
        {
          "output_type": "execute_result",
          "data": {
            "text/plain": [
              "LinearRegression()"
            ]
          },
          "metadata": {},
          "execution_count": 7
        }
      ]
    },
    {
      "cell_type": "code",
      "source": [
        "# predykcja\n",
        "print(\"Predykcja:\", model_rl.predict([X_testowy_stand[1]]))\n",
        "print(\"Wartość rzeczywista:\", y_testowy[1])\n",
        "print(\"Odchylenie przedykcji:\", ((model_rl.predict([X_testowy_stand[1]])-y_testowy[1])/model_rl.predict([X_testowy_stand[1]]))*100, \"%\")"
      ],
      "metadata": {
        "colab": {
          "base_uri": "https://localhost:8080/"
        },
        "id": "nL7fdzPGjXMs",
        "outputId": "5c27d38e-4e74-48b2-9174-043cb7eb04ea"
      },
      "execution_count": 10,
      "outputs": [
        {
          "output_type": "stream",
          "name": "stdout",
          "text": [
            "Predykcja: [54310.45054589]\n",
            "Wartość rzeczywista: 61900\n",
            "Odchylenie przedykcji: [-13.97438132] %\n"
          ]
        }
      ]
    },
    {
      "cell_type": "code",
      "source": [
        "\n",
        "#Mean Squared Error (MSE) - błąd średniokwadratowy na całym zbiorze testowym\n",
        "predykcja_model_rl = model_rl.predict(X_testowy_stand)\n",
        "rl_mse = metrics.mean_squared_error(y_testowy, predykcja_model_rl)\n",
        "print(\"MSE - LinearRegression: \", rl_mse)\n",
        "\n",
        "#odchylenia średniej kwadradowej od wartości rzeczywistej \n",
        "# Root Mean Square Error (RMSE)\n",
        "rl_rmse = np.sqrt(rl_mse)\n",
        "print(\"RMSE - LinearRegression: \", rl_rmse)"
      ],
      "metadata": {
        "colab": {
          "base_uri": "https://localhost:8080/"
        },
        "id": "kMDDbUBfjlio",
        "outputId": "90be8a2f-4bf9-4bb2-c417-4c540b573a61"
      },
      "execution_count": 12,
      "outputs": [
        {
          "output_type": "stream",
          "name": "stdout",
          "text": [
            "MSE - LinearRegression:  157003091.5121968\n",
            "RMSE - LinearRegression:  12530.087450301247\n"
          ]
        }
      ]
    },
    {
      "cell_type": "code",
      "source": [
        "# przygotowanie modelu DecisionTreeRegressor()\n",
        "model_dtr = tree.DecisionTreeRegressor()\n",
        "model_dtr.fit(X_uczacy_stand, y_uczacy)\n",
        "\n",
        "# obliczenie Mean Squared Error (MSE) - błąd średniokwadratowy na całym zbiorze testowym\n",
        "predykcja_model_dtr = model_dtr.predict(X_testowy_stand)\n",
        "dtr_mse = metrics.mean_squared_error(y_testowy, predykcja_model_dtr)\n",
        "print(\"MSE - DecisionTreeRegressor: \", dtr_mse)\n",
        "\n",
        "# obliczenie odchylenia średniej kwadradowej od wartości rzeczywistej \n",
        "# Root Mean Square Error (RMSE) - pierwiastek błędu średniokwadratowego\n",
        "dtr_rmse = np.sqrt(dtr_mse)\n",
        "print(\"RMSE - DecisionTreeRegressor: \", dtr_rmse) "
      ],
      "metadata": {
        "colab": {
          "base_uri": "https://localhost:8080/"
        },
        "id": "6G29QjDSjvKa",
        "outputId": "c388a4b8-21a7-4a42-a931-1d5c39c2dd24"
      },
      "execution_count": 13,
      "outputs": [
        {
          "output_type": "stream",
          "name": "stdout",
          "text": [
            "MSE - DecisionTreeRegressor:  249791382.36521176\n",
            "RMSE - DecisionTreeRegressor:  15804.789855142388\n"
          ]
        }
      ]
    },
    {
      "cell_type": "code",
      "source": [
        "#walidacja modelu"
      ],
      "metadata": {
        "id": "0TJxBFolj81G"
      },
      "execution_count": null,
      "outputs": []
    },
    {
      "cell_type": "code",
      "source": [
        "\n",
        "standaryzacja = preprocessing.StandardScaler()\n",
        "algo = linear_model.LinearRegression()\n",
        "parametr = pipeline.make_pipeline(standaryzacja, algo)\n",
        "\n",
        "# zdefiniowanie metody walidacji modelu\n",
        "walidacja = model_selection.KFold(n_splits=10, shuffle=True, random_state=2020)"
      ],
      "metadata": {
        "id": "v28xJOXvkzLW"
      },
      "execution_count": 14,
      "outputs": []
    },
    {
      "cell_type": "code",
      "source": [
        "# krzyżowa walidacja modelu\n",
        "neg_MSE = model_selection.cross_val_score(parametr, \n",
        "                                                    X_uczacy,\n",
        "                                                    y_uczacy,\n",
        "                                                    cv = walidacja,\n",
        "                                                    scoring = \"neg_mean_squared_error\",\n",
        "                                                    n_jobs = -1)\n",
        "\n",
        "RMSE = np.sqrt(-neg_MSE)\n",
        "print(\"Średnia wartość RMSE- LinearRegression: \", RMSE.mean())\n",
        "print(\"Mediana wartość RMSE - LinearRegression: \", np.median(RMSE))\n",
        "print(\"Odchylenie standardowe RMSE - LinearRegression: \", RMSE.std())"
      ],
      "metadata": {
        "colab": {
          "base_uri": "https://localhost:8080/"
        },
        "id": "DceDDWzvlD7d",
        "outputId": "8c875d4f-2bb9-4522-ef26-c738ae5b261c"
      },
      "execution_count": 15,
      "outputs": [
        {
          "output_type": "stream",
          "name": "stdout",
          "text": [
            "Średnia wartość RMSE- LinearRegression:  11931.231244161481\n",
            "Mediana wartość RMSE - LinearRegression:  12111.392533394774\n",
            "Odchylenie standardowe RMSE - LinearRegression:  1110.1771630149526\n"
          ]
        }
      ]
    },
    {
      "cell_type": "code",
      "source": [
        "#DecisionTreeRegressor()\n",
        "standaryzacja = preprocessing.StandardScaler()\n",
        "algo = tree.DecisionTreeRegressor(random_state=2020)\n",
        "parametr = pipeline.make_pipeline(standaryzacja, algo)\n",
        "walidacja = model_selection.KFold(n_splits=10, shuffle=True, random_state=2020)\n",
        "neg_MSE_dtr = model_selection.cross_val_score(parametr, \n",
        "                                                        X_uczacy,\n",
        "                                                        y_uczacy,\n",
        "                                                        cv = walidacja,\n",
        "                                                        scoring = \"neg_mean_squared_error\",\n",
        "                                                        n_jobs = -1)\n",
        "\n",
        "\n",
        "RMSE_dtr = np.sqrt(-neg_MSE_dtr)\n",
        "\n",
        "print(\"Średnia wartość RMSE - DecisionTreeRegressor: \", RMSE_dtr.mean())\n",
        "print(\"Mediana wartość RMSE - DecisionTreeRegressor: \", np.median(RMSE_dtr))\n",
        "print(\"Odchylenie standardowe RMSE - DecisionTreeRegressor: \", RMSE_dtr.std())"
      ],
      "metadata": {
        "colab": {
          "base_uri": "https://localhost:8080/"
        },
        "id": "iXVT7yvylchT",
        "outputId": "658b2c38-4e26-40ad-9c25-061afc75ccf9"
      },
      "execution_count": 16,
      "outputs": [
        {
          "output_type": "stream",
          "name": "stdout",
          "text": [
            "Średnia wartość RMSE - DecisionTreeRegressor:  15263.570361572192\n",
            "Mediana wartość RMSE - DecisionTreeRegressor:  15339.522661349516\n",
            "Odchylenie standardowe RMSE - DecisionTreeRegressor:  1367.0064360415622\n"
          ]
        }
      ]
    },
    {
      "cell_type": "code",
      "source": [
        "#RandomForestRegressor()\n",
        "\n",
        "standaryzacja = preprocessing.StandardScaler()\n",
        "algo = ensemble.RandomForestRegressor(random_state=2020)\n",
        "parametr = pipeline.make_pipeline(standaryzacja, algo)\n",
        "walidacja = model_selection.KFold(n_splits=10, shuffle=True, random_state=2020)\n",
        "\n",
        "neg_MSE_rfr = model_selection.cross_val_score(parametr, \n",
        "                                                        X_uczacy,\n",
        "                                                        y_uczacy,\n",
        "                                                        cv = walidacja,\n",
        "                                                        scoring = \"neg_mean_squared_error\",\n",
        "                                                        n_jobs = -1)\n",
        "\n",
        "RMSE_rfr = np.sqrt(-neg_MSE_rfr)\n",
        "\n",
        "# podsumowanie dla RandomForestRegressor\n",
        "print(\"Średnia wartość RMSE - RandomForestRegressor: \", RMSE_rfr.mean())\n",
        "print(\"Mediana wartość RMSE - RandomForestRegressor: \", np.median(RMSE_rfr))\n",
        "print(\"Odchylenie standardowe RMSE - RandomForestRegressor: \", RMSE_rfr.std())"
      ],
      "metadata": {
        "colab": {
          "base_uri": "https://localhost:8080/"
        },
        "id": "QdRET5mal1mm",
        "outputId": "9b40c9d8-3173-442c-f197-b4f7c6eef99c"
      },
      "execution_count": 17,
      "outputs": [
        {
          "output_type": "stream",
          "name": "stdout",
          "text": [
            "Średnia wartość RMSE - RandomForestRegressor:  12545.648845099226\n",
            "Mediana wartość RMSE - RandomForestRegressor:  12601.319011235893\n",
            "Odchylenie standardowe RMSE - RandomForestRegressor:  1247.1818987136423\n"
          ]
        }
      ]
    },
    {
      "cell_type": "code",
      "source": [],
      "metadata": {
        "id": "in72qH0GwHOm"
      },
      "execution_count": null,
      "outputs": []
    },
    {
      "cell_type": "code",
      "source": [
        "#optymalizacja\n",
        "#RandomForestRegressor\n",
        "\n",
        "\n",
        "# ładniejsze pokazywanie dostępnych parametrów modelu\n",
        "algo = ensemble.RandomForestRegressor()\n",
        "pprint(algo.get_params())"
      ],
      "metadata": {
        "colab": {
          "base_uri": "https://localhost:8080/"
        },
        "id": "9PjEB54RwHU4",
        "outputId": "8d6c6b68-9c13-484c-810b-a15e287c7b77"
      },
      "execution_count": 18,
      "outputs": [
        {
          "output_type": "stream",
          "name": "stdout",
          "text": [
            "{'bootstrap': True,\n",
            " 'ccp_alpha': 0.0,\n",
            " 'criterion': 'squared_error',\n",
            " 'max_depth': None,\n",
            " 'max_features': 'auto',\n",
            " 'max_leaf_nodes': None,\n",
            " 'max_samples': None,\n",
            " 'min_impurity_decrease': 0.0,\n",
            " 'min_samples_leaf': 1,\n",
            " 'min_samples_split': 2,\n",
            " 'min_weight_fraction_leaf': 0.0,\n",
            " 'n_estimators': 100,\n",
            " 'n_jobs': None,\n",
            " 'oob_score': False,\n",
            " 'random_state': None,\n",
            " 'verbose': 0,\n",
            " 'warm_start': False}\n"
          ]
        }
      ]
    },
    {
      "cell_type": "code",
      "source": [
        "#GridSearchCV()\n",
        "\n",
        "# wybranie metody modelowania - RandomForestRegressor()\n",
        "algo = ensemble.RandomForestRegressor(random_state=2020)\n",
        "\n",
        "random_param = [{\n",
        "                      \"n_estimators\": [20, 50, 100],\n",
        "                      \"min_samples_split\": [2, 5, 20, 50],\n",
        "                      \"max_depth\": [3, 10, None]\n",
        "                      },\n",
        "                     \n",
        "                     {\n",
        "                      \"bootstrap\": [False, True], \n",
        "                      \"n_estimators\": [10, 100, 300, 500, 1000],\n",
        "                      \"min_samples_leaf\": [1, 3, 5],\n",
        "                      \"max_features\": [\"auto\", \"sqrt\"]\n",
        "                      }]\n",
        "\n",
        "# zdefiniowanie metody walidacji modelu\n",
        "walidacja = model_selection.KFold(n_splits=10, shuffle=True, random_state=2020)\n",
        "\n",
        "# konfiguracja procesu przetestowania siatki parametrów\n",
        "konfiguracja = pipeline.make_pipeline(preprocessing.StandardScaler(), \n",
        "                                              model_selection.GridSearchCV(estimator = algo, \n",
        "                                                                           param_grid = random_param,\n",
        "                                                                           cv = walidacja,\n",
        "                                                                           verbose = 5, #częstość wyświetlenia informacji przy modelowaniu\n",
        "                                                                           scoring = \"neg_mean_squared_error\",\n",
        "                                                                           n_jobs = -1))\n",
        "# nauczanie modelu\n",
        "konfiguracja.fit(X_uczacy, y_uczacy)"
      ],
      "metadata": {
        "colab": {
          "base_uri": "https://localhost:8080/"
        },
        "id": "rBoamHhMw8W7",
        "outputId": "0a5369ed-1c20-4e31-bb0b-588758e73650"
      },
      "execution_count": 19,
      "outputs": [
        {
          "output_type": "stream",
          "name": "stdout",
          "text": [
            "Fitting 10 folds for each of 96 candidates, totalling 960 fits\n"
          ]
        },
        {
          "output_type": "execute_result",
          "data": {
            "text/plain": [
              "Pipeline(steps=[('standardscaler', StandardScaler()),\n",
              "                ('gridsearchcv',\n",
              "                 GridSearchCV(cv=KFold(n_splits=10, random_state=2020, shuffle=True),\n",
              "                              estimator=RandomForestRegressor(random_state=2020),\n",
              "                              n_jobs=-1,\n",
              "                              param_grid=[{'max_depth': [3, 10, None],\n",
              "                                           'min_samples_split': [2, 5, 20, 50],\n",
              "                                           'n_estimators': [20, 50, 100]},\n",
              "                                          {'bootstrap': [False, True],\n",
              "                                           'max_features': ['auto', 'sqrt'],\n",
              "                                           'min_samples_leaf': [1, 3, 5],\n",
              "                                           'n_estimators': [10, 100, 300, 500,\n",
              "                                                            1000]}],\n",
              "                              scoring='neg_mean_squared_error', verbose=5))])"
            ]
          },
          "metadata": {},
          "execution_count": 19
        }
      ]
    },
    {
      "cell_type": "code",
      "source": [
        "wyniki_procesu = konfiguracja.named_steps[\"gridsearchcv\"]\n",
        "wyniki_procesu"
      ],
      "metadata": {
        "colab": {
          "base_uri": "https://localhost:8080/"
        },
        "id": "DXdW9qon0_Ks",
        "outputId": "b83059ad-c20e-4efd-e67b-363d49d76e54"
      },
      "execution_count": 20,
      "outputs": [
        {
          "output_type": "execute_result",
          "data": {
            "text/plain": [
              "GridSearchCV(cv=KFold(n_splits=10, random_state=2020, shuffle=True),\n",
              "             estimator=RandomForestRegressor(random_state=2020), n_jobs=-1,\n",
              "             param_grid=[{'max_depth': [3, 10, None],\n",
              "                          'min_samples_split': [2, 5, 20, 50],\n",
              "                          'n_estimators': [20, 50, 100]},\n",
              "                         {'bootstrap': [False, True],\n",
              "                          'max_features': ['auto', 'sqrt'],\n",
              "                          'min_samples_leaf': [1, 3, 5],\n",
              "                          'n_estimators': [10, 100, 300, 500, 1000]}],\n",
              "             scoring='neg_mean_squared_error', verbose=5)"
            ]
          },
          "metadata": {},
          "execution_count": 20
        }
      ]
    },
    {
      "cell_type": "code",
      "source": [
        "wyniki_procesu.best_params_"
      ],
      "metadata": {
        "colab": {
          "base_uri": "https://localhost:8080/"
        },
        "id": "996zUxkL1KgF",
        "outputId": "f2c82873-28be-4f79-9943-99c9b3d3dd27"
      },
      "execution_count": 21,
      "outputs": [
        {
          "output_type": "execute_result",
          "data": {
            "text/plain": [
              "{'bootstrap': True,\n",
              " 'max_features': 'sqrt',\n",
              " 'min_samples_leaf': 5,\n",
              " 'n_estimators': 300}"
            ]
          },
          "metadata": {},
          "execution_count": 21
        }
      ]
    },
    {
      "cell_type": "code",
      "source": [
        "wyniki_procesu.best_estimator_"
      ],
      "metadata": {
        "colab": {
          "base_uri": "https://localhost:8080/"
        },
        "id": "hg_3hWT91N-Q",
        "outputId": "cca894f2-0225-430e-9a0f-b9d95352cc9e"
      },
      "execution_count": 22,
      "outputs": [
        {
          "output_type": "execute_result",
          "data": {
            "text/plain": [
              "RandomForestRegressor(max_features='sqrt', min_samples_leaf=5, n_estimators=300,\n",
              "                      random_state=2020)"
            ]
          },
          "metadata": {},
          "execution_count": 22
        }
      ]
    },
    {
      "cell_type": "code",
      "source": [
        "## wykorzystanie najlepszegi modelu (na zbiorze uczacym)\n",
        "najlepszy_model_rfr = wyniki_procesu.best_estimator_\n",
        "predykcja  = najlepszy_model_rfr.predict(X_testowy_stand)\n",
        "\n",
        "# wyliczenie metryk\n",
        "najlepszy_model_rfr_mse = metrics.mean_squared_error(y_testowy, predykcja)\n",
        "print(\"MSE dla najlepszego modelu - RandomForestRegressor: \", najlepszy_model_rfr_mse)\n",
        "\n",
        "najlepszy_model_rfr_rmse = np.sqrt(najlepszy_model_rfr_mse)\n",
        "print(\"RMSE dla najlepszego modelu - RandomForestRegressor: \", najlepszy_model_rfr_rmse)"
      ],
      "metadata": {
        "colab": {
          "base_uri": "https://localhost:8080/"
        },
        "id": "yF0sSkpA1cLd",
        "outputId": "03716f27-f65e-4784-bd24-d5f7bd249b88"
      },
      "execution_count": 23,
      "outputs": [
        {
          "output_type": "stream",
          "name": "stdout",
          "text": [
            "MSE dla najlepszego modelu - RandomForestRegressor:  142524884.3701357\n",
            "RMSE dla najlepszego modelu - RandomForestRegressor:  11938.378632382863\n"
          ]
        }
      ]
    },
    {
      "cell_type": "code",
      "source": [
        "# pobranie wynikow testu - wskaźnik MSE\n",
        "MSE_results = wyniki_procesu.cv_results_['mean_test_score']\n",
        "# wyliczenie wskaźnika RMSE\n",
        "RMSE_results = np.sqrt(-MSE_results)\n",
        "\n",
        "# pobranie hyperparametrów modelu\n",
        "parametry = wyniki_procesu.cv_results_['params']\n",
        "\n",
        "# podsumowanie RMSE i hyperparametrów dla RandomForestRegressor\n",
        "for RMSE, parametry in zip(RMSE_results, parametry):\n",
        "  print(RMSE, parametry)"
      ],
      "metadata": {
        "colab": {
          "base_uri": "https://localhost:8080/"
        },
        "id": "KP2Ziex_2jJt",
        "outputId": "1124a098-bea3-42eb-a4a3-d5b3fb8b4c53"
      },
      "execution_count": 24,
      "outputs": [
        {
          "output_type": "stream",
          "name": "stdout",
          "text": [
            "11854.544809945864 {'max_depth': 3, 'min_samples_split': 2, 'n_estimators': 20}\n",
            "11823.054805654041 {'max_depth': 3, 'min_samples_split': 2, 'n_estimators': 50}\n",
            "11826.606527168735 {'max_depth': 3, 'min_samples_split': 2, 'n_estimators': 100}\n",
            "11853.38702176142 {'max_depth': 3, 'min_samples_split': 5, 'n_estimators': 20}\n",
            "11822.58376724429 {'max_depth': 3, 'min_samples_split': 5, 'n_estimators': 50}\n",
            "11826.365477263356 {'max_depth': 3, 'min_samples_split': 5, 'n_estimators': 100}\n",
            "11854.043209127576 {'max_depth': 3, 'min_samples_split': 20, 'n_estimators': 20}\n",
            "11823.364763697547 {'max_depth': 3, 'min_samples_split': 20, 'n_estimators': 50}\n",
            "11826.732001218094 {'max_depth': 3, 'min_samples_split': 20, 'n_estimators': 100}\n",
            "11854.043209127576 {'max_depth': 3, 'min_samples_split': 50, 'n_estimators': 20}\n",
            "11823.709029198128 {'max_depth': 3, 'min_samples_split': 50, 'n_estimators': 50}\n",
            "11827.034081644357 {'max_depth': 3, 'min_samples_split': 50, 'n_estimators': 100}\n",
            "12249.383441303564 {'max_depth': 10, 'min_samples_split': 2, 'n_estimators': 20}\n",
            "12097.828342160034 {'max_depth': 10, 'min_samples_split': 2, 'n_estimators': 50}\n",
            "12065.029127261289 {'max_depth': 10, 'min_samples_split': 2, 'n_estimators': 100}\n",
            "11938.552094626177 {'max_depth': 10, 'min_samples_split': 5, 'n_estimators': 20}\n",
            "11852.359777469625 {'max_depth': 10, 'min_samples_split': 5, 'n_estimators': 50}\n",
            "11821.21308337886 {'max_depth': 10, 'min_samples_split': 5, 'n_estimators': 100}\n",
            "11545.027183781012 {'max_depth': 10, 'min_samples_split': 20, 'n_estimators': 20}\n",
            "11488.035786467306 {'max_depth': 10, 'min_samples_split': 20, 'n_estimators': 50}\n",
            "11425.018605518182 {'max_depth': 10, 'min_samples_split': 20, 'n_estimators': 100}\n",
            "11333.006668112961 {'max_depth': 10, 'min_samples_split': 50, 'n_estimators': 20}\n",
            "11265.184752101479 {'max_depth': 10, 'min_samples_split': 50, 'n_estimators': 50}\n",
            "11247.5331559695 {'max_depth': 10, 'min_samples_split': 50, 'n_estimators': 100}\n",
            "12845.05796846218 {'max_depth': None, 'min_samples_split': 2, 'n_estimators': 20}\n",
            "12629.597002587567 {'max_depth': None, 'min_samples_split': 2, 'n_estimators': 50}\n",
            "12595.280611526852 {'max_depth': None, 'min_samples_split': 2, 'n_estimators': 100}\n",
            "12232.153844302638 {'max_depth': None, 'min_samples_split': 5, 'n_estimators': 20}\n",
            "12114.445896722182 {'max_depth': None, 'min_samples_split': 5, 'n_estimators': 50}\n",
            "12073.261739225562 {'max_depth': None, 'min_samples_split': 5, 'n_estimators': 100}\n",
            "11576.630310643908 {'max_depth': None, 'min_samples_split': 20, 'n_estimators': 20}\n",
            "11516.693994145551 {'max_depth': None, 'min_samples_split': 20, 'n_estimators': 50}\n",
            "11454.500889501562 {'max_depth': None, 'min_samples_split': 20, 'n_estimators': 100}\n",
            "11330.56512907783 {'max_depth': None, 'min_samples_split': 50, 'n_estimators': 20}\n",
            "11268.576474338908 {'max_depth': None, 'min_samples_split': 50, 'n_estimators': 50}\n",
            "11250.96339786066 {'max_depth': None, 'min_samples_split': 50, 'n_estimators': 100}\n",
            "15112.52196553153 {'bootstrap': False, 'max_features': 'auto', 'min_samples_leaf': 1, 'n_estimators': 10}\n",
            "15147.250660480782 {'bootstrap': False, 'max_features': 'auto', 'min_samples_leaf': 1, 'n_estimators': 100}\n",
            "15143.220512853228 {'bootstrap': False, 'max_features': 'auto', 'min_samples_leaf': 1, 'n_estimators': 300}\n",
            "15144.945624677677 {'bootstrap': False, 'max_features': 'auto', 'min_samples_leaf': 1, 'n_estimators': 500}\n",
            "15146.604101508583 {'bootstrap': False, 'max_features': 'auto', 'min_samples_leaf': 1, 'n_estimators': 1000}\n",
            "13289.515674503293 {'bootstrap': False, 'max_features': 'auto', 'min_samples_leaf': 3, 'n_estimators': 10}\n",
            "13290.144474766694 {'bootstrap': False, 'max_features': 'auto', 'min_samples_leaf': 3, 'n_estimators': 100}\n",
            "13290.053208739808 {'bootstrap': False, 'max_features': 'auto', 'min_samples_leaf': 3, 'n_estimators': 300}\n",
            "13289.930799552909 {'bootstrap': False, 'max_features': 'auto', 'min_samples_leaf': 3, 'n_estimators': 500}\n",
            "13289.865326096768 {'bootstrap': False, 'max_features': 'auto', 'min_samples_leaf': 3, 'n_estimators': 1000}\n",
            "12411.246367442698 {'bootstrap': False, 'max_features': 'auto', 'min_samples_leaf': 5, 'n_estimators': 10}\n",
            "12411.469389133026 {'bootstrap': False, 'max_features': 'auto', 'min_samples_leaf': 5, 'n_estimators': 100}\n",
            "12411.694371817712 {'bootstrap': False, 'max_features': 'auto', 'min_samples_leaf': 5, 'n_estimators': 300}\n",
            "12411.246367442678 {'bootstrap': False, 'max_features': 'auto', 'min_samples_leaf': 5, 'n_estimators': 500}\n",
            "12411.157707868697 {'bootstrap': False, 'max_features': 'auto', 'min_samples_leaf': 5, 'n_estimators': 1000}\n",
            "14653.153278930766 {'bootstrap': False, 'max_features': 'sqrt', 'min_samples_leaf': 1, 'n_estimators': 10}\n",
            "14690.024081127882 {'bootstrap': False, 'max_features': 'sqrt', 'min_samples_leaf': 1, 'n_estimators': 100}\n",
            "14699.868426804673 {'bootstrap': False, 'max_features': 'sqrt', 'min_samples_leaf': 1, 'n_estimators': 300}\n",
            "14699.682920287665 {'bootstrap': False, 'max_features': 'sqrt', 'min_samples_leaf': 1, 'n_estimators': 500}\n",
            "14704.485953059066 {'bootstrap': False, 'max_features': 'sqrt', 'min_samples_leaf': 1, 'n_estimators': 1000}\n",
            "11949.560607751913 {'bootstrap': False, 'max_features': 'sqrt', 'min_samples_leaf': 3, 'n_estimators': 10}\n",
            "11996.535175464081 {'bootstrap': False, 'max_features': 'sqrt', 'min_samples_leaf': 3, 'n_estimators': 100}\n",
            "11967.164263668503 {'bootstrap': False, 'max_features': 'sqrt', 'min_samples_leaf': 3, 'n_estimators': 300}\n",
            "11974.406716532969 {'bootstrap': False, 'max_features': 'sqrt', 'min_samples_leaf': 3, 'n_estimators': 500}\n",
            "11974.908176426181 {'bootstrap': False, 'max_features': 'sqrt', 'min_samples_leaf': 3, 'n_estimators': 1000}\n",
            "11564.655417688258 {'bootstrap': False, 'max_features': 'sqrt', 'min_samples_leaf': 5, 'n_estimators': 10}\n",
            "11500.250994483968 {'bootstrap': False, 'max_features': 'sqrt', 'min_samples_leaf': 5, 'n_estimators': 100}\n",
            "11475.659569537514 {'bootstrap': False, 'max_features': 'sqrt', 'min_samples_leaf': 5, 'n_estimators': 300}\n",
            "11477.1673090722 {'bootstrap': False, 'max_features': 'sqrt', 'min_samples_leaf': 5, 'n_estimators': 500}\n",
            "11466.479639333325 {'bootstrap': False, 'max_features': 'sqrt', 'min_samples_leaf': 5, 'n_estimators': 1000}\n",
            "12877.217106357695 {'bootstrap': True, 'max_features': 'auto', 'min_samples_leaf': 1, 'n_estimators': 10}\n",
            "12595.280611526852 {'bootstrap': True, 'max_features': 'auto', 'min_samples_leaf': 1, 'n_estimators': 100}\n",
            "12553.312186032541 {'bootstrap': True, 'max_features': 'auto', 'min_samples_leaf': 1, 'n_estimators': 300}\n",
            "12537.317371729901 {'bootstrap': True, 'max_features': 'auto', 'min_samples_leaf': 1, 'n_estimators': 500}\n",
            "12532.470325166274 {'bootstrap': True, 'max_features': 'auto', 'min_samples_leaf': 1, 'n_estimators': 1000}\n",
            "11790.010875232234 {'bootstrap': True, 'max_features': 'auto', 'min_samples_leaf': 3, 'n_estimators': 10}\n",
            "11734.593023064213 {'bootstrap': True, 'max_features': 'auto', 'min_samples_leaf': 3, 'n_estimators': 100}\n",
            "11698.518900103918 {'bootstrap': True, 'max_features': 'auto', 'min_samples_leaf': 3, 'n_estimators': 300}\n",
            "11691.096012720769 {'bootstrap': True, 'max_features': 'auto', 'min_samples_leaf': 3, 'n_estimators': 500}\n",
            "11683.124113264994 {'bootstrap': True, 'max_features': 'auto', 'min_samples_leaf': 3, 'n_estimators': 1000}\n",
            "11493.02628043644 {'bootstrap': True, 'max_features': 'auto', 'min_samples_leaf': 5, 'n_estimators': 10}\n",
            "11442.015555201304 {'bootstrap': True, 'max_features': 'auto', 'min_samples_leaf': 5, 'n_estimators': 100}\n",
            "11428.00368637982 {'bootstrap': True, 'max_features': 'auto', 'min_samples_leaf': 5, 'n_estimators': 300}\n",
            "11423.587718207462 {'bootstrap': True, 'max_features': 'auto', 'min_samples_leaf': 5, 'n_estimators': 500}\n",
            "11413.886082915395 {'bootstrap': True, 'max_features': 'auto', 'min_samples_leaf': 5, 'n_estimators': 1000}\n",
            "13071.552198989884 {'bootstrap': True, 'max_features': 'sqrt', 'min_samples_leaf': 1, 'n_estimators': 10}\n",
            "12861.34854579615 {'bootstrap': True, 'max_features': 'sqrt', 'min_samples_leaf': 1, 'n_estimators': 100}\n",
            "12795.113074910014 {'bootstrap': True, 'max_features': 'sqrt', 'min_samples_leaf': 1, 'n_estimators': 300}\n",
            "12785.202543578549 {'bootstrap': True, 'max_features': 'sqrt', 'min_samples_leaf': 1, 'n_estimators': 500}\n",
            "12753.935543055302 {'bootstrap': True, 'max_features': 'sqrt', 'min_samples_leaf': 1, 'n_estimators': 1000}\n",
            "11550.795893128728 {'bootstrap': True, 'max_features': 'sqrt', 'min_samples_leaf': 3, 'n_estimators': 10}\n",
            "11453.877274987297 {'bootstrap': True, 'max_features': 'sqrt', 'min_samples_leaf': 3, 'n_estimators': 100}\n",
            "11441.453648907931 {'bootstrap': True, 'max_features': 'sqrt', 'min_samples_leaf': 3, 'n_estimators': 300}\n",
            "11441.68765009276 {'bootstrap': True, 'max_features': 'sqrt', 'min_samples_leaf': 3, 'n_estimators': 500}\n",
            "11434.978799272832 {'bootstrap': True, 'max_features': 'sqrt', 'min_samples_leaf': 3, 'n_estimators': 1000}\n",
            "11412.79069206019 {'bootstrap': True, 'max_features': 'sqrt', 'min_samples_leaf': 5, 'n_estimators': 10}\n",
            "11254.827814497059 {'bootstrap': True, 'max_features': 'sqrt', 'min_samples_leaf': 5, 'n_estimators': 100}\n",
            "11238.87098436859 {'bootstrap': True, 'max_features': 'sqrt', 'min_samples_leaf': 5, 'n_estimators': 300}\n",
            "11239.088042006148 {'bootstrap': True, 'max_features': 'sqrt', 'min_samples_leaf': 5, 'n_estimators': 500}\n",
            "11242.013250307882 {'bootstrap': True, 'max_features': 'sqrt', 'min_samples_leaf': 5, 'n_estimators': 1000}\n"
          ]
        }
      ]
    },
    {
      "cell_type": "code",
      "source": [
        "import plotly.express as px\n",
        "istotnosc_cech = pd.DataFrame(dict(istotnosc=wyniki_procesu.best_estimator_.feature_importances_, \n",
        "                                          cecha=X_uczacy.columns.values)).sort_values(by=\"istotnosc\", ascending=False)\n",
        "\n",
        "# wizualizacja istotności cech\n",
        "px.pie(istotnosc_cech, \n",
        "       values= \"istotnosc\", \n",
        "       names = \"cecha\", \n",
        "       title = \"Względna istotność cech wykorzystywanych w modelu RandomForestRegressor\")"
      ],
      "metadata": {
        "colab": {
          "base_uri": "https://localhost:8080/",
          "height": 542
        },
        "id": "r-YYL3Si6Bvk",
        "outputId": "03f033c8-1b51-412e-b2cd-100c0b6d5487"
      },
      "execution_count": 34,
      "outputs": [
        {
          "output_type": "display_data",
          "data": {
            "text/html": [
              "<html>\n",
              "<head><meta charset=\"utf-8\" /></head>\n",
              "<body>\n",
              "    <div>            <script src=\"https://cdnjs.cloudflare.com/ajax/libs/mathjax/2.7.5/MathJax.js?config=TeX-AMS-MML_SVG\"></script><script type=\"text/javascript\">if (window.MathJax) {MathJax.Hub.Config({SVG: {font: \"STIX-Web\"}});}</script>                <script type=\"text/javascript\">window.PlotlyConfig = {MathJaxConfig: 'local'};</script>\n",
              "        <script src=\"https://cdn.plot.ly/plotly-2.8.3.min.js\"></script>                <div id=\"c3403c2d-014f-4b42-a94f-e60d0a494da5\" class=\"plotly-graph-div\" style=\"height:525px; width:100%;\"></div>            <script type=\"text/javascript\">                                    window.PLOTLYENV=window.PLOTLYENV || {};                                    if (document.getElementById(\"c3403c2d-014f-4b42-a94f-e60d0a494da5\")) {                    Plotly.newPlot(                        \"c3403c2d-014f-4b42-a94f-e60d0a494da5\",                        [{\"domain\":{\"x\":[0.0,1.0],\"y\":[0.0,1.0]},\"hovertemplate\":\"cecha=%{label}<br>istotnosc=%{value}<extra></extra>\",\"labels\":[\"wiek\",\"przebieg\",\"zakresy_lat_produkcji_1\",\"pojemnosc_silnika\",\"zakresy_lat_produkcji_0\",\"paliwo_Benzyna+LPG\",\"zakresy_lat_produkcji_2\",\"paliwo_Benzyna\",\"paliwo_Diesel\",\"paliwo_Elektryczny\"],\"legendgroup\":\"\",\"name\":\"\",\"showlegend\":true,\"values\":[0.3557847746572983,0.308579406457561,0.11455514436564548,0.11181053268115362,0.03755793085548302,0.029609524707155624,0.02420311507181258,0.01011529652187259,0.0074486387750362,0.00033563590698171665],\"type\":\"pie\"}],                        {\"template\":{\"data\":{\"bar\":[{\"error_x\":{\"color\":\"#2a3f5f\"},\"error_y\":{\"color\":\"#2a3f5f\"},\"marker\":{\"line\":{\"color\":\"#E5ECF6\",\"width\":0.5},\"pattern\":{\"fillmode\":\"overlay\",\"size\":10,\"solidity\":0.2}},\"type\":\"bar\"}],\"barpolar\":[{\"marker\":{\"line\":{\"color\":\"#E5ECF6\",\"width\":0.5},\"pattern\":{\"fillmode\":\"overlay\",\"size\":10,\"solidity\":0.2}},\"type\":\"barpolar\"}],\"carpet\":[{\"aaxis\":{\"endlinecolor\":\"#2a3f5f\",\"gridcolor\":\"white\",\"linecolor\":\"white\",\"minorgridcolor\":\"white\",\"startlinecolor\":\"#2a3f5f\"},\"baxis\":{\"endlinecolor\":\"#2a3f5f\",\"gridcolor\":\"white\",\"linecolor\":\"white\",\"minorgridcolor\":\"white\",\"startlinecolor\":\"#2a3f5f\"},\"type\":\"carpet\"}],\"choropleth\":[{\"colorbar\":{\"outlinewidth\":0,\"ticks\":\"\"},\"type\":\"choropleth\"}],\"contour\":[{\"colorbar\":{\"outlinewidth\":0,\"ticks\":\"\"},\"colorscale\":[[0.0,\"#0d0887\"],[0.1111111111111111,\"#46039f\"],[0.2222222222222222,\"#7201a8\"],[0.3333333333333333,\"#9c179e\"],[0.4444444444444444,\"#bd3786\"],[0.5555555555555556,\"#d8576b\"],[0.6666666666666666,\"#ed7953\"],[0.7777777777777778,\"#fb9f3a\"],[0.8888888888888888,\"#fdca26\"],[1.0,\"#f0f921\"]],\"type\":\"contour\"}],\"contourcarpet\":[{\"colorbar\":{\"outlinewidth\":0,\"ticks\":\"\"},\"type\":\"contourcarpet\"}],\"heatmap\":[{\"colorbar\":{\"outlinewidth\":0,\"ticks\":\"\"},\"colorscale\":[[0.0,\"#0d0887\"],[0.1111111111111111,\"#46039f\"],[0.2222222222222222,\"#7201a8\"],[0.3333333333333333,\"#9c179e\"],[0.4444444444444444,\"#bd3786\"],[0.5555555555555556,\"#d8576b\"],[0.6666666666666666,\"#ed7953\"],[0.7777777777777778,\"#fb9f3a\"],[0.8888888888888888,\"#fdca26\"],[1.0,\"#f0f921\"]],\"type\":\"heatmap\"}],\"heatmapgl\":[{\"colorbar\":{\"outlinewidth\":0,\"ticks\":\"\"},\"colorscale\":[[0.0,\"#0d0887\"],[0.1111111111111111,\"#46039f\"],[0.2222222222222222,\"#7201a8\"],[0.3333333333333333,\"#9c179e\"],[0.4444444444444444,\"#bd3786\"],[0.5555555555555556,\"#d8576b\"],[0.6666666666666666,\"#ed7953\"],[0.7777777777777778,\"#fb9f3a\"],[0.8888888888888888,\"#fdca26\"],[1.0,\"#f0f921\"]],\"type\":\"heatmapgl\"}],\"histogram\":[{\"marker\":{\"pattern\":{\"fillmode\":\"overlay\",\"size\":10,\"solidity\":0.2}},\"type\":\"histogram\"}],\"histogram2d\":[{\"colorbar\":{\"outlinewidth\":0,\"ticks\":\"\"},\"colorscale\":[[0.0,\"#0d0887\"],[0.1111111111111111,\"#46039f\"],[0.2222222222222222,\"#7201a8\"],[0.3333333333333333,\"#9c179e\"],[0.4444444444444444,\"#bd3786\"],[0.5555555555555556,\"#d8576b\"],[0.6666666666666666,\"#ed7953\"],[0.7777777777777778,\"#fb9f3a\"],[0.8888888888888888,\"#fdca26\"],[1.0,\"#f0f921\"]],\"type\":\"histogram2d\"}],\"histogram2dcontour\":[{\"colorbar\":{\"outlinewidth\":0,\"ticks\":\"\"},\"colorscale\":[[0.0,\"#0d0887\"],[0.1111111111111111,\"#46039f\"],[0.2222222222222222,\"#7201a8\"],[0.3333333333333333,\"#9c179e\"],[0.4444444444444444,\"#bd3786\"],[0.5555555555555556,\"#d8576b\"],[0.6666666666666666,\"#ed7953\"],[0.7777777777777778,\"#fb9f3a\"],[0.8888888888888888,\"#fdca26\"],[1.0,\"#f0f921\"]],\"type\":\"histogram2dcontour\"}],\"mesh3d\":[{\"colorbar\":{\"outlinewidth\":0,\"ticks\":\"\"},\"type\":\"mesh3d\"}],\"parcoords\":[{\"line\":{\"colorbar\":{\"outlinewidth\":0,\"ticks\":\"\"}},\"type\":\"parcoords\"}],\"pie\":[{\"automargin\":true,\"type\":\"pie\"}],\"scatter\":[{\"marker\":{\"colorbar\":{\"outlinewidth\":0,\"ticks\":\"\"}},\"type\":\"scatter\"}],\"scatter3d\":[{\"line\":{\"colorbar\":{\"outlinewidth\":0,\"ticks\":\"\"}},\"marker\":{\"colorbar\":{\"outlinewidth\":0,\"ticks\":\"\"}},\"type\":\"scatter3d\"}],\"scattercarpet\":[{\"marker\":{\"colorbar\":{\"outlinewidth\":0,\"ticks\":\"\"}},\"type\":\"scattercarpet\"}],\"scattergeo\":[{\"marker\":{\"colorbar\":{\"outlinewidth\":0,\"ticks\":\"\"}},\"type\":\"scattergeo\"}],\"scattergl\":[{\"marker\":{\"colorbar\":{\"outlinewidth\":0,\"ticks\":\"\"}},\"type\":\"scattergl\"}],\"scattermapbox\":[{\"marker\":{\"colorbar\":{\"outlinewidth\":0,\"ticks\":\"\"}},\"type\":\"scattermapbox\"}],\"scatterpolar\":[{\"marker\":{\"colorbar\":{\"outlinewidth\":0,\"ticks\":\"\"}},\"type\":\"scatterpolar\"}],\"scatterpolargl\":[{\"marker\":{\"colorbar\":{\"outlinewidth\":0,\"ticks\":\"\"}},\"type\":\"scatterpolargl\"}],\"scatterternary\":[{\"marker\":{\"colorbar\":{\"outlinewidth\":0,\"ticks\":\"\"}},\"type\":\"scatterternary\"}],\"surface\":[{\"colorbar\":{\"outlinewidth\":0,\"ticks\":\"\"},\"colorscale\":[[0.0,\"#0d0887\"],[0.1111111111111111,\"#46039f\"],[0.2222222222222222,\"#7201a8\"],[0.3333333333333333,\"#9c179e\"],[0.4444444444444444,\"#bd3786\"],[0.5555555555555556,\"#d8576b\"],[0.6666666666666666,\"#ed7953\"],[0.7777777777777778,\"#fb9f3a\"],[0.8888888888888888,\"#fdca26\"],[1.0,\"#f0f921\"]],\"type\":\"surface\"}],\"table\":[{\"cells\":{\"fill\":{\"color\":\"#EBF0F8\"},\"line\":{\"color\":\"white\"}},\"header\":{\"fill\":{\"color\":\"#C8D4E3\"},\"line\":{\"color\":\"white\"}},\"type\":\"table\"}]},\"layout\":{\"annotationdefaults\":{\"arrowcolor\":\"#2a3f5f\",\"arrowhead\":0,\"arrowwidth\":1},\"autotypenumbers\":\"strict\",\"coloraxis\":{\"colorbar\":{\"outlinewidth\":0,\"ticks\":\"\"}},\"colorscale\":{\"diverging\":[[0,\"#8e0152\"],[0.1,\"#c51b7d\"],[0.2,\"#de77ae\"],[0.3,\"#f1b6da\"],[0.4,\"#fde0ef\"],[0.5,\"#f7f7f7\"],[0.6,\"#e6f5d0\"],[0.7,\"#b8e186\"],[0.8,\"#7fbc41\"],[0.9,\"#4d9221\"],[1,\"#276419\"]],\"sequential\":[[0.0,\"#0d0887\"],[0.1111111111111111,\"#46039f\"],[0.2222222222222222,\"#7201a8\"],[0.3333333333333333,\"#9c179e\"],[0.4444444444444444,\"#bd3786\"],[0.5555555555555556,\"#d8576b\"],[0.6666666666666666,\"#ed7953\"],[0.7777777777777778,\"#fb9f3a\"],[0.8888888888888888,\"#fdca26\"],[1.0,\"#f0f921\"]],\"sequentialminus\":[[0.0,\"#0d0887\"],[0.1111111111111111,\"#46039f\"],[0.2222222222222222,\"#7201a8\"],[0.3333333333333333,\"#9c179e\"],[0.4444444444444444,\"#bd3786\"],[0.5555555555555556,\"#d8576b\"],[0.6666666666666666,\"#ed7953\"],[0.7777777777777778,\"#fb9f3a\"],[0.8888888888888888,\"#fdca26\"],[1.0,\"#f0f921\"]]},\"colorway\":[\"#636efa\",\"#EF553B\",\"#00cc96\",\"#ab63fa\",\"#FFA15A\",\"#19d3f3\",\"#FF6692\",\"#B6E880\",\"#FF97FF\",\"#FECB52\"],\"font\":{\"color\":\"#2a3f5f\"},\"geo\":{\"bgcolor\":\"white\",\"lakecolor\":\"white\",\"landcolor\":\"#E5ECF6\",\"showlakes\":true,\"showland\":true,\"subunitcolor\":\"white\"},\"hoverlabel\":{\"align\":\"left\"},\"hovermode\":\"closest\",\"mapbox\":{\"style\":\"light\"},\"paper_bgcolor\":\"white\",\"plot_bgcolor\":\"#E5ECF6\",\"polar\":{\"angularaxis\":{\"gridcolor\":\"white\",\"linecolor\":\"white\",\"ticks\":\"\"},\"bgcolor\":\"#E5ECF6\",\"radialaxis\":{\"gridcolor\":\"white\",\"linecolor\":\"white\",\"ticks\":\"\"}},\"scene\":{\"xaxis\":{\"backgroundcolor\":\"#E5ECF6\",\"gridcolor\":\"white\",\"gridwidth\":2,\"linecolor\":\"white\",\"showbackground\":true,\"ticks\":\"\",\"zerolinecolor\":\"white\"},\"yaxis\":{\"backgroundcolor\":\"#E5ECF6\",\"gridcolor\":\"white\",\"gridwidth\":2,\"linecolor\":\"white\",\"showbackground\":true,\"ticks\":\"\",\"zerolinecolor\":\"white\"},\"zaxis\":{\"backgroundcolor\":\"#E5ECF6\",\"gridcolor\":\"white\",\"gridwidth\":2,\"linecolor\":\"white\",\"showbackground\":true,\"ticks\":\"\",\"zerolinecolor\":\"white\"}},\"shapedefaults\":{\"line\":{\"color\":\"#2a3f5f\"}},\"ternary\":{\"aaxis\":{\"gridcolor\":\"white\",\"linecolor\":\"white\",\"ticks\":\"\"},\"baxis\":{\"gridcolor\":\"white\",\"linecolor\":\"white\",\"ticks\":\"\"},\"bgcolor\":\"#E5ECF6\",\"caxis\":{\"gridcolor\":\"white\",\"linecolor\":\"white\",\"ticks\":\"\"}},\"title\":{\"x\":0.05},\"xaxis\":{\"automargin\":true,\"gridcolor\":\"white\",\"linecolor\":\"white\",\"ticks\":\"\",\"title\":{\"standoff\":15},\"zerolinecolor\":\"white\",\"zerolinewidth\":2},\"yaxis\":{\"automargin\":true,\"gridcolor\":\"white\",\"linecolor\":\"white\",\"ticks\":\"\",\"title\":{\"standoff\":15},\"zerolinecolor\":\"white\",\"zerolinewidth\":2}}},\"legend\":{\"tracegroupgap\":0},\"title\":{\"text\":\"Wzgl\\u0119dna istotno\\u015b\\u0107 cech wykorzystywanych w modelu RandomForestRegressor\"}},                        {\"responsive\": true}                    ).then(function(){\n",
              "                            \n",
              "var gd = document.getElementById('c3403c2d-014f-4b42-a94f-e60d0a494da5');\n",
              "var x = new MutationObserver(function (mutations, observer) {{\n",
              "        var display = window.getComputedStyle(gd).display;\n",
              "        if (!display || display === 'none') {{\n",
              "            console.log([gd, 'removed!']);\n",
              "            Plotly.purge(gd);\n",
              "            observer.disconnect();\n",
              "        }}\n",
              "}});\n",
              "\n",
              "// Listen for the removal of the full notebook cells\n",
              "var notebookContainer = gd.closest('#notebook-container');\n",
              "if (notebookContainer) {{\n",
              "    x.observe(notebookContainer, {childList: true});\n",
              "}}\n",
              "\n",
              "// Listen for the clearing of the current output cell\n",
              "var outputEl = gd.closest('.output');\n",
              "if (outputEl) {{\n",
              "    x.observe(outputEl, {childList: true});\n",
              "}}\n",
              "\n",
              "                        })                };                            </script>        </div>\n",
              "</body>\n",
              "</html>"
            ]
          },
          "metadata": {}
        }
      ]
    },
    {
      "cell_type": "code",
      "source": [
        "# wybraniemało istotnych cech\n",
        "dolna_granica_q1 = np.percentile(istotnosc_cech[\"istotnosc\"], [20])\n",
        "print(\"Względna granica istotności: \", dolna_granica_q1)\n",
        "\n",
        "# wyfiltrowanie cech względnie mało istotnych\n",
        "cechy_maloistotne = istotnosc_cech[ istotnosc_cech[\"istotnosc\"] < float(dolna_granica_q1) ]\n",
        "cechy_maloistotne"
      ],
      "metadata": {
        "colab": {
          "base_uri": "https://localhost:8080/",
          "height": 130
        },
        "id": "yIw6vcvY6ByD",
        "outputId": "f2c66b26-8491-419b-f5e5-e89634edb5f9"
      },
      "execution_count": 36,
      "outputs": [
        {
          "output_type": "stream",
          "name": "stdout",
          "text": [
            "Względna granica istotności:  [0.00958196]\n"
          ]
        },
        {
          "output_type": "execute_result",
          "data": {
            "text/plain": [
              "   istotnosc               cecha\n",
              "5   0.007449       paliwo_Diesel\n",
              "6   0.000336  paliwo_Elektryczny"
            ],
            "text/html": [
              "\n",
              "  <div id=\"df-3ba57d71-5f86-451f-997a-3bb290b6b64c\">\n",
              "    <div class=\"colab-df-container\">\n",
              "      <div>\n",
              "<style scoped>\n",
              "    .dataframe tbody tr th:only-of-type {\n",
              "        vertical-align: middle;\n",
              "    }\n",
              "\n",
              "    .dataframe tbody tr th {\n",
              "        vertical-align: top;\n",
              "    }\n",
              "\n",
              "    .dataframe thead th {\n",
              "        text-align: right;\n",
              "    }\n",
              "</style>\n",
              "<table border=\"1\" class=\"dataframe\">\n",
              "  <thead>\n",
              "    <tr style=\"text-align: right;\">\n",
              "      <th></th>\n",
              "      <th>istotnosc</th>\n",
              "      <th>cecha</th>\n",
              "    </tr>\n",
              "  </thead>\n",
              "  <tbody>\n",
              "    <tr>\n",
              "      <th>5</th>\n",
              "      <td>0.007449</td>\n",
              "      <td>paliwo_Diesel</td>\n",
              "    </tr>\n",
              "    <tr>\n",
              "      <th>6</th>\n",
              "      <td>0.000336</td>\n",
              "      <td>paliwo_Elektryczny</td>\n",
              "    </tr>\n",
              "  </tbody>\n",
              "</table>\n",
              "</div>\n",
              "      <button class=\"colab-df-convert\" onclick=\"convertToInteractive('df-3ba57d71-5f86-451f-997a-3bb290b6b64c')\"\n",
              "              title=\"Convert this dataframe to an interactive table.\"\n",
              "              style=\"display:none;\">\n",
              "        \n",
              "  <svg xmlns=\"http://www.w3.org/2000/svg\" height=\"24px\"viewBox=\"0 0 24 24\"\n",
              "       width=\"24px\">\n",
              "    <path d=\"M0 0h24v24H0V0z\" fill=\"none\"/>\n",
              "    <path d=\"M18.56 5.44l.94 2.06.94-2.06 2.06-.94-2.06-.94-.94-2.06-.94 2.06-2.06.94zm-11 1L8.5 8.5l.94-2.06 2.06-.94-2.06-.94L8.5 2.5l-.94 2.06-2.06.94zm10 10l.94 2.06.94-2.06 2.06-.94-2.06-.94-.94-2.06-.94 2.06-2.06.94z\"/><path d=\"M17.41 7.96l-1.37-1.37c-.4-.4-.92-.59-1.43-.59-.52 0-1.04.2-1.43.59L10.3 9.45l-7.72 7.72c-.78.78-.78 2.05 0 2.83L4 21.41c.39.39.9.59 1.41.59.51 0 1.02-.2 1.41-.59l7.78-7.78 2.81-2.81c.8-.78.8-2.07 0-2.86zM5.41 20L4 18.59l7.72-7.72 1.47 1.35L5.41 20z\"/>\n",
              "  </svg>\n",
              "      </button>\n",
              "      \n",
              "  <style>\n",
              "    .colab-df-container {\n",
              "      display:flex;\n",
              "      flex-wrap:wrap;\n",
              "      gap: 12px;\n",
              "    }\n",
              "\n",
              "    .colab-df-convert {\n",
              "      background-color: #E8F0FE;\n",
              "      border: none;\n",
              "      border-radius: 50%;\n",
              "      cursor: pointer;\n",
              "      display: none;\n",
              "      fill: #1967D2;\n",
              "      height: 32px;\n",
              "      padding: 0 0 0 0;\n",
              "      width: 32px;\n",
              "    }\n",
              "\n",
              "    .colab-df-convert:hover {\n",
              "      background-color: #E2EBFA;\n",
              "      box-shadow: 0px 1px 2px rgba(60, 64, 67, 0.3), 0px 1px 3px 1px rgba(60, 64, 67, 0.15);\n",
              "      fill: #174EA6;\n",
              "    }\n",
              "\n",
              "    [theme=dark] .colab-df-convert {\n",
              "      background-color: #3B4455;\n",
              "      fill: #D2E3FC;\n",
              "    }\n",
              "\n",
              "    [theme=dark] .colab-df-convert:hover {\n",
              "      background-color: #434B5C;\n",
              "      box-shadow: 0px 1px 3px 1px rgba(0, 0, 0, 0.15);\n",
              "      filter: drop-shadow(0px 1px 2px rgba(0, 0, 0, 0.3));\n",
              "      fill: #FFFFFF;\n",
              "    }\n",
              "  </style>\n",
              "\n",
              "      <script>\n",
              "        const buttonEl =\n",
              "          document.querySelector('#df-3ba57d71-5f86-451f-997a-3bb290b6b64c button.colab-df-convert');\n",
              "        buttonEl.style.display =\n",
              "          google.colab.kernel.accessAllowed ? 'block' : 'none';\n",
              "\n",
              "        async function convertToInteractive(key) {\n",
              "          const element = document.querySelector('#df-3ba57d71-5f86-451f-997a-3bb290b6b64c');\n",
              "          const dataTable =\n",
              "            await google.colab.kernel.invokeFunction('convertToInteractive',\n",
              "                                                     [key], {});\n",
              "          if (!dataTable) return;\n",
              "\n",
              "          const docLinkHtml = 'Like what you see? Visit the ' +\n",
              "            '<a target=\"_blank\" href=https://colab.research.google.com/notebooks/data_table.ipynb>data table notebook</a>'\n",
              "            + ' to learn more about interactive tables.';\n",
              "          element.innerHTML = '';\n",
              "          dataTable['output_type'] = 'display_data';\n",
              "          await google.colab.output.renderOutput(dataTable, element);\n",
              "          const docLink = document.createElement('div');\n",
              "          docLink.innerHTML = docLinkHtml;\n",
              "          element.appendChild(docLink);\n",
              "        }\n",
              "      </script>\n",
              "    </div>\n",
              "  </div>\n",
              "  "
            ]
          },
          "metadata": {},
          "execution_count": 36
        }
      ]
    },
    {
      "cell_type": "code",
      "source": [
        "# tworzenie zbiorów po wyeliminowaniu nieistotnych zmiennych\n",
        "X_optimal = dane_modelowanie5.drop(columns = [\"cena\"])\n",
        "X_optimal.drop(columns = cechy_maloistotne[\"cecha\"].tolist(), inplace = True)\n",
        "y_optimal = dane_modelowanie5[\"cena\"]\n",
        "X_uczacy_optimal, X_testowy_optimal, y_uczacy_optimal, y_testowy_optimal = model_selection.train_test_split(X_optimal, \n",
        "                                                                                                            y_optimal.values, \n",
        "                                                                                                            test_size = .2, \n",
        "                                                                                                            random_state = 2020)\n",
        "# standaryzacja\n",
        "standaryzacja = preprocessing.StandardScaler()\n",
        "fit_stand_optimal = standaryzacja.fit(X_uczacy_optimal)\n",
        "X_uczacy_stand_optimal = fit_stand_optimal.transform(X_uczacy_optimal)\n",
        "X_testowy_stand_optimal = fit_stand_optimal.transform(X_testowy_optimal)"
      ],
      "metadata": {
        "id": "niKmXpP56B0f"
      },
      "execution_count": 38,
      "outputs": []
    },
    {
      "cell_type": "code",
      "source": [],
      "metadata": {
        "id": "tyrc2iPG6B23"
      },
      "execution_count": null,
      "outputs": []
    },
    {
      "cell_type": "code",
      "source": [],
      "metadata": {
        "id": "jCKa6Y4f6B6X"
      },
      "execution_count": null,
      "outputs": []
    },
    {
      "cell_type": "code",
      "source": [
        "#modelowanie nr 2\n",
        "\n",
        "#GridSearchCV()\n",
        "\n",
        "# wybranie metody modelowania - RandomForestRegressor()\n",
        "algo = ensemble.RandomForestRegressor(random_state=2020)\n",
        "\n",
        "random_param2 = [{\n",
        "                      \"n_estimators\": [20, 50, 100],\n",
        "                      \"subsample\": np.linspace(0.5, 1, 101),\n",
        "                      \"max_depth\": [3, 10, None],\n",
        "                      \"gamma\": np.linspace(0, 0.4, 6),\n",
        "                  \"colsample_bylevel\": np.linspace(0.6, 1, 11)\n",
        "                      },\n",
        "                     \n",
        "                     {\n",
        "                      \"bootstrap\": [False, True], \n",
        "                      \"n_estimators\": [10, 100, 300, 500, 1000],\n",
        "                      \"min_samples_leaf\": [1, 3, 5],\n",
        "                      \"max_features\": [\"auto\", \"sqrt\"]\n",
        "                      }]\n",
        "\n",
        "  \n",
        "\n",
        "# zdefiniowanie metody walidacji modelu\n",
        "walidacja = model_selection.KFold(n_splits=10, shuffle=True, random_state=2020)\n",
        "\n",
        "# konfiguracja procesu przetestowania siatki parametrów\n",
        "konfiguracja2 = pipeline.make_pipeline(preprocessing.StandardScaler(), \n",
        "                                              model_selection.GridSearchCV(estimator = algo, \n",
        "                                                                           param_grid = random_param,\n",
        "                                                                           cv = walidacja,\n",
        "                                                                           verbose = 5, #częstość wyświetlenia informacji przy modelowaniu\n",
        "                                                                           scoring = \"neg_mean_squared_error\",\n",
        "                                                                           n_jobs = -1))\n",
        "# nauczanie modelu\n",
        "konfiguracja2.fit(X_uczacy_optimal, y_uczacy_optimal)"
      ],
      "metadata": {
        "colab": {
          "base_uri": "https://localhost:8080/"
        },
        "id": "pTvx3P3s10A6",
        "outputId": "5fcdd946-51f9-458a-e699-89df3d41da81"
      },
      "execution_count": 39,
      "outputs": [
        {
          "output_type": "stream",
          "name": "stdout",
          "text": [
            "Fitting 10 folds for each of 96 candidates, totalling 960 fits\n"
          ]
        },
        {
          "output_type": "execute_result",
          "data": {
            "text/plain": [
              "Pipeline(steps=[('standardscaler', StandardScaler()),\n",
              "                ('gridsearchcv',\n",
              "                 GridSearchCV(cv=KFold(n_splits=10, random_state=2020, shuffle=True),\n",
              "                              estimator=RandomForestRegressor(random_state=2020),\n",
              "                              n_jobs=-1,\n",
              "                              param_grid=[{'max_depth': [3, 10, None],\n",
              "                                           'min_samples_split': [2, 5, 20, 50],\n",
              "                                           'n_estimators': [20, 50, 100]},\n",
              "                                          {'bootstrap': [False, True],\n",
              "                                           'max_features': ['auto', 'sqrt'],\n",
              "                                           'min_samples_leaf': [1, 3, 5],\n",
              "                                           'n_estimators': [10, 100, 300, 500,\n",
              "                                                            1000]}],\n",
              "                              scoring='neg_mean_squared_error', verbose=5))])"
            ]
          },
          "metadata": {},
          "execution_count": 39
        }
      ]
    },
    {
      "cell_type": "code",
      "source": [
        "wyniki_procesu2 = konfiguracja2.named_steps[\"gridsearchcv\"]\n",
        "wyniki_procesu2"
      ],
      "metadata": {
        "colab": {
          "base_uri": "https://localhost:8080/"
        },
        "id": "QOQhepeV2B4i",
        "outputId": "17c82fe6-f4e9-407f-98c3-7010840a4c6f"
      },
      "execution_count": 40,
      "outputs": [
        {
          "output_type": "execute_result",
          "data": {
            "text/plain": [
              "GridSearchCV(cv=KFold(n_splits=10, random_state=2020, shuffle=True),\n",
              "             estimator=RandomForestRegressor(random_state=2020), n_jobs=-1,\n",
              "             param_grid=[{'max_depth': [3, 10, None],\n",
              "                          'min_samples_split': [2, 5, 20, 50],\n",
              "                          'n_estimators': [20, 50, 100]},\n",
              "                         {'bootstrap': [False, True],\n",
              "                          'max_features': ['auto', 'sqrt'],\n",
              "                          'min_samples_leaf': [1, 3, 5],\n",
              "                          'n_estimators': [10, 100, 300, 500, 1000]}],\n",
              "             scoring='neg_mean_squared_error', verbose=5)"
            ]
          },
          "metadata": {},
          "execution_count": 40
        }
      ]
    },
    {
      "cell_type": "code",
      "source": [
        "wyniki_procesu2.best_params_"
      ],
      "metadata": {
        "colab": {
          "base_uri": "https://localhost:8080/"
        },
        "id": "1uWQ5c4u2F75",
        "outputId": "c583a4ef-aa86-41f1-b93d-ea588991f53f"
      },
      "execution_count": 41,
      "outputs": [
        {
          "output_type": "execute_result",
          "data": {
            "text/plain": [
              "{'bootstrap': True,\n",
              " 'max_features': 'sqrt',\n",
              " 'min_samples_leaf': 5,\n",
              " 'n_estimators': 1000}"
            ]
          },
          "metadata": {},
          "execution_count": 41
        }
      ]
    },
    {
      "cell_type": "code",
      "source": [
        "wyniki_procesu2.best_estimator_"
      ],
      "metadata": {
        "colab": {
          "base_uri": "https://localhost:8080/"
        },
        "id": "zADX20bg2H98",
        "outputId": "566b8034-8411-4fff-d571-2ededf8f7c62"
      },
      "execution_count": 42,
      "outputs": [
        {
          "output_type": "execute_result",
          "data": {
            "text/plain": [
              "RandomForestRegressor(max_features='sqrt', min_samples_leaf=5,\n",
              "                      n_estimators=1000, random_state=2020)"
            ]
          },
          "metadata": {},
          "execution_count": 42
        }
      ]
    },
    {
      "cell_type": "code",
      "source": [
        "## wykorzystanie najlepszegi modelu (na zbiorze uczacym)\n",
        "najlepszy_model_rfr2 = wyniki_procesu2.best_estimator_\n",
        "predykcja2 = najlepszy_model_rfr2.predict(X_testowy_stand_optimal)\n",
        "\n",
        "# wyliczenie metryk\n",
        "najlepszy_model_rfr_mse2 = metrics.mean_squared_error(y_testowy_optimal, predykcja2)\n",
        "print(\"MSE dla najlepszego modelu - RandomForestRegressor: \", najlepszy_model_rfr_mse)\n",
        "\n",
        "najlepszy_model_rfr_rmse2 = np.sqrt(najlepszy_model_rfr_mse2)\n",
        "print(\"RMSE dla najlepszego modelu - RandomForestRegressor: \", najlepszy_model_rfr_rmse2)"
      ],
      "metadata": {
        "colab": {
          "base_uri": "https://localhost:8080/"
        },
        "id": "82MnUMqE2JtP",
        "outputId": "fb208371-47c4-4c8f-ace9-fa148c4b9422"
      },
      "execution_count": 45,
      "outputs": [
        {
          "output_type": "stream",
          "name": "stdout",
          "text": [
            "MSE dla najlepszego modelu - RandomForestRegressor:  142524884.3701357\n",
            "RMSE dla najlepszego modelu - RandomForestRegressor:  11958.416542264198\n"
          ]
        }
      ]
    },
    {
      "cell_type": "code",
      "source": [
        "# pobranie wynikow testu - wskaźnik MSE\n",
        "MSE_results = wyniki_procesu2.cv_results_['mean_test_score']\n",
        "# wyliczenie wskaźnika RMSE\n",
        "RMSE_results = np.sqrt(-MSE_results)\n",
        "\n",
        "# pobranie hyperparametrów modelu\n",
        "parametry = wyniki_procesu2.cv_results_['params']\n",
        "\n",
        "# podsumowanie RMSE i hyperparametrów dla RandomForestRegressor\n",
        "for RMSE, parametry in zip(RMSE_results, parametry):\n",
        "  print(RMSE, parametry)"
      ],
      "metadata": {
        "colab": {
          "base_uri": "https://localhost:8080/"
        },
        "id": "1f5Ro0MW3ngj",
        "outputId": "23abaa5d-fd70-4ace-c013-cf0ea781c9f1"
      },
      "execution_count": 47,
      "outputs": [
        {
          "output_type": "stream",
          "name": "stdout",
          "text": [
            "11842.812116554434 {'max_depth': 3, 'min_samples_split': 2, 'n_estimators': 20}\n",
            "11815.40358349157 {'max_depth': 3, 'min_samples_split': 2, 'n_estimators': 50}\n",
            "11818.672598007159 {'max_depth': 3, 'min_samples_split': 2, 'n_estimators': 100}\n",
            "11842.812116554434 {'max_depth': 3, 'min_samples_split': 5, 'n_estimators': 20}\n",
            "11815.40358349157 {'max_depth': 3, 'min_samples_split': 5, 'n_estimators': 50}\n",
            "11818.672598007159 {'max_depth': 3, 'min_samples_split': 5, 'n_estimators': 100}\n",
            "11845.8674160552 {'max_depth': 3, 'min_samples_split': 20, 'n_estimators': 20}\n",
            "11817.090430992408 {'max_depth': 3, 'min_samples_split': 20, 'n_estimators': 50}\n",
            "11819.38369648053 {'max_depth': 3, 'min_samples_split': 20, 'n_estimators': 100}\n",
            "11845.8674160552 {'max_depth': 3, 'min_samples_split': 50, 'n_estimators': 20}\n",
            "11817.434140573494 {'max_depth': 3, 'min_samples_split': 50, 'n_estimators': 50}\n",
            "11819.604898810932 {'max_depth': 3, 'min_samples_split': 50, 'n_estimators': 100}\n",
            "12287.333445973038 {'max_depth': 10, 'min_samples_split': 2, 'n_estimators': 20}\n",
            "12114.862998610604 {'max_depth': 10, 'min_samples_split': 2, 'n_estimators': 50}\n",
            "12094.944432780425 {'max_depth': 10, 'min_samples_split': 2, 'n_estimators': 100}\n",
            "11971.955775372531 {'max_depth': 10, 'min_samples_split': 5, 'n_estimators': 20}\n",
            "11885.933205694508 {'max_depth': 10, 'min_samples_split': 5, 'n_estimators': 50}\n",
            "11849.070543449618 {'max_depth': 10, 'min_samples_split': 5, 'n_estimators': 100}\n",
            "11550.72984829606 {'max_depth': 10, 'min_samples_split': 20, 'n_estimators': 20}\n",
            "11500.95033455741 {'max_depth': 10, 'min_samples_split': 20, 'n_estimators': 50}\n",
            "11450.134228682036 {'max_depth': 10, 'min_samples_split': 20, 'n_estimators': 100}\n",
            "11339.107781567753 {'max_depth': 10, 'min_samples_split': 50, 'n_estimators': 20}\n",
            "11267.156630789646 {'max_depth': 10, 'min_samples_split': 50, 'n_estimators': 50}\n",
            "11259.028166917658 {'max_depth': 10, 'min_samples_split': 50, 'n_estimators': 100}\n",
            "12895.2218197883 {'max_depth': None, 'min_samples_split': 2, 'n_estimators': 20}\n",
            "12672.318780428051 {'max_depth': None, 'min_samples_split': 2, 'n_estimators': 50}\n",
            "12607.052985037573 {'max_depth': None, 'min_samples_split': 2, 'n_estimators': 100}\n",
            "12253.838856978708 {'max_depth': None, 'min_samples_split': 5, 'n_estimators': 20}\n",
            "12131.413063687589 {'max_depth': None, 'min_samples_split': 5, 'n_estimators': 50}\n",
            "12088.00455352832 {'max_depth': None, 'min_samples_split': 5, 'n_estimators': 100}\n",
            "11575.827900312748 {'max_depth': None, 'min_samples_split': 20, 'n_estimators': 20}\n",
            "11524.878521619881 {'max_depth': None, 'min_samples_split': 20, 'n_estimators': 50}\n",
            "11470.0421022284 {'max_depth': None, 'min_samples_split': 20, 'n_estimators': 100}\n",
            "11336.958350501285 {'max_depth': None, 'min_samples_split': 50, 'n_estimators': 20}\n",
            "11269.220231043118 {'max_depth': None, 'min_samples_split': 50, 'n_estimators': 50}\n",
            "11260.186581402175 {'max_depth': None, 'min_samples_split': 50, 'n_estimators': 100}\n",
            "15001.314327107471 {'bootstrap': False, 'max_features': 'auto', 'min_samples_leaf': 1, 'n_estimators': 10}\n",
            "14985.869559889672 {'bootstrap': False, 'max_features': 'auto', 'min_samples_leaf': 1, 'n_estimators': 100}\n",
            "14999.004603978281 {'bootstrap': False, 'max_features': 'auto', 'min_samples_leaf': 1, 'n_estimators': 300}\n",
            "14997.695498417865 {'bootstrap': False, 'max_features': 'auto', 'min_samples_leaf': 1, 'n_estimators': 500}\n",
            "14997.021158402951 {'bootstrap': False, 'max_features': 'auto', 'min_samples_leaf': 1, 'n_estimators': 1000}\n",
            "13334.032535226175 {'bootstrap': False, 'max_features': 'auto', 'min_samples_leaf': 3, 'n_estimators': 10}\n",
            "13334.863809467728 {'bootstrap': False, 'max_features': 'auto', 'min_samples_leaf': 3, 'n_estimators': 100}\n",
            "13335.39238292193 {'bootstrap': False, 'max_features': 'auto', 'min_samples_leaf': 3, 'n_estimators': 300}\n",
            "13335.621633747609 {'bootstrap': False, 'max_features': 'auto', 'min_samples_leaf': 3, 'n_estimators': 500}\n",
            "13335.939282698131 {'bootstrap': False, 'max_features': 'auto', 'min_samples_leaf': 3, 'n_estimators': 1000}\n",
            "12470.088606078629 {'bootstrap': False, 'max_features': 'auto', 'min_samples_leaf': 5, 'n_estimators': 10}\n",
            "12468.841582621426 {'bootstrap': False, 'max_features': 'auto', 'min_samples_leaf': 5, 'n_estimators': 100}\n",
            "12469.19179933963 {'bootstrap': False, 'max_features': 'auto', 'min_samples_leaf': 5, 'n_estimators': 300}\n",
            "12468.941090938388 {'bootstrap': False, 'max_features': 'auto', 'min_samples_leaf': 5, 'n_estimators': 500}\n",
            "12469.196737899576 {'bootstrap': False, 'max_features': 'auto', 'min_samples_leaf': 5, 'n_estimators': 1000}\n",
            "14688.42292829004 {'bootstrap': False, 'max_features': 'sqrt', 'min_samples_leaf': 1, 'n_estimators': 10}\n",
            "14650.23389307217 {'bootstrap': False, 'max_features': 'sqrt', 'min_samples_leaf': 1, 'n_estimators': 100}\n",
            "14665.922790337123 {'bootstrap': False, 'max_features': 'sqrt', 'min_samples_leaf': 1, 'n_estimators': 300}\n",
            "14669.656144175924 {'bootstrap': False, 'max_features': 'sqrt', 'min_samples_leaf': 1, 'n_estimators': 500}\n",
            "14668.55460716797 {'bootstrap': False, 'max_features': 'sqrt', 'min_samples_leaf': 1, 'n_estimators': 1000}\n",
            "12106.84509350494 {'bootstrap': False, 'max_features': 'sqrt', 'min_samples_leaf': 3, 'n_estimators': 10}\n",
            "11940.823472773302 {'bootstrap': False, 'max_features': 'sqrt', 'min_samples_leaf': 3, 'n_estimators': 100}\n",
            "11930.673670505608 {'bootstrap': False, 'max_features': 'sqrt', 'min_samples_leaf': 3, 'n_estimators': 300}\n",
            "11921.249771703384 {'bootstrap': False, 'max_features': 'sqrt', 'min_samples_leaf': 3, 'n_estimators': 500}\n",
            "11924.911846268054 {'bootstrap': False, 'max_features': 'sqrt', 'min_samples_leaf': 3, 'n_estimators': 1000}\n",
            "11604.978577001624 {'bootstrap': False, 'max_features': 'sqrt', 'min_samples_leaf': 5, 'n_estimators': 10}\n",
            "11456.552198564304 {'bootstrap': False, 'max_features': 'sqrt', 'min_samples_leaf': 5, 'n_estimators': 100}\n",
            "11453.952108297974 {'bootstrap': False, 'max_features': 'sqrt', 'min_samples_leaf': 5, 'n_estimators': 300}\n",
            "11452.434170163779 {'bootstrap': False, 'max_features': 'sqrt', 'min_samples_leaf': 5, 'n_estimators': 500}\n",
            "11449.510417283273 {'bootstrap': False, 'max_features': 'sqrt', 'min_samples_leaf': 5, 'n_estimators': 1000}\n",
            "12945.522091702016 {'bootstrap': True, 'max_features': 'auto', 'min_samples_leaf': 1, 'n_estimators': 10}\n",
            "12607.052985037573 {'bootstrap': True, 'max_features': 'auto', 'min_samples_leaf': 1, 'n_estimators': 100}\n",
            "12549.682616680628 {'bootstrap': True, 'max_features': 'auto', 'min_samples_leaf': 1, 'n_estimators': 300}\n",
            "12532.861979826379 {'bootstrap': True, 'max_features': 'auto', 'min_samples_leaf': 1, 'n_estimators': 500}\n",
            "12523.543271424258 {'bootstrap': True, 'max_features': 'auto', 'min_samples_leaf': 1, 'n_estimators': 1000}\n",
            "11860.386220859395 {'bootstrap': True, 'max_features': 'auto', 'min_samples_leaf': 3, 'n_estimators': 10}\n",
            "11736.434654584835 {'bootstrap': True, 'max_features': 'auto', 'min_samples_leaf': 3, 'n_estimators': 100}\n",
            "11687.614871419815 {'bootstrap': True, 'max_features': 'auto', 'min_samples_leaf': 3, 'n_estimators': 300}\n",
            "11682.843386733295 {'bootstrap': True, 'max_features': 'auto', 'min_samples_leaf': 3, 'n_estimators': 500}\n",
            "11677.272138497612 {'bootstrap': True, 'max_features': 'auto', 'min_samples_leaf': 3, 'n_estimators': 1000}\n",
            "11488.517064529704 {'bootstrap': True, 'max_features': 'auto', 'min_samples_leaf': 5, 'n_estimators': 10}\n",
            "11441.054201777433 {'bootstrap': True, 'max_features': 'auto', 'min_samples_leaf': 5, 'n_estimators': 100}\n",
            "11424.752611299324 {'bootstrap': True, 'max_features': 'auto', 'min_samples_leaf': 5, 'n_estimators': 300}\n",
            "11424.528117861772 {'bootstrap': True, 'max_features': 'auto', 'min_samples_leaf': 5, 'n_estimators': 500}\n",
            "11414.185143529081 {'bootstrap': True, 'max_features': 'auto', 'min_samples_leaf': 5, 'n_estimators': 1000}\n",
            "13073.713949140638 {'bootstrap': True, 'max_features': 'sqrt', 'min_samples_leaf': 1, 'n_estimators': 10}\n",
            "12820.085908252466 {'bootstrap': True, 'max_features': 'sqrt', 'min_samples_leaf': 1, 'n_estimators': 100}\n",
            "12784.32768253992 {'bootstrap': True, 'max_features': 'sqrt', 'min_samples_leaf': 1, 'n_estimators': 300}\n",
            "12777.793404388147 {'bootstrap': True, 'max_features': 'sqrt', 'min_samples_leaf': 1, 'n_estimators': 500}\n",
            "12750.076451860217 {'bootstrap': True, 'max_features': 'sqrt', 'min_samples_leaf': 1, 'n_estimators': 1000}\n",
            "11613.346405093564 {'bootstrap': True, 'max_features': 'sqrt', 'min_samples_leaf': 3, 'n_estimators': 10}\n",
            "11472.862842919103 {'bootstrap': True, 'max_features': 'sqrt', 'min_samples_leaf': 3, 'n_estimators': 100}\n",
            "11459.89916681137 {'bootstrap': True, 'max_features': 'sqrt', 'min_samples_leaf': 3, 'n_estimators': 300}\n",
            "11446.865313612652 {'bootstrap': True, 'max_features': 'sqrt', 'min_samples_leaf': 3, 'n_estimators': 500}\n",
            "11430.50938025415 {'bootstrap': True, 'max_features': 'sqrt', 'min_samples_leaf': 3, 'n_estimators': 1000}\n",
            "11361.490892196854 {'bootstrap': True, 'max_features': 'sqrt', 'min_samples_leaf': 5, 'n_estimators': 10}\n",
            "11264.717844997558 {'bootstrap': True, 'max_features': 'sqrt', 'min_samples_leaf': 5, 'n_estimators': 100}\n",
            "11229.898724224096 {'bootstrap': True, 'max_features': 'sqrt', 'min_samples_leaf': 5, 'n_estimators': 300}\n",
            "11224.655340542206 {'bootstrap': True, 'max_features': 'sqrt', 'min_samples_leaf': 5, 'n_estimators': 500}\n",
            "11224.05895038969 {'bootstrap': True, 'max_features': 'sqrt', 'min_samples_leaf': 5, 'n_estimators': 1000}\n"
          ]
        }
      ]
    },
    {
      "cell_type": "code",
      "source": [],
      "metadata": {
        "id": "FkkUOh3X5LfZ"
      },
      "execution_count": null,
      "outputs": []
    }
  ]
}